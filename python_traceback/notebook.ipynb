{
 "cells": [
  {
   "cell_type": "markdown",
   "id": "493116b6",
   "metadata": {},
   "source": [
    "## <font color='darkblue'>Preface</font>\n",
    "([article source](https://realpython.com/python-traceback/)) <font size='3ptx'><b>Python prints a <font color='darkblue'>traceback</font> when an exception is raised in your code. The traceback output can be a bit overwhelming if you’re seeing it for the first time or you don’t know what it’s telling you. </b></font>\n",
    "\n",
    "But the Python [**traceback**](https://docs.python.org/3/library/traceback.html) has a wealth of information that can help you diagnose and fix the reason for the exception being raised in your code. Understanding what information a Python traceback provides is vital to becoming a better Python programmer.\n",
    "\n",
    "By the end of this tutorial, you’ll be able to:\n",
    "* Make sense of the next traceback you see\n",
    "* Recognize some of the more common tracebacks\n",
    "* Log a traceback successfully while still handling the exception"
   ]
  },
  {
   "cell_type": "markdown",
   "id": "6376f33c",
   "metadata": {},
   "source": [
    "<a id='sect1'></a>\n",
    "    \n",
    "## <font color='darkblue'>What Is a Python Traceback?</font>\n",
    "A traceback is a report containing the function calls made in your code at a specific point. Tracebacks are known by many names, including stack trace, stack traceback, backtrace, and maybe others. In Python, the term used is [**traceback**](https://docs.python.org/3/library/traceback.html).\n",
    "\n",
    "**When your program results in an exception, Python will print the current traceback to help you know what went wrong**. Below is an example to illustrate this situation:\n",
    "* `example1.py`:\n",
    "\n",
    "```python\n",
    "# example.py\n",
    "def greet(someone):\n",
    "    print('Hello, ' + someon)\n",
    "\n",
    "greet('Chad')\n",
    "```\n",
    "\n",
    "Here, <font color='blue'>greet()</font> gets called with the parameter `someone`. However, in <font color='blue'>greet()</font>, that variable name is not used. Instead, it has been misspelled as `someon` in the <font color='blue'>print()</font> call. When you run this program, you’ll get the following traceback:"
   ]
  },
  {
   "cell_type": "code",
   "execution_count": 2,
   "id": "b3c34618",
   "metadata": {},
   "outputs": [
    {
     "ename": "NameError",
     "evalue": "name 'someon' is not defined",
     "output_type": "error",
     "traceback": [
      "\u001b[0;31m---------------------------------------------------------------------------\u001b[0m",
      "\u001b[0;31mNameError\u001b[0m                                 Traceback (most recent call last)",
      "\u001b[0;32m~/Github/python_101_crash_courses/python_traceback/example1.py\u001b[0m in \u001b[0;36m<module>\u001b[0;34m\u001b[0m\n\u001b[1;32m      2\u001b[0m     \u001b[0mprint\u001b[0m\u001b[0;34m(\u001b[0m\u001b[0;34m'Hello, '\u001b[0m \u001b[0;34m+\u001b[0m \u001b[0msomeon\u001b[0m\u001b[0;34m)\u001b[0m\u001b[0;34m\u001b[0m\u001b[0;34m\u001b[0m\u001b[0m\n\u001b[1;32m      3\u001b[0m \u001b[0;34m\u001b[0m\u001b[0m\n\u001b[0;32m----> 4\u001b[0;31m \u001b[0mgreet\u001b[0m\u001b[0;34m(\u001b[0m\u001b[0;34m'Chad'\u001b[0m\u001b[0;34m)\u001b[0m\u001b[0;34m\u001b[0m\u001b[0;34m\u001b[0m\u001b[0m\n\u001b[0m",
      "\u001b[0;32m~/Github/python_101_crash_courses/python_traceback/example1.py\u001b[0m in \u001b[0;36mgreet\u001b[0;34m(someone)\u001b[0m\n\u001b[1;32m      1\u001b[0m \u001b[0;32mdef\u001b[0m \u001b[0mgreet\u001b[0m\u001b[0;34m(\u001b[0m\u001b[0msomeone\u001b[0m\u001b[0;34m)\u001b[0m\u001b[0;34m:\u001b[0m\u001b[0;34m\u001b[0m\u001b[0;34m\u001b[0m\u001b[0m\n\u001b[0;32m----> 2\u001b[0;31m     \u001b[0mprint\u001b[0m\u001b[0;34m(\u001b[0m\u001b[0;34m'Hello, '\u001b[0m \u001b[0;34m+\u001b[0m \u001b[0msomeon\u001b[0m\u001b[0;34m)\u001b[0m\u001b[0;34m\u001b[0m\u001b[0;34m\u001b[0m\u001b[0m\n\u001b[0m\u001b[1;32m      3\u001b[0m \u001b[0;34m\u001b[0m\u001b[0m\n\u001b[1;32m      4\u001b[0m \u001b[0mgreet\u001b[0m\u001b[0;34m(\u001b[0m\u001b[0;34m'Chad'\u001b[0m\u001b[0;34m)\u001b[0m\u001b[0;34m\u001b[0m\u001b[0;34m\u001b[0m\u001b[0m\n",
      "\u001b[0;31mNameError\u001b[0m: name 'someon' is not defined"
     ]
    }
   ],
   "source": [
    "%run example1.py"
   ]
  },
  {
   "cell_type": "markdown",
   "id": "162df753",
   "metadata": {},
   "source": [
    "This traceback output has all of the information you’ll need to diagnose the issue. <b>The final line of the traceback output tells you what type of exception was raised along with some relevant information about that exception.</b> The previous lines of the traceback point out the code that resulted in the exception being raised.\n",
    "\n",
    "In the above traceback, the exception was a [**NameError**](https://docs.python.org/3/library/exceptions.html#NameError), which means that there is a reference to some name (<font color='brown'>variable, function, class</font>) that hasn’t been defined. In this case, the name referenced is `someon`.\n",
    "\n",
    "The final line in this case has enough information to help you fix the problem. Searching the code for the name `someon`, which is a misspelling, will point you in the right direction. Often, however, your code is a lot more complicated."
   ]
  },
  {
   "cell_type": "markdown",
   "id": "9cd4ce40",
   "metadata": {},
   "source": [
    "<a id='sect2'></a>\n",
    "## <font color='darkblue'>How Do You Read a Python Traceback</font>\n",
    "<font size='3ptx'><b>The Python traceback contains a lot of helpful information when you’re trying to determine the reason for an exception being raised in your code.</b></font>\n",
    "\n",
    "In this section, you’ll walk through different tracebacks in order to understand the different bits of information contained in a traceback."
   ]
  },
  {
   "cell_type": "markdown",
   "id": "f2552eb7",
   "metadata": {},
   "source": [
    "<a id='sect2_1'></a>\n",
    "### <font color='darkgreen'>Python Traceback Overview</font>\n",
    "There are several sections to every Python traceback that are important. The diagram below highlights the various parts:\n",
    "\n",
    "![traceback diagram](images/1.PNG)\n",
    "<br/>\n",
    "\n",
    "In Python, it’s best to read the traceback from the bottom up:\n",
    "* **Blue box:** The last line of the traceback is the error message line. It contains the exception name that was raised.\n",
    "* **Green box**: After the exception name is the error message. This message usually contains helpful information for understanding the reason for the exception being raised.\n",
    "* **Yellow box**: Further up the traceback are the various function calls moving from bottom to top, most recent to least recent. These calls are represented by two-line entries for each call. The first line of each call contains information like the file name, line number, and module name, all specifying where the code can be found.\n",
    "* **Red underline**: The second line for these calls contains the actual code that was executed.\n",
    "\n",
    "There are a few differences between traceback output when you’re executing your code in the command-line and running code in the REPL. Below is the same code from the previous section executed in a REPL and the resulting traceback output:\n",
    "\n",
    "```python\n",
    ">>> def greet(someone):\n",
    "...   print('Hello, ' + someon)\n",
    "... \n",
    ">>> greet('Chad')\n",
    "Traceback (most recent call last):\n",
    "  File \"<stdin>\", line 1, in <module>\n",
    "  File \"<stdin>\", line 2, in greet\n",
    "NameError: name 'someon' is not defined\n",
    "```\n",
    "\n",
    "<b>Notice that in place of file names, you get \"<stdin>\". This makes sense since you typed the code in through standard input</b>. Also, the executed lines of code are not displayed in the traceback."
   ]
  },
  {
   "cell_type": "markdown",
   "id": "1385b2a7",
   "metadata": {},
   "source": [
    "<a id='sect2_2'></a>\n",
    "### <font color='darkgreen'>Specific Traceback Walkthrough</font>\n",
    "Going through some specific traceback output will help you better understand and see what information the traceback will give you.\n",
    "\n",
    "The code below is used in the examples following to illustrate the information a Python traceback gives you:\n",
    "```python\n",
    "# greetings.py\n",
    "def who_to_greet(person):\n",
    "    return person if person else input('Greet who? ')\n",
    "\n",
    "def greet(someone, greeting='Hello'):\n",
    "    print(greeting + ', ' + who_to_greet(someone))\n",
    "\n",
    "def greet_many(people):\n",
    "    for person in people:\n",
    "        try:\n",
    "            greet(person)\n",
    "        except Exception:\n",
    "            print('hi, ' + person)\n",
    "```\n",
    "\n",
    "Here, <font color='blue'>who_to_greet()</font> takes a value, `person`, and either returns it or prompts for a value to return instead.\n",
    "\n",
    "Then, <font color='blue'>greet()</font> takes a name to be greeted, someone, and an optional greeting value and calls <font color='blue'>print()</font>. <font color='blue'>who_to_greet()</font> is also called with the someone value passed in.\n",
    "\n",
    "Finally, <font color='blue'>greet_many()</font> will iterate over the list of people and call <font color='blue'>greet()</font>. If there is an exception raised by calling <font color='blue'>greet()</font>, then a simple backup greeting is printed.\n",
    "\n",
    "This code doesn’t have any bugs that would result in an exception being raised as long as the right input is provided.\n",
    "\n",
    "If you add a call to <font color='blue'>greet()</font> to the bottom of <font color='olive'>greetings.py</font> and specify a keyword argument that it isn’t expecting (<font color='brown'>for example</font> <font color='blue'>greet('Chad', greting='Yo')</font>), then you’ll get the following traceback:\n",
    "\n",
    "```python\n",
    "$ python example.py\n",
    "Traceback (most recent call last):\n",
    "  File \"/path/to/greetings.py\", line 19, in <module>\n",
    "    greet('Chad', greting='Yo')\n",
    "TypeError: greet() got an unexpected keyword argument 'greting'\n",
    "```\n",
    "\n",
    "Once again, with a Python traceback, it’s best to work backward, moving up the output. Starting at the final line of the traceback, you can see that the exception was a <b><a href='https://docs.python.org/3/library/exceptions.html#TypeError'>TypeError</a></b>. The messages that follow the exception type, everything after the colon, give you some great information. It tells you that <font color='blue'>greet()</font> was called with a keyword argument that it didn’t expect. The unknown argument name is also given to you: `greting`.\n",
    "\n",
    "Moving up, you can see the line that resulted in the exception. In this case, it’s the <font color='blue'>greet()</font> call that we added to the bottom of <font color='olive'>greetings.py</font>.\n",
    "\n",
    "The next line up gives you the path to the file where the code exists, the line number of that file where the code can be found, and which module it’s in. In this case, because our code isn’t using any other Python modules, we just see <module> here, meaning that this is the file that is being executed.\n",
    "\n",
    "With a different file and different input, you can see the traceback really pointing you in the right direction to find the issue. If you are following along, remove the buggy <font color='blue'>greet()</font> call from the bottom of <font color='olive'>greetings.py</font> and add the following file to your directory:\n",
    "\n",
    "```python\n",
    "# example2.py\n",
    "from greetings import greet\n",
    "\n",
    "greet(1)\n",
    "```\n",
    "\n",
    "Here you’ve set up another Python file that is importing your previous module, <font color='olive'>greetings.py</font>, and using <font color='blue'>greet()</font> from it. Here’s what happens if you now run <font color='olive'>example2.py</font>:"
   ]
  },
  {
   "cell_type": "code",
   "execution_count": 3,
   "id": "bf939746",
   "metadata": {},
   "outputs": [
    {
     "ename": "TypeError",
     "evalue": "can only concatenate str (not \"int\") to str",
     "output_type": "error",
     "traceback": [
      "\u001b[0;31m---------------------------------------------------------------------------\u001b[0m",
      "\u001b[0;31mTypeError\u001b[0m                                 Traceback (most recent call last)",
      "\u001b[0;32m~/Github/python_101_crash_courses/python_traceback/example2.py\u001b[0m in \u001b[0;36m<module>\u001b[0;34m\u001b[0m\n\u001b[1;32m      1\u001b[0m \u001b[0;32mfrom\u001b[0m \u001b[0mgreetings\u001b[0m \u001b[0;32mimport\u001b[0m \u001b[0mgreet\u001b[0m\u001b[0;34m\u001b[0m\u001b[0;34m\u001b[0m\u001b[0m\n\u001b[1;32m      2\u001b[0m \u001b[0;34m\u001b[0m\u001b[0m\n\u001b[0;32m----> 3\u001b[0;31m \u001b[0mgreet\u001b[0m\u001b[0;34m(\u001b[0m\u001b[0;36m1\u001b[0m\u001b[0;34m)\u001b[0m\u001b[0;34m\u001b[0m\u001b[0;34m\u001b[0m\u001b[0m\n\u001b[0m",
      "\u001b[0;32m~/Github/python_101_crash_courses/python_traceback/greetings.py\u001b[0m in \u001b[0;36mgreet\u001b[0;34m(someone, greeting)\u001b[0m\n\u001b[1;32m      3\u001b[0m \u001b[0;34m\u001b[0m\u001b[0m\n\u001b[1;32m      4\u001b[0m \u001b[0;32mdef\u001b[0m \u001b[0mgreet\u001b[0m\u001b[0;34m(\u001b[0m\u001b[0msomeone\u001b[0m\u001b[0;34m,\u001b[0m \u001b[0mgreeting\u001b[0m\u001b[0;34m=\u001b[0m\u001b[0;34m'Hello'\u001b[0m\u001b[0;34m)\u001b[0m\u001b[0;34m:\u001b[0m\u001b[0;34m\u001b[0m\u001b[0;34m\u001b[0m\u001b[0m\n\u001b[0;32m----> 5\u001b[0;31m     \u001b[0mprint\u001b[0m\u001b[0;34m(\u001b[0m\u001b[0mgreeting\u001b[0m \u001b[0;34m+\u001b[0m \u001b[0;34m', '\u001b[0m \u001b[0;34m+\u001b[0m \u001b[0mwho_to_greet\u001b[0m\u001b[0;34m(\u001b[0m\u001b[0msomeone\u001b[0m\u001b[0;34m)\u001b[0m\u001b[0;34m)\u001b[0m\u001b[0;34m\u001b[0m\u001b[0;34m\u001b[0m\u001b[0m\n\u001b[0m\u001b[1;32m      6\u001b[0m \u001b[0;34m\u001b[0m\u001b[0m\n\u001b[1;32m      7\u001b[0m \u001b[0;32mdef\u001b[0m \u001b[0mgreet_many\u001b[0m\u001b[0;34m(\u001b[0m\u001b[0mpeople\u001b[0m\u001b[0;34m)\u001b[0m\u001b[0;34m:\u001b[0m\u001b[0;34m\u001b[0m\u001b[0;34m\u001b[0m\u001b[0m\n",
      "\u001b[0;31mTypeError\u001b[0m: can only concatenate str (not \"int\") to str"
     ]
    }
   ],
   "source": [
    "%run example2.py"
   ]
  },
  {
   "cell_type": "markdown",
   "id": "29f99ea3",
   "metadata": {},
   "source": [
    "The exception raised in this case is a [**TypeError**](https://docs.python.org/3/library/exceptions.html#TypeError) again, but this time the message is a little less helpful. It tells you that somewhere in the code it was expecting to work with a string, but an integer was given.\n",
    "\n",
    "Moving up, you see the line of code that was executed. Then the file and line number of the code. This time, however, instead of \\<module>, we get the name of the function that was being executed, <font color='blue'>greet()</font>.\n",
    "\n",
    "Moving up to the next executed line of code, we see our problematic <font color='blue'>greet()</font> call passing in an integer.\n",
    "\n",
    "Sometimes after an exception is raised, another bit of code catches that exception and also results in an exception. In these situations, Python will output all exception tracebacks in the order in which they were received, once again ending in the most recently raise exception’s traceback.\n",
    "\n",
    "Since this can be a little confusing, here’s an example. Add a call to <font color='blue'>greet_many()</font> to the bottom of <font color='olive'>example3.py</font>:\n",
    "\n",
    "```python\n",
    "# example3.py\n",
    "from greetings import greet_many\n",
    "\n",
    "greet_many(['Chad', 'Dan', 1])\n",
    "```\n",
    "<br/>\n",
    "\n",
    "This should result in printing greetings to all three people. However, if you run this code, you’ll see an example of the multiple tracebacks being output:"
   ]
  },
  {
   "cell_type": "code",
   "execution_count": 5,
   "id": "3d576524",
   "metadata": {},
   "outputs": [
    {
     "name": "stdout",
     "output_type": "stream",
     "text": [
      "Hello, Chad\n",
      "Hello, Dan\n"
     ]
    },
    {
     "ename": "TypeError",
     "evalue": "can only concatenate str (not \"int\") to str",
     "output_type": "error",
     "traceback": [
      "\u001b[0;31m---------------------------------------------------------------------------\u001b[0m",
      "\u001b[0;31mTypeError\u001b[0m                                 Traceback (most recent call last)",
      "\u001b[0;32m~/Github/python_101_crash_courses/python_traceback/greetings.py\u001b[0m in \u001b[0;36mgreet_many\u001b[0;34m(people)\u001b[0m\n\u001b[1;32m      9\u001b[0m         \u001b[0;32mtry\u001b[0m\u001b[0;34m:\u001b[0m\u001b[0;34m\u001b[0m\u001b[0;34m\u001b[0m\u001b[0m\n\u001b[0;32m---> 10\u001b[0;31m             \u001b[0mgreet\u001b[0m\u001b[0;34m(\u001b[0m\u001b[0mperson\u001b[0m\u001b[0;34m)\u001b[0m\u001b[0;34m\u001b[0m\u001b[0;34m\u001b[0m\u001b[0m\n\u001b[0m\u001b[1;32m     11\u001b[0m         \u001b[0;32mexcept\u001b[0m \u001b[0mException\u001b[0m\u001b[0;34m:\u001b[0m\u001b[0;34m\u001b[0m\u001b[0;34m\u001b[0m\u001b[0m\n",
      "\u001b[0;32m~/Github/python_101_crash_courses/python_traceback/greetings.py\u001b[0m in \u001b[0;36mgreet\u001b[0;34m(someone, greeting)\u001b[0m\n\u001b[1;32m      4\u001b[0m \u001b[0;32mdef\u001b[0m \u001b[0mgreet\u001b[0m\u001b[0;34m(\u001b[0m\u001b[0msomeone\u001b[0m\u001b[0;34m,\u001b[0m \u001b[0mgreeting\u001b[0m\u001b[0;34m=\u001b[0m\u001b[0;34m'Hello'\u001b[0m\u001b[0;34m)\u001b[0m\u001b[0;34m:\u001b[0m\u001b[0;34m\u001b[0m\u001b[0;34m\u001b[0m\u001b[0m\n\u001b[0;32m----> 5\u001b[0;31m     \u001b[0mprint\u001b[0m\u001b[0;34m(\u001b[0m\u001b[0mgreeting\u001b[0m \u001b[0;34m+\u001b[0m \u001b[0;34m', '\u001b[0m \u001b[0;34m+\u001b[0m \u001b[0mwho_to_greet\u001b[0m\u001b[0;34m(\u001b[0m\u001b[0msomeone\u001b[0m\u001b[0;34m)\u001b[0m\u001b[0;34m)\u001b[0m\u001b[0;34m\u001b[0m\u001b[0;34m\u001b[0m\u001b[0m\n\u001b[0m\u001b[1;32m      6\u001b[0m \u001b[0;34m\u001b[0m\u001b[0m\n",
      "\u001b[0;31mTypeError\u001b[0m: can only concatenate str (not \"int\") to str",
      "\nDuring handling of the above exception, another exception occurred:\n",
      "\u001b[0;31mTypeError\u001b[0m                                 Traceback (most recent call last)",
      "\u001b[0;32m~/Github/python_101_crash_courses/python_traceback/example3.py\u001b[0m in \u001b[0;36m<module>\u001b[0;34m\u001b[0m\n\u001b[1;32m      1\u001b[0m \u001b[0;32mfrom\u001b[0m \u001b[0mgreetings\u001b[0m \u001b[0;32mimport\u001b[0m \u001b[0mgreet_many\u001b[0m\u001b[0;34m\u001b[0m\u001b[0;34m\u001b[0m\u001b[0m\n\u001b[1;32m      2\u001b[0m \u001b[0;34m\u001b[0m\u001b[0m\n\u001b[0;32m----> 3\u001b[0;31m \u001b[0mgreet_many\u001b[0m\u001b[0;34m(\u001b[0m\u001b[0;34m[\u001b[0m\u001b[0;34m'Chad'\u001b[0m\u001b[0;34m,\u001b[0m \u001b[0;34m'Dan'\u001b[0m\u001b[0;34m,\u001b[0m \u001b[0;36m1\u001b[0m\u001b[0;34m]\u001b[0m\u001b[0;34m)\u001b[0m\u001b[0;34m\u001b[0m\u001b[0;34m\u001b[0m\u001b[0m\n\u001b[0m",
      "\u001b[0;32m~/Github/python_101_crash_courses/python_traceback/greetings.py\u001b[0m in \u001b[0;36mgreet_many\u001b[0;34m(people)\u001b[0m\n\u001b[1;32m     10\u001b[0m             \u001b[0mgreet\u001b[0m\u001b[0;34m(\u001b[0m\u001b[0mperson\u001b[0m\u001b[0;34m)\u001b[0m\u001b[0;34m\u001b[0m\u001b[0;34m\u001b[0m\u001b[0m\n\u001b[1;32m     11\u001b[0m         \u001b[0;32mexcept\u001b[0m \u001b[0mException\u001b[0m\u001b[0;34m:\u001b[0m\u001b[0;34m\u001b[0m\u001b[0;34m\u001b[0m\u001b[0m\n\u001b[0;32m---> 12\u001b[0;31m             \u001b[0mprint\u001b[0m\u001b[0;34m(\u001b[0m\u001b[0;34m'hi, '\u001b[0m \u001b[0;34m+\u001b[0m \u001b[0mperson\u001b[0m\u001b[0;34m)\u001b[0m\u001b[0;34m\u001b[0m\u001b[0;34m\u001b[0m\u001b[0m\n\u001b[0m",
      "\u001b[0;31mTypeError\u001b[0m: can only concatenate str (not \"int\") to str"
     ]
    }
   ],
   "source": [
    "%run example3.py"
   ]
  },
  {
   "cell_type": "markdown",
   "id": "e2c56b3c",
   "metadata": {},
   "source": [
    "Notice the highlighted line starting with During handling in the output above. In between all tracebacks, you’ll see this line. Its message is very clear, while your code was trying to handle the previous exception, another exception was raised.\n",
    "\n",
    "So when <font color='blue'>greet()</font> results in the [**TypeError**](https://docs.python.org/3/library/exceptions.html#TypeError) because of the bad integer input, <font color='blue'>greet_many()</font> handles that exception and attempts to print a simple greeting. Here the code ends up resulting in another, similar, exception. It’s still attempting to add a string and an integer.\n",
    "\n",
    "<b>Seeing all of the traceback output can help you see what might be the real cause of an exception</b>. Sometimes when you see the final exception raised, and its resulting traceback, you still can’t see what’s wrong. In those cases, <b>moving up to the previous exceptions usually gives you a better idea of the root cause</b>."
   ]
  },
  {
   "cell_type": "markdown",
   "id": "5dad9732",
   "metadata": {},
   "source": [
    "<a id='sect3'></a>\n",
    "### <font color='darkblue'>What Are Some Common Tracebacks in Python?</font>\n",
    "<font size='3ptx'><b>Knowing how to read a Python traceback when your program raises an exception can be very helpful when you’re programming, but knowing some of the more common tracebacks can also speed up your process.</b></font>\n",
    "\n",
    "Here are some common exceptions you might come across, the reasons they get raised and what they mean, and the information you can find in their tracebacks."
   ]
  },
  {
   "cell_type": "markdown",
   "id": "96a903c6",
   "metadata": {},
   "source": [
    "### <font color='darkgreen'>AttributeError</font>\n",
    "The [**AttributeError**](https://docs.python.org/3/library/exceptions.html#AttributeError) is raised when you try to access an attribute on an object that doesn’t have that attribute defined. The Python documentation defines when this exception is raised:\n",
    "> Raised when an attribute reference or assignment fails.\n",
    "<br/>\n",
    "\n",
    "Here’s an example of the [**AttributeError**](https://docs.python.org/3/library/exceptions.html#AttributeError) being raised:\n",
    "```python\n",
    ">>> an_int = 1\n",
    ">>> an_int.an_attribute\n",
    "Traceback (most recent call last):\n",
    "  File \"<stdin>\", line 1, in <module>\n",
    "AttributeError: 'int' object has no attribute 'an_attribute'\n",
    "```\n",
    "<br/>\n",
    "\n",
    "Most of the time, getting this exception indicates that you are probably working with an object that isn’t the type you were expecting:\n",
    "```python\n",
    ">>> a_list = (1, 2)\n",
    ">>> a_list.append(3)\n",
    "Traceback (most recent call last):\n",
    "  File \"<stdin>\", line 1, in <module>\n",
    "AttributeError: 'tuple' object has no attribute 'append'\n",
    "```\n",
    "<br/>\n",
    "\n",
    "<b>Often, this happens when you are expecting an object to be returned from a function or method call to be of a specific type, and you end up with an object of type None</b>. In this case, the error message line will read, <font color='darkred'>AttributeError: 'NoneType' object has no attribute 'append'</font>."
   ]
  },
  {
   "cell_type": "markdown",
   "id": "c64bec8d",
   "metadata": {},
   "source": [
    "### <font color='darkgreen'>ImportError</font>\n",
    "The [**ImportError**](https://docs.python.org/3/library/exceptions.html#ImportError) is raised when something goes wrong with an import statement. You’ll get this exception, or its subclass [**ModuleNotFoundError**](https://docs.python.org/3/library/exceptions.html#ModuleNotFoundError), if the module you are trying to import can’t be found or if you try to import something from a module that doesn’t exist in the module. The Python documentation defines when this exception is raised:\n",
    "> Raised when the import statement has troubles trying to load a module. Also raised when the ‘from list’ in from ... import has a name that cannot be found.\n",
    "<br/>\n",
    "\n",
    "Here’s an example of the [**ImportError**](https://docs.python.org/3/library/exceptions.html#ImportError) and [**ModuleNotFoundError**](https://docs.python.org/3/library/exceptions.html#ModuleNotFoundError) being raised:\n",
    "```python\n",
    ">>> import asdf\n",
    "Traceback (most recent call last):\n",
    "  File \"<stdin>\", line 1, in <module>\n",
    "ModuleNotFoundError: No module named 'asdf'\n",
    ">>> from collections import asdf\n",
    "Traceback (most recent call last):\n",
    "  File \"<stdin>\", line 1, in <module>\n",
    "ImportError: cannot import name 'asdf'\n",
    "```\n",
    "<br/>"
   ]
  },
  {
   "cell_type": "markdown",
   "id": "091ba4ba",
   "metadata": {},
   "source": [
    "<a id='sect4'></a>\n",
    "## <font color='darkblue'>How Do You Log a Traceback?</font>\n",
    "Getting an exception and its resulting Python traceback means you need to decide what to do about it. Usually fixing your code is the first step, but sometimes the problem is with unexpected or incorrect input. <font size='3ptx'><b>While it’s good to provide for those situations in your code, sometimes it also makes sense to silence or hide the exception by logging the traceback and doing something else.</b></font>\n",
    "\n",
    "Here’s a more real-world example of code that needs to silence some Python tracebacks. This example uses the [**requests**](https://2.python-requests.org/en/master/) library. You can find out more about it in [Python’s Requests Library (Guide)](https://realpython.com/python-requests/):\n",
    "```python\n",
    "# urlcaller.py\n",
    "import sys\n",
    "import requests\n",
    "\n",
    "response = requests.get(sys.argv[1])\n",
    "\n",
    "print(response.status_code, response.content)\n",
    "```\n",
    "<br/>\n",
    "\n",
    "This code works well. When you run this script, giving it a URL as a command-line argument, it will call the URL and then print the HTTP status code and the content from the response. It even works if the response was an HTTP error status:"
   ]
  },
  {
   "cell_type": "code",
   "execution_count": 6,
   "id": "55c57731",
   "metadata": {},
   "outputs": [
    {
     "name": "stdout",
     "output_type": "stream",
     "text": [
      "200 b''\n"
     ]
    }
   ],
   "source": [
    "%run urlcaller.py https://httpbin.org/status/200"
   ]
  },
  {
   "cell_type": "code",
   "execution_count": 7,
   "id": "210ccf8b",
   "metadata": {},
   "outputs": [
    {
     "name": "stdout",
     "output_type": "stream",
     "text": [
      "500 b''\n"
     ]
    }
   ],
   "source": [
    "%run urlcaller.py https://httpbin.org/status/500"
   ]
  },
  {
   "cell_type": "markdown",
   "id": "b77e555e",
   "metadata": {},
   "source": [
    "However, sometimes the URL your script is given to retrieve doesn’t exist, or the host server is down. In those cases, this script will now raise an uncaught [**ConnectionError**](https://docs.python.org/3/library/exceptions.html#ConnectionError) exception and print a traceback:\n",
    "\n",
    "```python\n",
    "$ python urlcaller.py http://thisurlprobablydoesntexist.com\n",
    "...\n",
    "During handling of the above exception, another exception occurred:\n",
    "\n",
    "Traceback (most recent call last):\n",
    "  File \"urlcaller.py\", line 5, in <module>\n",
    "    response = requests.get(sys.argv[1])\n",
    "  File \"/path/to/requests/api.py\", line 75, in get\n",
    "    return request('get', url, params=params, **kwargs)\n",
    "  File \"/path/to/requests/api.py\", line 60, in request\n",
    "    return session.request(method=method, url=url, **kwargs)\n",
    "  File \"/path/to/requests/sessions.py\", line 533, in request\n",
    "    resp = self.send(prep, **send_kwargs)\n",
    "  File \"/path/to/requests/sessions.py\", line 646, in send\n",
    "    r = adapter.send(request, **kwargs)\n",
    "  File \"/path/to/requests/adapters.py\", line 516, in send\n",
    "    raise ConnectionError(e, request=request)\n",
    "requests.exceptions.ConnectionError: HTTPConnectionPool(host='thisurlprobablydoesntexist.com', port=80): Max retries exceeded with url: / (Caused by NewConnectionError('<urllib3.connection.HTTPConnection object at 0x7faf9d671860>: Failed to establish a new connection: [Errno -2] Name or service not known',))\n",
    "```\n",
    "<br/>\n",
    "\n",
    "The Python traceback here can be very long with many other exceptions being raised and finally resulting in the [**ConnectionError**](https://docs.python.org/3/library/exceptions.html#ConnectionError) being raised by [**requests**](https://pypi.org/project/requests/) itself. If you move up the final exceptions traceback, you can see that the problem all started in our code with line 5 of <font color='olive'>urlcaller.py</font>.\n",
    "\n",
    "If you wrap the offending line in a try and except block, catching the appropriate exception will allow your script to continue to work with more inputs:\n",
    "```python\n",
    "# urlcaller_v2.py\n",
    "...\n",
    "try:\n",
    "    response = requests.get(sys.argv[1])\n",
    "except requests.exceptions.ConnectionError:\n",
    "    print(-1, 'Connection Error')\n",
    "else:\n",
    "    print(response.status_code, response.content)\n",
    "```\n",
    "<br/>\n",
    "\n",
    "The code above uses an else clause with the try and except block. If you’re unfamiliar with this feature of Python, then check out the section on the else clause in [Python Exceptions: An Introduction](https://realpython.com/python-exceptions/#the-else-clause).\n",
    "\n",
    "Now when you run the script with a URL that will result in a [**ConnectionError**](https://docs.python.org/3/library/exceptions.html#ConnectionError) being raised, you’ll get printed a -1 for the status code, and the content of `Connection Error`:"
   ]
  },
  {
   "cell_type": "code",
   "execution_count": 8,
   "id": "326a2046",
   "metadata": {},
   "outputs": [
    {
     "name": "stdout",
     "output_type": "stream",
     "text": [
      "-1 Connection Error\n"
     ]
    }
   ],
   "source": [
    "%run urlcaller_v2.py http://thisurlprobablydoesntexist.com"
   ]
  },
  {
   "cell_type": "markdown",
   "id": "d863172f",
   "metadata": {},
   "source": [
    "This works great. However, in most real systems, you don’t want to just silence the exception and resulting traceback, but you want to log the traceback. <b>Logging tracebacks allows you to have a better understanding of what goes wrong in your programs</b>.\n",
    "\n",
    "<b><font color='darkred'>Note:</font></b> To learn more about Python’s logging system, check out [Logging in Python](https://realpython.com/python-logging/).\n",
    "\n",
    "You can log the traceback in the script by importing the [**logging**](https://realpython.com/python-logging-source-code/) package, getting a logger, and calling <font color='blue'>.exception()</font> on that logger in the except portion of the try and except block. Your final script should look something like the following code:\n",
    "```python\n",
    "# urlcaller_v3.py\n",
    "import logging\n",
    "import sys\n",
    "import requests\n",
    "\n",
    "logger = logging.getLogger(__name__)\n",
    "\n",
    "try:\n",
    "    response = requests.get(sys.argv[1])\n",
    "except requests.exceptions.ConnectionError as e:\n",
    "    logger.exception('Got connection error!')\n",
    "    print(-1, 'Connection Error')\n",
    "else:\n",
    "    print(response.status_code, response.content)\n",
    "```\n",
    "<br/>\n",
    "\n",
    "Now when you run the script for a problematic URL, it will print the expected -1 and `Connection Error`, but it will also log the traceback:"
   ]
  },
  {
   "cell_type": "code",
   "execution_count": 10,
   "id": "9000cd22",
   "metadata": {},
   "outputs": [
    {
     "name": "stderr",
     "output_type": "stream",
     "text": [
      "Got connection error!\n",
      "Traceback (most recent call last):\n",
      "  File \"/usr/lib/python3/dist-packages/urllib3/connection.py\", line 159, in _new_conn\n",
      "    conn = connection.create_connection(\n",
      "  File \"/usr/lib/python3/dist-packages/urllib3/util/connection.py\", line 61, in create_connection\n",
      "    for res in socket.getaddrinfo(host, port, family, socket.SOCK_STREAM):\n",
      "  File \"/usr/lib/python3.8/socket.py\", line 918, in getaddrinfo\n",
      "    for res in _socket.getaddrinfo(host, port, family, type, proto, flags):\n",
      "socket.gaierror: [Errno -2] Name or service not known\n",
      "\n",
      "During handling of the above exception, another exception occurred:\n",
      "\n",
      "Traceback (most recent call last):\n",
      "  File \"/usr/lib/python3/dist-packages/urllib3/connectionpool.py\", line 665, in urlopen\n",
      "    httplib_response = self._make_request(\n",
      "  File \"/usr/lib/python3/dist-packages/urllib3/connectionpool.py\", line 387, in _make_request\n",
      "    conn.request(method, url, **httplib_request_kw)\n",
      "  File \"/usr/lib/python3.8/http/client.py\", line 1256, in request\n",
      "    self._send_request(method, url, body, headers, encode_chunked)\n",
      "  File \"/usr/lib/python3.8/http/client.py\", line 1302, in _send_request\n",
      "    self.endheaders(body, encode_chunked=encode_chunked)\n",
      "  File \"/usr/lib/python3.8/http/client.py\", line 1251, in endheaders\n",
      "    self._send_output(message_body, encode_chunked=encode_chunked)\n",
      "  File \"/usr/lib/python3.8/http/client.py\", line 1011, in _send_output\n",
      "    self.send(msg)\n",
      "  File \"/usr/lib/python3.8/http/client.py\", line 951, in send\n",
      "    self.connect()\n",
      "  File \"/usr/lib/python3/dist-packages/urllib3/connection.py\", line 187, in connect\n",
      "    conn = self._new_conn()\n",
      "  File \"/usr/lib/python3/dist-packages/urllib3/connection.py\", line 171, in _new_conn\n",
      "    raise NewConnectionError(\n",
      "urllib3.exceptions.NewConnectionError: <urllib3.connection.HTTPConnection object at 0x7f3b1172be80>: Failed to establish a new connection: [Errno -2] Name or service not known\n",
      "\n",
      "During handling of the above exception, another exception occurred:\n",
      "\n",
      "Traceback (most recent call last):\n",
      "  File \"/usr/lib/python3/dist-packages/requests/adapters.py\", line 439, in send\n",
      "    resp = conn.urlopen(\n",
      "  File \"/usr/lib/python3/dist-packages/urllib3/connectionpool.py\", line 719, in urlopen\n",
      "    retries = retries.increment(\n",
      "  File \"/usr/lib/python3/dist-packages/urllib3/util/retry.py\", line 436, in increment\n",
      "    raise MaxRetryError(_pool, url, error or ResponseError(cause))\n",
      "urllib3.exceptions.MaxRetryError: HTTPConnectionPool(host='thisurlprobablydoesntexist.com', port=80): Max retries exceeded with url: / (Caused by NewConnectionError('<urllib3.connection.HTTPConnection object at 0x7f3b1172be80>: Failed to establish a new connection: [Errno -2] Name or service not known'))\n",
      "\n",
      "During handling of the above exception, another exception occurred:\n",
      "\n",
      "Traceback (most recent call last):\n",
      "  File \"/root/Github/python_101_crash_courses/python_traceback/urlcaller_v3.py\", line 8, in <module>\n",
      "    response = requests.get(sys.argv[1])\n",
      "  File \"/usr/lib/python3/dist-packages/requests/api.py\", line 75, in get\n",
      "    return request('get', url, params=params, **kwargs)\n",
      "  File \"/usr/lib/python3/dist-packages/requests/api.py\", line 60, in request\n",
      "    return session.request(method=method, url=url, **kwargs)\n",
      "  File \"/usr/lib/python3/dist-packages/requests/sessions.py\", line 533, in request\n",
      "    resp = self.send(prep, **send_kwargs)\n",
      "  File \"/usr/lib/python3/dist-packages/requests/sessions.py\", line 646, in send\n",
      "    r = adapter.send(request, **kwargs)\n",
      "  File \"/usr/lib/python3/dist-packages/requests/adapters.py\", line 516, in send\n",
      "    raise ConnectionError(e, request=request)\n",
      "requests.exceptions.ConnectionError: HTTPConnectionPool(host='thisurlprobablydoesntexist.com', port=80): Max retries exceeded with url: / (Caused by NewConnectionError('<urllib3.connection.HTTPConnection object at 0x7f3b1172be80>: Failed to establish a new connection: [Errno -2] Name or service not known'))\n"
     ]
    },
    {
     "name": "stdout",
     "output_type": "stream",
     "text": [
      "-1 Connection Error\n"
     ]
    }
   ],
   "source": [
    "%run urlcaller_v3.py http://thisurlprobablydoesntexist.com"
   ]
  },
  {
   "cell_type": "markdown",
   "id": "e3b2599f",
   "metadata": {},
   "source": [
    "<b>By default, Python will send log messages to standard error</b> (<font color='brown'>stderr</font>). This looks like we haven’t suppressed the traceback output at all. However, if you call it again while redirecting the `stderr`, you can see that the logging system is working, and we can save our logs off for later:"
   ]
  },
  {
   "cell_type": "code",
   "execution_count": 16,
   "id": "95e9f759",
   "metadata": {},
   "outputs": [
    {
     "name": "stdout",
     "output_type": "stream",
     "text": [
      "-1 Connection Error\r\n"
     ]
    }
   ],
   "source": [
    "! python3 urlcaller_v3.py http://thisurlprobablydoesntexist.com 2> /tmp/my-logs.log"
   ]
  },
  {
   "cell_type": "code",
   "execution_count": 17,
   "id": "05037090",
   "metadata": {},
   "outputs": [
    {
     "name": "stdout",
     "output_type": "stream",
     "text": [
      "Got connection error!\r\n",
      "Traceback (most recent call last):\r\n",
      "  File \"/usr/lib/python3/dist-packages/urllib3/connection.py\", line 159, in _new_conn\r\n",
      "    conn = connection.create_connection(\r\n",
      "  File \"/usr/lib/python3/dist-packages/urllib3/util/connection.py\", line 61, in create_connection\r\n",
      "    for res in socket.getaddrinfo(host, port, family, socket.SOCK_STREAM):\r\n",
      "  File \"/usr/lib/python3.8/socket.py\", line 918, in getaddrinfo\r\n",
      "    for res in _socket.getaddrinfo(host, port, family, type, proto, flags):\r\n",
      "socket.gaierror: [Errno -2] Name or service not known\r\n",
      "\r\n",
      "During handling of the above exception, another exception occurred:\r\n",
      "\r\n",
      "Traceback (most recent call last):\r\n",
      "  File \"/usr/lib/python3/dist-packages/urllib3/connectionpool.py\", line 665, in urlopen\r\n",
      "    httplib_response = self._make_request(\r\n",
      "  File \"/usr/lib/python3/dist-packages/urllib3/connectionpool.py\", line 387, in _make_request\r\n",
      "    conn.request(method, url, **httplib_request_kw)\r\n",
      "  File \"/usr/lib/python3.8/http/client.py\", line 1256, in request\r\n",
      "    self._send_request(method, url, body, headers, encode_chunked)\r\n",
      "  File \"/usr/lib/python3.8/http/client.py\", line 1302, in _send_request\r\n",
      "    self.endheaders(body, encode_chunked=encode_chunked)\r\n",
      "  File \"/usr/lib/python3.8/http/client.py\", line 1251, in endheaders\r\n",
      "    self._send_output(message_body, encode_chunked=encode_chunked)\r\n",
      "  File \"/usr/lib/python3.8/http/client.py\", line 1011, in _send_output\r\n",
      "    self.send(msg)\r\n",
      "  File \"/usr/lib/python3.8/http/client.py\", line 951, in send\r\n",
      "    self.connect()\r\n",
      "  File \"/usr/lib/python3/dist-packages/urllib3/connection.py\", line 187, in connect\r\n",
      "    conn = self._new_conn()\r\n",
      "  File \"/usr/lib/python3/dist-packages/urllib3/connection.py\", line 171, in _new_conn\r\n",
      "    raise NewConnectionError(\r\n",
      "urllib3.exceptions.NewConnectionError: <urllib3.connection.HTTPConnection object at 0x7f82cb641be0>: Failed to establish a new connection: [Errno -2] Name or service not known\r\n",
      "\r\n",
      "During handling of the above exception, another exception occurred:\r\n",
      "\r\n",
      "Traceback (most recent call last):\r\n",
      "  File \"/usr/lib/python3/dist-packages/requests/adapters.py\", line 439, in send\r\n",
      "    resp = conn.urlopen(\r\n",
      "  File \"/usr/lib/python3/dist-packages/urllib3/connectionpool.py\", line 719, in urlopen\r\n",
      "    retries = retries.increment(\r\n",
      "  File \"/usr/lib/python3/dist-packages/urllib3/util/retry.py\", line 436, in increment\r\n",
      "    raise MaxRetryError(_pool, url, error or ResponseError(cause))\r\n",
      "urllib3.exceptions.MaxRetryError: HTTPConnectionPool(host='thisurlprobablydoesntexist.com', port=80): Max retries exceeded with url: / (Caused by NewConnectionError('<urllib3.connection.HTTPConnection object at 0x7f82cb641be0>: Failed to establish a new connection: [Errno -2] Name or service not known'))\r\n",
      "\r\n",
      "During handling of the above exception, another exception occurred:\r\n",
      "\r\n",
      "Traceback (most recent call last):\r\n",
      "  File \"urlcaller_v3.py\", line 8, in <module>\r\n",
      "    response = requests.get(sys.argv[1])\r\n",
      "  File \"/usr/lib/python3/dist-packages/requests/api.py\", line 75, in get\r\n",
      "    return request('get', url, params=params, **kwargs)\r\n",
      "  File \"/usr/lib/python3/dist-packages/requests/api.py\", line 60, in request\r\n",
      "    return session.request(method=method, url=url, **kwargs)\r\n",
      "  File \"/usr/lib/python3/dist-packages/requests/sessions.py\", line 533, in request\r\n",
      "    resp = self.send(prep, **send_kwargs)\r\n",
      "  File \"/usr/lib/python3/dist-packages/requests/sessions.py\", line 646, in send\r\n",
      "    r = adapter.send(request, **kwargs)\r\n",
      "  File \"/usr/lib/python3/dist-packages/requests/adapters.py\", line 516, in send\r\n",
      "    raise ConnectionError(e, request=request)\r\n",
      "requests.exceptions.ConnectionError: HTTPConnectionPool(host='thisurlprobablydoesntexist.com', port=80): Max retries exceeded with url: / (Caused by NewConnectionError('<urllib3.connection.HTTPConnection object at 0x7f82cb641be0>: Failed to establish a new connection: [Errno -2] Name or service not known'))\r\n"
     ]
    }
   ],
   "source": [
    "! cat /tmp/my-logs.log"
   ]
  },
  {
   "cell_type": "markdown",
   "id": "33b4888e",
   "metadata": {},
   "source": [
    "## <font color='darkblue'>Conclusion</font>\n",
    "<b><font size='3ptx'>The Python [traceback](https://docs.python.org/3/library/traceback.html) contains great information that can help you find what is going wrong in your Python code</font></b>. These tracebacks can look a little intimidating, but once you break it down to see what it’s trying to show you, they can be super helpful. Going through a few tracebacks line by line will give you a better understanding of the information they contain and help you get the most out of them.\n",
    "\n",
    "Getting a Python traceback output when you run your code is an opportunity to improve your code. It’s one way Python tries to help you out.\n",
    "\n",
    "Now that you know how to read a Python traceback, you can benefit from learning more about some tools and techniques for diagnosing the problems that your traceback output is telling you about. Python’s built-in traceback module can be used to work with and inspect tracebacks. The [**traceback**](https://docs.python.org/3.7/library/traceback.html) module can be helpful when you need to get more out of the traceback output. It would also be helpful to learn more about some techniques for [debugging your Python code](https://realpython.com/search?q=debugging)."
   ]
  }
 ],
 "metadata": {
  "kernelspec": {
   "display_name": "Python 3 (ipykernel)",
   "language": "python",
   "name": "python3"
  },
  "language_info": {
   "codemirror_mode": {
    "name": "ipython",
    "version": 3
   },
   "file_extension": ".py",
   "mimetype": "text/x-python",
   "name": "python",
   "nbconvert_exporter": "python",
   "pygments_lexer": "ipython3",
   "version": "3.8.10"
  }
 },
 "nbformat": 4,
 "nbformat_minor": 5
}
