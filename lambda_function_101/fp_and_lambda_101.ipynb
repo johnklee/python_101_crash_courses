{
 "cells": [
  {
   "cell_type": "markdown",
   "id": "0ff29a2a",
   "metadata": {},
   "source": [
    "<a id='sect0'></a>\n",
    "## <font color='darkblue'>Preface</font>\n",
    "雖然我年紀已經不小, 但是追朔 [FP (Functional programming) 的歷史](https://en.wikipedia.org/wiki/Functional_programming#History), 我也只能算年輕:\n",
    "> The lambda calculus, developed in the 1930s by Alonzo Church, is a formal system of computation built from function application. \n",
    "\n",
    "<br/><br/>\n",
    "\n",
    "\n",
    "<b><font size='3ptx'>既然歷史攸久, 因此一言難盡</font></b>, 在這邊只會 吹吹皮毛, 希望至少可以 cover 下面的內容:\n",
    "* <font size='3ptx'><b><a href='#sect1'>Basic FP terminology (Function/Side effect/Closure ...)</a></b></font>\n",
    "* <font size='3ptx'><b><a href='#sect2'>Lambda 用法 & 範例</a></b></font>\n",
    "* <font size='3ptx'><b><a href='#sect3'>常常和 Lambda 一起使用的其他函數 map/filter/functools.reduce</a></b></font>\n",
    "* <font size='3ptx'><b><a href='#sect4'>可以接受的 Lambda 使用時機</a></b></font>\n",
    "* <font size='3ptx'><b><a href='#sect5'>Review 時會被打槍的用法</a></b></font>\n",
    "* <font size='3ptx'><b><a href='#sect6'>FPU 簡介</a></b></font>"
   ]
  },
  {
   "cell_type": "code",
   "execution_count": 9,
   "id": "7c2dd436",
   "metadata": {},
   "outputs": [],
   "source": [
    "#!pip install fpu"
   ]
  },
  {
   "cell_type": "code",
   "execution_count": 10,
   "id": "5d84c53a",
   "metadata": {},
   "outputs": [],
   "source": [
    "from fpu.flist import *\n",
    "from functools import partial\n",
    "from typing import Sequence\n",
    "from collections.abc import Iterable"
   ]
  },
  {
   "cell_type": "markdown",
   "id": "d0c473fc",
   "metadata": {},
   "source": [
    "<a id='sect1'></a>\n",
    "## <font color='darkblue'>Basic FP terminology</font>\n",
    "* <font size='3ptx'><b><a href='#sect1_1'>FP Terminology - Imperative vs Declarative</a></b></font>\n",
    "* <font size='3ptx'><b><a href='#sect1_2'>FP Terminology - Closure</a></b></font>\n",
    "* <font size='3ptx'><b><a href='#sect1_3'>FP Terminology - Currying</a></b></font>\n",
    "<br/>\n",
    "\n",
    "Functional programming has a [long history](https://en.wikipedia.org/wiki/Functional_programming#History). In a nutshell, **its a style of programming where you focus on transforming data through the use of small expressions that ideally don’t contain side effects.** In other words, when you call <font color='blue'>my_fun(1, 2)</font>, it will always return the same result. This is achieved by **immutable data** typical of a functional language.\n",
    "\n",
    "![function & side effect](images/1.PNG)\n",
    "\n",
    "([image source](https://www.fpcomplete.com/blog/2017/04/pure-functional-programming/))\n",
    "<br/>"
   ]
  },
  {
   "cell_type": "markdown",
   "id": "b56751fe",
   "metadata": {},
   "source": [
    "<a id='sect1_1'></a>\n",
    "### <font color='darkgreen'>FP Terminology - Imperative vs Declarative</font>\n",
    "你可以把 `Imperative` 與 `Decleartive` 想成將編程語言分類的一種方法. (<font color='brown'>顏色, 大小, 形狀 etc</font>). 稍後會說明這兩種陣營的語言寫起來的差別:\n",
    "\n",
    "![function & side effect](images/2.PNG)\n",
    "<br/>"
   ]
  },
  {
   "cell_type": "markdown",
   "id": "84be8e35",
   "metadata": {},
   "source": [
    "#### <font size='3ptx'>Imperative</font>\n",
    "底下是 [Imperative 語言的 wiki 說明](https://en.wikipedia.org/wiki/Imperative_programming):\n",
    "> **Imperative programming** is like building assembly lines, which take some initial global state as raw material, apply various specific transformations, mutations to it as this material is pushed through the line, and at the end comes off the end product, the final global state, that represents the result of the computation. Each step needs to change, rotate, massage the workpiece precisely one specific way, so that it is prepared for subsequent steps downstream. Every step downstream depend on every previous step, and their order is therefore fixed and rigid. Because of these dependencies, an individual computational step has not much use and meaning in itself, but only in the context of all the others, and to understand it, one must understand how the whole line works.\n",
    "<br/>\n",
    "\n",
    "現今大部分的語言都屬於 imperative 陣營, 看描述很辛苦, 透過比對兩者的編程 style 可以很容易發現兩者不同. 底下是 imperative style 的編成方式:"
   ]
  },
  {
   "cell_type": "code",
   "execution_count": 7,
   "id": "f89944a7",
   "metadata": {},
   "outputs": [],
   "source": [
    "salaries = [\n",
    "    (True, 9000),   # (Is female, salary)\n",
    "    (False, 12000), \n",
    "    (False, 6000),\n",
    "    (True, 14000),\n",
    "]"
   ]
  },
  {
   "cell_type": "code",
   "execution_count": 23,
   "id": "44f6649c",
   "metadata": {},
   "outputs": [],
   "source": [
    "def imperative_way(salaries):\n",
    "    '''Gets the sum of salaries of female and male.\n",
    "    \n",
    "    Args:\n",
    "        salaries: List of salary. Each element is of tuple(is_female: bool, salary: int)\n",
    "    \n",
    "    Returns:\n",
    "        Tuple(Sum of female salaries, Sum of male salaries)\n",
    "    '''\n",
    "    female_sum = male_sum = 0\n",
    "    for is_female, salary in salaries:\n",
    "        if is_female:\n",
    "            female_sum += salary\n",
    "        else:\n",
    "            male_sum += salary\n",
    "            \n",
    "    return (female_sum, male_sum)"
   ]
  },
  {
   "cell_type": "code",
   "execution_count": 3,
   "id": "eaf5b2cf",
   "metadata": {},
   "outputs": [
    {
     "data": {
      "text/plain": [
       "(23000, 18000)"
      ]
     },
     "execution_count": 3,
     "metadata": {},
     "output_type": "execute_result"
    }
   ],
   "source": [
    "imperative_way(salaries)"
   ]
  },
  {
   "cell_type": "markdown",
   "id": "24d71b1c",
   "metadata": {},
   "source": [
    "#### <font size='3ptx'>Declarative</font>\n",
    "底下是 [Declarative 語言的 wiki 說明](https://en.wikipedia.org/wiki/Declarative_programming):\n",
    "> A style of building the structure and elements of computer programs—that expresses the logic of a computation without describing its control flow."
   ]
  },
  {
   "cell_type": "code",
   "execution_count": 24,
   "id": "afaaf1dc",
   "metadata": {},
   "outputs": [],
   "source": [
    "def add(a, b):\n",
    "    return a + b\n",
    "\n",
    "def salary_sum(is_female: bool):\n",
    "    '''Return calculator to sum up the salary based on female/male\n",
    "    \n",
    "    Args:\n",
    "        is_female: True to return calculator to sum up salaries of female\n",
    "            False to return calculator to sum up salaries of male.\n",
    "            \n",
    "    Returns:\n",
    "        Calculator to sum up salaries.\n",
    "    '''\n",
    "    def _salary_sum(salaries):\n",
    "        flist = fl(salaries)\n",
    "        return flist.filter(lambda t: t[0] == is_female) \\\n",
    "                    .map(lambda t: t[1]) \\\n",
    "                    .foldLeft(0, add)\n",
    "    return _salary_sum"
   ]
  },
  {
   "cell_type": "code",
   "execution_count": 10,
   "id": "758a5366",
   "metadata": {},
   "outputs": [],
   "source": [
    "def declarative_way(salaries):\n",
    "    return (\n",
    "        salary_sum(is_female=True)(salaries),  # Salary sum of female\n",
    "        salary_sum(is_female=False)(salaries), # Salary sum of male\n",
    "    )"
   ]
  },
  {
   "cell_type": "code",
   "execution_count": 11,
   "id": "2f984d88",
   "metadata": {},
   "outputs": [
    {
     "data": {
      "text/plain": [
       "(23000, 18000)"
      ]
     },
     "execution_count": 11,
     "metadata": {},
     "output_type": "execute_result"
    }
   ],
   "source": [
    "declarative_way(salaries)"
   ]
  },
  {
   "cell_type": "markdown",
   "id": "17d9e5da",
   "metadata": {},
   "source": [
    "<a id='sect1_2'></a>\n",
    "### <font color='darkgreen'>FP Terminology - Closure</font> ([back](#sect1))\n",
    "A [**Closure**](https://en.wikipedia.org/wiki/Closure_(computer_programming)) is a function which **simply creates a scope that allows the function to access and manipulate the variables in enclosing scopes**. Normally, you will follow below steps to create a Closure in Python:\n",
    "* We have to create a nested function (a function inside another function).\n",
    "* This nested function has to refer to a variable defined inside the enclosing function.\n",
    "* The enclosing function has to return the nested function\n",
    "\n",
    "<br/>\n",
    "\n",
    "簡單說就是你的 Function object 綁定一個封閉的 name space (<font color='brown'>[這篇](https://dboyliao.medium.com/%E8%81%8A%E8%81%8A-python-closure-ebd63ff0146f)介紹還蠻清楚, 可以參考</font>), 直接來看範例理解:"
   ]
  },
  {
   "cell_type": "code",
   "execution_count": 15,
   "id": "06c23198",
   "metadata": {},
   "outputs": [],
   "source": [
    "def contain_N(n):\n",
    "    def _inner(sequence: Sequence):\n",
    "        return n in sequence\n",
    "    \n",
    "    return _inner"
   ]
  },
  {
   "cell_type": "code",
   "execution_count": 16,
   "id": "93974c41",
   "metadata": {},
   "outputs": [],
   "source": [
    "contain_5 = contain_N(5)\n",
    "contain_10 = contain_N(10)"
   ]
  },
  {
   "cell_type": "code",
   "execution_count": 18,
   "id": "77a4a553",
   "metadata": {},
   "outputs": [
    {
     "name": "stdout",
     "output_type": "stream",
     "text": [
      "my_data=[1, 2, 3, 4, 5] contains 5? True\n",
      "my_data=[1, 2, 3, 4, 5] contains 10? False\n"
     ]
    }
   ],
   "source": [
    "my_datas = [1, 2, 3, 4, 5]\n",
    "print(f'my_data={my_datas} contains 5? {contain_5(my_datas)}')\n",
    "print(f'my_data={my_datas} contains 10? {contain_10(my_datas)}')"
   ]
  },
  {
   "cell_type": "markdown",
   "id": "7217d2ea",
   "metadata": {},
   "source": [
    "上面的函數 `contain_N` 返回一個 closure. 該 closure 綁訂了變數 `n`. (<font color='blue'>contain_5</font> <font color='brown'>綁定的 `n` 為 5;</font> <font color='blue'>contain_10</font> <font color='brown'>綁定的 `n` 為 10</font>)"
   ]
  },
  {
   "cell_type": "markdown",
   "id": "715de3e7",
   "metadata": {},
   "source": [
    "<a id='sect1_3'></a>\n",
    "### <font color='darkgreen'>FP Terminology - Currying</font> ([back](#sect1))\n",
    "底下是 wiki 上對 [**currying**](https://en.wikipedia.org/wiki/Curry_(programming_language)) 的說明:\n",
    "> <b>Currying is like a kind of incremental binding of function arguments</b>. It is the technique of breaking down the evaluation of a function that takes multiple arguments into evaluating a sequence of single-argument functions.\n",
    "\n",
    "<br/>\n",
    "\n",
    "很可惜在 Python 預設的函數並不支援這個特性, 幸運的是在模組 [**functools**](https://docs.python.org/3/library/functools.html) 有提供 [partial](https://docs.python.org/3/library/functools.html#functools.partial) 來模擬 currying 的好處. 直接來看範例: "
   ]
  },
  {
   "cell_type": "code",
   "execution_count": 41,
   "id": "38fc3d05",
   "metadata": {},
   "outputs": [],
   "source": [
    "def sum_salary_by_sex(*args):\n",
    "    def _sum_salary_by_sex(is_female: bool, salaries: Sequence) -> int:\n",
    "        return sum(map(lambda t: t[1], filter(lambda t: t[0]==is_female, salaries)))\n",
    "    \n",
    "    if len(args) == 1:\n",
    "        return partial(_sum_salary_by_sex, args[0])\n",
    "    \n",
    "    return _sum_salary_by_sex(*args)"
   ]
  },
  {
   "cell_type": "code",
   "execution_count": 42,
   "id": "ad5cb76f",
   "metadata": {},
   "outputs": [
    {
     "data": {
      "text/plain": [
       "23000"
      ]
     },
     "execution_count": 42,
     "metadata": {},
     "output_type": "execute_result"
    }
   ],
   "source": [
    "# Get female salaries\n",
    "sum_salary_by_sex(True, salaries)"
   ]
  },
  {
   "cell_type": "code",
   "execution_count": 43,
   "id": "c680758f",
   "metadata": {},
   "outputs": [
    {
     "data": {
      "text/plain": [
       "23000"
      ]
     },
     "execution_count": 43,
     "metadata": {},
     "output_type": "execute_result"
    }
   ],
   "source": [
    "# # Get female salaries in currying way\n",
    "sum_salary_by_sex(True)(salaries)"
   ]
  },
  {
   "cell_type": "code",
   "execution_count": 39,
   "id": "b99f9dac",
   "metadata": {},
   "outputs": [
    {
     "data": {
      "text/plain": [
       "18000"
      ]
     },
     "execution_count": 39,
     "metadata": {},
     "output_type": "execute_result"
    }
   ],
   "source": [
    "# Get male salaries\n",
    "sum_salary_by_sex(False, salaries)"
   ]
  },
  {
   "cell_type": "code",
   "execution_count": 45,
   "id": "7c68f849",
   "metadata": {},
   "outputs": [
    {
     "data": {
      "text/plain": [
       "18000"
      ]
     },
     "execution_count": 45,
     "metadata": {},
     "output_type": "execute_result"
    }
   ],
   "source": [
    "# Get male salaries in curring way\n",
    "sum_salary_by_sex(False)(salaries)"
   ]
  },
  {
   "cell_type": "code",
   "execution_count": 46,
   "id": "b2721a58",
   "metadata": {},
   "outputs": [],
   "source": [
    "sum_salary_by_female = sum_salary_by_sex(True)\n",
    "sum_salary_by_male = sum_salary_by_sex(False)"
   ]
  },
  {
   "cell_type": "code",
   "execution_count": 47,
   "id": "1b570fd1",
   "metadata": {},
   "outputs": [
    {
     "data": {
      "text/plain": [
       "23000"
      ]
     },
     "execution_count": 47,
     "metadata": {},
     "output_type": "execute_result"
    }
   ],
   "source": [
    "sum_salary_by_female(salaries)"
   ]
  },
  {
   "cell_type": "code",
   "execution_count": 48,
   "id": "7cf47f76",
   "metadata": {},
   "outputs": [
    {
     "data": {
      "text/plain": [
       "18000"
      ]
     },
     "execution_count": 48,
     "metadata": {},
     "output_type": "execute_result"
    }
   ],
   "source": [
    "sum_salary_by_male(salaries)"
   ]
  },
  {
   "cell_type": "markdown",
   "id": "3e35c0e9",
   "metadata": {},
   "source": [
    "我們透過 currying 的特性便可以得到新的函數 <font color='blue'>sum_salary_by_female</font> 與 <font color='blue'>sum_salary_by_male</font>. 是不是很方便?"
   ]
  },
  {
   "cell_type": "markdown",
   "id": "15173400",
   "metadata": {},
   "source": [
    "<a id='sect2'></a>\n",
    "## <font color='darkblue'>Lambda 用法 & 範例</font> ([back](#sect0))\n",
    "[**Lambda**](https://docs.python.org/3/reference/expressions.html#lambda) 在 Python 是一個關鍵字用來定義 匿名函數. 底下是使用 lambda 匿名函數的注意事項:\n",
    "* It can only contain expressions and can’t include statements ([No Statesments](#sect2_1)) in its body.\n",
    "* [It is written as a single line of execution](#sect2_2).\n",
    "* [It does not support type annotations.](#sect2_3)\n",
    "* [It can be immediately invoked](#sect2_4) ([IIFE](https://en.wikipedia.org/wiki/Immediately_invoked_function_expression))."
   ]
  },
  {
   "cell_type": "markdown",
   "id": "100b05ff",
   "metadata": {},
   "source": [
    "<a id='sect2_1'></a>\n",
    "### <font color='darkgreen'>No Statements</font>\n",
    "<b><font size='3ptx' color='darkred'>A lambda function can’t contain any statements</font></b>. In a lambda function, statements like `return`, `pass`, `assert`, or `raise` will raise a [**SyntaxError**](https://realpython.com/invalid-syntax-python/) exception. Here’s an example of adding assert to the body of a lambda:\n",
    "```python\n",
    ">>> (lambda x: assert x == 2)(2)\n",
    "  File \"<input>\", line 1\n",
    "    (lambda x: assert x == 2)(2)\n",
    "                    ^\n",
    "SyntaxError: invalid syntax\n",
    "```\n",
    "<br/>"
   ]
  },
  {
   "cell_type": "markdown",
   "id": "8296a416",
   "metadata": {},
   "source": [
    "<a id='sect2_2'></a>\n",
    "### <font color='darkgreen'>Single Expression</font>\n",
    "<font size='3ptx'><b>In contrast to a normal function, a Python lambda function is a single expression</b></font>. Although, in the body of a lambda, you can spread the expression over several lines using parentheses or a multiline string, it remains a single expression:\n",
    "```python\n",
    ">>> (lambda x:\n",
    "... (x % 2 and 'odd' or 'even'))(3)\n",
    "'odd'\n",
    "```\n",
    "<br/>\n",
    "\n",
    "The example above returns the string 'odd' when the lambda argument is odd, and 'even' when the argument is even. It spreads across two lines because it is contained in a set of parentheses, but it remains a single expression."
   ]
  },
  {
   "cell_type": "markdown",
   "id": "d1389f01",
   "metadata": {},
   "source": [
    "<a id='sect2_3'></a>\n",
    "### <font color='darkgreen'>Type Annotations</font>\n",
    "If you’ve started adopting type hinting, which is now available in Python, then you have another good reason to prefer normal functions over Python lambda functions. Check out [**Python Type Checking** (Guide)]((https://realpython.com/python-type-checking/#hello-types)) to get learn more about Python type hints and type checking. In a lambda function, there is no equivalent for the following:\n",
    "```python\n",
    "def full_name(first: str, last: str) -> str:\n",
    "    return f'{first.title()} {last.title()}'\n",
    "```\n",
    "<br/>\n",
    "\n",
    "Any type error with <font color='blue'>full_name()</font> can be caught by tools like [**mypy**](http://mypy-lang.org/) or [**pyre**](https://pyre-check.org/), whereas a [**SyntaxError**](https://realpython.com/invalid-syntax-python/) with the equivalent lambda function is raised at runtime:\n",
    "```python\n",
    ">>> lambda first: str, last: str: first.title() + \" \" + last.title() -> str\n",
    "  File \"<stdin>\", line 1\n",
    "    lambda first: str, last: str: first.title() + \" \" + last.title() -> str\n",
    "\n",
    "SyntaxError: invalid syntax\n",
    "```\n",
    "<br/>\n",
    "\n",
    "Like trying to include a statement in a lambda, adding type annotation immediately results in a [**SyntaxError**](https://realpython.com/invalid-syntax-python/) at runtime."
   ]
  },
  {
   "cell_type": "markdown",
   "id": "a04695b6",
   "metadata": {},
   "source": [
    "<a id='sect2_4'></a>\n",
    "### <font color='darkgreen'>IIFE</font>\n",
    "You’ve already seen several examples of [immediately invoked function execution](https://developer.mozilla.org/en-US/docs/Glossary/IIFE):\n",
    "```python\n",
    ">>> (lambda x: x * x)(3)\n",
    "9\n",
    "```\n",
    "<br/>\n",
    "\n",
    "<b>It’s a direct consequence of a lambda function being callable as it is defined</b>. For example, this allows you to pass the definition of a Python lambda expression to a higher-order function like [map()](https://docs.python.org/3/library/functions.html#map), [filter()](https://docs.python.org/3/library/functions.html#filter), or [**functools**.reduce()](https://docs.python.org/3/library/functools.html#functools.reduce), or to a `key function`."
   ]
  },
  {
   "cell_type": "markdown",
   "id": "3905bfe0",
   "metadata": {},
   "source": [
    "<a id='sect3'></a>\n",
    "## <font color='darkblue'>常常和 Lambda 一起使用的函數 map/filter/functools.reduce 與 key functions</font> ([back](#sect0))\n",
    "* <font size='3ptx'><b><a href='#sect3_1'>Built-in map/filter & functools.reduce</a></b></font>\n",
    "* <font size='3ptx'><b><a href='#sect3_2'>key functions 淺談</a></b></font>"
   ]
  },
  {
   "cell_type": "markdown",
   "id": "6972abc3",
   "metadata": {},
   "source": [
    "<a id='sect3_1'></a>\n",
    "### <font color='darkgreen'>Built-in map/filter & functools.reduce</font>\n",
    "[map](https://docs.python.org/3/library/functions.html#map) 與 [filter](https://docs.python.org/3/library/functions.html#filter) 是 Python 預設就支援的函數. [reduce](https://docs.python.org/3/library/functools.html#functools.reduce) 則必須到 [**functools**](https://docs.python.org/3/library/functools.html) 套件下去 import. 底下是這三個函數使用的示意圖:\n",
    "[image source](https://www.reddit.com/r/ProgrammerHumor/comments/55ompo/map_filter_reduce_explained_with_emojis/)\n",
    "![map/filter/reduce usage](images/3.PNG)\n",
    "<br/>\n",
    "\n",
    "對我來說 [reduce](https://docs.python.org/3/library/functools.html#functools.reduce) 更像是:\n",
    "![map/filter/reduce usage](images/4.PNG)\n",
    "<br/>\n",
    "\n",
    "來看幾個例子吧:"
   ]
  },
  {
   "cell_type": "code",
   "execution_count": 3,
   "id": "0752501d",
   "metadata": {},
   "outputs": [],
   "source": [
    "class Beef:\n",
    "    def __init__(self):\n",
    "        self.is_veg = False\n",
    "        \n",
    "    def cook(self): return 'Hamburger'\n",
    "    \n",
    "    \n",
    "class Potato:\n",
    "    def __init__(self):\n",
    "        self.is_veg = True\n",
    "    \n",
    "    def cook(self): return 'French Fries'\n",
    "\n",
    "    \n",
    "class Chicken:\n",
    "    def __init__(self):\n",
    "        self.is_veg = False\n",
    "        \n",
    "    def cook(self): return 'Fried chicken'\n",
    "    \n",
    "    \n",
    "class Corn:\n",
    "    def __init__(self):\n",
    "        self.is_veg = True\n",
    "        \n",
    "    def cook(self): return 'Popcorn'\n",
    "\n",
    "    \n",
    "food_ingredients = [Beef(), Potato(), Chicken(), Corn()]"
   ]
  },
  {
   "cell_type": "markdown",
   "id": "91734c6e",
   "metadata": {},
   "source": [
    "#### <font size='3ptx'>map 範例</font>\n",
    "[map](https://docs.python.org/3/library/functions.html#map) 需要你提供一個 function 與一個 iterable 物件 (延伸閱讀: [`The Iterator Protocol`](https://www.pythonmorsels.com/iterator-protocol/)), 接著 map 會將 iterable 的每個 element 丟掉你提供的 function 並收集 return 結果並回傳另一個 iterable 物件給你. 底下我們的範例:\n",
    "* **function**: `lambda food_ingredient: food_ingredient.cook()`\n",
    "* **iterable 物件**: `food_ingredients`"
   ]
  },
  {
   "cell_type": "code",
   "execution_count": 12,
   "id": "678dd5c1",
   "metadata": {},
   "outputs": [
    {
     "data": {
      "text/plain": [
       "True"
      ]
     },
     "execution_count": 12,
     "metadata": {},
     "output_type": "execute_result"
    }
   ],
   "source": [
    "# map(function, iterable, ...): \n",
    "#     Return an iterator that applies function to every item of iterable, yielding the results.\n",
    "map_iter = map(lambda food_ingredient: food_ingredient.cook(), food_ingredients)\n",
    "isinstance(map_iter, Iterable)  # map_iter is an iterable object."
   ]
  },
  {
   "cell_type": "code",
   "execution_count": 13,
   "id": "28c28ce2",
   "metadata": {},
   "outputs": [
    {
     "data": {
      "text/plain": [
       "['Hamburger', 'French Fries', 'Fried chicken', 'Popcorn']"
      ]
     },
     "execution_count": 13,
     "metadata": {},
     "output_type": "execute_result"
    }
   ],
   "source": [
    "list(map_iter)"
   ]
  },
  {
   "cell_type": "markdown",
   "id": "b24b9423",
   "metadata": {},
   "source": [
    "#### <font size='3ptx'>filter 範例</font>\n",
    "[filter](https://docs.python.org/3/library/functions.html#filter) 函數透過你提供的 function 來選擇傳入 iterable 物件中的 element (element 傳進 function 得到 True 的會被選擇)."
   ]
  },
  {
   "cell_type": "code",
   "execution_count": 20,
   "id": "ecf7c92c",
   "metadata": {},
   "outputs": [
    {
     "data": {
      "text/plain": [
       "True"
      ]
     },
     "execution_count": 20,
     "metadata": {},
     "output_type": "execute_result"
    }
   ],
   "source": [
    "# filter(function, iterable):\n",
    "#    Construct an iterator from those elements of iterable for which function returns true.\n",
    "veg_iter = filter(lambda food_ingredient: food_ingredient.is_veg, food_ingredients)\n",
    "isinstance(veg_iter, Iterable)  # veg_iter is an iterable object."
   ]
  },
  {
   "cell_type": "code",
   "execution_count": 21,
   "id": "7c555244",
   "metadata": {},
   "outputs": [
    {
     "data": {
      "text/plain": [
       "[<__main__.Potato at 0x7f61700a84c0>, <__main__.Corn at 0x7f61700a82e0>]"
      ]
     },
     "execution_count": 21,
     "metadata": {},
     "output_type": "execute_result"
    }
   ],
   "source": [
    "# 只有 Proato 與 Corn 被選擇, 因為他們 `is_veg` == True\n",
    "list(veg_iter)"
   ]
  },
  {
   "cell_type": "markdown",
   "id": "69d50806",
   "metadata": {},
   "source": [
    "#### <font size='3ptx'>reduce 範例</font>\n",
    "reduce 函數的用法用講的不好說, 直接看範例:"
   ]
  },
  {
   "cell_type": "code",
   "execution_count": 22,
   "id": "f31909d8",
   "metadata": {},
   "outputs": [],
   "source": [
    "from functools import reduce"
   ]
  },
  {
   "cell_type": "code",
   "execution_count": 23,
   "id": "a1963271",
   "metadata": {},
   "outputs": [
    {
     "data": {
      "text/plain": [
       "15"
      ]
     },
     "execution_count": 23,
     "metadata": {},
     "output_type": "execute_result"
    }
   ],
   "source": [
    "# If initializer is not given, the first item of iterable object is returned.\n",
    "f = lambda a, b: a+b\n",
    "reduce(\n",
    "    f, \n",
    "    [1, 2, 3, 4, 5]\n",
    ")"
   ]
  },
  {
   "cell_type": "markdown",
   "id": "8135c91a",
   "metadata": {},
   "source": [
    "上面的執行過程可以看成:\n",
    "![reduce flow](https://nbviewer.org/github/johnklee/oo_dp_lesson/blob/master/lessons/Test_and_function_programming_in_Python/images/fp_6.PNG)\n",
    "<br/>\n",
    "\n",
    "事實上你可以提供初始值, 例如:"
   ]
  },
  {
   "cell_type": "code",
   "execution_count": 26,
   "id": "590c22e1",
   "metadata": {},
   "outputs": [
    {
     "data": {
      "text/plain": [
       "25"
      ]
     },
     "execution_count": 26,
     "metadata": {},
     "output_type": "execute_result"
    }
   ],
   "source": [
    "reduce(\n",
    "    lambda a, b: a+b, \n",
    "    [1, 2, 3, 4, 5],\n",
    "    10,\n",
    ")"
   ]
  },
  {
   "cell_type": "markdown",
   "id": "aa28d67b",
   "metadata": {},
   "source": [
    "更多有關這個函數的用法, 可以參考 [**Python's reduce(): From Functional to Pythonic Style**](https://realpython.com/python-reduce-function/)"
   ]
  },
  {
   "cell_type": "markdown",
   "id": "d80325cc",
   "metadata": {},
   "source": [
    "<a id='sect3_2'></a>\n",
    "### <font color='darkgreen'>key functions 淺談</font>\n",
    "<b><font size='3ptx'>Key functions in Python are higher-order functions that take a parameter `key` as a named argument.</font></b>\n",
    "\n",
    "在 Python 許多的函數有提供參數 `key` 便是 lambda 使用的場合之一, 例如:\n",
    "* [sort()](https://docs.python.org/3/library/stdtypes.html#list.sort): list method\n",
    "* [sorted()](https://docs.python.org/3/library/functions.html#staticmethod), [min()](https://docs.python.org/3/library/functions.html#min), [max()](https://docs.python.org/3/library/functions.html#max): built-in functions\n",
    "* [nlargest()](https://docs.python.org/3/library/heapq.html#heapq.nlargest) and [nsmallest()](https://docs.python.org/3/library/heapq.html#heapq.nsmallest): in the Heap queue algorithm module [**heapq**](https://docs.python.org/3/library/heapq.html)\n",
    "<br/>\n",
    "\n",
    "來看幾個範例來理解用法."
   ]
  },
  {
   "cell_type": "markdown",
   "id": "c2c4a90b",
   "metadata": {},
   "source": [
    "#### sorted\n",
    "考慮你有如下的 list:"
   ]
  },
  {
   "cell_type": "code",
   "execution_count": 29,
   "id": "529c373a",
   "metadata": {},
   "outputs": [],
   "source": [
    "ids = ['id1', 'id2', 'id100', 'id30', 'id3', 'id22']"
   ]
  },
  {
   "cell_type": "markdown",
   "id": "4d3fcac6",
   "metadata": {},
   "source": [
    "你希望透過 `id<num>` 的 `<num>` 來進行排序 (ascending), 這時 [sorted](https://docs.python.org/3/library/functions.html#sorted) 便可以派上用場:\n",
    "* **sorted(iterable, /, *, <font color='red'>key=None</font>, reverse=False)**: Return a new sorted list from the items in iterable."
   ]
  },
  {
   "cell_type": "code",
   "execution_count": 31,
   "id": "e97e8fd7",
   "metadata": {},
   "outputs": [
    {
     "data": {
      "text/plain": [
       "['id1', 'id2', 'id3', 'id22', 'id30', 'id100']"
      ]
     },
     "execution_count": 31,
     "metadata": {},
     "output_type": "execute_result"
    }
   ],
   "source": [
    "sorted(\n",
    "    ids,\n",
    "    key=lambda id_str: int(id_str[2:]),  # 比對時使用的值\n",
    ")"
   ]
  },
  {
   "cell_type": "markdown",
   "id": "79550e19",
   "metadata": {},
   "source": [
    "懂一個 Key function 的用法, 其他就是依此類推了, 例如取出最大 `<num>` 的 id 就會是:"
   ]
  },
  {
   "cell_type": "code",
   "execution_count": 32,
   "id": "334a05b2",
   "metadata": {},
   "outputs": [
    {
     "data": {
      "text/plain": [
       "'id100'"
      ]
     },
     "execution_count": 32,
     "metadata": {},
     "output_type": "execute_result"
    }
   ],
   "source": [
    "max(\n",
    "    ids,\n",
    "    key=lambda id_str: int(id_str[2:]))"
   ]
  },
  {
   "cell_type": "markdown",
   "id": "036ef17b",
   "metadata": {},
   "source": [
    "<a id='sect4'></a>\n",
    "## <font color='darkblue'>可以接受的 Lambda 使用時機</font> ([back](#sect0))\n",
    "底下是 readability 文件對 Lambda 使用的建議:\n",
    "\n",
    "* [**2.10 Lambda Functions**](https://engdoc.corp.google.com/eng/doc/devguide/py/style/index.md?cl=head#lambdas)\n",
    "> Okay to use them for one-liners. If the code inside the lambda function is longer than 60-80 chars, it's probably better to define it as a regular [nested function](https://engdoc.corp.google.com/eng/doc/devguide/py/style/index.md?cl=head#lexical-scoping). <br/><br/>\n",
    "> For common operations like multiplication, use the functions from the operator module instead of lambda functions. For example, prefer [**operator**.mul](https://docs.python.org/3/library/operator.html#operator.mul) to `lambda x, y: x * y`."
   ]
  },
  {
   "cell_type": "markdown",
   "id": "2cbc7585",
   "metadata": {},
   "source": [
    "### <font color='darkgreen'>Alternatives to Lambdas</font>\n",
    "個人在 readability review 不會特別 high light lambda 的使用, 但是有收到一些 review comment 建議可以使用其他方式來取代 lambda 用法. 這邊來看幾個範例."
   ]
  },
  {
   "cell_type": "markdown",
   "id": "d2631af6",
   "metadata": {},
   "source": [
    "#### <font size='3ptx'>Map</font>\n",
    "**The built-in function [map()](https://docs.python.org/3/library/functions.html#map) takes a function as a first argument and applies it to each of the elements of its second argument, an iterable**. Examples of iterables are strings, lists, and tuples. For more information on iterables and iterators, check out [**Iterables and Iterators**](https://realpython.com/lessons/looping-over-iterables/).\n",
    "\n",
    "[map()](https://docs.python.org/3/library/functions.html#map) returns an iterator corresponding to the transformed collection. As an example, if you wanted to transform a list of strings to a new list with each string capitalized, you could use [map()](https://docs.python.org/3/library/functions.html#map), as follows:"
   ]
  },
  {
   "cell_type": "code",
   "execution_count": 33,
   "id": "a2fd0660",
   "metadata": {},
   "outputs": [
    {
     "data": {
      "text/plain": [
       "['Cat', 'Dog', 'Cow']"
      ]
     },
     "execution_count": 33,
     "metadata": {},
     "output_type": "execute_result"
    }
   ],
   "source": [
    "# Map example\n",
    "list(map(lambda x: x.capitalize(), ['cat', 'dog', 'cow']))"
   ]
  },
  {
   "cell_type": "code",
   "execution_count": 34,
   "id": "8dc4bea0",
   "metadata": {},
   "outputs": [
    {
     "data": {
      "text/plain": [
       "['Cat', 'Dog', 'Cow']"
      ]
     },
     "execution_count": 34,
     "metadata": {},
     "output_type": "execute_result"
    }
   ],
   "source": [
    "# Proposed way in using list comprehension\n",
    "[w.capitalize() for w in ['cat', 'dog', 'cow']]"
   ]
  },
  {
   "cell_type": "markdown",
   "id": "29baacd5",
   "metadata": {},
   "source": [
    "#### <font size='3ptx'>Filter</font>\n",
    "The built-in function [filter()](https://docs.python.org/3/library/functions.html#filter), another classic functional construct, can be converted into a list comprehension. It takes a [predicate](https://en.wikipedia.org/wiki/Predicate_(mathematical_logic)) as a first argument and an iterable as a second argument. It builds an iterator containing all the elements of the initial collection that satisfies the predicate function. Here’s an example that filters all the even numbers in a given list of integers:"
   ]
  },
  {
   "cell_type": "code",
   "execution_count": 35,
   "id": "8c987ed2",
   "metadata": {},
   "outputs": [
    {
     "data": {
      "text/plain": [
       "[0, 2, 4, 6, 8, 10]"
      ]
     },
     "execution_count": 35,
     "metadata": {},
     "output_type": "execute_result"
    }
   ],
   "source": [
    "# Filter example\n",
    "even = lambda x: x%2 == 0\n",
    "list(filter(even, range(11)))"
   ]
  },
  {
   "cell_type": "code",
   "execution_count": 36,
   "id": "d4f27f41",
   "metadata": {},
   "outputs": [
    {
     "data": {
      "text/plain": [
       "[0, 2, 4, 6, 8, 10]"
      ]
     },
     "execution_count": 36,
     "metadata": {},
     "output_type": "execute_result"
    }
   ],
   "source": [
    "# Proposed way in using list comprehension\n",
    "[x for x in range(11) if x%2 == 0]"
   ]
  },
  {
   "cell_type": "markdown",
   "id": "0cd73265",
   "metadata": {},
   "source": [
    "#### <font size='3ptx'>Reduce</font>\n",
    "Since Python 3, [reduce()](https://docs.python.org/3/library/functools.html#functools.reduce) has gone from a built-in function to a [**functools**](https://docs.python.org/3/library/functools.html#functools.reduce) module function. As [map()](https://docs.python.org/3/library/functions.html#map) and [filter()](https://docs.python.org/3/library/functions.html#filter), its first two arguments are respectively a function and an iterable. It may also take an initializer as a third argument that is used as the initial value of the resulting accumulator. For each element of the iterable, [reduce()](https://docs.python.org/3/library/functools.html#functools.reduce) applies the function and accumulates the result that is returned when the iterable is exhausted.\n",
    "\n",
    "To apply [reduce()](https://docs.python.org/3/library/functools.html#functools.reduce) to a list of pairs and calculate the sum of the first item of each pair, you could write this:\n",
    "```python\n",
    ">>> import functools\n",
    ">>> pairs = [(1, 'a'), (2, 'b'), (3, 'c')]\n",
    ">>> functools.reduce(lambda acc, pair: acc + pair[0], pairs, 0)\n",
    "6\n",
    "```\n",
    "<br/>\n",
    "\n",
    "A more idiomatic approach using a [generator expression](https://www.python.org/dev/peps/pep-0289/), as an argument to [sum()](https://docs.python.org/3/library/functions.html#sum) in the example, is the following:"
   ]
  },
  {
   "cell_type": "code",
   "execution_count": 37,
   "id": "e342107a",
   "metadata": {},
   "outputs": [
    {
     "data": {
      "text/plain": [
       "6"
      ]
     },
     "execution_count": 37,
     "metadata": {},
     "output_type": "execute_result"
    }
   ],
   "source": [
    "pairs = [(1, 'a'), (2, 'b'), (3, 'c')]\n",
    "sum(x[0] for x in pairs)"
   ]
  },
  {
   "cell_type": "code",
   "execution_count": 38,
   "id": "eb79dd50",
   "metadata": {},
   "outputs": [
    {
     "data": {
      "text/plain": [
       "<generator object <genexpr> at 0x7f61518784a0>"
      ]
     },
     "execution_count": 38,
     "metadata": {},
     "output_type": "execute_result"
    }
   ],
   "source": [
    "generator = (x[0] for x in pairs)\n",
    "generator"
   ]
  },
  {
   "cell_type": "code",
   "execution_count": 42,
   "id": "57c56767",
   "metadata": {},
   "outputs": [
    {
     "data": {
      "text/plain": [
       "<list_iterator at 0x7f6151e18310>"
      ]
     },
     "execution_count": 42,
     "metadata": {},
     "output_type": "execute_result"
    }
   ],
   "source": [
    "iterator = pairs.__iter__()\n",
    "iterator"
   ]
  },
  {
   "cell_type": "markdown",
   "id": "3b52b271",
   "metadata": {},
   "source": [
    "有關 generator 與 iterator 的介紹與說明, 可以參考 \"[**How to Use Generators and yield in Python**](https://realpython.com/introduction-to-python-generators/)\" 與 \"[**The Python `for` loop**](https://realpython.com/python-for-loop/#the-python-for-loop)\""
   ]
  },
  {
   "cell_type": "markdown",
   "id": "e4542c04",
   "metadata": {},
   "source": [
    "<a id='sect5'></a>\n",
    "## <font color='darkblue'>Review 時會被打槍的用法</font> ([back](#sect0))\n",
    "* <font size='3ptx'><b><a href='#sect5_1'>g-long-lambda</a></b></font>\n",
    "* <font size='3ptx'><b><a href='#sect5_2'>unnecessary-lambda</a></b></font>\n",
    "<br/>\n",
    "\n",
    "**<font color='darkred'>The next sections illustrate a few examples of lambda usages that should be avoided</font>**. Those examples might be situations where, in the context of Python lambda, the code exhibits the following pattern:\n",
    "* It doesn’t follow the Python style guide ([PEP 8](https://peps.python.org/pep-0008/))\n",
    "* It’s cumbersome and difficult to read.\n",
    "* It’s unnecessarily clever at the cost of difficult readability."
   ]
  },
  {
   "cell_type": "markdown",
   "id": "ef11f261",
   "metadata": {},
   "source": [
    "<a id='sect5_1'></a>\n",
    "### <font color='darkgreen'>g-long-lambda</font>\n",
    "> ([link](go/gpylint-faq#g-long-lambda)) Used when a tricky functional-programming construct may be too long.\n",
    "\n",
    "* <b><font color='darkred'>Negative:</font></b>\n",
    "```python\n",
    "users = [\n",
    "    {'name': 'John', 'age': 40, 'sex': 1}, \n",
    "    {'name': 'Ken', 'age': 26, 'sex': 0},\n",
    "    ...\n",
    "]\n",
    "sorted_users = sorted(\n",
    "    users,\n",
    "    key=lambda u: (u['age'], u['sex']) if is_employee(u) else (u['age'], u['name']),\n",
    ")\n",
    "```"
   ]
  },
  {
   "cell_type": "markdown",
   "id": "3f00439b",
   "metadata": {},
   "source": [
    "<a id='sect5_2'></a>\n",
    "### <font color='darkgreen'>unnecessary-lambda</font>\n",
    "> ([link](go/gpylint-faq#unnecessary-lambda)) Lambda may not be necessary\n",
    "\n",
    "* <b><font color='darkred'>Negative:</font></b>\n",
    "```python\n",
    "foo = {'x': 1, 'y': 2}\n",
    "self.mock_fn_that_returns_dict = lambda: foo.copy()\n",
    "```\n",
    "\n",
    "* <b><font color='green'>Example:</font></b>\n",
    "```python\n",
    "foo = {'x': 1, 'y': 2}\n",
    "self.mock_fn_that_returns_dict = foo.copy\n",
    "```"
   ]
  },
  {
   "cell_type": "markdown",
   "id": "59380484",
   "metadata": {},
   "source": [
    "<a id='sect6'></a>\n",
    "## <font color='darkblue'>FPU 簡介</font> ([back](#sect0))\n",
    "* <font size='3ptx'><b><a href='#sect6_1'>functional composition</a></b></font>\n",
    "* <font size='3ptx'><b><a href='#sect6_2'>Built-in filter/map/reduce in collection object</a></b></font>\n",
    "<br/>\n",
    "\n",
    "[**fpu**](https://github.com/johnklee/fpu) (<font color='brown'>Functional programming utility</font>) 是我維護的一個 Python package 用來提升 Python 對 FP 的支援. 這邊帶幾個範例來了解它帶來的好處."
   ]
  },
  {
   "cell_type": "markdown",
   "id": "3d63432e",
   "metadata": {},
   "source": [
    "<a id='sect6_1'></a>\n",
    "### <font color='darkgreen'>functional composition</font>\n",
    "Functional composition 的特性 (延伸閱讀: \"[**Function composition and lazy execution**](https://ithelp.ithome.com.tw/articles/10235556)\") 讓你可以方便的串接函數來產生新的函數. 考慮你有以下代碼:"
   ]
  },
  {
   "cell_type": "code",
   "execution_count": 44,
   "id": "88465be2",
   "metadata": {},
   "outputs": [],
   "source": [
    "data_set = [{'values':[1, 2, 3]}, {'values':[4, 5]}]\n",
    "\n",
    "# Imperative\n",
    "def min_max_imp(data_set):\n",
    "    \"\"\"Picks up the maximum of each element and calculate the minimum of them.\"\"\"\n",
    "    max_list = []\n",
    "    for d in data_set:\n",
    "        max_list.append(max(d['values']))\n",
    "        \n",
    "    return min(max_list)"
   ]
  },
  {
   "cell_type": "code",
   "execution_count": 46,
   "id": "8a4446a1",
   "metadata": {},
   "outputs": [
    {
     "data": {
      "text/plain": [
       "3"
      ]
     },
     "execution_count": 46,
     "metadata": {},
     "output_type": "execute_result"
    }
   ],
   "source": [
    "# Max of [1, 2, 3] -> [3], max of [4, 5] -> [5] => Got [3, 5]\n",
    "# Min of [3, 5] => 3\n",
    "min_max_imp(data_set)"
   ]
  },
  {
   "cell_type": "markdown",
   "id": "58b19a52",
   "metadata": {},
   "source": [
    "事實上這是兩個函數 min/max 串接的結果. 透過 FPU, 你可以改寫成:"
   ]
  },
  {
   "cell_type": "code",
   "execution_count": 47,
   "id": "fb21e155",
   "metadata": {},
   "outputs": [
    {
     "data": {
      "text/plain": [
       "3"
      ]
     },
     "execution_count": 47,
     "metadata": {},
     "output_type": "execute_result"
    }
   ],
   "source": [
    "# FP\n",
    "from fpu.fp import *\n",
    "from functools import reduce, partial\n",
    "\n",
    "# compose2(f, g) = f(g())\n",
    "min_max = compose2(\n",
    "    partial(reduce, min),   # [3, 5] -> [3]\n",
    "    partial(map, lambda d: max(d['values'])))  # [{'values':[1, 2, 3]}, {'values':[4, 5]}] -> [3, 5]\n",
    "\n",
    "min_max(data_set)"
   ]
  },
  {
   "cell_type": "markdown",
   "id": "fee894ea",
   "metadata": {},
   "source": [
    "<a id='sect6_2'></a>\n",
    "### <font color='darkgreen'>Built-in filter/map/reduce in collection object</font>\n",
    "FPU 中的 collection 物件自帶 filter/map/reduce 函數. 考慮下面問題:"
   ]
  },
  {
   "cell_type": "code",
   "execution_count": 49,
   "id": "d553c804",
   "metadata": {},
   "outputs": [],
   "source": [
    "# 請找出在每個 element 都有出現過的元素 (character).\n",
    "arr = ['abcdde', 'baccd', 'eeabg']"
   ]
  },
  {
   "cell_type": "code",
   "execution_count": 52,
   "id": "b2bdd549",
   "metadata": {},
   "outputs": [],
   "source": [
    "def gemstones_imp(arr):\n",
    "    # 1) Collect unique character of each element\n",
    "    set_list = []\n",
    "    for s in arr:\n",
    "        set_list.append(set(list(s)))\n",
    "        \n",
    "    # 2) Keep searching overlapping characters among all set\n",
    "    uset = set_list[0]\n",
    "    for aset in set_list[1:]:\n",
    "        uset = uset & aset\n",
    "        \n",
    "    return ''.join(uset)"
   ]
  },
  {
   "cell_type": "code",
   "execution_count": 53,
   "id": "d4dbcee9",
   "metadata": {},
   "outputs": [
    {
     "data": {
      "text/plain": [
       "'ab'"
      ]
     },
     "execution_count": 53,
     "metadata": {},
     "output_type": "execute_result"
    }
   ],
   "source": [
    "gemstones_imp(arr)"
   ]
  },
  {
   "cell_type": "markdown",
   "id": "a4ec9a68",
   "metadata": {},
   "source": [
    "使用 FPU 改寫變成:"
   ]
  },
  {
   "cell_type": "code",
   "execution_count": 56,
   "id": "ebc4f30a",
   "metadata": {},
   "outputs": [],
   "source": [
    "from fpu.flist import *\n",
    "\n",
    "def gemstones_dec(arr):\n",
    "    rlist = fl(arr)\n",
    "    return ''.join(\n",
    "        rlist.map(\n",
    "            # 將每個 element 轉成 set\n",
    "            lambda e: set(list(e))\n",
    "        ).reduce(\n",
    "            # 依序找出每個 set 共用的 character\n",
    "            lambda a, b: a & b\n",
    "        )\n",
    "    )"
   ]
  },
  {
   "cell_type": "code",
   "execution_count": 55,
   "id": "38a75b12",
   "metadata": {},
   "outputs": [
    {
     "data": {
      "text/plain": [
       "'ab'"
      ]
     },
     "execution_count": 55,
     "metadata": {},
     "output_type": "execute_result"
    }
   ],
   "source": [
    "gemstones_dec(arr)"
   ]
  },
  {
   "cell_type": "markdown",
   "id": "6c20f570",
   "metadata": {},
   "source": [
    "## <font color='darkblue'>Supplement</font>\n",
    "* [Medium - 聊聊 Python Closure](https://dboyliao.medium.com/%E8%81%8A%E8%81%8A-python-closure-ebd63ff0146f)\n",
    "* [FPU - Functional programming utility (slides)](https://docs.google.com/presentation/d/1e8JkC1253jmfWIwppDbWFpy51m4P-uM0LZxqpPQCUjs/edit?usp=sharing&resourcekey=0-krY5MI7h9oGfveN4D8AN_w)\n",
    "* [Introduction of FP in Python (notebook)](https://nbviewer.org/github/johnklee/oo_dp_lesson/blob/master/lessons/Test_and_function_programming_in_Python/py_fp.ipynb)"
   ]
  }
 ],
 "metadata": {
  "kernelspec": {
   "display_name": "Python 3 (ipykernel)",
   "language": "python",
   "name": "python3"
  },
  "language_info": {
   "codemirror_mode": {
    "name": "ipython",
    "version": 3
   },
   "file_extension": ".py",
   "mimetype": "text/x-python",
   "name": "python",
   "nbconvert_exporter": "python",
   "pygments_lexer": "ipython3",
   "version": "3.9.9"
  }
 },
 "nbformat": 4,
 "nbformat_minor": 5
}
