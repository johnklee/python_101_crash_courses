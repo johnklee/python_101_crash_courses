{
 "cells": [
  {
   "cell_type": "markdown",
   "id": "0ff29a2a",
   "metadata": {},
   "source": [
    "<a id='sect0'></a>\n",
    "## <font color='darkblue'>Preface</font>\n",
    "雖然我年紀已經不小, 但是追朔 [FP (Functional programming) 的歷史](https://en.wikipedia.org/wiki/Functional_programming#History), 我也只能算年輕:\n",
    "> The lambda calculus, developed in the 1930s by Alonzo Church, is a formal system of computation built from function application. \n",
    "\n",
    "<br/><br/>\n",
    "\n",
    "\n",
    "既然歷史攸久, 因此一言難盡, 在這邊只會吹吹皮毛, 希望至少可以 cover 下面的內容:\n",
    "* <font size='3ptx'><b><a href='#sect1'>Basic FP terminology (Function/Side effect/Closure ...)</a></b></font>\n",
    "* <font size='3ptx'><b><a href='#sect2'>Lambda 用法 & 範例</a></b></font>\n",
    "* <font size='3ptx'><b><a href='#sect3'>常常和 Lambda 一起使用的其他函數 map/filter/functools.reduce</a></b></font>\n",
    "* 可以接受的 Lambda 使用時機\n",
    "* Review 時會被打槍的用法\n",
    "* FPU 簡介"
   ]
  },
  {
   "cell_type": "code",
   "execution_count": 5,
   "id": "7c2dd436",
   "metadata": {},
   "outputs": [],
   "source": [
    "#!pip install fpu"
   ]
  },
  {
   "cell_type": "code",
   "execution_count": 19,
   "id": "5d84c53a",
   "metadata": {},
   "outputs": [],
   "source": [
    "from fpu.flist import *\n",
    "from functools import partial\n",
    "from typing import Sequence"
   ]
  },
  {
   "cell_type": "markdown",
   "id": "d0c473fc",
   "metadata": {},
   "source": [
    "<a id='sect1'></a>\n",
    "## <font color='darkblue'>Basic FP terminology</font>\n",
    "* <font size='3ptx'><b><a href='#sect1_1'>FP Terminology - Imperative vs Declarative</a></b></font>\n",
    "* <font size='3ptx'><b><a href='#sect1_2'>FP Terminology - Closure</a></b></font>\n",
    "* <font size='3ptx'><b><a href='#sect1_3'>FP Terminology - Currying</a></b></font>\n",
    "<br/>\n",
    "\n",
    "Functional programming has a [long history](https://en.wikipedia.org/wiki/Functional_programming#History). In a nutshell, **its a style of programming where you focus on transforming data through the use of small expressions that ideally don’t contain side effects.** In other words, when you call <font color='blue'>my_fun(1, 2)</font>, it will always return the same result. This is achieved by **immutable data** typical of a functional language.\n",
    "\n",
    "![function & side effect](images/1.PNG)\n",
    "\n",
    "([image source](https://www.fpcomplete.com/blog/2017/04/pure-functional-programming/))\n",
    "<br/>"
   ]
  },
  {
   "cell_type": "markdown",
   "id": "b56751fe",
   "metadata": {},
   "source": [
    "<a id='sect1_1'></a>\n",
    "### <font color='darkgreen'>FP Terminology - Imperative vs Declarative</font>\n",
    "你可以把 `Imperative` 與 `Decleartive` 想成將編程語言分類的一種方法. (<font color='brown'>顏色, 大小, 形狀 etc</font>). 稍後會說明這兩種陣營的語言寫起來的差別:\n",
    "\n",
    "![function & side effect](images/2.PNG)\n",
    "<br/>"
   ]
  },
  {
   "cell_type": "markdown",
   "id": "84be8e35",
   "metadata": {},
   "source": [
    "#### <font size='3ptx'>Imperative</font>\n",
    "底下是 [Imperative 語言的 wiki 說明](https://en.wikipedia.org/wiki/Imperative_programming):\n",
    "> **Imperative programming** is like building assembly lines, which take some initial global state as raw material, apply various specific transformations, mutations to it as this material is pushed through the line, and at the end comes off the end product, the final global state, that represents the result of the computation. Each step needs to change, rotate, massage the workpiece precisely one specific way, so that it is prepared for subsequent steps downstream. Every step downstream depend on every previous step, and their order is therefore fixed and rigid. Because of these dependencies, an individual computational step has not much use and meaning in itself, but only in the context of all the others, and to understand it, one must understand how the whole line works.\n",
    "<br/>\n",
    "\n",
    "現今大部分的語言都屬於 imperative 陣營, 看描述很辛苦, 透過比對兩者的編程 style 可以很容易發現兩者不同. 底下是 imperative style 的編成方式:"
   ]
  },
  {
   "cell_type": "code",
   "execution_count": 7,
   "id": "f89944a7",
   "metadata": {},
   "outputs": [],
   "source": [
    "salaries = [\n",
    "    (True, 9000),   # (Is female, salary)\n",
    "    (False, 12000), \n",
    "    (False, 6000),\n",
    "    (True, 14000),\n",
    "]"
   ]
  },
  {
   "cell_type": "code",
   "execution_count": 23,
   "id": "44f6649c",
   "metadata": {},
   "outputs": [],
   "source": [
    "def imperative_way(salaries):\n",
    "    '''Gets the sum of salaries of female and male.\n",
    "    \n",
    "    Args:\n",
    "        salaries: List of salary. Each element is of tuple(is_female: bool, salary: int)\n",
    "    \n",
    "    Returns:\n",
    "        Tuple(Sum of female salaries, Sum of male salaries)\n",
    "    '''\n",
    "    female_sum = male_sum = 0\n",
    "    for is_female, salary in salaries:\n",
    "        if is_female:\n",
    "            female_sum += salary\n",
    "        else:\n",
    "            male_sum += salary\n",
    "            \n",
    "    return (female_sum, male_sum)"
   ]
  },
  {
   "cell_type": "code",
   "execution_count": 3,
   "id": "eaf5b2cf",
   "metadata": {},
   "outputs": [
    {
     "data": {
      "text/plain": [
       "(23000, 18000)"
      ]
     },
     "execution_count": 3,
     "metadata": {},
     "output_type": "execute_result"
    }
   ],
   "source": [
    "imperative_way(salaries)"
   ]
  },
  {
   "cell_type": "markdown",
   "id": "24d71b1c",
   "metadata": {},
   "source": [
    "#### <font size='3ptx'>Declarative</font>\n",
    "底下是 [Declarative 語言的 wiki 說明](https://en.wikipedia.org/wiki/Declarative_programming):\n",
    "> A style of building the structure and elements of computer programs—that expresses the logic of a computation without describing its control flow."
   ]
  },
  {
   "cell_type": "code",
   "execution_count": 24,
   "id": "afaaf1dc",
   "metadata": {},
   "outputs": [],
   "source": [
    "def add(a, b):\n",
    "    return a + b\n",
    "\n",
    "def salary_sum(is_female: bool):\n",
    "    '''Return calculator to sum up the salary based on female/male\n",
    "    \n",
    "    Args:\n",
    "        is_female: True to return calculator to sum up salaries of female\n",
    "            False to return calculator to sum up salaries of male.\n",
    "            \n",
    "    Returns:\n",
    "        Calculator to sum up salaries.\n",
    "    '''\n",
    "    def _salary_sum(salaries):\n",
    "        flist = fl(salaries)\n",
    "        return flist.filter(lambda t: t[0] == is_female) \\\n",
    "                    .map(lambda t: t[1]) \\\n",
    "                    .foldLeft(0, add)\n",
    "    return _salary_sum"
   ]
  },
  {
   "cell_type": "code",
   "execution_count": 10,
   "id": "758a5366",
   "metadata": {},
   "outputs": [],
   "source": [
    "def declarative_way(salaries):\n",
    "    return (\n",
    "        salary_sum(is_female=True)(salaries),  # Salary sum of female\n",
    "        salary_sum(is_female=False)(salaries), # Salary sum of male\n",
    "    )"
   ]
  },
  {
   "cell_type": "code",
   "execution_count": 11,
   "id": "2f984d88",
   "metadata": {},
   "outputs": [
    {
     "data": {
      "text/plain": [
       "(23000, 18000)"
      ]
     },
     "execution_count": 11,
     "metadata": {},
     "output_type": "execute_result"
    }
   ],
   "source": [
    "declarative_way(salaries)"
   ]
  },
  {
   "attachments": {},
   "cell_type": "markdown",
   "id": "17d9e5da",
   "metadata": {},
   "source": [
    "<a id='sect1_2'></a>\n",
    "### <font color='darkgreen'>FP Terminology - Closure</font> ([back](#sect1))\n",
    "A [**Closure**](https://en.wikipedia.org/wiki/Closure_(computer_programming)) is a function which **simply creates a scope that allows the function to access and manipulate the variables in enclosing scopes**. Normally, you will follow below steps to create a Closure in Python:\n",
    "* We have to create a nested function (a function inside another function).\n",
    "* This nested function has to refer to a variable defined inside the enclosing function.\n",
    "* The enclosing function has to return the nested function\n",
    "\n",
    "<br/>\n",
    "\n",
    "簡單說就是你的 Function object 綁定一個封閉的 name space (<font color='brown'>[這篇](https://dboyliao.medium.com/%E8%81%8A%E8%81%8A-python-closure-ebd63ff0146f)介紹還蠻清楚, 可以參考</font>), 直接來看範例理解:"
   ]
  },
  {
   "cell_type": "code",
   "execution_count": 15,
   "id": "06c23198",
   "metadata": {},
   "outputs": [],
   "source": [
    "def contain_N(n):\n",
    "    def _inner(sequence: Sequence):\n",
    "        return n in sequence\n",
    "    \n",
    "    return _inner"
   ]
  },
  {
   "cell_type": "code",
   "execution_count": 16,
   "id": "93974c41",
   "metadata": {},
   "outputs": [],
   "source": [
    "contain_5 = contain_N(5)\n",
    "contain_10 = contain_N(10)"
   ]
  },
  {
   "cell_type": "code",
   "execution_count": 18,
   "id": "77a4a553",
   "metadata": {},
   "outputs": [
    {
     "name": "stdout",
     "output_type": "stream",
     "text": [
      "my_data=[1, 2, 3, 4, 5] contains 5? True\n",
      "my_data=[1, 2, 3, 4, 5] contains 10? False\n"
     ]
    }
   ],
   "source": [
    "my_datas = [1, 2, 3, 4, 5]\n",
    "print(f'my_data={my_datas} contains 5? {contain_5(my_datas)}')\n",
    "print(f'my_data={my_datas} contains 10? {contain_10(my_datas)}')"
   ]
  },
  {
   "cell_type": "markdown",
   "id": "7217d2ea",
   "metadata": {},
   "source": [
    "上面的函數 `contain_N` 返回一個 closure. 該 closure 綁訂了變數 `n`. (<font color='blue'>contain_5</font> <font color='brown'>綁定的 `n` 為 5;</font> <font color='blue'>contain_10</font> <font color='brown'>綁定的 `n` 為 10</font>)"
   ]
  },
  {
   "attachments": {},
   "cell_type": "markdown",
   "id": "715de3e7",
   "metadata": {},
   "source": [
    "<a id='sect1_3'></a>\n",
    "### <font color='darkgreen'>FP Terminology - Currying</font> ([back](#sect1))\n",
    "底下是 wiki 上對 [**currying**](https://en.wikipedia.org/wiki/Curry_(programming_language)) 的說明:\n",
    "> <b>Currying is like a kind of incremental binding of function arguments</b>. It is the technique of breaking down the evaluation of a function that takes multiple arguments into evaluating a sequence of single-argument functions.\n",
    "\n",
    "<br/>\n",
    "\n",
    "很可惜在 Python 預設的函數並不支援這個特性, 幸運的是在模組 [**functools**](https://docs.python.org/3/library/functools.html) 有提供 [partial](https://docs.python.org/3/library/functools.html#functools.partial) 來模擬 currying 的好處. 直接來看範例: "
   ]
  },
  {
   "cell_type": "code",
   "execution_count": 41,
   "id": "38fc3d05",
   "metadata": {},
   "outputs": [],
   "source": [
    "def sum_salary_by_sex(*args):\n",
    "    def _sum_salary_by_sex(is_female: bool, salaries: Sequence) -> int:\n",
    "        return sum(map(lambda t: t[1], filter(lambda t: t[0]==is_female, salaries)))\n",
    "    \n",
    "    if len(args) == 1:\n",
    "        return partial(_sum_salary_by_sex, args[0])\n",
    "    \n",
    "    return _sum_salary_by_sex(*args)"
   ]
  },
  {
   "cell_type": "code",
   "execution_count": 42,
   "id": "ad5cb76f",
   "metadata": {},
   "outputs": [
    {
     "data": {
      "text/plain": [
       "23000"
      ]
     },
     "execution_count": 42,
     "metadata": {},
     "output_type": "execute_result"
    }
   ],
   "source": [
    "# Get female salaries\n",
    "sum_salary_by_sex(True, salaries)"
   ]
  },
  {
   "cell_type": "code",
   "execution_count": 43,
   "id": "c680758f",
   "metadata": {},
   "outputs": [
    {
     "data": {
      "text/plain": [
       "23000"
      ]
     },
     "execution_count": 43,
     "metadata": {},
     "output_type": "execute_result"
    }
   ],
   "source": [
    "# # Get female salaries in currying way\n",
    "sum_salary_by_sex(True)(salaries)"
   ]
  },
  {
   "cell_type": "code",
   "execution_count": 39,
   "id": "b99f9dac",
   "metadata": {},
   "outputs": [
    {
     "data": {
      "text/plain": [
       "18000"
      ]
     },
     "execution_count": 39,
     "metadata": {},
     "output_type": "execute_result"
    }
   ],
   "source": [
    "# Get male salaries\n",
    "sum_salary_by_sex(False, salaries)"
   ]
  },
  {
   "cell_type": "code",
   "execution_count": 45,
   "id": "7c68f849",
   "metadata": {},
   "outputs": [
    {
     "data": {
      "text/plain": [
       "18000"
      ]
     },
     "execution_count": 45,
     "metadata": {},
     "output_type": "execute_result"
    }
   ],
   "source": [
    "# Get male salaries in curring way\n",
    "sum_salary_by_sex(False)(salaries)"
   ]
  },
  {
   "cell_type": "code",
   "execution_count": 46,
   "id": "b2721a58",
   "metadata": {},
   "outputs": [],
   "source": [
    "sum_salary_by_female = sum_salary_by_sex(True)\n",
    "sum_salary_by_male = sum_salary_by_sex(False)"
   ]
  },
  {
   "cell_type": "code",
   "execution_count": 47,
   "id": "1b570fd1",
   "metadata": {},
   "outputs": [
    {
     "data": {
      "text/plain": [
       "23000"
      ]
     },
     "execution_count": 47,
     "metadata": {},
     "output_type": "execute_result"
    }
   ],
   "source": [
    "sum_salary_by_female(salaries)"
   ]
  },
  {
   "cell_type": "code",
   "execution_count": 48,
   "id": "7cf47f76",
   "metadata": {},
   "outputs": [
    {
     "data": {
      "text/plain": [
       "18000"
      ]
     },
     "execution_count": 48,
     "metadata": {},
     "output_type": "execute_result"
    }
   ],
   "source": [
    "sum_salary_by_male(salaries)"
   ]
  },
  {
   "cell_type": "markdown",
   "id": "3e35c0e9",
   "metadata": {},
   "source": [
    "我們透過 currying 的特性便可以得到新的函數 <font color='blue'>sum_salary_by_female</font> 與 <font color='blue'>sum_salary_by_male</font>. 是不是很方便?"
   ]
  },
  {
   "cell_type": "markdown",
   "id": "15173400",
   "metadata": {},
   "source": [
    "<a id='sect2'></a>\n",
    "## <font color='darkblue'>Lambda 用法 & 範例</font> ([back](#sect0))\n",
    "[**Lambda**](https://docs.python.org/3/reference/expressions.html#lambda) 在 Python 是一個關鍵字用來定義 匿名函數. 底下是使用 lambda 匿名函數的注意事項:\n",
    "* It can only contain expressions and can’t include statements ([No Statesments](#sect2_1)) in its body.\n",
    "* [It is written as a single line of execution](#sect2_2).\n",
    "* [It does not support type annotations.](#sect2_3)\n",
    "* [It can be immediately invoked](#sect2_4) ([IIFE](https://en.wikipedia.org/wiki/Immediately_invoked_function_expression))."
   ]
  },
  {
   "cell_type": "markdown",
   "id": "100b05ff",
   "metadata": {},
   "source": [
    "<a id='sect2_1'></a>\n",
    "### <font color='darkgreen'>No Statements</font>\n",
    "<b><font size='3ptx' color='darkred'>A lambda function can’t contain any statements</font></b>. In a lambda function, statements like `return`, `pass`, `assert`, or `raise` will raise a [**SyntaxError**](https://realpython.com/invalid-syntax-python/) exception. Here’s an example of adding assert to the body of a lambda:\n",
    "```python\n",
    ">>> (lambda x: assert x == 2)(2)\n",
    "  File \"<input>\", line 1\n",
    "    (lambda x: assert x == 2)(2)\n",
    "                    ^\n",
    "SyntaxError: invalid syntax\n",
    "```\n",
    "<br/>"
   ]
  },
  {
   "cell_type": "markdown",
   "id": "8296a416",
   "metadata": {},
   "source": [
    "<a id='sect2_2'></a>\n",
    "### <font color='darkgreen'>Single Expression</font>\n",
    "<font size='3ptx'><b>In contrast to a normal function, a Python lambda function is a single expression</b></font>. Although, in the body of a lambda, you can spread the expression over several lines using parentheses or a multiline string, it remains a single expression:\n",
    "```python\n",
    ">>> (lambda x:\n",
    "... (x % 2 and 'odd' or 'even'))(3)\n",
    "'odd'\n",
    "```\n",
    "<br/>\n",
    "\n",
    "The example above returns the string 'odd' when the lambda argument is odd, and 'even' when the argument is even. It spreads across two lines because it is contained in a set of parentheses, but it remains a single expression."
   ]
  },
  {
   "cell_type": "markdown",
   "id": "d1389f01",
   "metadata": {},
   "source": [
    "<a id='sect2_3'></a>\n",
    "### <font color='darkgreen'>Type Annotations</font>\n",
    "If you’ve started adopting type hinting, which is now available in Python, then you have another good reason to prefer normal functions over Python lambda functions. Check out [**Python Type Checking** (Guide)]((https://realpython.com/python-type-checking/#hello-types)) to get learn more about Python type hints and type checking. In a lambda function, there is no equivalent for the following:\n",
    "```python\n",
    "def full_name(first: str, last: str) -> str:\n",
    "    return f'{first.title()} {last.title()}'\n",
    "```\n",
    "<br/>\n",
    "\n",
    "Any type error with <font color='blue'>full_name()</font> can be caught by tools like [**mypy**](http://mypy-lang.org/) or [**pyre**](https://pyre-check.org/), whereas a [**SyntaxError**](https://realpython.com/invalid-syntax-python/) with the equivalent lambda function is raised at runtime:\n",
    "```python\n",
    ">>> lambda first: str, last: str: first.title() + \" \" + last.title() -> str\n",
    "  File \"<stdin>\", line 1\n",
    "    lambda first: str, last: str: first.title() + \" \" + last.title() -> str\n",
    "\n",
    "SyntaxError: invalid syntax\n",
    "```\n",
    "<br/>\n",
    "\n",
    "Like trying to include a statement in a lambda, adding type annotation immediately results in a [**SyntaxError**](https://realpython.com/invalid-syntax-python/) at runtime."
   ]
  },
  {
   "cell_type": "markdown",
   "id": "a04695b6",
   "metadata": {},
   "source": [
    "<a id='sect2_4'></a>\n",
    "### <font color='darkgreen'>IIFE</font>\n",
    "You’ve already seen several examples of [immediately invoked function execution](https://developer.mozilla.org/en-US/docs/Glossary/IIFE):\n",
    "```python\n",
    ">>> (lambda x: x * x)(3)\n",
    "9\n",
    "```\n",
    "<br/>\n",
    "\n",
    "<b>It’s a direct consequence of a lambda function being callable as it is defined</b>. For example, this allows you to pass the definition of a Python lambda expression to a higher-order function like [map()](https://docs.python.org/3/library/functions.html#map), [filter()](https://docs.python.org/3/library/functions.html#filter), or [**functools**.reduce()](https://docs.python.org/3/library/functools.html#functools.reduce), or to a `key function`."
   ]
  },
  {
   "cell_type": "markdown",
   "id": "3905bfe0",
   "metadata": {},
   "source": [
    "<a id='sect3'></a>\n",
    "## <font color='darkblue'>常常和 Lambda 一起使用的其他函數 map/filter/functools.reduce</font> ([back](#sect0))"
   ]
  },
  {
   "cell_type": "markdown",
   "id": "6c20f570",
   "metadata": {},
   "source": [
    "## <font color='darkblue'>Supplement</font>\n",
    "* [Medium - 聊聊 Python Closure](https://dboyliao.medium.com/%E8%81%8A%E8%81%8A-python-closure-ebd63ff0146f)"
   ]
  }
 ],
 "metadata": {
  "kernelspec": {
   "display_name": "Python 3 (ipykernel)",
   "language": "python",
   "name": "python3"
  },
  "language_info": {
   "codemirror_mode": {
    "name": "ipython",
    "version": 3
   },
   "file_extension": ".py",
   "mimetype": "text/x-python",
   "name": "python",
   "nbconvert_exporter": "python",
   "pygments_lexer": "ipython3",
   "version": "3.8.10"
  }
 },
 "nbformat": 4,
 "nbformat_minor": 5
}
