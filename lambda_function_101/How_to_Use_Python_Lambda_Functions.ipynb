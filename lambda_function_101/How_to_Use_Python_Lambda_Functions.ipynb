{
 "cells": [
  {
   "cell_type": "markdown",
   "id": "03f3b541",
   "metadata": {},
   "source": [
    "## <font color='darkblue'>Lambda Calculus</font>\n",
    "([article link](https://realpython.com/python-lambda/#lambda-calculus)) <font size='3ptx'><b>Lambda expressions in Python and other programming languages have their roots in lambda calculus, a model of computation invented by Alonzo Church. You’ll uncover when lambda calculus was introduced and why it’s a fundamental concept that ended up in the Python ecosystem.</b></font>"
   ]
  },
  {
   "cell_type": "markdown",
   "id": "500b5e47",
   "metadata": {},
   "source": [
    "### <font color='darkgreen'>History</font>\n",
    "[**Alonzo Church**](https://en.wikipedia.org/wiki/Alonzo_Church) formalized [**lambda calculus**](https://en.wikipedia.org/wiki/Lambda_calculus), **a language based on pure abstraction, in the 1930s**. Lambda functions are also referred to as lambda abstractions, a direct reference to the abstraction model of Alonzo Church’s original creation.\n",
    "\n",
    "Lambda calculus can encode any computation. It is [**Turing complete**](https://simple.wikipedia.org/wiki/Turing_complete), but contrary to the concept of a [**Turing machine**](https://en.wikipedia.org/wiki/Turing_machine), it is pure and does not keep any state.\n",
    "\n",
    "[**Functional**](https://realpython.com/python-functional-programming/) languages get their origin in mathematical logic and lambda calculus, while imperative programming languages embrace the state-based model of computation invented by Alan Turing. The two models of computation, lambda calculus and [**Turing machines**](https://en.wikipedia.org/wiki/Turing_machine), can be translated into each another. This equivalence is known as the [**Church-Turing hypothesis**](https://en.wikipedia.org/wiki/Church%E2%80%93Turing_thesis).\n",
    "\n",
    "[**Functional languages**](https://en.wikipedia.org/wiki/Functional_programming) directly inherit the lambda calculus philosophy, adopting a declarative approach of programming that emphasizes abstraction, data transformation, composition, and purity (<font color='brown'>no state and no side effects</font>). Examples of functional languages include [Haskell](https://www.haskell.org/), [Lisp](https://en.wikipedia.org/wiki/Lisp_%28programming_language%29), or [Erlang](https://www.erlang.org/).\n",
    "\n",
    "By contrast, the Turing Machine led to imperative programming found in languages like [Fortran](https://en.wikipedia.org/wiki/Fortran), [C](https://en.wikipedia.org/wiki/C_%28programming_language%29), or [Python](https://www.python.org/).\n",
    "\n",
    "<b>The imperative style consists of programming with statements, driving the flow of the program step by step with detailed instructions.</b> This approach promotes mutation and requires managing state.\n",
    "\n",
    "The separation in both families presents some nuances, as some functional languages incorporate imperative features, like [OCaml](http://www.ocaml.org/), while functional features have been permeating the imperative family of languages in particular with the introduction of lambda functions in Java, or Python.\n",
    "\n",
    "Python is not inherently a functional language, but it adopted some functional concepts early on. In January 1994, [map()](https://realpython.com/python-map-function/), [filter()](https://realpython.com/python-filter-function/), reduce(), and the lambda operator were added to the language."
   ]
  },
  {
   "cell_type": "markdown",
   "id": "e187d53b",
   "metadata": {},
   "source": [
    "### <font color='darkgreen'>First Example</font>\n",
    "<font size='3ptx'><b>Here are a few examples to give you an appetite for some Python code, functional style.</b></font>\n",
    "\n",
    "The [identity function](https://en.wikipedia.org/wiki/Identity_function), a function that returns its argument, is expressed with a standard Python function definition using the [keyword](https://realpython.com/python-keywords/) `def` as follows:"
   ]
  },
  {
   "cell_type": "code",
   "execution_count": 1,
   "id": "29613323",
   "metadata": {},
   "outputs": [],
   "source": [
    "def identity(x):\n",
    "    return x"
   ]
  },
  {
   "cell_type": "markdown",
   "id": "aca86233",
   "metadata": {},
   "source": [
    "<font color='blue'>identity()</font> takes an argument `x` and returns it upon invocation. In contrast, if you use a Python lambda construction, you get the following:"
   ]
  },
  {
   "cell_type": "code",
   "execution_count": 2,
   "id": "ce34fc00",
   "metadata": {},
   "outputs": [
    {
     "data": {
      "text/plain": [
       "<function __main__.<lambda>(x)>"
      ]
     },
     "execution_count": 2,
     "metadata": {},
     "output_type": "execute_result"
    }
   ],
   "source": [
    "identify_lambda = lambda x: x\n",
    "identify_lambda"
   ]
  },
  {
   "cell_type": "markdown",
   "id": "4eab4f4b",
   "metadata": {},
   "source": [
    "In the example above, the expression is composed of:\n",
    "* The keyword: `lambda`\n",
    "* A bound variable: `x`\n",
    "* A body: `x`\n",
    "\n",
    "<b><font color='darkred'>Note: </font></b>\n",
    "> In the context of this article, a <b><font color='darkblue'>bound variable</font></b> is an argument to a lambda function. <br/>\n",
    "> In contrast, a <b><font color='darkblue'>free variable</font></b> is not bound and may be referenced in the body of the expression. A free variable can be a constant or a variable defined in the enclosing scope of the function."
   ]
  },
  {
   "cell_type": "markdown",
   "id": "68fa6d94",
   "metadata": {},
   "source": [
    "You can write a slightly more elaborated example, a function that adds 1 to an argument, as follows:"
   ]
  },
  {
   "cell_type": "code",
   "execution_count": 7,
   "id": "de7eb4b9",
   "metadata": {},
   "outputs": [
    {
     "data": {
      "text/plain": [
       "<function __main__.<lambda>(x)>"
      ]
     },
     "execution_count": 7,
     "metadata": {},
     "output_type": "execute_result"
    }
   ],
   "source": [
    "lambda x: x + 1"
   ]
  },
  {
   "cell_type": "markdown",
   "id": "4a896ca1",
   "metadata": {},
   "source": [
    "You can apply the function above to an argument by surrounding the function and its argument with parentheses:"
   ]
  },
  {
   "cell_type": "code",
   "execution_count": 5,
   "id": "6df92c09",
   "metadata": {},
   "outputs": [
    {
     "data": {
      "text/plain": [
       "3"
      ]
     },
     "execution_count": 5,
     "metadata": {},
     "output_type": "execute_result"
    }
   ],
   "source": [
    "(lambda x: x+1)(2)"
   ]
  },
  {
   "cell_type": "markdown",
   "id": "c8df4bd9",
   "metadata": {},
   "source": [
    "[**Reduction**](https://en.wikipedia.org/wiki/Reduction_strategy_%28lambda_calculus%29) **is a lambda calculus strategy to compute the value of the expression**. In the current example, it consists of replacing the bound variable `x` with the argument 2:\n",
    "```\n",
    "(lambda x: x + 1)(2) = lambda 2: 2 + 1\n",
    "                     = 2 + 1\n",
    "                     = 3\n",
    "```\n",
    "\n",
    "Because a lambda function is an expression, it can be named. Therefore you could write the previous code as follows:"
   ]
  },
  {
   "cell_type": "code",
   "execution_count": 6,
   "id": "6772caa8",
   "metadata": {},
   "outputs": [
    {
     "data": {
      "text/plain": [
       "3"
      ]
     },
     "execution_count": 6,
     "metadata": {},
     "output_type": "execute_result"
    }
   ],
   "source": [
    "add_one = lambda x: x + 1\n",
    "add_one(2)"
   ]
  },
  {
   "cell_type": "markdown",
   "id": "2c514ea3",
   "metadata": {},
   "source": [
    "These functions all take a single argument. You may have noticed that, in the definition of the lambdas, the arguments don’t have parentheses around them. **Multi-argument functions** (<font color='brown'>functions that take more than one argument</font>) **are expressed in Python lambdas by listing arguments and separating them with a comma** (,) **but without surrounding them with parentheses**:"
   ]
  },
  {
   "cell_type": "code",
   "execution_count": 8,
   "id": "d4a233a9",
   "metadata": {},
   "outputs": [
    {
     "data": {
      "text/plain": [
       "'Full name: Guido Van Rossum'"
      ]
     },
     "execution_count": 8,
     "metadata": {},
     "output_type": "execute_result"
    }
   ],
   "source": [
    "full_name = lambda first, last: f'Full name: {first.title()} {last.title()}'\n",
    "full_name('guido', 'van rossum')"
   ]
  },
  {
   "cell_type": "markdown",
   "id": "2f12f000",
   "metadata": {},
   "source": [
    "<a id='sect0'></a>\n",
    "### <font color='darkgreen'>Agenda</font>\n",
    "* <font size='3ptx'><b><a href='#sect1'>Anonymous Functions</a></b></font>\n",
    "* <font size='3ptx'><b><a href='#sect2'>Python Lambda and Regular Functions</a></b></font>\n",
    "* <font size='3ptx'><b><a href='#sect3'>Lambda Expression Abuses</a></b></font>\n",
    "* <font size='3ptx'><b><a href='#sect4'>Appropriate Uses of Lambda Expressions</a></b></font>\n",
    "* <font size='3ptx'><b><a href='#sect5'>Alternatives to Lambdas</a></b></font>\n",
    "* <font size='3ptx'><b><a href='#sect6'>Are Lambdas Pythonic or Not?</a></b></font>"
   ]
  },
  {
   "cell_type": "markdown",
   "id": "7a5eec9f",
   "metadata": {},
   "source": [
    "<a id='sect1'></a>\n",
    "## <font color='darkblue'>Anonymous Functions</font>\n",
    "<font size='3ptx'><b>Taken literally, an anonymous function is a function without a name.</b></font>\n",
    "\n",
    "The following terms may be used interchangeably depending on the programming language type and culture:\n",
    "* Anonymous functions\n",
    "* Lambda functions\n",
    "* Lambda expressions\n",
    "* Lambda abstractions\n",
    "* Lambda form\n",
    "* Function literals\n",
    "<br/><br/>\n",
    "\n",
    "For the rest of this article after this section, you’ll mostly see the term <b><font color='darkblue'>lambda function</font></b>. \n",
    "\n",
    "<b>In Python, an anonymous function is created with the `lambda` keyword</b>. More loosely, it may or not be assigned a name. Consider a two-argument anonymous function defined with lambda but not bound to a variable. The lambda is not given a name:\n",
    "```python\n",
    "# The function above defines a lambda expression that takes two arguments and returns their sum.\n",
    "lambda x, y: x + y\n",
    "```\n",
    "<br/>\n",
    "\n",
    "Other than providing you with the feedback that Python is perfectly fine with this form, it doesn’t lead to any practical use. You could invoke the function in the Python interpreter:\n",
    "```python\n",
    ">>> _(1, 2)\n",
    "3\n",
    "```\n",
    "<br/>\n",
    "\n",
    "The example above is taking advantage of the interactive interpreter-only feature provided via the underscore (`_`). See the note below for more details.\n",
    "\n",
    "You could not write similar code in a Python module. Consider the `_` in the interpreter as a side effect that you took advantage of. In a Python module, you would assign a name to the lambda, or you would pass the lambda to a function. You’ll use those two approaches later in this article.\n",
    "\n",
    "<font color='darkred'><b>Note</b></font>: In the interactive interpreter, the single underscore (`_`) is bound to the last expression evaluated.\n",
    "\n",
    "<b>Lambda functions are frequently used with [higher-order functions](https://en.wikipedia.org/wiki/Higher-order_function), which take one or more functions as arguments or return one or more functions.</b> A lambda function can be a higher-order function by taking a function (normal or lambda) as an argument like in the following contrived example:"
   ]
  },
  {
   "cell_type": "code",
   "execution_count": 10,
   "id": "766db63b",
   "metadata": {},
   "outputs": [],
   "source": [
    "high_ord_func = lambda x, func: x + func(x)"
   ]
  },
  {
   "cell_type": "code",
   "execution_count": 11,
   "id": "6ebe1fcf",
   "metadata": {},
   "outputs": [
    {
     "data": {
      "text/plain": [
       "6"
      ]
     },
     "execution_count": 11,
     "metadata": {},
     "output_type": "execute_result"
    }
   ],
   "source": [
    "high_ord_func(2, lambda x: x * x)"
   ]
  },
  {
   "cell_type": "code",
   "execution_count": 12,
   "id": "22f76a90",
   "metadata": {},
   "outputs": [
    {
     "data": {
      "text/plain": [
       "7"
      ]
     },
     "execution_count": 12,
     "metadata": {},
     "output_type": "execute_result"
    }
   ],
   "source": [
    "high_ord_func(2, lambda x: x + 3)"
   ]
  },
  {
   "cell_type": "markdown",
   "id": "5f122d20",
   "metadata": {},
   "source": [
    "Python exposes higher-order functions as built-in functions or in the standard library. Examples include [map()](https://docs.python.org/3/library/functions.html#map), [filter()](https://docs.python.org/3/library/functions.html#filter), [**functools**.reduce()](https://docs.python.org/3/library/functools.html#functools.reduce), as well as key functions like [sort()](https://realpython.com/python-sort/), [sorted()](https://realpython.com/python-sort/), [min()](https://docs.python.org/3/library/functions.html#min), and [max()](https://docs.python.org/3/library/functions.html#max). You’ll use lambda functions together with Python higher-order functions in [**Appropriate Uses of Lambda Expressions**](https://realpython.com/python-lambda/#appropriate-uses-of-lambda-expressions)."
   ]
  },
  {
   "cell_type": "markdown",
   "id": "93ebbbd1",
   "metadata": {},
   "source": [
    "<a id='sect2'></a>\n",
    "## <font color='darkblue'>Python Lambda and Regular Functions</font>\n",
    "* <font size='3ptx'><b><a href='#sect2_1'>Functions</a></b></font>\n",
    "* <font size='3ptx'><b><a href='#sect2_2'>Traceback</a></b></font>\n",
    "* <font size='3ptx'><b><a href='#sect2_3'>Syntax</a></b></font>\n",
    "* <font size='3ptx'><b><a href='#sect2_4'>Arguments</a></b></font>\n",
    "* <font size='3ptx'><b><a href='#sect2_5'>Decorators</a></b></font>\n",
    "* <font size='3ptx'><b><a href='#sect2_6'>Closure</a></b></font>\n",
    "* <font size='3ptx'><b><a href='#sect2_7'>Evaluation Time</a></b></font>\n",
    "* <font size='3ptx'><b><a href='#sect2_8'>Testing Lambdas</a></b></font>\n",
    "<br/>\n",
    "\n",
    "This quote from the [**Python Design and History FAQ**](https://docs.python.org/3/faq/design.html) seems to set the tone about the overall expectation regarding the usage of lambda functions in Python:\n",
    "> Unlike lambda forms in other languages, where they add functionality, Python lambdas are only a shorthand notation if you’re too lazy to define a function. ([Source](https://docs.python.org/3/faq/design.html#why-can-t-lambda-expressions-contain-statements))\n",
    "<br/>\n",
    "\n",
    "Nevertheless, <b>don’t let this statement deter you from using Python’s lambda</b>. At first glance, you may accept that a lambda function is a function with some syntactic sugar shortening the code to define or invoke a function. <b>The following sections highlight the commonalities and subtle differences between normal Python functions and lambda functions.</b>"
   ]
  },
  {
   "cell_type": "markdown",
   "id": "18569020",
   "metadata": {},
   "source": [
    "<a id='sect2_1'></a>\n",
    "### <font color='darkgreen'>Functions</font>\n",
    "At this point, you may wonder what fundamentally distinguishes a lambda function bound to a variable from a regular function with a single `return` line: under the surface, almost nothing. <b>Let’s verify how Python sees a function built with a single [`return` statement](https://realpython.com/python-return-statement/) versus a function constructed as an expression</b> (<font color='brown'>lambda</font>).\n",
    "\n",
    "The [**dis module**](https://docs.python.org/3/library/dis.html) exposes functions to analyze Python bytecode generated by the Python compiler:"
   ]
  },
  {
   "cell_type": "code",
   "execution_count": 13,
   "id": "97d511c6",
   "metadata": {},
   "outputs": [],
   "source": [
    "import dis"
   ]
  },
  {
   "cell_type": "code",
   "execution_count": 14,
   "id": "3452ea3a",
   "metadata": {},
   "outputs": [
    {
     "data": {
      "text/plain": [
       "function"
      ]
     },
     "execution_count": 14,
     "metadata": {},
     "output_type": "execute_result"
    }
   ],
   "source": [
    "add = lambda x, y: x + y\n",
    "type(add)"
   ]
  },
  {
   "cell_type": "code",
   "execution_count": 15,
   "id": "ffa9ed8b",
   "metadata": {},
   "outputs": [
    {
     "name": "stdout",
     "output_type": "stream",
     "text": [
      "  1           0 LOAD_FAST                0 (x)\n",
      "              2 LOAD_FAST                1 (y)\n",
      "              4 BINARY_ADD\n",
      "              6 RETURN_VALUE\n"
     ]
    }
   ],
   "source": [
    "dis.dis(add)"
   ]
  },
  {
   "cell_type": "code",
   "execution_count": 16,
   "id": "596c496b",
   "metadata": {},
   "outputs": [
    {
     "data": {
      "text/plain": [
       "<function __main__.<lambda>(x, y)>"
      ]
     },
     "execution_count": 16,
     "metadata": {},
     "output_type": "execute_result"
    }
   ],
   "source": [
    "add"
   ]
  },
  {
   "cell_type": "markdown",
   "id": "90460f68",
   "metadata": {},
   "source": [
    "You can see that [dis()](https://docs.python.org/3/library/dis.html#dis.Bytecode.dis) expose a readable version of the Python bytecode allowing the inspection of the low-level instructions that the Python interpreter will use while executing the program.\n",
    "\n",
    "Now see it with a regular function object:"
   ]
  },
  {
   "cell_type": "code",
   "execution_count": 17,
   "id": "13ed6237",
   "metadata": {},
   "outputs": [],
   "source": [
    "def add(x, y): return x + y"
   ]
  },
  {
   "cell_type": "code",
   "execution_count": 18,
   "id": "3d3d0de5",
   "metadata": {},
   "outputs": [
    {
     "data": {
      "text/plain": [
       "function"
      ]
     },
     "execution_count": 18,
     "metadata": {},
     "output_type": "execute_result"
    }
   ],
   "source": [
    "type(add)"
   ]
  },
  {
   "cell_type": "code",
   "execution_count": 19,
   "id": "78c88d90",
   "metadata": {},
   "outputs": [
    {
     "name": "stdout",
     "output_type": "stream",
     "text": [
      "  1           0 LOAD_FAST                0 (x)\n",
      "              2 LOAD_FAST                1 (y)\n",
      "              4 BINARY_ADD\n",
      "              6 RETURN_VALUE\n"
     ]
    }
   ],
   "source": [
    "dis.dis(add)"
   ]
  },
  {
   "cell_type": "code",
   "execution_count": 20,
   "id": "dcb2af85",
   "metadata": {},
   "outputs": [
    {
     "data": {
      "text/plain": [
       "<function __main__.add(x, y)>"
      ]
     },
     "execution_count": 20,
     "metadata": {},
     "output_type": "execute_result"
    }
   ],
   "source": [
    "add"
   ]
  },
  {
   "cell_type": "markdown",
   "id": "77a4f914",
   "metadata": {},
   "source": [
    "<b>The bytecode interpreted by Python is the same for both functions</b>. But you may notice that the naming is different: <b><font color='darkred'>the function name is `add` for a function defined with `def`, whereas the Python lambda function is seen as `lambda`.</font></b>"
   ]
  },
  {
   "cell_type": "markdown",
   "id": "7abe6a97",
   "metadata": {},
   "source": [
    "<a id='sect2_2'></a>\n",
    "### <font color='darkgreen'>Traceback</font>\n",
    "You saw in the previous section that, <font color='darkred'><b>in the context of the lambda function, Python did not provide the name of the function, but only `<lambda>`</b></font>. This can be a limitation to consider when an exception occurs, and a traceback shows only `<lambda>`:\n",
    "```python\n",
    ">>> div_zero = lambda x: x / 0\n",
    ">>> div_zero(2)\n",
    "Traceback (most recent call last):\n",
    "    File \"<stdin>\", line 1, in <module>\n",
    "    File \"<stdin>\", line 1, in <lambda>\n",
    "ZeroDivisionError: division by zero\n",
    "```\n",
    "<br/>\n",
    "    \n",
    "The traceback of an exception raised while a lambda function is executed only identifies the function causing the exception as `<lambda>`. Here’s the same exception raised by a normal function:\n",
    "```python\n",
    ">>> def div_zero(x): return x / 0\n",
    ">>> div_zero(2)\n",
    "Traceback (most recent call last):\n",
    "    File \"<stdin>\", line 1, in <module>\n",
    "    File \"<stdin>\", line 1, in div_zero\n",
    "ZeroDivisionError: division by zero\n",
    "```   \n",
    "<br/>\n",
    "    \n",
    "The normal function causes a similar error but results in a more precise traceback because it gives the function name, `div_zero`."
   ]
  },
  {
   "cell_type": "code",
   "execution_count": 26,
   "id": "6e8a0a11",
   "metadata": {},
   "outputs": [
    {
     "ename": "ZeroDivisionError",
     "evalue": "division by zero",
     "output_type": "error",
     "traceback": [
      "\u001b[0;31m---------------------------------------------------------------------------\u001b[0m",
      "\u001b[0;31mZeroDivisionError\u001b[0m                         Traceback (most recent call last)",
      "\u001b[0;32m/tmp/ipykernel_6732/3053171795.py\u001b[0m in \u001b[0;36m<module>\u001b[0;34m\u001b[0m\n\u001b[1;32m      1\u001b[0m \u001b[0mdiv_zero\u001b[0m \u001b[0;34m=\u001b[0m \u001b[0;32mlambda\u001b[0m \u001b[0mx\u001b[0m\u001b[0;34m:\u001b[0m \u001b[0mx\u001b[0m \u001b[0;34m/\u001b[0m \u001b[0;36m0\u001b[0m\u001b[0;34m\u001b[0m\u001b[0;34m\u001b[0m\u001b[0m\n\u001b[0;32m----> 2\u001b[0;31m \u001b[0mdiv_zero\u001b[0m\u001b[0;34m(\u001b[0m\u001b[0;36m1\u001b[0m\u001b[0;34m)\u001b[0m\u001b[0;34m\u001b[0m\u001b[0;34m\u001b[0m\u001b[0m\n\u001b[0m",
      "\u001b[0;32m/tmp/ipykernel_6732/3053171795.py\u001b[0m in \u001b[0;36m<lambda>\u001b[0;34m(x)\u001b[0m\n\u001b[0;32m----> 1\u001b[0;31m \u001b[0mdiv_zero\u001b[0m \u001b[0;34m=\u001b[0m \u001b[0;32mlambda\u001b[0m \u001b[0mx\u001b[0m\u001b[0;34m:\u001b[0m \u001b[0mx\u001b[0m \u001b[0;34m/\u001b[0m \u001b[0;36m0\u001b[0m\u001b[0;34m\u001b[0m\u001b[0;34m\u001b[0m\u001b[0m\n\u001b[0m\u001b[1;32m      2\u001b[0m \u001b[0mdiv_zero\u001b[0m\u001b[0;34m(\u001b[0m\u001b[0;36m1\u001b[0m\u001b[0;34m)\u001b[0m\u001b[0;34m\u001b[0m\u001b[0;34m\u001b[0m\u001b[0m\n",
      "\u001b[0;31mZeroDivisionError\u001b[0m: division by zero"
     ]
    }
   ],
   "source": [
    "div_zero = lambda x: x / 0\n",
    "div_zero(1)"
   ]
  },
  {
   "cell_type": "code",
   "execution_count": 27,
   "id": "5fb5a5a6",
   "metadata": {},
   "outputs": [
    {
     "ename": "ZeroDivisionError",
     "evalue": "division by zero",
     "output_type": "error",
     "traceback": [
      "\u001b[0;31m---------------------------------------------------------------------------\u001b[0m",
      "\u001b[0;31mZeroDivisionError\u001b[0m                         Traceback (most recent call last)",
      "\u001b[0;32m/tmp/ipykernel_6732/371757272.py\u001b[0m in \u001b[0;36m<module>\u001b[0;34m\u001b[0m\n\u001b[1;32m      1\u001b[0m \u001b[0;32mdef\u001b[0m \u001b[0mdiv_zero\u001b[0m\u001b[0;34m(\u001b[0m\u001b[0mx\u001b[0m\u001b[0;34m)\u001b[0m\u001b[0;34m:\u001b[0m \u001b[0;32mreturn\u001b[0m \u001b[0mx\u001b[0m \u001b[0;34m/\u001b[0m \u001b[0;36m0\u001b[0m\u001b[0;34m\u001b[0m\u001b[0;34m\u001b[0m\u001b[0m\n\u001b[0;32m----> 2\u001b[0;31m \u001b[0mdiv_zero\u001b[0m\u001b[0;34m(\u001b[0m\u001b[0;36m1\u001b[0m\u001b[0;34m)\u001b[0m\u001b[0;34m\u001b[0m\u001b[0;34m\u001b[0m\u001b[0m\n\u001b[0m",
      "\u001b[0;32m/tmp/ipykernel_6732/371757272.py\u001b[0m in \u001b[0;36mdiv_zero\u001b[0;34m(x)\u001b[0m\n\u001b[0;32m----> 1\u001b[0;31m \u001b[0;32mdef\u001b[0m \u001b[0mdiv_zero\u001b[0m\u001b[0;34m(\u001b[0m\u001b[0mx\u001b[0m\u001b[0;34m)\u001b[0m\u001b[0;34m:\u001b[0m \u001b[0;32mreturn\u001b[0m \u001b[0mx\u001b[0m \u001b[0;34m/\u001b[0m \u001b[0;36m0\u001b[0m\u001b[0;34m\u001b[0m\u001b[0;34m\u001b[0m\u001b[0m\n\u001b[0m\u001b[1;32m      2\u001b[0m \u001b[0mdiv_zero\u001b[0m\u001b[0;34m(\u001b[0m\u001b[0;36m1\u001b[0m\u001b[0;34m)\u001b[0m\u001b[0;34m\u001b[0m\u001b[0;34m\u001b[0m\u001b[0m\n",
      "\u001b[0;31mZeroDivisionError\u001b[0m: division by zero"
     ]
    }
   ],
   "source": [
    "def div_zero(x): return x / 0\n",
    "div_zero(1)"
   ]
  },
  {
   "cell_type": "markdown",
   "id": "146d36d1",
   "metadata": {},
   "source": [
    "<a id='sect2_3'></a>\n",
    "### <font color='darkgreen'>Syntax</font>\n",
    "As you saw in the previous sections, a lambda form presents syntactic distinctions from a normal function. <b>In particular, a lambda function has the following characteristics:</b>\n",
    "* It can only contain expressions and can’t include statements ([No Statesments](#sect2_3_1)) in its body.\n",
    "* [It is written as a single line of execution](#sect2_3_2).\n",
    "* [It does not support type annotations.](#sect2_3_3)\n",
    "* [It can be immediately invoked](#sect2_3_4) ([IIFE](https://en.wikipedia.org/wiki/Immediately_invoked_function_expression))."
   ]
  },
  {
   "cell_type": "markdown",
   "id": "c628ac35",
   "metadata": {},
   "source": [
    "<a id='sect2_3_1'></a>\n",
    "#### No Statements\n",
    "A lambda function can’t contain any statements. In a lambda function, statements like `return`, `pass`, `assert`, or `raise` will raise a [**SyntaxError**](https://realpython.com/invalid-syntax-python/) exception. Here’s an example of adding assert to the body of a lambda:\n",
    "```python\n",
    ">>> (lambda x: assert x == 2)(2)\n",
    "  File \"<input>\", line 1\n",
    "    (lambda x: assert x == 2)(2)\n",
    "                    ^\n",
    "SyntaxError: invalid syntax\n",
    "```\n",
    "<br/>"
   ]
  },
  {
   "cell_type": "markdown",
   "id": "5d855f85",
   "metadata": {},
   "source": [
    "<a id='sect2_3_2'></a>\n",
    "#### Single Expression\n",
    "<b>In contrast to a normal function, a Python lambda function is a single expression</b>. Although, in the body of a lambda, you can spread the expression over several lines using parentheses or a multiline string, it remains a single expression:\n",
    "```python\n",
    ">>> (lambda x:\n",
    "... (x % 2 and 'odd' or 'even'))(3)\n",
    "'odd'\n",
    "```\n",
    "<br/>\n",
    "\n",
    "The example above returns the string 'odd' when the lambda argument is odd, and 'even' when the argument is even. It spreads across two lines because it is contained in a set of parentheses, but it remains a single expression."
   ]
  },
  {
   "cell_type": "markdown",
   "id": "965558f2",
   "metadata": {},
   "source": [
    "<a id='sect2_3_3'></a>\n",
    "#### Type Annotations\n",
    "If you’ve started adopting type hinting, which is now available in Python, then you have another good reason to prefer normal functions over Python lambda functions. Check out [**Python Type Checking** (Guide)]((https://realpython.com/python-type-checking/#hello-types)) to get learn more about Python type hints and type checking. In a lambda function, there is no equivalent for the following:\n",
    "```python\n",
    "def full_name(first: str, last: str) -> str:\n",
    "    return f'{first.title()} {last.title()}'\n",
    "```\n",
    "<br/>\n",
    "\n",
    "Any type error with <font color='blue'>full_name()</font> can be caught by tools like [**mypy**](http://mypy-lang.org/) or [**pyre**](https://pyre-check.org/), whereas a [**SyntaxError**](https://realpython.com/invalid-syntax-python/) with the equivalent lambda function is raised at runtime:\n",
    "```python\n",
    ">>> lambda first: str, last: str: first.title() + \" \" + last.title() -> str\n",
    "  File \"<stdin>\", line 1\n",
    "    lambda first: str, last: str: first.title() + \" \" + last.title() -> str\n",
    "\n",
    "SyntaxError: invalid syntax\n",
    "```\n",
    "<br/>\n",
    "\n",
    "Like trying to include a statement in a lambda, adding type annotation immediately results in a [**SyntaxError**](https://realpython.com/invalid-syntax-python/) at runtime."
   ]
  },
  {
   "cell_type": "markdown",
   "id": "38b221de",
   "metadata": {},
   "source": [
    "<a id='sect2_3_4'></a>\n",
    "#### IIFE\n",
    "You’ve already seen several examples of [immediately invoked function execution](https://developer.mozilla.org/en-US/docs/Glossary/IIFE):\n",
    "```python\n",
    ">>> (lambda x: x * x)(3)\n",
    "9\n",
    "```\n",
    "<br/>\n",
    "\n",
    "Outside of the Python interpreter, this feature is probably not used in practice. It’s a direct consequence of a lambda function being callable as it is defined. For example, this allows you to pass the definition of a Python lambda expression to a higher-order function like [map()](https://docs.python.org/3/library/functions.html#map), [filter()](https://docs.python.org/3/library/functions.html#filter), or functools.reduce(), or to a key function."
   ]
  },
  {
   "cell_type": "markdown",
   "id": "5cf9c9a9",
   "metadata": {},
   "source": [
    "<a id='sect2_4'></a>\n",
    "### <font color='darkgreen'>Arguments</font>\n",
    "Like a normal function object defined with `def`, Python lambda expressions support all the different ways of passing arguments. This includes:\n",
    "* Positional arguments\n",
    "* Named arguments (sometimes called keyword arguments)\n",
    "* Variable list of arguments (often referred to as varargs)\n",
    "* Variable list of keyword arguments\n",
    "* Keyword-only arguments\n",
    "<br/>\n",
    "\n",
    "```python\n",
    ">>> (lambda x, y, z: x + y + z)(1, 2, 3)\n",
    "6\n",
    ">>> (lambda x, y, z=3: x + y + z)(1, 2)\n",
    "6\n",
    ">>> (lambda x, y, z=3: x + y + z)(1, y=2)\n",
    "6\n",
    ">>> (lambda *args: sum(args))(1,2,3)\n",
    "6\n",
    ">>> (lambda **kwargs: sum(kwargs.values()))(one=1, two=2, three=3)\n",
    "6\n",
    ">>> (lambda x, *, y=0, z=0: x + y + z)(1, y=2, z=3)\n",
    "6\n",
    "```"
   ]
  },
  {
   "cell_type": "markdown",
   "id": "d346a127",
   "metadata": {},
   "source": [
    "<a id='sect2_5'></a>\n",
    "### <font color='darkgreen'>Decorators</font>\n",
    "In Python, a [**decorator**](https://www.python.org/dev/peps/pep-0318/) **is the implementation of a pattern that allows adding a behavior to a function or a class**. It is usually expressed with the <font color='blue'>@decorator</font> syntax prefixing a function. Here’s a contrived example:"
   ]
  },
  {
   "cell_type": "code",
   "execution_count": 1,
   "id": "f15c14e1",
   "metadata": {},
   "outputs": [],
   "source": [
    "def some_decorator(f):\n",
    "    def wraps(*args):\n",
    "        print(f\"Calling function '{f.__name__}'\")\n",
    "        return f(args)\n",
    "    \n",
    "    return wraps\n",
    "\n",
    "@some_decorator\n",
    "def decorated_function(x):\n",
    "    print(f\"With argument '{x}'\")"
   ]
  },
  {
   "cell_type": "markdown",
   "id": "7f8fee0c",
   "metadata": {},
   "source": [
    "In the example above, <font color='blue'>some_decorator()</font> is a function that adds a behavior to <font color='blue'>decorated_function()</font>, so that invoking <font color='blue'>decorated_function(\"Python\")</font> results in the following output:"
   ]
  },
  {
   "cell_type": "code",
   "execution_count": 2,
   "id": "ebe8da5d",
   "metadata": {},
   "outputs": [
    {
     "name": "stdout",
     "output_type": "stream",
     "text": [
      "Calling function 'decorated_function'\n",
      "With argument '('Python',)'\n"
     ]
    }
   ],
   "source": [
    "decorated_function('Python')"
   ]
  },
  {
   "cell_type": "markdown",
   "id": "a1f2ace3",
   "metadata": {},
   "source": [
    "<b>A decorator can be applied to a lambda</b>. Although it’s not possible to decorate a lambda with the @decorator syntax, a decorator is just a function, so it can call the lambda function:"
   ]
  },
  {
   "cell_type": "code",
   "execution_count": 3,
   "id": "6e159530",
   "metadata": {},
   "outputs": [],
   "source": [
    "# Defining a decorator\n",
    "def trace(f):\n",
    "    def wrap(*args, **kwargs):\n",
    "        print(f\"[TRACE] func: {f.__name__}, args: {args}, kwargs: {kwargs}\")\n",
    "        return f(*args, **kwargs)\n",
    "\n",
    "    return wrap\n",
    "\n",
    "# Applying decorator to a function\n",
    "@trace\n",
    "def add_two(x):\n",
    "    return x + 2"
   ]
  },
  {
   "cell_type": "code",
   "execution_count": 4,
   "id": "a38ba3ab",
   "metadata": {},
   "outputs": [
    {
     "name": "stdout",
     "output_type": "stream",
     "text": [
      "[TRACE] func: add_two, args: (3,), kwargs: {}\n"
     ]
    },
    {
     "data": {
      "text/plain": [
       "5"
      ]
     },
     "execution_count": 4,
     "metadata": {},
     "output_type": "execute_result"
    }
   ],
   "source": [
    "# Calling the decorated function\n",
    "add_two(3)"
   ]
  },
  {
   "cell_type": "code",
   "execution_count": 5,
   "id": "83b9dfad",
   "metadata": {},
   "outputs": [
    {
     "name": "stdout",
     "output_type": "stream",
     "text": [
      "[TRACE] func: <lambda>, args: (3,), kwargs: {}\n",
      "9\n"
     ]
    }
   ],
   "source": [
    "# Applying decorator to a lambda\n",
    "print((trace(lambda x: x ** 2))(3))"
   ]
  },
  {
   "cell_type": "markdown",
   "id": "6e6179f7",
   "metadata": {},
   "source": [
    "<b>Decorating the lambda function this way could be useful for debugging purposes, possibly to debug the behavior of a lambda function used in the context of a higher-order function or a key function</b>. Let’s see an example with [map()](https://docs.python.org/3/library/functions.html#map):"
   ]
  },
  {
   "cell_type": "code",
   "execution_count": 6,
   "id": "b10c61a6",
   "metadata": {},
   "outputs": [
    {
     "name": "stdout",
     "output_type": "stream",
     "text": [
      "[TRACE] func: <lambda>, args: (0,), kwargs: {}\n",
      "[TRACE] func: <lambda>, args: (1,), kwargs: {}\n",
      "[TRACE] func: <lambda>, args: (2,), kwargs: {}\n"
     ]
    },
    {
     "data": {
      "text/plain": [
       "[0, 2, 4]"
      ]
     },
     "execution_count": 6,
     "metadata": {},
     "output_type": "execute_result"
    }
   ],
   "source": [
    "list(map(trace(lambda x: x*2), range(3)))"
   ]
  },
  {
   "cell_type": "markdown",
   "id": "76c9c374",
   "metadata": {},
   "source": [
    "You will be exposed to [map()](https://docs.python.org/3/library/functions.html#map) in more details in [**Map**](https://realpython.com/python-lambda/#map). For more on Python decorators, check out [**Primer on Python Decorators**](https://realpython.com/primer-on-python-decorators/)."
   ]
  },
  {
   "cell_type": "markdown",
   "id": "0a138f48",
   "metadata": {},
   "source": [
    "<a id='sect2_6'></a>\n",
    "### <font color='darkgreen'>Closure</font> ([back](#sect2))\n",
    "<font size='3ptx'><b>A [closure](https://en.wikipedia.org/wiki/Closure_%28computer_programming%29) is a function where every free variable, everything except parameters, used in that function is bound to a specific value defined in the enclosing scope of that function.</b></font>\n",
    "\n",
    "In effect, closures define the environment in which they run, and so can be called from anywhere.\n",
    "\n",
    "**The concepts of lambdas and closures are not necessarily related, although lambda functions can be closures in the same way that normal functions can also be closures**. Some languages have special constructs for closure or lambda (<font color='brown'>for example, Groovy with an anonymous block of code as Closure object</font>), or a lambda expression (<font color='brown'>for example, Java Lambda expression with a limited option for closure</font>).\n",
    "\n",
    "Here’s a closure constructed with a normal Python function:"
   ]
  },
  {
   "cell_type": "code",
   "execution_count": 7,
   "id": "5fd1a024",
   "metadata": {},
   "outputs": [
    {
     "name": "stdout",
     "output_type": "stream",
     "text": [
      "x = 0, y = 4, z = 5\n",
      "closure(5) = 9\n",
      "x = 1, y = 4, z = 6\n",
      "closure(6) = 11\n",
      "x = 2, y = 4, z = 7\n",
      "closure(7) = 13\n"
     ]
    }
   ],
   "source": [
    "def outer_func(x):\n",
    "    y = 4\n",
    "    def inner_func(z):\n",
    "        print(f\"x = {x}, y = {y}, z = {z}\")\n",
    "        return x + y + z\n",
    "    return inner_func\n",
    "\n",
    "for i in range(3):\n",
    "    closure = outer_func(i)\n",
    "    print(f\"closure({i+5}) = {closure(i+5)}\")"
   ]
  },
  {
   "cell_type": "markdown",
   "id": "371e1c03",
   "metadata": {},
   "source": [
    "Similarly, a lambda can also be a closure. Here’s the same example with a Python lambda function:"
   ]
  },
  {
   "cell_type": "code",
   "execution_count": 8,
   "id": "c884d53a",
   "metadata": {},
   "outputs": [
    {
     "name": "stdout",
     "output_type": "stream",
     "text": [
      "closure(5) = 9\n",
      "closure(6) = 11\n",
      "closure(7) = 13\n"
     ]
    }
   ],
   "source": [
    "def outer_func(x):\n",
    "    y = 4\n",
    "    return lambda z: x + y + z\n",
    "\n",
    "for i in range(3):\n",
    "    closure = outer_func(i)\n",
    "    print(f\"closure({i+5}) = {closure(i+5)}\")"
   ]
  },
  {
   "cell_type": "markdown",
   "id": "b73a4935",
   "metadata": {},
   "source": [
    "In this situation, both the normal function and the lambda behave similarly. In the next section, you’ll see a situation where the behavior of a lambda can be deceptive due to its evaluation time (<font color='brown'>definition time vs runtime</font>)."
   ]
  },
  {
   "cell_type": "markdown",
   "id": "e1d6b6bb",
   "metadata": {},
   "source": [
    "<a id='sect2_7'></a>\n",
    "### <font color='darkgreen'>Evaluation Time</font> ([back](#sect2))\n",
    "<b>In some situations involving loops, the behavior of a Python lambda function as a closure may be counterintuitive</b>. It requires understanding when free variables are bound in the context of a lambda. The following examples demonstrate the difference when using a regular function vs using a Python lambda. Test the scenario first using a regular function:\n",
    "```python\n",
    ">>> def wrap(n):\n",
    "...     def f():\n",
    "...         print(n)\n",
    "...     return f\n",
    "...\n",
    ">>> numbers = 'one', 'two', 'three'\n",
    ">>> funcs = []\n",
    ">>> for n in numbers:\n",
    "...     funcs.append(wrap(n))  # line 9\n",
    "...\n",
    ">>> for f in funcs:\n",
    "...     f()\n",
    "...\n",
    "one\n",
    "two\n",
    "three\n",
    "```\n",
    "<br/>\n",
    "\n",
    "<b>In a normal function, `n` is evaluated at definition time</b>, on line 9, when the function is added to the list: <font color='blue'>funcs.append(wrap(n))</font>.\n",
    "\n",
    "Now, with the implementation of the same logic with a lambda function, observe the unexpected behavior:\n",
    "```python\n",
    ">>> numbers = 'one', 'two', 'three'\n",
    ">>> funcs = []\n",
    ">>> for n in numbers:\n",
    "...     funcs.append(lambda: print(n))  # line 4\n",
    "...\n",
    ">>> for f in funcs:\n",
    "...     f()  # line 7\n",
    "...\n",
    "three\n",
    "three\n",
    "three\n",
    "```\n",
    "<br/>\n",
    "\n",
    "The unexpected result occurs because the free variable `n`, as implemented, is bound at the execution time of the lambda expression. The Python lambda function on line 4 is a closure that captures `n`, a free variable bound at runtime. At runtime, while invoking the function `f` on line 7, the value of `n` is `three`.\n",
    "\n",
    "To overcome this issue, you can assign the free variable at definition time as follows:\n",
    "```python\n",
    ">>> numbers = 'one', 'two', 'three'\n",
    ">>> funcs = []\n",
    ">>> for n in numbers:\n",
    "...     funcs.append(lambda n=n: print(n))\n",
    "...\n",
    ">>> for f in funcs:\n",
    "...     f()\n",
    "...\n",
    "one\n",
    "two\n",
    "three\n",
    "```\n",
    "<br/>"
   ]
  },
  {
   "cell_type": "markdown",
   "id": "abc5a675",
   "metadata": {},
   "source": [
    "<a id='sect2_8'></a>\n",
    "### <font color='darkgreen'>Testing Lambdas</font> ([back](#sect2))\n",
    "<b>Python lambdas can be tested similarly to regular functions. It’s possible to use both [**unittest**](https://docs.python.org/3/library/unittest.html) and [**doctest**](https://docs.python.org/3/library/doctest.html).</b>"
   ]
  },
  {
   "cell_type": "markdown",
   "id": "d8657995",
   "metadata": {},
   "source": [
    "#### unittest\n",
    "The [**unittest**](https://docs.python.org/3/library/unittest.html) module handles Python lambda functions similarly to regular functions:\n",
    "```python\n",
    "import unittest\n",
    "\n",
    "addtwo = lambda x: x + 2\n",
    "\n",
    "class LambdaTest(unittest.TestCase):\n",
    "    def test_add_two(self):\n",
    "        self.assertEqual(addtwo(2), 4)\n",
    "\n",
    "    def test_add_two_point_two(self):\n",
    "        self.assertEqual(addtwo(2.2), 4.2)\n",
    "\n",
    "    def test_add_three(self):\n",
    "        # Should fail\n",
    "        self.assertEqual(addtwo(3), 6)\n",
    "\n",
    "if __name__ == '__main__':\n",
    "    unittest.main(verbosity=2)\n",
    "```\n",
    "<br/>"
   ]
  },
  {
   "cell_type": "markdown",
   "id": "3cf23cad",
   "metadata": {},
   "source": [
    "#### doctest\n",
    "The [**doctest**](https://docs.python.org/3/library/doctest.html) module extracts interactive Python code from docstring to execute tests. Although the syntax of Python lambda functions does not support a typical docstring, it is possible to assign a string to the `__doc__` element of a named lambda:\n",
    "```python\n",
    "addtwo = lambda x: x + 2\n",
    "addtwo.__doc__ = \"\"\"Add 2 to a number.\n",
    "    >>> addtwo(2)\n",
    "    4\n",
    "    >>> addtwo(2.2)\n",
    "    4.2\n",
    "    >>> addtwo(3) # Should fail\n",
    "    6\n",
    "    \"\"\"\n",
    "\n",
    "if __name__ == '__main__':\n",
    "    import doctest\n",
    "    doctest.testmod(verbose=True)\n",
    "```\n",
    "<br/>\n",
    "\n",
    "The [**doctest**](https://docs.python.org/3/library/doctest.html) in the doc comment of lambda <font color='blue'>addtwo()</font> describes the same test cases as in the previous section. For a comprehensive overview of unit testing in Python, you may want to refer to [**Getting Started With Testing in Python**](https://realpython.com/python-testing/)."
   ]
  },
  {
   "cell_type": "markdown",
   "id": "ac3189ab",
   "metadata": {},
   "source": [
    "<a id='sect3'></a>\n",
    "## <font color='darkblue'>Lambda Expression Abuses</font>\n",
    "* <font size='3ptx'><b><a href='#sect3_1'>Raising an Exception</a></b></font>\n",
    "* <font size='3ptx'><b><a href='#sect3_2'>Cryptic Style</a></b></font>\n",
    "* <font size='3ptx'><b><a href='#sect3_3'>Python Classes</a></b></font>\n",
    "<br/>\n",
    "\n",
    "<font size='3ptx'><b>Several examples in this article, if written in the context of professional Python code, would qualify as abuses.</b></font>\n",
    "\n",
    "If you find yourself trying to overcome something that a lambda expression does not support, this is probably a sign that a normal function would be better suited. The [**docstring**](https://docs.python.org/3/library/doctest.html) for a lambda expression in the previous section is a good example. **Attempting to overcome the fact that a Python lambda function does not support statements is another red flag.**\n",
    "\n",
    "**<font color='darkred'>The next sections illustrate a few examples of lambda usages that should be avoided</font>**. Those examples might be situations where, in the context of Python lambda, the code exhibits the following pattern:\n",
    "* It doesn’t follow the Python style guide (PEP 8)\n",
    "* It’s cumbersome and difficult to read.\n",
    "* It’s unnecessarily clever at the cost of difficult readability."
   ]
  },
  {
   "cell_type": "markdown",
   "id": "3460a328",
   "metadata": {},
   "source": [
    "<a id='sect3_1'></a>\n",
    "### <font color='darkgreen'>Raising an Exception</font>\n",
    "<b>Trying to raise an exception in a Python lambda should make you think twice</b>. There are some clever ways to do so, but even something like the following is better to avoid:\n",
    "```python\n",
    ">>> def throw(ex): raise ex\n",
    ">>> (lambda: throw(Exception('Something bad happened')))()\n",
    "Traceback (most recent call last):\n",
    "    File \"<stdin>\", line 1, in <module>\n",
    "    File \"<stdin>\", line 1, in <lambda>\n",
    "    File \"<stdin>\", line 1, in throw\n",
    "Exception: Something bad happened\n",
    "```\n",
    "<br/>\n",
    "Because a statement is not syntactically correct in a Python lambda body, the workaround in the example above consists of abstracting the statement call with a dedicated function <font color='blue'>throw()</font>. Using this type of workaround should be avoided. If you encounter this type of code, you should consider refactoring the code to use a regular function."
   ]
  },
  {
   "cell_type": "markdown",
   "id": "a036f78a",
   "metadata": {},
   "source": [
    "<a id='sect3_2'></a>\n",
    "### <font color='darkgreen'>Cryptic Style</font>\n",
    "As in any programming languages, you will find Python code that can be difficult to read because of the style used. <font color='darkred'><b>Lambda functions, due to their conciseness, can be conducive to writing code that is difficult to read</b></font>.\n",
    "\n",
    "The following lambda example contains several bad style choices:\n",
    "```python\n",
    ">>> (lambda _: list(map(lambda _: _ // 2, _)))([1,2,3,4,5,6,7,8,9,10])\n",
    "[0, 1, 1, 2, 2, 3, 3, 4, 4, 5]\n",
    "```\n",
    "<br/>\n",
    "\n",
    "The underscore (\\_) refers to a variable that you don’t need to refer to explicitly. But in this example, three \\_ refer to different variables. An initial upgrade to this lambda code could be to name the variables:\n",
    "```python\n",
    ">>> (lambda some_list: list(map(lambda n: n // 2,\n",
    "                                some_list)))([1,2,3,4,5,6,7,8,9,10])\n",
    "[0, 1, 1, 2, 2, 3, 3, 4, 4, 5]\n",
    "```\n",
    "<br/>\n",
    "\n",
    "Admittedly, it’s still difficult to read. By still taking advantage of a `lambda`, a regular function would go a long way to render this code more readable, spreading the logic over a few lines and function calls:\n",
    "```python\n",
    ">>> def div_items(some_list):\n",
    "      div_by_two = lambda n: n // 2\n",
    "      return map(div_by_two, some_list)\n",
    ">>> list(div_items([1,2,3,4,5,6,7,8,9,10])))\n",
    "[0, 1, 1, 2, 2, 3, 3, 4, 4, 5]\n",
    "```\n",
    "<br/>\n",
    "\n",
    "This is still not optimal but shows you a possible path to make code, and Python lambda functions in particular, more readable. In [**Alternatives to Lambdas**](https://realpython.com/python-lambda/#alternatives-to-lambdas), you’ll learn to replace [map()](https://docs.python.org/3/library/functions.html#map) and lambda with list comprehensions or [**generator expressions**](https://realpython.com/introduction-to-python-generators/). This will drastically improve the readability of the code."
   ]
  },
  {
   "cell_type": "markdown",
   "id": "882d3a5d",
   "metadata": {},
   "source": [
    "<a id='sect3_3'></a>\n",
    "### <font color='darkgreen'>Python Classes</font>\n",
    "<b><font size='3ptx'>You can but should not write class methods as Python lambda functions. </font></b>\n",
    "\n",
    "The following example is perfectly legal Python code but exhibits unconventional Python code relying on lambda. For example, instead of implementing `__str__` as a regular function, it uses a lambda. Similarly, `brand` and `year` are properties also implemented with lambda functions, instead of regular functions or decorators:\n",
    "```python\n",
    "class Car:\n",
    "    \"\"\"Car with methods as lambda functions.\"\"\"\n",
    "    def __init__(self, brand, year):\n",
    "        self.brand = brand\n",
    "        self.year = year\n",
    "\n",
    "    brand = property(lambda self: getattr(self, '_brand'),\n",
    "                     lambda self, value: setattr(self, '_brand', value))\n",
    "\n",
    "    year = property(lambda self: getattr(self, '_year'),\n",
    "                    lambda self, value: setattr(self, '_year', value))\n",
    "\n",
    "    __str__ = lambda self: f'{self.brand} {self.year}'  # 1: error E731\n",
    "\n",
    "    honk = lambda self: print('Honk!')     # 2: error E731\n",
    "```\n",
    "<br/>\n",
    "\n",
    "Running a tool like [**flake8**](https://flake8.pycqa.org/en/latest/), a style guide enforcement tool, will display the following errors for `__str__` and `honk`:\n",
    "```\n",
    "E731 do not assign a lambda expression, use a def\n",
    "```\n",
    "<br/>\n",
    "\n",
    "Although flake8 doesn’t point out an issue for the usage of the Python lambda functions in the properties, they are difficult to read and prone to error because of the usage of multiple strings like `_brand` and `_year` .\n",
    "\n",
    "As a general rule, in the context of code written in Python, prefer regular functions over lambda expressions. Nonetheless, there are cases that benefit from lambda syntax, as you will see in the next section."
   ]
  },
  {
   "cell_type": "markdown",
   "id": "efdee03e",
   "metadata": {},
   "source": [
    "<a id='sect4'></a>\n",
    "## <font color='darkblue'>Appropriate Uses of Lambda Expressions</font> ([back](#sect0))\n",
    "* <font size='3ptx'><b><a href='#sect4_1'>Classic Functional Constructs</a></b></font>\n",
    "* <font size='3ptx'><b><a href='#sect4_2'>Key Functions</a></b></font>\n",
    "* <font size='3ptx'><b><a href='#sect4_3'>UI Frameworks</a></b></font>\n",
    "* <font size='3ptx'><b><a href='#sect4_4'>Python Interpreter</a></b></font>\n",
    "* <font size='3ptx'><b><a href='#sect4_5'>Monkey Patching</a></b></font>\n",
    "<br/>\n",
    "\n",
    "Lambdas in Python tend to be the subject of controversies. Some of the arguments against lambdas in Python are:\n",
    "* Issues with readability\n",
    "* The imposition of a functional way of thinking\n",
    "* Heavy syntax with the `lambda` keyword\n",
    "<br/>\n",
    "\n",
    "Despite the heated debates questioning the mere existence of this feature in Python, lambda functions have properties that sometimes provide value to the Python language and to developers.\n",
    "\n",
    "<b>The following examples illustrate scenarios where the use of lambda functions is not only suitable but encouraged in Python code.</b>"
   ]
  },
  {
   "cell_type": "markdown",
   "id": "a1894e7c",
   "metadata": {},
   "source": [
    "<a id='sect4_1'></a>\n",
    "### <font color='darkgreen'>Classic Functional Constructs</font>\n",
    "Lambda functions are regularly used with the built-in functions [map()](https://docs.python.org/3/library/functions.html#map) and [filter()](https://docs.python.org/3/library/functions.html#filter), as well as [**functools**.reduce()](https://docs.python.org/3/library/functools.html#functools.reduce), exposed in the module [**functools**](https://docs.python.org/3/library/functools.html#module-functools). The following three examples are respective illustrations of using those functions with lambda expressions as companions:\n",
    "```python\n",
    ">>> list(map(lambda x: x.upper(), ['cat', 'dog', 'cow']))\n",
    "['CAT', 'DOG', 'COW']\n",
    ">>> list(filter(lambda x: 'o' in x, ['cat', 'dog', 'cow']))\n",
    "['dog', 'cow']\n",
    ">>> from functools import reduce\n",
    ">>> reduce(lambda acc, x: f'{acc} | {x}', ['cat', 'dog', 'cow'])\n",
    "'cat | dog | cow'\n",
    "```\n",
    "<br/>\n",
    "\n",
    "You may have to read code resembling the examples above, albeit with more relevant data. For that reason, it’s important to recognize those constructs. Nevertheless, those constructs have equivalent alternatives that are considered more Pythonic. In [**Alternatives to Lambdas**](https://realpython.com/python-lambda/#alternatives-to-lambdas), you’ll learn how to convert higher-order functions and their accompanying lambdas into other more idiomatic forms."
   ]
  },
  {
   "attachments": {},
   "cell_type": "markdown",
   "id": "9f7b8f37",
   "metadata": {},
   "source": [
    "<a id='sect4_2'></a>\n",
    "### <font color='darkgreen'>Key Functions</font>\n",
    "<b><font size='3ptx'>Key functions in Python are higher-order functions that take a parameter `key` as a named argument.</font></b>\n",
    "\n",
    "`key` receives a function that can be a lambda. This function directly influences the algorithm driven by the key function itself. Here are some key functions:\n",
    "* [sort()](https://docs.python.org/3/library/stdtypes.html#list.sort): list method\n",
    "* [sorted()](https://docs.python.org/3/library/functions.html#staticmethod), [min()](https://docs.python.org/3/library/functions.html#min), [max()](https://docs.python.org/3/library/functions.html#max): built-in functions\n",
    "* [nlargest()](https://docs.python.org/3/library/heapq.html#heapq.nlargest) and [nsmallest()](https://docs.python.org/3/library/heapq.html#heapq.nsmallest): in the Heap queue algorithm module [**heapq**](https://docs.python.org/3/library/heapq.html)\n",
    "<br/>\n",
    "\n",
    "Imagine that you want to sort a list of IDs represented as strings. Each ID is the concatenation of the string id and a number. Sorting this list with the built-in function [sorted()](https://docs.python.org/3/library/functions.html#sorted), by default, uses a lexicographic order as the elements in the list are strings.\n",
    "\n",
    "To influence the sorting execution, you can assign a lambda to the named argument `key`, such that the sorting will use the number associated with the ID:\n",
    "```python\n",
    ">>> ids = ['id1', 'id2', 'id30', 'id3', 'id22', 'id100']\n",
    ">>> print(sorted(ids)) # Lexicographic sort\n",
    "['id1', 'id100', 'id2', 'id22', 'id3', 'id30']\n",
    ">>> sorted_ids = sorted(ids, key=lambda x: int(x[2:])) # Integer sort\n",
    ">>> print(sorted_ids)\n",
    "['id1', 'id2', 'id3', 'id22', 'id30', 'id100']\n",
    "```"
   ]
  },
  {
   "cell_type": "markdown",
   "id": "db493717",
   "metadata": {},
   "source": [
    "<a id='sect4_3'></a>\n",
    "### <font color='darkgreen'>UI Frameworks</font>\n",
    "UI frameworks like [**Tkinter**](https://realpython.com/python-gui-tkinter/), [**wxPython**](https://wxpython.org/), or .NET Windows Forms with [**IronPython**](https://ironpython.net/) take advantage of lambda functions for mapping actions in response to UI events.\n",
    "\n",
    "The naive Tkinter program below demonstrates the usage of a lambda assigned to the command of the Reverse button:\n",
    "```python\n",
    "import tkinter as tk\n",
    "import sys\n",
    "\n",
    "window = tk.Tk()\n",
    "window.grid_columnconfigure(0, weight=1)\n",
    "window.title(\"Lambda\")\n",
    "window.geometry(\"300x100\")\n",
    "label = tk.Label(window, text=\"Lambda Calculus\")\n",
    "label.grid(column=0, row=0)\n",
    "button = tk.Button(\n",
    "    window,\n",
    "    text=\"Reverse\",\n",
    "    command=lambda: label.configure(text=label.cget(\"text\")[::-1]),\n",
    ")\n",
    "button.grid(column=0, row=1)\n",
    "window.mainloop()\n",
    "```\n",
    "<br/>\n",
    "\n",
    "![demo ui](https://files.realpython.com/media/tkinter_lambda.be4b6259769e.gif)\n",
    "\n",
    "To explore wxPython, check out [**How to Build a Python GUI Application With wxPython**](https://realpython.com/python-gui-with-wxpython/)."
   ]
  },
  {
   "cell_type": "markdown",
   "id": "ec755346",
   "metadata": {},
   "source": [
    "<a id='sect4_4'></a>\n",
    "### <font color='darkgreen'>Python Interpreter</font>\n",
    "When you’re playing with Python code in the interactive interpreter, Python lambda functions are often a blessing. It’s easy to craft a quick one-liner function to explore some snippets of code that will never see the light of day outside of the interpreter. The lambdas written in the interpreter, for the sake of speedy discovery, are like scrap paper that you can throw away after use."
   ]
  },
  {
   "cell_type": "markdown",
   "id": "e6ff2c4b",
   "metadata": {},
   "source": [
    "#### timeit\n",
    "In the same spirit as the experimentation in the Python interpreter, the module [**timeit**](https://docs.python.org/3/library/timeit.html) provides functions to time small code fragments. [timeit.timeit()](https://docs.python.org/3/library/timeit.html#timeit.timeit) in particular can be called directly, passing some Python code in a string. Here’s an example:\n",
    "```python\n",
    ">>> from timeit import timeit\n",
    ">>> timeit(\"factorial(999)\", \"from math import factorial\", number=10)\n",
    "0.0013087529951008037\n",
    "```\n",
    "<br/>\n",
    "\n",
    "When the statement is passed as a string, [timeit()](https://docs.python.org/3/library/timeit.html#timeit.timeit) needs the full context. In the example above, this is provided by the second argument that sets up the environment needed by the main function to be timed. Not doing so would raise a <b><font color='blue'>NameError</font></b> exception.\n",
    "\n",
    "Another approach is to use a lambda:\n",
    "```python\n",
    ">>> from math import factorial\n",
    ">>> timeit(lambda: factorial(999), number=10)\n",
    "0.0012704220062005334\n",
    "```\n",
    "<br/>\n",
    "\n",
    "**This solution is cleaner, more readable, and quicker to type in the interpreter**. Although the execution time was slightly less for the lambda version, executing the functions again may show a slight advantage for the `string` version. **The execution time of the setup is excluded from the overall execution time and shouldn’t have any impact on the result**."
   ]
  },
  {
   "cell_type": "markdown",
   "id": "3ee5c7ff",
   "metadata": {},
   "source": [
    "<a id='sect4_5'></a>\n",
    "### <font color='darkgreen'>Monkey Patching</font>\n",
    "For testing, it’s sometimes necessary to rely on repeatable results, even if during the normal execution of a given software, the corresponding results are expected to differ, or even be totally random.\n",
    "\n",
    "Let’s say you want to test a function that, at runtime, handles [random values](https://realpython.com/python-random/). But, during the testing execution, you need to assert against predictable values in a repeatable manner. The following example shows how, with a `lambda function`, monkey patching can help you:\n",
    "```python\n",
    "from contextlib import contextmanager\n",
    "import secrets\n",
    "\n",
    "def gen_token():\n",
    "    \"\"\"Generate a random token.\"\"\"\n",
    "    return f'TOKEN_{secrets.token_hex(8)}'\n",
    "\n",
    "@contextmanager\n",
    "def mock_token():\n",
    "    \"\"\"Context manager to monkey patch the secrets.token_hex\n",
    "    function during testing.\n",
    "    \"\"\"\n",
    "    default_token_hex = secrets.token_hex\n",
    "    secrets.token_hex = lambda _: 'feedfacecafebeef'\n",
    "    yield\n",
    "    secrets.token_hex = default_token_hex\n",
    "\n",
    "def test_gen_key():\n",
    "    \"\"\"Test the random token.\"\"\"\n",
    "    with mock_token():\n",
    "        assert gen_token() == f\"TOKEN_{'feedfacecafebeef'}\"\n",
    "\n",
    "test_gen_key()\n",
    "```\n",
    "<br/>\n",
    "\n",
    "A [**context manager**](https://docs.python.org/3/library/contextlib.html) helps with insulating the operation of monkey patching a function from the standard library ([**secrets**](https://docs.python.org/3/library/secrets.html#module-secrets)<font color='brown'>, in this example</font>). The lambda function assigned to <font color='blue'><b>secrets</b>.token_hex()</font> substitutes the default behavior by returning a static value.\n",
    "\n",
    "With [**pytest**](https://realpython.com/pytest-python-testing/), still using a lambda function, the same example becomes more elegant and concise :\n",
    "```python\n",
    "import secrets\n",
    "\n",
    "def gen_token():\n",
    "    return f'TOKEN_{secrets.token_hex(8)}'\n",
    "\n",
    "def test_gen_key(monkeypatch):\n",
    "    monkeypatch.setattr('secrets.token_hex', lambda _: 'feedfacecafebeef')\n",
    "    assert gen_token() == f\"TOKEN_{'feedfacecafebeef'}\"\n",
    "```\n",
    "<br/>\n",
    "\n",
    "With the [pytest monkeypatch fixture](https://docs.pytest.org/en/latest/monkeypatch.html), <font color='blue'>secrets.token_hex()</font> is overwritten with a lambda that will return a deterministic value, `feedfacecafebeef`, allowing to validate the test. The pytest [monkeypatch fixture](https://docs.pytest.org/en/latest/monkeypatch.html) allows you to control the scope of the override. In the example above, invoking <font color='blue'>secrets.token_hex()</font> in subsequent tests, without using monkey patching, would execute the normal implementation of this function."
   ]
  },
  {
   "cell_type": "markdown",
   "id": "75e2bcf4",
   "metadata": {},
   "source": [
    "<a id='sect5'></a>\n",
    "## <font color='darkblue'>Alternatives to Lambdas</font> ([back](#sect0))\n",
    "* <font size='3ptx'><b><a href='#sect5_1'>Map</a></b></font>\n",
    "* <font size='3ptx'><b><a href='#sect5_2'>Filter</a></b></font>\n",
    "* <font size='3ptx'><b><a href='#sect5_3'>Reduce</a></b></font>\n",
    "<br/><br/>\n",
    "\n",
    "<font size='3ptx'><b>While there are great reasons to use lambda, there are instances where its use is frowned upon. So what are the alternatives?</b></font>\n",
    "\n",
    "Higher-order functions like [map()](https://docs.python.org/3/library/functions.html#map), [filter()](https://docs.python.org/3/library/functions.html#filter), and [**functools**.reduce()](https://docs.python.org/3/library/functools.html#functools.reduce) can be converted to more elegant forms with slight twists of creativity, in particular with list comprehensions or generator expressions.\n",
    "\n",
    "To learn more about list comprehensions, check out [**When to Use a List Comprehension in Python**](https://realpython.com/list-comprehension-python/). To learn more about generator expressions, check out [**How to Use Generators and yield in Python**](https://realpython.com/introduction-to-python-generators/)."
   ]
  },
  {
   "cell_type": "markdown",
   "id": "11ac49b5",
   "metadata": {},
   "source": [
    "<a id='sect5_1'></a>\n",
    "### <font color='darkgreen'>Map</font>\n",
    "**The built-in function [map()](https://docs.python.org/3/library/functions.html#map) takes a function as a first argument and applies it to each of the elements of its second argument, an iterable**. Examples of iterables are strings, lists, and tuples. For more information on iterables and iterators, check out [**Iterables and Iterators**](https://realpython.com/lessons/looping-over-iterables/).\n",
    "\n",
    "[map()](https://docs.python.org/3/library/functions.html#map) returns an iterator corresponding to the transformed collection. As an example, if you wanted to transform a list of strings to a new list with each string capitalized, you could use [map()](https://docs.python.org/3/library/functions.html#map), as follows:"
   ]
  },
  {
   "cell_type": "code",
   "execution_count": 9,
   "id": "a87052e1",
   "metadata": {},
   "outputs": [
    {
     "data": {
      "text/plain": [
       "['Cat', 'Dog', 'Cow']"
      ]
     },
     "execution_count": 9,
     "metadata": {},
     "output_type": "execute_result"
    }
   ],
   "source": [
    "list(map(lambda x: x.capitalize(), ['cat', 'dog', 'cow']))"
   ]
  },
  {
   "cell_type": "markdown",
   "id": "02f4ffea",
   "metadata": {},
   "source": [
    "You need to invoke [list()](https://docs.python.org/3/library/functions.html#func-list) to convert the iterator returned by [map()](https://docs.python.org/3/library/functions.html#map) into an expanded list that can be displayed in the Python shell interpreter.\n",
    "\n",
    "Using a list comprehension eliminates the need for defining and invoking the lambda function:"
   ]
  },
  {
   "cell_type": "code",
   "execution_count": 10,
   "id": "33a4121e",
   "metadata": {},
   "outputs": [
    {
     "data": {
      "text/plain": [
       "['Cat', 'Dog', 'Cow']"
      ]
     },
     "execution_count": 10,
     "metadata": {},
     "output_type": "execute_result"
    }
   ],
   "source": [
    "[w.capitalize() for w in ['cat', 'dog', 'cow']]"
   ]
  },
  {
   "cell_type": "markdown",
   "id": "65318bd1",
   "metadata": {},
   "source": [
    "<a id='sect5_2'></a>\n",
    "### <font color='darkgreen'>Filter</font>\n",
    "The built-in function [filter()](https://docs.python.org/3/library/functions.html#filter), another classic functional construct, can be converted into a list comprehension. It takes a [predicate](https://en.wikipedia.org/wiki/Predicate_(mathematical_logic)) as a first argument and an iterable as a second argument. It builds an iterator containing all the elements of the initial collection that satisfies the predicate function. Here’s an example that filters all the even numbers in a given list of integers:"
   ]
  },
  {
   "cell_type": "code",
   "execution_count": 11,
   "id": "d626e8fb",
   "metadata": {},
   "outputs": [
    {
     "data": {
      "text/plain": [
       "[0, 2, 4, 6, 8, 10]"
      ]
     },
     "execution_count": 11,
     "metadata": {},
     "output_type": "execute_result"
    }
   ],
   "source": [
    "even = lambda x: x%2 == 0\n",
    "list(filter(even, range(11)))"
   ]
  },
  {
   "cell_type": "markdown",
   "id": "519d7806",
   "metadata": {},
   "source": [
    "Note that [filter()](https://docs.python.org/3/library/functions.html#filter) returns an iterator, hence the need to invoke the built-in type [list](https://docs.python.org/3/library/functions.html#func-list) that constructs a list given an iterator.\n",
    "\n",
    "The implementation leveraging the list comprehension construct gives the following:"
   ]
  },
  {
   "cell_type": "code",
   "execution_count": 12,
   "id": "d61a5799",
   "metadata": {},
   "outputs": [
    {
     "data": {
      "text/plain": [
       "[0, 2, 4, 6, 8, 10]"
      ]
     },
     "execution_count": 12,
     "metadata": {},
     "output_type": "execute_result"
    }
   ],
   "source": [
    "[x for x in range(11) if x%2 == 0]"
   ]
  },
  {
   "cell_type": "markdown",
   "id": "4baa68dc",
   "metadata": {},
   "source": [
    "<a id='sect5_3'></a>\n",
    "### <font color='darkgreen'>Reduce</font>\n",
    "Since Python 3, [reduce()](https://docs.python.org/3/library/functools.html#functools.reduce) has gone from a built-in function to a [**functools**](https://docs.python.org/3/library/functools.html#functools.reduce) module function. As [map()](https://docs.python.org/3/library/functions.html#map) and [filter()](https://docs.python.org/3/library/functions.html#filter), its first two arguments are respectively a function and an iterable. It may also take an initializer as a third argument that is used as the initial value of the resulting accumulator. For each element of the iterable, [reduce()](https://docs.python.org/3/library/functools.html#functools.reduce) applies the function and accumulates the result that is returned when the iterable is exhausted.\n",
    "\n",
    "To apply [reduce()](https://docs.python.org/3/library/functools.html#functools.reduce) to a list of pairs and calculate the sum of the first item of each pair, you could write this:\n",
    "```python\n",
    ">>> import functools\n",
    ">>> pairs = [(1, 'a'), (2, 'b'), (3, 'c')]\n",
    ">>> functools.reduce(lambda acc, pair: acc + pair[0], pairs, 0)\n",
    "6\n",
    "```\n",
    "<br/>\n",
    "\n",
    "A more idiomatic approach using a [generator expression](https://www.python.org/dev/peps/pep-0289/), as an argument to [sum()](https://docs.python.org/3/library/functions.html#sum) in the example, is the following:"
   ]
  },
  {
   "cell_type": "code",
   "execution_count": 13,
   "id": "2169dc1b",
   "metadata": {},
   "outputs": [
    {
     "data": {
      "text/plain": [
       "6"
      ]
     },
     "execution_count": 13,
     "metadata": {},
     "output_type": "execute_result"
    }
   ],
   "source": [
    "pairs = [(1, 'a'), (2, 'b'), (3, 'c')]\n",
    "sum(x[0] for x in pairs)"
   ]
  },
  {
   "cell_type": "markdown",
   "id": "96892009",
   "metadata": {},
   "source": [
    "A slightly different and possibly cleaner solution removes the need to explicitly access the first element of the pair and instead use unpacking:"
   ]
  },
  {
   "cell_type": "code",
   "execution_count": 14,
   "id": "7483c631",
   "metadata": {},
   "outputs": [
    {
     "data": {
      "text/plain": [
       "6"
      ]
     },
     "execution_count": 14,
     "metadata": {},
     "output_type": "execute_result"
    }
   ],
   "source": [
    "sum(x for x, _ in pairs)"
   ]
  },
  {
   "cell_type": "markdown",
   "id": "df6e4431",
   "metadata": {},
   "source": [
    "The use of underscore (\\_) is a Python convention indicating that you can ignore the second value of the pair. [sum()](https://docs.python.org/3/library/functions.html#sum) takes a unique argument, so the generator expression does not need to be in parentheses."
   ]
  },
  {
   "cell_type": "markdown",
   "id": "fa95c155",
   "metadata": {},
   "source": [
    "<a id='sect6'></a>\n",
    "## <font color='darkblue'>Are Lambdas Pythonic or Not?</font> ([back](#sect0))\n",
    "[**PEP 8**](https://www.python.org/dev/peps/pep-0008/), which is the style guide for Python code, reads:\n",
    "> Always use a def statement instead of an assignment statement that binds a lambda expression directly to an identifier. ([Source](https://www.python.org/dev/peps/pep-0008/#programming-recommendations))\n",
    "<br/>\n",
    "\n",
    "This strongly discourages using lambda bound to an identifier, mainly where functions should be used and have more benefits. PEP 8 does not mention other usages of lambda. As you have seen in the previous sections, lambda functions may certainly have good uses, although they are limited.\n",
    "\n",
    "<b>A possible way to answer the question is that lambda functions are perfectly Pythonic if there is nothing more Pythonic available.</b> I’m staying away from defining what “Pythonic” means, leaving you with the definition that best suits your mindset, as well as your personal or your team’s coding style.\n",
    "\n",
    "Beyond the narrow scope of Python lambda, [**How to Write Beautiful Python Code With PEP 8**](https://realpython.com/python-pep8/) is a great resource that you may want to check out regarding code style in Python."
   ]
  },
  {
   "attachments": {},
   "cell_type": "markdown",
   "id": "3e87b0e1",
   "metadata": {},
   "source": [
    "## <font color='darkblue'>Supplement</font>\n",
    "* [Function Programming Utility (FPU)](https://github.com/johnklee/fpu)"
   ]
  }
 ],
 "metadata": {
  "kernelspec": {
   "display_name": "Python 3 (ipykernel)",
   "language": "python",
   "name": "python3"
  },
  "language_info": {
   "codemirror_mode": {
    "name": "ipython",
    "version": 3
   },
   "file_extension": ".py",
   "mimetype": "text/x-python",
   "name": "python",
   "nbconvert_exporter": "python",
   "pygments_lexer": "ipython3",
   "version": "3.8.10"
  }
 },
 "nbformat": 4,
 "nbformat_minor": 5
}
