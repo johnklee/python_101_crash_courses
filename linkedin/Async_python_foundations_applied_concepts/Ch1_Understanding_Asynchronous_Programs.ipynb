{
 "cells": [
  {
   "cell_type": "markdown",
   "id": "dc762f9b",
   "metadata": {},
   "source": [
    "## <font color='darkblue'>What makes program slow</font>\n",
    "([course link](https://www.linkedin.com/learning/async-python-foundations-applied-concepts/what-makes-programs-slow-and-when-async-execution-can-help?autoSkip=true&autoplay=true&resume=false&u=56685617))"
   ]
  },
  {
   "cell_type": "markdown",
   "id": "71c6fc98",
   "metadata": {},
   "source": [
    "## <font color='darkblue'>How asyncs works</font>\n",
    "([course link](https://www.linkedin.com/learning/async-python-foundations-applied-concepts/how-async-works-async-await?autoSkip=true&autoplay=true&resume=false&u=56685617))"
   ]
  },
  {
   "cell_type": "markdown",
   "id": "64d7cff1",
   "metadata": {},
   "source": [
    "## <font color='darkblue'>How async Python differs from other languages</font>\n",
    "([course link](https://www.linkedin.com/learning/async-python-foundations-applied-concepts/how-async-python-differs-from-other-languages?autoSkip=true&autoplay=true&resume=false&u=56685617))"
   ]
  },
  {
   "cell_type": "markdown",
   "id": "bcddc184",
   "metadata": {},
   "source": [
    "## <font color='darkblue'>Async sleep and gather</font>\n",
    "([course link](https://www.linkedin.com/learning/async-python-foundations-applied-concepts/async-sleep-and-gather?autoSkip=true&autoplay=true&resume=false&u=56685617))\n",
    "Firstly, let's check the synchronized code:"
   ]
  },
  {
   "cell_type": "code",
   "execution_count": 1,
   "id": "7e7e0ccc",
   "metadata": {},
   "outputs": [
    {
     "name": "stdout",
     "output_type": "stream",
     "text": [
      "Starting 3s sleep...\n",
      "Finished 3s sleep!\n",
      "Starting 6s sleep...\n",
      "Finished 6s sleep!\n",
      "3 6\n",
      "\u001b[37m\u001b[44m\u001b[1m0:00:09.007816\u001b[0m\n"
     ]
    }
   ],
   "source": [
    "import time\n",
    "from datetime import datetime\n",
    "import click\n",
    "\n",
    "def sleep_and_print(wait_time_sec: int):\n",
    "    print(f'Starting {wait_time_sec}s sleep...')\n",
    "    time.sleep(wait_time_sec)\n",
    "    print(f'Finished {wait_time_sec}s sleep!')\n",
    "    return wait_time_sec\n",
    "\n",
    "\n",
    "start = datetime.now()\n",
    "print(sleep_and_print(3), sleep_and_print(6))\n",
    "click.secho(f'{datetime.now() - start}', bold=True, bg=\"blue\", fg=\"white\")"
   ]
  },
  {
   "cell_type": "markdown",
   "id": "37106f13",
   "metadata": {},
   "source": [
    "From above cell, it will take around 9s to execute. Next, let's check async code `ch1_async.py`: ([source code](https://github.com/LinkedInLearning/async-python-foundations-applied-concepts-2422322/blob/main/CH_01_04_end.py)):\n",
    "```python\n",
    "import asyncio\n",
    "from datetime import datetime\n",
    "import click\n",
    "\n",
    "async def sleep_and_print(wait_time_sec: int):\n",
    "    print(f'Starting {wait_time_sec}s sleep...')\n",
    "    await asyncio.sleep(wait_time_sec)\n",
    "    print(f'Finished {wait_time_sec}s sleep!')\n",
    "    return wait_time_sec\n",
    "\n",
    "\n",
    "async def main():\n",
    "    results = await asyncio.gather(\n",
    "        sleep_and_print(3), sleep_and_print(6))\n",
    "\n",
    "\n",
    "start = datetime.now()\n",
    "\n",
    "asyncio.run(main())\n",
    "\n",
    "click.secho(\n",
    "    f'{datetime.now() - start}',\n",
    "    bold=True, bg=\"blue\", fg=\"white\")\n",
    "```\n",
    "\n",
    "Below is the execution result:\n",
    "```console\n",
    "$ python ch1_async.py \n",
    "Starting 3s sleep...\n",
    "Starting 6s sleep...\n",
    "Finished 3s sleep!\n",
    "Finished 6s sleep!\n",
    "0:00:06.002636\n",
    "```"
   ]
  },
  {
   "cell_type": "markdown",
   "id": "6fe9fe19",
   "metadata": {},
   "source": [
    "## <font color='darkblue'>Challenge: Sleep_five</font>\n",
    "([course link](https://www.linkedin.com/learning/async-python-foundations-applied-concepts/challenge-sleep-five?autoplay=true&resume=false&u=56685617))"
   ]
  }
 ],
 "metadata": {
  "kernelspec": {
   "display_name": "Python 3 (ipykernel)",
   "language": "python",
   "name": "python3"
  },
  "language_info": {
   "codemirror_mode": {
    "name": "ipython",
    "version": 3
   },
   "file_extension": ".py",
   "mimetype": "text/x-python",
   "name": "python",
   "nbconvert_exporter": "python",
   "pygments_lexer": "ipython3",
   "version": "3.10.9"
  }
 },
 "nbformat": 4,
 "nbformat_minor": 5
}
