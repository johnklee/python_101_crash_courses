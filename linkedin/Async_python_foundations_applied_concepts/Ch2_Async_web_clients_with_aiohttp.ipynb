{
 "cells": [
  {
   "cell_type": "markdown",
   "id": "2934449c",
   "metadata": {},
   "source": [
    "## <font color='darkblue'>Supercharging requests</font>\n",
    "([course link](https://www.linkedin.com/learning/async-python-foundations-applied-concepts/supercharging-requests?autoplay=true&resume=false&u=56685617))"
   ]
  },
  {
   "cell_type": "markdown",
   "id": "43e8c7a3",
   "metadata": {},
   "source": [
    "## <font color='darkblue'>Async WebSocket client</font>\n",
    "([course link](https://www.linkedin.com/learning/async-python-foundations-applied-concepts/async-websocket-client?autoSkip=true&autoplay=true&resume=false&u=56685617))"
   ]
  }
 ],
 "metadata": {
  "kernelspec": {
   "display_name": "Python 3 (ipykernel)",
   "language": "python",
   "name": "python3"
  },
  "language_info": {
   "codemirror_mode": {
    "name": "ipython",
    "version": 3
   },
   "file_extension": ".py",
   "mimetype": "text/x-python",
   "name": "python",
   "nbconvert_exporter": "python",
   "pygments_lexer": "ipython3",
   "version": "3.10.9"
  }
 },
 "nbformat": 4,
 "nbformat_minor": 5
}
