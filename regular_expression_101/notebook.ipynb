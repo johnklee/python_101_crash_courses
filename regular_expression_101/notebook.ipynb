{
 "cells": [
  {
   "cell_type": "markdown",
   "id": "539f28e8",
   "metadata": {},
   "source": [
    "## <font color='darkblue'>RE 101 in Python</font>\n",
    "[**Regular expression**](https://en.wikipedia.org/wiki/Regular_expression) 又稱 **正規表示式、正規表達式、正規表示法、規則運算式、常規表示法**，是電腦科學的一個概念。正規表示式使用單個字串來描述、符合一系列符合某個句法規則的字串。在很多文字編輯器裡，正則表達式通常被用來檢索、替換那些符合某個模式的文字。\n",
    "\n",
    "在 Python 中提供 [**re 模組**](https://docs.python.org/3/library/re.html) 來提供 Regular expression 的功能, 底下是個簡單範例:"
   ]
  },
  {
   "cell_type": "code",
   "execution_count": 2,
   "id": "58b174f5",
   "metadata": {},
   "outputs": [
    {
     "name": "stdout",
     "output_type": "stream",
     "text": [
      "Current state is OnState\n"
     ]
    }
   ],
   "source": [
    "import re\n",
    "\n",
    "log_content = '''\n",
    "  AdapterState:\n",
    "    total records=4\n",
    "    rec[0]: time=11-26 16:30:04.861 processed=OffState org=OffState\n",
    "    dest=TurningBleOnState what=3(0x3) BLE_TURN_ON\n",
    "    ...\n",
    "  curState=OnState\n",
    "'''\n",
    "\n",
    "matcher = re.search('curState=([a-zA-Z]+)', log_content)\n",
    "if matcher is not None:\n",
    "    print(f\"Current state is {matcher.group(1)}\")\n",
    "else:\n",
    "    print('No match!')"
   ]
  },
  {
   "cell_type": "markdown",
   "id": "bfb4feb3",
   "metadata": {},
   "source": [
    "<a id='sect0'></a>\n",
    "上面代碼中的 `re.search('curState=([a-zA-Z]+)', log_content)` 的 [search](https://docs.python.org/3/library/re.html#re.search) 函數用來從 `log_content` 中透過比對取出 `curState=OnState` 的字串. 並透過 函數 [group](https://docs.python.org/3/library/re.html#re.Match.group) 來取出 `onState` 的關鍵字.\n",
    "\n",
    "在這個 101 的教學會帶過以下的內容來熟悉 Python 在 RE 的使用:\n",
    "* <font size='3ptx'><b><a href='#sect1'>基礎 RE 語法介紹</a></b></font>\n",
    "* <font size='3ptx'><b><a href='#sect2'>基礎 Python RE 模組使用範例</a></b></font>\n",
    "* <font size='3ptx'><b><a href='#sect3'>練習題 </a></b></font>"
   ]
  },
  {
   "cell_type": "markdown",
   "id": "e16aac0f",
   "metadata": {},
   "source": [
    "<a id='sect1'></a>\n",
    "## <font color='darkblue'>基礎 RE 語法介紹</font>\n",
    "* <font size='3ptx'><b><a href='#sect1_1'>Characters</a></b></font>\n",
    "* <font size='3ptx'><b><a href='#sect1_2'>Character Sets</a></b></font>\n",
    "* <font size='3ptx'><b><a href='#sect1_3'>Repetition</a></b></font>\n",
    "* <font size='3ptx'><b><a href='#sect1_4'>Grouping and Alternation</a></b></font>\n",
    "* <font size='3ptx'><b><a href='#sect1_5'>Anchors</a></b></font>\n",
    "<br/>\n",
    "\n",
    "**為了要能有效的使用 RE, 我們必須知道 RE 的語法, 並根據我們的需求寫出比對的 Pattern.**\n",
    "\n",
    "在學習的撰寫 Pattern 過程中, 你可以使用 [**regex101**](https://regex101.com/) 或 [**regexr**](https://regexr.com/) 來快速驗證 Pattern 的結果:\n",
    "![img1](images/img1_regex101.PNG)"
   ]
  },
  {
   "cell_type": "markdown",
   "id": "00a8dfb8",
   "metadata": {},
   "source": [
    "<a id='sect1_1'></a>\n",
    "### <font color='darkgreen'>Characters</font>"
   ]
  },
  {
   "cell_type": "markdown",
   "id": "af073691",
   "metadata": {},
   "source": [
    "#### Literal characters"
   ]
  },
  {
   "cell_type": "code",
   "execution_count": 5,
   "id": "09bef57f",
   "metadata": {},
   "outputs": [
    {
     "name": "stdout",
     "output_type": "stream",
     "text": [
      "<re.Match object; span=(2, 4), match='zz'>\n"
     ]
    }
   ],
   "source": [
    "pattern = r'zz'\n",
    "input_string = 'Pizzazz'\n",
    "\n",
    "# Search the pattern in input_string\n",
    "match = re.search(pattern, input_string)\n",
    "print(match)"
   ]
  },
  {
   "cell_type": "code",
   "execution_count": 7,
   "id": "f39a43d2",
   "metadata": {},
   "outputs": [
    {
     "name": "stdout",
     "output_type": "stream",
     "text": [
      "None\n"
     ]
    }
   ],
   "source": [
    "# Match the pattern with while string\n",
    "match = re.match(pattern, input_string)\n",
    "print(match)"
   ]
  },
  {
   "cell_type": "code",
   "execution_count": 6,
   "id": "3dfc00ce",
   "metadata": {},
   "outputs": [
    {
     "data": {
      "text/plain": [
       "['zz', 'zz']"
      ]
     },
     "execution_count": 6,
     "metadata": {},
     "output_type": "execute_result"
    }
   ],
   "source": [
    "# Find all matches\n",
    "match = re.findall(pattern, input_string)\n",
    "match"
   ]
  },
  {
   "cell_type": "markdown",
   "id": "b2574c85",
   "metadata": {},
   "source": [
    "#### Metacharacters\n",
    "* Wildcard **<font size='4ptx' color='darkblue'>.</font>**\n",
    "    * **/h.t/**: `hat`, `hot` and `hit`, but not `heat`"
   ]
  },
  {
   "cell_type": "code",
   "execution_count": 8,
   "id": "140f64ce",
   "metadata": {},
   "outputs": [
    {
     "data": {
      "text/plain": [
       "['hit', 'hot', 'hit']"
      ]
     },
     "execution_count": 8,
     "metadata": {},
     "output_type": "execute_result"
    }
   ],
   "source": [
    "pattern = r'h.t'\n",
    "input_string = 'hit hot hit heat'\n",
    "match = re.findall(pattern, input_string)\n",
    "match"
   ]
  },
  {
   "cell_type": "markdown",
   "id": "dbe6d996",
   "metadata": {},
   "source": [
    "#### Escaping Metacharacters\n",
    "* Allow use of metacharacters as literal characters\n",
    "* Match a period with **/\\./**\n",
    "* **/9\\\\.00/** matches `9.00`, but not `9500` or `9-00`\n",
    "* Match a backslash by escaping a backslash (\\\\\\\\)\n",
    "* Escaping is only needed for metacharacters not literal characters which may cause them to have special meaning.\n",
    "* Quotation marks are not metacharacters; don't need to be escaped."
   ]
  },
  {
   "cell_type": "code",
   "execution_count": 11,
   "id": "05fb83d0",
   "metadata": {},
   "outputs": [
    {
     "data": {
      "text/plain": [
       "['resume1.txt', 'resume2.txt', 'resume3_txt']"
      ]
     },
     "execution_count": 11,
     "metadata": {},
     "output_type": "execute_result"
    }
   ],
   "source": [
    "pattern = r'resume..txt'\n",
    "input_string = 'resume1.txt resume2.txt resume3_txt.zip'\n",
    "match = re.findall(pattern, input_string)\n",
    "match"
   ]
  },
  {
   "cell_type": "markdown",
   "id": "74f7141e",
   "metadata": {},
   "source": [
    "上面的 \"resume3_txt\" 不是預期的 match. 該如何修改 `pattern`?\n",
    "\n",
    "使用 \".\" 要很小心, 不然常常會發生意外. e.g.:"
   ]
  },
  {
   "cell_type": "code",
   "execution_count": 17,
   "id": "4ca7a8de",
   "metadata": {},
   "outputs": [
    {
     "data": {
      "text/plain": [
       "['hit', 'hot', 'hit', 'h t']"
      ]
     },
     "execution_count": 17,
     "metadata": {},
     "output_type": "execute_result"
    }
   ],
   "source": [
    "pattern = r'h.t'\n",
    "input_string = 'hit hot hit reach temple'\n",
    "match = re.findall(pattern, input_string)\n",
    "match  # 'h t' is an accident by matching \"reac`h t`emple\"!"
   ]
  },
  {
   "cell_type": "markdown",
   "id": "5ad45c2d",
   "metadata": {},
   "source": [
    "#### <font color='orange'>Challenge</font>\n",
    "使用 3 個 literal characters 與 3 個 wildcard characters 來比對 `please`, `palace` 與 `parade`"
   ]
  },
  {
   "cell_type": "code",
   "execution_count": 14,
   "id": "a1e6b02d",
   "metadata": {},
   "outputs": [
    {
     "data": {
      "text/plain": [
       "[]"
      ]
     },
     "execution_count": 14,
     "metadata": {},
     "output_type": "execute_result"
    }
   ],
   "source": [
    "pattern = r'TBD' # TBD\n",
    "input_string = 'please palace parade'\n",
    "match = re.findall(pattern, input_string)\n",
    "match"
   ]
  },
  {
   "cell_type": "markdown",
   "id": "35c07e41",
   "metadata": {},
   "source": [
    "<a id='sect1_2'></a>\n",
    "### <font color='darkgreen'>Character Sets</font> ([back](#sect1))"
   ]
  },
  {
   "cell_type": "markdown",
   "id": "553def84",
   "metadata": {},
   "source": [
    "#### Define a character set\n",
    "* Use \"<font color='blue' size='5ptx'>**[**</font></font>\" and \"<font color='blue' size='5ptx'>**]**</font>\" to define a character set.\n",
    "* Any one of several characters\n",
    "* But only one character\n",
    "* Order of characters in the set does not matter\n",
    "* <font color='blue'>**/[aeiou]/**</font> matches any one vowel\n",
    "* <font color='blue'>**/gr[ea]y/**</font> matches \"grey\" and \"gray\" but not \"great\""
   ]
  },
  {
   "cell_type": "code",
   "execution_count": 18,
   "id": "ae831143",
   "metadata": {},
   "outputs": [
    {
     "data": {
      "text/plain": [
       "['grey', 'gray']"
      ]
     },
     "execution_count": 18,
     "metadata": {},
     "output_type": "execute_result"
    }
   ],
   "source": [
    "pattern = r'gr[ea]y'\n",
    "input_string = 'grey gray great'\n",
    "match = re.findall(pattern, input_string)\n",
    "match"
   ]
  },
  {
   "cell_type": "markdown",
   "id": "472b1945",
   "metadata": {},
   "source": [
    "#### Character ranges\n",
    "如果你要比對任一數字 0~9, 寫成 <font color='blue'>**/[0123456789]/**</font> ? 有更省力的方法 <font color='blue'>**/[0-9]/**</font>\n",
    "* Includes all characters between two characters with \"-\"\n",
    "* <font color='blue'>**/[A-Za-z]/**</font> 代表所有大小寫英文字母.\n",
    "* <font color='blue'>**/[50-99]/**</font> is not all numbers from 50 to 99!!!"
   ]
  },
  {
   "cell_type": "markdown",
   "id": "7e3015d4",
   "metadata": {},
   "source": [
    "#### Negative character sets\n",
    "* 使用 Metacharacter \"^\" 來代表此 character set 是不想比對的集合.\n",
    "* <font color='blue'>**/[^aeiou]/**</font> matches any one consonant (non-vowel)\n",
    "* <font color='blue'>**/see[^mn]/**</font> matches \"sees\" but not \"seem\", \"seen\" or \"see\""
   ]
  },
  {
   "cell_type": "code",
   "execution_count": 25,
   "id": "e1429d88",
   "metadata": {},
   "outputs": [
    {
     "data": {
      "text/plain": [
       "['sees', 'see ', 'see.']"
      ]
     },
     "execution_count": 25,
     "metadata": {},
     "output_type": "execute_result"
    }
   ],
   "source": [
    "pattern = r'see[^mn]'\n",
    "input_string = 'sees seem seen see see.'\n",
    "match = re.findall(pattern, input_string)\n",
    "match # \"see \" and \"see.\" may be surprise ><\". How to fix the pattern to match \"sees\" only?"
   ]
  },
  {
   "cell_type": "markdown",
   "id": "c24a6210",
   "metadata": {},
   "source": [
    "#### Metacharacters inside character set\n",
    "* Most metacharacters inside character set are already escaped and no need to escape them again.\n",
    "* <font color='blue'>**/h[a.]t/**</font> matches \"hat\" and \"h.t\", but not \"hot\"\n",
    "* Exceptions: **<font color='blue'>] - ^ \\ </font>**\n",
    "    * **<font color='blue'> /var[[(][0-9][</font><font color='red'>\\\\]</font><font color='blue'>)]/ </font>**\n",
    "    * **<font color='blue'> /file[0</font><font color='red'>\\\\-\\\\\\\\</font><font color='blue'>_]1/ </font>**\n",
    "    * **<font color='blue'> /2013[-/]10[-/]05/ </font>** <- 當我們把 \"-\" 放到 character set 的第一個, 便不需要 escape 它."
   ]
  },
  {
   "cell_type": "code",
   "execution_count": 3,
   "id": "3cede5fe",
   "metadata": {},
   "outputs": [
    {
     "data": {
      "text/plain": [
       "['var(3)', 'var(4)']"
      ]
     },
     "execution_count": 3,
     "metadata": {},
     "output_type": "execute_result"
    }
   ],
   "source": [
    "pattern = r'var[([][0-9][)\\]]'\n",
    "input_string = 'var(3) var(4)'\n",
    "match = re.findall(pattern, input_string)\n",
    "match"
   ]
  },
  {
   "cell_type": "markdown",
   "id": "67341274",
   "metadata": {},
   "source": [
    "#### Shorthand character sets\n",
    "![img2](images/img2_shorthand_character_sets.PNG)\n",
    "<br/>\n",
    "\n",
    "* **<font color='blue'>/\\d\\d\\d\\d/ </font>** matches \"2022\", but not \"text\"\n",
    "* **<font color='blue'>/\\w\\w\\w/ </font>** matches \"ABC\", \"123\", and \"1_A\" but not \"1-A\"\n",
    "* **<font color='blue'>/\\w\\s\\w\\w/ </font>** matches \"A am\", but not \"Am I\"\n",
    "* **<font color='blue'>/[\\w\\\\-]/ </font>** matches any word character or hyphen \n",
    "* **<font color='blue'>/[^\\d]/ </font>** is the same as both <font color='blue'>**/^\\D/</font>** and <font color='blue'>**/^0-9/</font>**\n",
    "* <font color='darkred'>**Caution:**</font> **<font color='blue'>/[^\\d\\s]/</font>** is not the same as **<font color='blue'>/[\\D\\S]/</font>**\n",
    "    * **<font color='blue'>/[^\\d\\s]/</font>**: NOT digit OR space character\n",
    "    * **<font color='blue'>/[\\D\\S]/</font>**: EITHER NOT digit OR NOT space character"
   ]
  },
  {
   "cell_type": "code",
   "execution_count": 6,
   "id": "08624019",
   "metadata": {},
   "outputs": [
    {
     "data": {
      "text/plain": [
       "['a', 'b', 'c']"
      ]
     },
     "execution_count": 6,
     "metadata": {},
     "output_type": "execute_result"
    }
   ],
   "source": [
    "pattern = r'[^\\d\\s]' # 不能是 (\\d -> 數字) 或 (\\s -> 空白)\n",
    "input_string = '1234 5678 abc'\n",
    "match = re.findall(pattern, input_string)\n",
    "match"
   ]
  },
  {
   "cell_type": "code",
   "execution_count": 8,
   "id": "84313e58",
   "metadata": {},
   "outputs": [
    {
     "data": {
      "text/plain": [
       "['1', '2', '3', '4', ' ', '5', '6', '7', '8', ' ', 'a', 'b', 'c']"
      ]
     },
     "execution_count": 8,
     "metadata": {},
     "output_type": "execute_result"
    }
   ],
   "source": [
    "pattern = r'[\\D\\S]'  # (\\D -> 不是數字) OR (\\S -> 不是空白)\n",
    "match = re.findall(pattern, input_string)\n",
    "match"
   ]
  },
  {
   "cell_type": "markdown",
   "id": "cea0586d",
   "metadata": {},
   "source": [
    "#### <font color='orange'>Challenge</font>\n",
    "* Match both \"lives\" and \"lived\"\n",
    "* Match \"virtue\" but not \"virtues\"\n",
    "* Match the numbers and periods on all numbered paragraphs\n",
    "* Find the 5-character word that starts with \"c\""
   ]
  },
  {
   "cell_type": "code",
   "execution_count": 10,
   "id": "18e5a5fa",
   "metadata": {},
   "outputs": [
    {
     "data": {
      "text/plain": [
       "[]"
      ]
     },
     "execution_count": 10,
     "metadata": {},
     "output_type": "execute_result"
    }
   ],
   "source": [
    "pattern = r'TBD' \n",
    "input_string = 'lives lived'\n",
    "match = re.findall(pattern, input_string)\n",
    "match"
   ]
  },
  {
   "cell_type": "code",
   "execution_count": 27,
   "id": "41485299",
   "metadata": {},
   "outputs": [
    {
     "data": {
      "text/plain": [
       "[]"
      ]
     },
     "execution_count": 27,
     "metadata": {},
     "output_type": "execute_result"
    }
   ],
   "source": [
    "pattern = r'TBD' \n",
    "input_string = 'virtue virtues'\n",
    "match = re.findall(pattern, input_string)\n",
    "match  # Expect ['virtue']"
   ]
  },
  {
   "cell_type": "code",
   "execution_count": 22,
   "id": "496bdff1",
   "metadata": {},
   "outputs": [
    {
     "data": {
      "text/plain": [
       "[]"
      ]
     },
     "execution_count": 22,
     "metadata": {},
     "output_type": "execute_result"
    }
   ],
   "source": [
    "pattern = r'TBD' \n",
    "input_string = '12.0 27 1. 10.'\n",
    "match = re.findall(pattern, input_string)\n",
    "match  # Expect: ['2.', '1.', '0.']"
   ]
  },
  {
   "cell_type": "code",
   "execution_count": 23,
   "id": "e394aa6e",
   "metadata": {},
   "outputs": [
    {
     "data": {
      "text/plain": [
       "[]"
      ]
     },
     "execution_count": 23,
     "metadata": {},
     "output_type": "execute_result"
    }
   ],
   "source": [
    "pattern = r'TBD' \n",
    "input_string = 'chain chess cake cook lived cheek'\n",
    "match = re.findall(pattern, input_string)\n",
    "match  # Expect: ['chain', 'chess', 'cheek']"
   ]
  },
  {
   "cell_type": "markdown",
   "id": "8df17869",
   "metadata": {},
   "source": [
    "<a id='sect1_1'></a>\n",
    "### <font color='darkgreen'>Repetition</font> ([back](#sect1))\n",
    "想想剛剛的問題 `Find the 5-character word that starts with \"c\"`, 除了 **<font color='blue'>/[c]\\w\\w\\w\\w/ <font>**, 有更好的寫法嗎?"
   ]
  },
  {
   "cell_type": "markdown",
   "id": "8e4bbcdf",
   "metadata": {},
   "source": [
    "#### [Repetition metacharacters](https://www.linkedin.com/learning/learning-regular-expressions-2/repetition-metacharacters?autoAdvance=true&autoSkip=false&autoplay=true&resume=false&u=56685617)\n",
    "某個字元後的數量限定符用來限定前面這個字元允許出現的個數。最常見的數量限定符包括 <font size='5ptx'>**+**</font>、<font size='5ptx'>**?**</font> 和 <font size='5ptx'>**\\***</font>（<font color='brown'>不加數量限定則代表出現一次且僅出現一次</font>）：\n",
    "* 加號 <font size='5ptx'>**+**</font> 代表前面的字元必須至少出現一次。（<font color='brown'>1次或多次</font>）。例如，**<font color='blue'>/goo+gle/<font>** 可以符合 \"google\"、\"gooogle\"、\"goooogle\" 等;\n",
    "* 問號 <font size='5ptx'>**?**</font> 代表前面的字元最多只可以出現一次。（<font color='brown'>0次或1次</font>）。例如，**<font color='blue'>/colou?r/<font>** 可以符合 \"color\" 或者 \"colour\";\n",
    "* 星號 <font size='5ptx'>**\\***</font> 代表前面的字元可以不出現，也可以出現一次或者多次。（<font color='brown'>0次、1次或多次</font>）。例如，**<font color='blue'>/0*42/<font>** 可以符合 \"42\"、\"042\"、\"0042\"、\"00042\" 等。"
   ]
  },
  {
   "cell_type": "code",
   "execution_count": 29,
   "id": "d313a8ef",
   "metadata": {},
   "outputs": [
    {
     "data": {
      "text/plain": [
       "['apple', 'apples']"
      ]
     },
     "execution_count": 29,
     "metadata": {},
     "output_type": "execute_result"
    }
   ],
   "source": [
    "pattern = r'apples?' \n",
    "input_string = 'apple apples appeal'\n",
    "match = re.findall(pattern, input_string)\n",
    "match"
   ]
  },
  {
   "cell_type": "code",
   "execution_count": 32,
   "id": "e0568eba",
   "metadata": {},
   "outputs": [
    {
     "data": {
      "text/plain": [
       "['Good morning.', 'Good eventing.', 'Good afternoon.']"
      ]
     },
     "execution_count": 32,
     "metadata": {},
     "output_type": "execute_result"
    }
   ],
   "source": [
    "pattern = r'Good .+?\\.'  # Try r'Good .+\\.' to see the result.\n",
    "input_string = 'Good morning. Good eventing. Good afternoon.'\n",
    "match = re.findall(pattern, input_string)\n",
    "match"
   ]
  },
  {
   "cell_type": "markdown",
   "id": "ddb179c2",
   "metadata": {},
   "source": [
    "#### [Quantified repetition](https://www.linkedin.com/learning/learning-regular-expressions-2/quantified-repetition?autoAdvance=true&autoSkip=true&autoplay=true&resume=false&u=56685617)\n",
    "* 使用 Metacharacters \"<font color='blue' size='5ptx'>**{**</font>\" 與 \"<font color='blue' size='5ptx'>**}**</font>\"\n",
    "* 語法為 <font color='blue' size='5ptx'>**{min, miax}**</font>, `min` must always be included and can be zero, `max` is optional\n",
    "* <font color='blue'>**/\\d{4, 8}/**</font> matches numbers with four to eight digits.\n",
    "* <font color='blue'>**/\\d{4}/**</font> matches numbers with exactly four digits.\n",
    "* <font color='blue'>**/\\d{4,}/**</font> matches numbers with four or more digits (`max` is infinite).\n",
    "* <font color='blue'>**/\\d{0,}/**</font> is the same as <font color='blue'>**/\\d*/**</font>\n",
    "* <font color='blue'>**/\\d{1,}/**</font> is the same as <font color='blue'>**/\\d+/**</font>"
   ]
  },
  {
   "cell_type": "code",
   "execution_count": 33,
   "id": "be5912b6",
   "metadata": {},
   "outputs": [
    {
     "data": {
      "text/plain": [
       "['0983123456', '0983-123-456']"
      ]
     },
     "execution_count": 33,
     "metadata": {},
     "output_type": "execute_result"
    }
   ],
   "source": [
    "pattern = r'09\\d{8}|09\\d{2}-\\d{3}-\\d{3}'  # Match phone number\n",
    "input_string = '0983123456 0983-123-456 123 0'\n",
    "match = re.findall(pattern, input_string)\n",
    "match"
   ]
  },
  {
   "cell_type": "code",
   "execution_count": 35,
   "id": "79f78e12",
   "metadata": {},
   "outputs": [
    {
     "data": {
      "text/plain": [
       "['chain', 'chess', 'cheek']"
      ]
     },
     "execution_count": 35,
     "metadata": {},
     "output_type": "execute_result"
    }
   ],
   "source": [
    "pattern = r'[c]\\w{4}' \n",
    "input_string = 'chain chess cake cook lived cheek'\n",
    "match = re.findall(pattern, input_string)\n",
    "match  # Expect: ['chain', 'chess', 'cheek']"
   ]
  },
  {
   "cell_type": "markdown",
   "id": "0d42347a",
   "metadata": {},
   "source": [
    "#### Greedy Expressions\n",
    "![img3](images/img3_greedy_ex.PNG)\n",
    "<br/>\n",
    "\n",
    "如果我們只想比對到 \"01_FY_07_\" 呢?\n",
    "\n",
    "* Standard repetition quantifiers are greedy.\n",
    "* Expression tries to match the longest possible string\n",
    "* Defers to achieving overal match\n",
    "* **<font color='blue'> /.+\\\\.jpg/ </font>** matches \"filename.jpg\"\n",
    "* The **<font color='blue' size='5ptx'>+</font>** is greedy, but \"gives back\" the \".jpg\" to make the match \n",
    "* **<font color='blue'> /.*[0-9]+/ </font>** matches \"Page266\"\n",
    "    * Gives back as little as possible\n",
    "    * **<font color='blue'>.*</font>** portion matches \"Page26\"\n",
    "    * **<font color='blue'>[0-9]+</font>** portion matches only \"6\"\n",
    "* Match as much as possible before giving control to the next expression part.    "
   ]
  },
  {
   "cell_type": "code",
   "execution_count": 50,
   "id": "697cc864",
   "metadata": {},
   "outputs": [
    {
     "data": {
      "text/plain": [
       "'Page26'"
      ]
     },
     "execution_count": 50,
     "metadata": {},
     "output_type": "execute_result"
    }
   ],
   "source": [
    "pattern = r'(.+)[0-9]+' \n",
    "input_string = 'Page266'\n",
    "match = re.match(pattern, input_string)\n",
    "match.group(1)  # (.*) 比對到 \"Page26\" 而不是 \"Page\""
   ]
  },
  {
   "cell_type": "markdown",
   "id": "caa1fc94",
   "metadata": {},
   "source": [
    "如何修改讓我們取出 \"Page\" 而不是 \"Page26\"?"
   ]
  },
  {
   "cell_type": "code",
   "execution_count": 47,
   "id": "4a34be66",
   "metadata": {},
   "outputs": [
    {
     "data": {
      "text/plain": [
       "'Page'"
      ]
     },
     "execution_count": 47,
     "metadata": {},
     "output_type": "execute_result"
    }
   ],
   "source": [
    "pattern = r'([a-zA-Z]+)[0-9]+'  # Be more specific\n",
    "input_string = 'Page266'\n",
    "match = re.match(pattern, input_string)\n",
    "match.group(1)"
   ]
  },
  {
   "cell_type": "markdown",
   "id": "efd883ea",
   "metadata": {},
   "source": [
    "#### [Lazy Expressions](https://www.linkedin.com/learning/learning-regular-expressions-2/lazy-expressions?autoAdvance=true&autoSkip=true&autoplay=true&resume=false&u=56685617)\n",
    "* **<font size='5ptx' color='blue'>?</font>** makes preceding quantifier lazy\n",
    "* Instructs quantifier to use a \"lazy strategy\" for making choices.\n",
    "* Match as little as possible before giving control to the next expression part\n",
    "* Still defers to overall match\n",
    "* Not necessarily faster or slower."
   ]
  },
  {
   "cell_type": "code",
   "execution_count": 49,
   "id": "1dbb4c9b",
   "metadata": {},
   "outputs": [
    {
     "data": {
      "text/plain": [
       "'Page'"
      ]
     },
     "execution_count": 49,
     "metadata": {},
     "output_type": "execute_result"
    }
   ],
   "source": [
    "pattern = r'(.+?)[0-9]+'  # Be more specific\n",
    "input_string = 'Page266'\n",
    "match = re.match(pattern, input_string)\n",
    "match.group(1)"
   ]
  },
  {
   "cell_type": "code",
   "execution_count": 55,
   "id": "53b0d61f",
   "metadata": {},
   "outputs": [
    {
     "data": {
      "text/plain": [
       "'01_FY_07'"
      ]
     },
     "execution_count": 55,
     "metadata": {},
     "output_type": "execute_result"
    }
   ],
   "source": [
    "pattern = r'\\d+\\w+?\\d+'\n",
    "input_string = '01_FY_07_report_99.xls'\n",
    "match = re.match(pattern, input_string)\n",
    "match.group(0)"
   ]
  },
  {
   "cell_type": "markdown",
   "id": "3bfce357",
   "metadata": {},
   "source": [
    "#### <font color='orange'>Challenge</font>\n",
    "* Match \"self\", \"himself\", \"herself\", \"itself\", \"myself\", \"yourself\" and \"thyself\"\n",
    "* Match both \"virtue\" and \"virtues\"\n",
    "* Use quantified repetition to find the word that starts with \"T\" and has 12 letters.\n",
    "* Match all text inside quotation marks, but nothing that is not inside them"
   ]
  },
  {
   "cell_type": "code",
   "execution_count": 68,
   "id": "f5846e66",
   "metadata": {},
   "outputs": [
    {
     "data": {
      "text/plain": [
       "[]"
      ]
     },
     "execution_count": 68,
     "metadata": {},
     "output_type": "execute_result"
    }
   ],
   "source": [
    "# 1) Match \"self\", \"himself\", \"herself\", \"itself\", \"myself\", \"yourself\" and \"thyself\"\n",
    "pattern = r'TBD'  \n",
    "input_string = 'self himself herself itself myself yourself thyself aselftesting aselfb'\n",
    "match = re.findall(pattern, input_string)\n",
    "match  # Expect ['self', 'himself', 'herself', 'itself', 'myself', 'yourself', 'thyself']"
   ]
  },
  {
   "cell_type": "code",
   "execution_count": 69,
   "id": "86d6d38a",
   "metadata": {},
   "outputs": [
    {
     "data": {
      "text/plain": [
       "[]"
      ]
     },
     "execution_count": 69,
     "metadata": {},
     "output_type": "execute_result"
    }
   ],
   "source": [
    "# 2) Match both \"virtue\" and \"virtues\"\n",
    "pattern = r'TBD'  \n",
    "input_string = 'virtue virtues forceworng'\n",
    "match = re.findall(pattern, input_string)\n",
    "match  # Expect ['virtue', 'virtues']"
   ]
  },
  {
   "cell_type": "code",
   "execution_count": 70,
   "id": "193dafdd",
   "metadata": {},
   "outputs": [
    {
     "data": {
      "text/plain": [
       "[]"
      ]
     },
     "execution_count": 70,
     "metadata": {},
     "output_type": "execute_result"
    }
   ],
   "source": [
    "# 3) Use quantified repetition to find the word that starts with \"T\" and has 7~11 letters.\n",
    "pattern = r'TBD'  \n",
    "input_string = 'Testing The Television To testbed'\n",
    "match = re.findall(pattern, input_string)\n",
    "match  # Expect ['Testing', 'Television']"
   ]
  },
  {
   "cell_type": "code",
   "execution_count": 77,
   "id": "03864d13",
   "metadata": {},
   "outputs": [
    {
     "data": {
      "text/plain": [
       "[]"
      ]
     },
     "execution_count": 77,
     "metadata": {},
     "output_type": "execute_result"
    }
   ],
   "source": [
    "# 4) Match all text inside quotation marks, but nothing that is not inside them\n",
    "pattern = r'TBD'  \n",
    "input_string = '\"Abc\" \"The space\" \"Has punctuation ,\" no_quote '\n",
    "match = re.findall(pattern, input_string)\n",
    "match  # Expect ['Abc', 'The space', 'Has punctuation ,']"
   ]
  },
  {
   "cell_type": "markdown",
   "id": "08488373",
   "metadata": {},
   "source": [
    "<a id='sect1_4'></a>\n",
    "### <font color='darkgreen'>Grouping and Alternation</font> ([back](#sect1))"
   ]
  },
  {
   "cell_type": "markdown",
   "id": "92222fae",
   "metadata": {},
   "source": [
    "#### Grouping metacharacters\n",
    "* 使用 Metacharacters \"<font color='blue' size='5ptx'>**(**</font>\" 與 \"<font color='blue' size='5ptx'>**)**</font>\"\n",
    "* Group portions of the expression\n",
    "* Apply repetation operators to a group\n",
    "* Create a group of alternation expressions\n",
    "* Captures group for use in matching and replacing.\n",
    "* **<font color='blue'>/(abc)+/</font>** matches \"abc\" and \"abcabc\"\n",
    "* **<font color='blue'>/(in)?dependent/ </font>** matches \"independent\" and \"dependent\"\n",
    "* **<font color='blue'>/run(s)?/ </font>** is the same as **<font color='blue'>/runs?/ </font>**"
   ]
  },
  {
   "cell_type": "code",
   "execution_count": 85,
   "id": "27f7c81e",
   "metadata": {},
   "outputs": [
    {
     "data": {
      "text/plain": [
       "['John', 'Selina']"
      ]
     },
     "execution_count": 85,
     "metadata": {},
     "output_type": "execute_result"
    }
   ],
   "source": [
    "pattern = r'Hello, ([A-Za-z]+)' \n",
    "input_string = 'Hello, John Hello, Selina.'\n",
    "match = re.findall(pattern, input_string)\n",
    "match"
   ]
  },
  {
   "cell_type": "markdown",
   "id": "79108b72",
   "metadata": {},
   "source": [
    "#### Alternation metacharacters\n",
    "* 使用 Metacharacter \"<font color='blue' size='5ptx'>**|**</font>\" as OR operator\n",
    "* Either match expression on the left or match expression on the right\n",
    "* Ordered, leftmost expression gets precedence\n",
    "* Multiple choices can be daisy-chained.\n",
    "* Group alternation expressions to keep them distince\n",
    "* **<font color='blue'>/apple|orange/ </font>** matches \"apple\" and \"orange\"\n",
    "* **<font color='blue'>/apple(juice|source)/ </font>** is not the same as **<font color='blue'>/applejuice|source/ </font>**\n",
    "* **<font color='blue'>/w(ei|ie)rd/ </font>** matches \"weird\" and \"wierd\"\n",
    "* **<font color='blue'>/(AA|BB|CC){4}/ </font>** matches \"AABBAACC\" and \"CCCCBBBB\""
   ]
  },
  {
   "cell_type": "code",
   "execution_count": 88,
   "id": "d7afb45b",
   "metadata": {},
   "outputs": [
    {
     "data": {
      "text/plain": [
       "[('weird', 'ei'), ('wierd', 'ie')]"
      ]
     },
     "execution_count": 88,
     "metadata": {},
     "output_type": "execute_result"
    }
   ],
   "source": [
    "pattern = r'(w(ei|ie)rd)' \n",
    "input_string = 'weird wierd would'\n",
    "match = re.findall(pattern, input_string)\n",
    "match"
   ]
  },
  {
   "cell_type": "markdown",
   "id": "1704ceec",
   "metadata": {},
   "source": [
    "#### Efficiency when using alternation"
   ]
  },
  {
   "cell_type": "code",
   "execution_count": 91,
   "id": "d9bf4175",
   "metadata": {},
   "outputs": [
    {
     "data": {
      "text/plain": [
       "['peanut']"
      ]
     },
     "execution_count": 91,
     "metadata": {},
     "output_type": "execute_result"
    }
   ],
   "source": [
    "# RE is lazy\n",
    "pattern = r'(peanut|peanutbutter)' \n",
    "input_string = 'peanutbutter'\n",
    "match = re.findall(pattern, input_string)\n",
    "match"
   ]
  },
  {
   "cell_type": "code",
   "execution_count": 95,
   "id": "0430291f",
   "metadata": {},
   "outputs": [
    {
     "data": {
      "text/plain": [
       "'peanutbutter'"
      ]
     },
     "execution_count": 95,
     "metadata": {},
     "output_type": "execute_result"
    }
   ],
   "source": [
    "# RE is greedy\n",
    "pattern = r'peanut(butter)?' \n",
    "input_string = 'peanutbutter'\n",
    "match = re.search(pattern, input_string)\n",
    "match.group(0)"
   ]
  },
  {
   "cell_type": "code",
   "execution_count": 144,
   "id": "660762f2",
   "metadata": {},
   "outputs": [
    {
     "name": "stdout",
     "output_type": "stream",
     "text": [
      "12.9 µs ± 636 ns per loop (mean ± std. dev. of 7 runs, 100000 loops each)\n"
     ]
    }
   ],
   "source": [
    "%%timeit\n",
    "pattern = r'\\d' \n",
    "input_string = '''\n",
    "TBD\n",
    "'''\n",
    "match = re.search(pattern, input_string)\n",
    "match.group(0)"
   ]
  },
  {
   "cell_type": "code",
   "execution_count": 145,
   "id": "9ada1025",
   "metadata": {},
   "outputs": [
    {
     "name": "stdout",
     "output_type": "stream",
     "text": [
      "12.3 µs ± 1.33 µs per loop (mean ± std. dev. of 7 runs, 100000 loops each)\n"
     ]
    }
   ],
   "source": [
    "%%timeit\n",
    "pattern = r'see|john|thee|tree|three' \n",
    "input_string = '''TBD'''\n",
    "match = re.search(pattern, input_string)\n",
    "match.group(0)"
   ]
  },
  {
   "cell_type": "markdown",
   "id": "760af7df",
   "metadata": {},
   "source": [
    "#### <font color='orange'>Challenge</font>\n",
    "* Match \"myself\", \"yourself\", \"thyself\", but not \"himself\", \"herself\" and \"itself\"\n",
    "* Match \"good\", \"goodness\", and \"goods\" without typing \"good\" more than once.\n",
    "* Match \"do\" or \"does\" followed by \"no\", \"not\" or \"nothing\", even when it occurs at the start of a sentence."
   ]
  },
  {
   "cell_type": "code",
   "execution_count": 152,
   "id": "afd8666e",
   "metadata": {},
   "outputs": [
    {
     "data": {
      "text/plain": [
       "['myself', 'yourself', 'thyself']"
      ]
     },
     "execution_count": 152,
     "metadata": {},
     "output_type": "execute_result"
    }
   ],
   "source": [
    "# 1) Match \"myself\", \"yourself\", \"thyself\", but not \"himself\", \"herself\" and \"itself\"\n",
    "pattern = r'((my|your|thy)self)' \n",
    "input_string = 'myself yourself thyself himself herself itself self'\n",
    "match = re.findall(pattern, input_string)\n",
    "list(map(lambda g: g[0], match))  # Expect ['myself', 'yourself', 'thyself']"
   ]
  },
  {
   "cell_type": "code",
   "execution_count": 155,
   "id": "c7afcbbc",
   "metadata": {},
   "outputs": [
    {
     "data": {
      "text/plain": [
       "['goodness', 'good', 'goods']"
      ]
     },
     "execution_count": 155,
     "metadata": {},
     "output_type": "execute_result"
    }
   ],
   "source": [
    "# 2) Match \"good\", \"goodness\", and \"goods\" without typing \"good\" more than once.\n",
    "pattern = r'(good(ness|s)?)' \n",
    "input_string = 'goodness good goods others'\n",
    "match = re.findall(pattern, input_string)\n",
    "list(map(lambda g: g[0], match))  # Expect ['goodness', 'good', 'goods']"
   ]
  },
  {
   "cell_type": "code",
   "execution_count": 169,
   "id": "eed480ce",
   "metadata": {},
   "outputs": [
    {
     "name": "stdout",
     "output_type": "stream",
     "text": [
      "TBD\n"
     ]
    }
   ],
   "source": [
    "# 3) Match \"do\" or \"does\" followed by \"no\", \"not\" or \"nothing\", even when it occurs at the start of a sentence.\n",
    "pattern = r'TBD' \n",
    "'''\n",
    "for input_string, expected_result in [\n",
    "    ('do not', True),\n",
    "    ('do nothing', True),\n",
    "    ('does not', True),\n",
    "    ('Does not', True),\n",
    "    ('Does nothing', True),\n",
    "    ('Do no', True),\n",
    "    ('Did not', False),\n",
    "    ('Does too', False),\n",
    "]:\n",
    "    match = re.match(pattern, input_string)\n",
    "    try:\n",
    "        if expected_result:\n",
    "            assert match is not None\n",
    "        else:\n",
    "            assert match is None\n",
    "    except:\n",
    "        print(f'Fail in \"{input_string}\"')\n",
    "        raise\n",
    "'''\n",
    "print('TBD')"
   ]
  },
  {
   "cell_type": "markdown",
   "id": "70ddd513",
   "metadata": {},
   "source": [
    "<a id='sect1_5'></a>\n",
    "### <font color='darkgreen'>Anchors</font> ([back](#sect1))"
   ]
  },
  {
   "cell_type": "markdown",
   "id": "4963e3e4",
   "metadata": {},
   "source": [
    "#### Start and end anchors\n",
    "* \"**<font color='blue' size='5ptx'>^</font>**\" as start of string/line\n",
    "* \"**<font color='blue' size='5ptx'>$</font>**\" as end of string/line\n",
    "* \"**<font color='blue' size='5ptx'>\\\\A</font>**\" as start of string and never end of line\n",
    "* \"**<font color='blue' size='5ptx'>\\\\Z</font>**\" as end of string and never end of line\n",
    "* Reference a position, not an actual character\n",
    "* Zero-width\n",
    "* **<font color='blue'>/^apple/ </font>** matches \"apple\" but not \"an apple\"\n",
    "* **<font color='blue'>/apple\\$/ </font>** matches \"an apple\" but not \"apple and orange\""
   ]
  },
  {
   "cell_type": "markdown",
   "id": "76c19eb0",
   "metadata": {},
   "source": [
    "#### Line breaks and multiple mode\n",
    "* **Single-line mode**: \n",
    "    * **<font color='blue' size='5ptx'>^</font>** and **<font color='blue' size='5ptx'>\\$</font>** do not match at line breaks.\n",
    "    * **<font color='blue' size='5ptx'>\\\\A</font>** and **<font color='blue' size='5ptx'>\\\\Z</font>** do not match at line breaks.\n",
    "* **Multiline mode**:\n",
    "    * **<font color='blue' size='5ptx'>^</font>** and **<font color='blue' size='5ptx'>$</font>** do match at the start and end of lines\n",
    "    * **<font color='blue' size='5ptx'>\\\\A</font>** and **<font color='blue' size='5ptx'>\\\\Z</font>** do not match at line breaks.\n",
    "    \n",
    "在 Python 中, 使用 <b><a href='https://docs.python.org/3/library/re.html#re.MULTILINE'>re.MULTILINE</a></b> 來切換 **Multiline mode.**:"
   ]
  },
  {
   "cell_type": "code",
   "execution_count": 238,
   "id": "dae92bac",
   "metadata": {},
   "outputs": [],
   "source": [
    "pattern = r\"^apple is ([a-zA-Z]+).$\"\n",
    "input_string = 'apple is health.\\napple is good.'"
   ]
  },
  {
   "cell_type": "code",
   "execution_count": 239,
   "id": "1d638b58",
   "metadata": {},
   "outputs": [
    {
     "data": {
      "text/plain": [
       "[]"
      ]
     },
     "execution_count": 239,
     "metadata": {},
     "output_type": "execute_result"
    }
   ],
   "source": [
    "# Single-line mode\n",
    "match = re.findall(pattern, input_string)\n",
    "match"
   ]
  },
  {
   "cell_type": "code",
   "execution_count": 240,
   "id": "e2a1dfd4",
   "metadata": {},
   "outputs": [
    {
     "data": {
      "text/plain": [
       "['health', 'good']"
      ]
     },
     "execution_count": 240,
     "metadata": {},
     "output_type": "execute_result"
    }
   ],
   "source": [
    "re.findall(r\"apple is (.+).\", input_string)"
   ]
  },
  {
   "cell_type": "code",
   "execution_count": 193,
   "id": "086e080c",
   "metadata": {},
   "outputs": [
    {
     "data": {
      "text/plain": [
       "['health.\\napple is good']"
      ]
     },
     "execution_count": 193,
     "metadata": {},
     "output_type": "execute_result"
    }
   ],
   "source": [
    "re.findall(r\"^apple is ([\\na-zA-Z. ]+).$\", input_string)"
   ]
  },
  {
   "cell_type": "code",
   "execution_count": 180,
   "id": "6f060894",
   "metadata": {},
   "outputs": [
    {
     "data": {
      "text/plain": [
       "['health', 'good']"
      ]
     },
     "execution_count": 180,
     "metadata": {},
     "output_type": "execute_result"
    }
   ],
   "source": [
    "# Mutiline mode\n",
    "match = re.findall(pattern, input_string, re.MULTILINE)\n",
    "match"
   ]
  },
  {
   "cell_type": "markdown",
   "id": "0aa3a02c",
   "metadata": {},
   "source": [
    "#### [Word boundaries](https://www.linkedin.com/learning/learning-regular-expressions-2/lazy-expressions?autoAdvance=true&autoSkip=true&autoplay=true&resume=false&u=56685617)\n",
    "* \"**<font color='blue' size='5ptx'>\\b</font>**\" -> word boundary (start/end of word)\n",
    "* \"**<font color='blue' size='5ptx'>\\B</font>**\" -> not a word boundary (start/end of word)\n",
    "* Reference a position, not an actual character\n",
    "* Before the first word character in the string\n",
    "* After the last word character in the string\n",
    "* Between a word character and a non-word character\n",
    "* Word characters: **<font color='blue'>[A-Za-z0-9_] </font>**"
   ]
  },
  {
   "cell_type": "code",
   "execution_count": 194,
   "id": "032ae144",
   "metadata": {},
   "outputs": [
    {
     "data": {
      "text/plain": [
       "['This', 'is', 'a', 'test']"
      ]
     },
     "execution_count": 194,
     "metadata": {},
     "output_type": "execute_result"
    }
   ],
   "source": [
    "pattern = r'\\b\\w+\\b' \n",
    "input_string = 'This is a test.'\n",
    "match = re.findall(pattern, input_string)\n",
    "match"
   ]
  },
  {
   "cell_type": "code",
   "execution_count": 200,
   "id": "18fc5cc4",
   "metadata": {},
   "outputs": [
    {
     "data": {
      "text/plain": [
       "[]"
      ]
     },
     "execution_count": 200,
     "metadata": {},
     "output_type": "execute_result"
    }
   ],
   "source": [
    "# Surprise?\n",
    "pattern = r'\\bNew\\bYork\\b' \n",
    "input_string = 'New York'\n",
    "match = re.findall(pattern, input_string)\n",
    "match"
   ]
  },
  {
   "cell_type": "code",
   "execution_count": 197,
   "id": "562ba73c",
   "metadata": {},
   "outputs": [],
   "source": [
    "# Guess the result\n",
    "pattern = r'\\B\\w+\\B' \n",
    "input_string = 'This is a test.'\n",
    "match = re.findall(pattern, input_string)\n",
    "# match"
   ]
  },
  {
   "cell_type": "markdown",
   "id": "67d59539",
   "metadata": {},
   "source": [
    "#### <font color='orange'>Challenge</font>\n",
    "* How many paragraphs start with \"I\" as in \"I read\"?\n",
    "* How many paragraphs end with a question mark?\n",
    "* Match all words with exactly 15 letters, including hyphenated words."
   ]
  },
  {
   "cell_type": "code",
   "execution_count": 214,
   "id": "750610d6",
   "metadata": {},
   "outputs": [
    {
     "name": "stdout",
     "output_type": "stream",
     "text": [
      "0\n"
     ]
    }
   ],
   "source": [
    "# 1) How many paragraphs start with \"I\"?\n",
    "pattern = r'TBD'\n",
    "input_string = '''\n",
    "I read the other day sometimes.\n",
    "\n",
    "You don't know. I read every day.\n",
    "\n",
    "I studies every day.\n",
    "'''\n",
    "match = re.findall(pattern, input_string, re.MULTILINE)\n",
    "print(len(match))"
   ]
  },
  {
   "cell_type": "code",
   "execution_count": 218,
   "id": "69f83e7f",
   "metadata": {},
   "outputs": [
    {
     "name": "stdout",
     "output_type": "stream",
     "text": [
      "0\n"
     ]
    }
   ],
   "source": [
    "# 2) How many paragraphs end with a question mark?\n",
    "pattern = r'TBD'\n",
    "input_string = '''\n",
    "Don't you know RE is very interesting?\n",
    "\n",
    "I like RE because it is very useful.\n",
    "\n",
    "Are you able to solve this question?\n",
    "'''\n",
    "match = re.findall(pattern, input_string, re.MULTILINE)\n",
    "print(len(match))"
   ]
  },
  {
   "cell_type": "code",
   "execution_count": 237,
   "id": "c6fd68c7",
   "metadata": {},
   "outputs": [
    {
     "data": {
      "text/plain": [
       "[]"
      ]
     },
     "execution_count": 237,
     "metadata": {},
     "output_type": "execute_result"
    }
   ],
   "source": [
    "# 3) Match all words with exactly 5 letters, including hyphenated words.\n",
    "pattern = r'TBD'\n",
    "input_string = 'These topics are very interesting do-as it test$ supposed to be sure.'\n",
    "match = re.findall(pattern, input_string)\n",
    "match  # Expect ['These', 'do-as']"
   ]
  },
  {
   "cell_type": "markdown",
   "id": "1fbba627",
   "metadata": {},
   "source": [
    "<a id='sect2'></a>\n",
    "## <font color='darkblue'>基礎 Python RE 模組使用範例</font> ([back](#sect0))"
   ]
  },
  {
   "cell_type": "markdown",
   "id": "72299bd9",
   "metadata": {},
   "source": [
    "### <font color='darkgreen'>尋找特定規律</font>\n",
    "[**re.match**](https://docs.python.org/3/library/re.html#re.match), [**Pattern.match**](https://docs.python.org/3/library/re.html#re.Pattern.match) 只從文本的最開頭開始尋找特定規律. 如果比對成功返回 [**re.Match**](https://docs.python.org/3/library/re.html#match-objects) object."
   ]
  },
  {
   "cell_type": "code",
   "execution_count": 249,
   "id": "c0c05acd",
   "metadata": {},
   "outputs": [
    {
     "name": "stdout",
     "output_type": "stream",
     "text": [
      "<re.Match object; span=(0, 4), match='John'>\n",
      "None\n"
     ]
    }
   ],
   "source": [
    "pattern = r'John'\n",
    "print(re.match(pattern, 'John is me'))  # Matched\n",
    "print(re.match(pattern, 'I am John'))   # Miss will return None"
   ]
  },
  {
   "cell_type": "markdown",
   "id": "3f42ae21",
   "metadata": {},
   "source": [
    "[**re.search**](https://docs.python.org/3/library/re.html#re.search), [**Pattern.search**](https://docs.python.org/3/library/re.html#re.Pattern.search) 從任意位置尋找特定規律. 如果比對成功返回 [**re.Match**](https://docs.python.org/3/library/re.html#match-objects) 物件."
   ]
  },
  {
   "cell_type": "code",
   "execution_count": 246,
   "id": "6694da8a",
   "metadata": {},
   "outputs": [
    {
     "name": "stdout",
     "output_type": "stream",
     "text": [
      "<re.Match object; span=(0, 4), match='John'>\n",
      "<re.Match object; span=(5, 9), match='John'>\n"
     ]
    }
   ],
   "source": [
    "pattern = r'John'\n",
    "print(re.search(pattern, 'John is me'))  # Matched\n",
    "print(re.search(pattern, 'I am John'))   # Matched"
   ]
  },
  {
   "cell_type": "markdown",
   "id": "792107e4",
   "metadata": {},
   "source": [
    "### <font color='darkgreen'>提取符合規律的文字</font>\n",
    "[**re.findall**](https://docs.python.org/3/library/re.html#re.findall) 回傳符合規律的文字列表:"
   ]
  },
  {
   "cell_type": "code",
   "execution_count": 247,
   "id": "f25afb2d",
   "metadata": {},
   "outputs": [
    {
     "name": "stdout",
     "output_type": "stream",
     "text": [
      "['This', 'very', 'topic']\n"
     ]
    }
   ],
   "source": [
    "pattern = r'\\b\\w{4,5}\\b'\n",
    "print(re.findall(pattern, \"This is a very interesting topic.\"))"
   ]
  },
  {
   "cell_type": "markdown",
   "id": "838b7834",
   "metadata": {},
   "source": [
    "[**re.finditer**](https://docs.python.org/3/library/re.html#re.finditer) 回傳符合規律的 [**re.Match**](https://docs.python.org/3/library/re.html#match-objects) 物件 迭代器:"
   ]
  },
  {
   "cell_type": "code",
   "execution_count": 253,
   "id": "d50e083b",
   "metadata": {},
   "outputs": [
    {
     "name": "stdout",
     "output_type": "stream",
     "text": [
      "This\n",
      "very\n",
      "topic\n"
     ]
    }
   ],
   "source": [
    "pattern = r'\\b\\w{4,5}\\b'\n",
    "for matched_result in re.finditer(pattern, \"This is a very interesting topic.\"):\n",
    "    print(matched_result.group(0))"
   ]
  },
  {
   "cell_type": "markdown",
   "id": "98515bcb",
   "metadata": {},
   "source": [
    "### <font color='darkgreen'>修改文本</font>\n",
    "[**re.split**](https://docs.python.org/3/library/re.html#re.split), [**Pattern.split**](https://docs.python.org/3/library/re.html#re.Pattern.split) 根據條件分割文本:"
   ]
  },
  {
   "cell_type": "code",
   "execution_count": 254,
   "id": "02c2863c",
   "metadata": {},
   "outputs": [
    {
     "data": {
      "text/plain": [
       "['Words', 'words', 'words', '']"
      ]
     },
     "execution_count": 254,
     "metadata": {},
     "output_type": "execute_result"
    }
   ],
   "source": [
    "re.split(r'\\W+', 'Words, words, words.')"
   ]
  },
  {
   "cell_type": "code",
   "execution_count": 256,
   "id": "c935a54d",
   "metadata": {},
   "outputs": [
    {
     "data": {
      "text/plain": [
       "['Words', ', ', 'words', ', ', 'words', '.', '']"
      ]
     },
     "execution_count": 256,
     "metadata": {},
     "output_type": "execute_result"
    }
   ],
   "source": [
    "# 保留分割條件\n",
    "re.split(r'(\\W+)', 'Words, words, words.')"
   ]
  },
  {
   "cell_type": "code",
   "execution_count": 258,
   "id": "99c4aeb5",
   "metadata": {},
   "outputs": [
    {
     "data": {
      "text/plain": [
       "['0', '3', '9']"
      ]
     },
     "execution_count": 258,
     "metadata": {},
     "output_type": "execute_result"
    }
   ],
   "source": [
    "# re.IGNORECASE 用來忽略大小寫\n",
    "re.split('[a-f]+', '0a3B9', flags=re.IGNORECASE)"
   ]
  },
  {
   "cell_type": "markdown",
   "id": "62f84a57",
   "metadata": {},
   "source": [
    "[**re.sub**](https://docs.python.org/3/library/re.html#re.sub), [**Pattern.sub**](https://docs.python.org/3/library/re.html#re.Pattern.sub) 根據條件替代文字:"
   ]
  },
  {
   "cell_type": "code",
   "execution_count": 262,
   "id": "5377bc48",
   "metadata": {},
   "outputs": [
    {
     "data": {
      "text/plain": [
       "'John movies.'"
      ]
     },
     "execution_count": 262,
     "metadata": {},
     "output_type": "execute_result"
    }
   ],
   "source": [
    "re.sub(r\"likes \\b(\\w+)\\b\", \"movies\", 'John likes coding.')"
   ]
  },
  {
   "cell_type": "code",
   "execution_count": 263,
   "id": "15bf82fb",
   "metadata": {},
   "outputs": [
    {
     "data": {
      "text/plain": [
       "'Baked Beans & Spam'"
      ]
     },
     "execution_count": 263,
     "metadata": {},
     "output_type": "execute_result"
    }
   ],
   "source": [
    "re.sub(r'\\sAND\\s', ' & ', 'Baked Beans And Spam', flags=re.IGNORECASE)"
   ]
  },
  {
   "cell_type": "code",
   "execution_count": 265,
   "id": "23517fc1",
   "metadata": {},
   "outputs": [
    {
     "data": {
      "text/plain": [
       "'Ken and Jane are good friends!'"
      ]
     },
     "execution_count": 265,
     "metadata": {},
     "output_type": "execute_result"
    }
   ],
   "source": [
    "def name_replace(mth):\n",
    "    if mth.group(0) == 'Bob':\n",
    "        return 'Ken'\n",
    "    elif mth.group(0) == 'Mary':\n",
    "        return 'Jane'\n",
    "    else:\n",
    "        return '?'\n",
    "    \n",
    "re.sub(r'Bob|Mary', name_replace, 'Bob and Mary are good friends!')"
   ]
  },
  {
   "cell_type": "markdown",
   "id": "9e060f7d",
   "metadata": {},
   "source": [
    "### <font color='darkgreen'>group 與 match 物件</font>\n",
    "當使用 match 或是 search 時，會回傳一個 [**match**](https://docs.python.org/3/library/re.html#match-objects) 物件，同時會存下比對到的 group，可以使用 [match.group](https://docs.python.org/3/library/re.html#re.Match.group) 方法去取出比對到的 group(s)。"
   ]
  },
  {
   "cell_type": "code",
   "execution_count": 275,
   "id": "dd6302ac",
   "metadata": {},
   "outputs": [
    {
     "name": "stdout",
     "output_type": "stream",
     "text": [
      "account=abc; email=abc@test.com\n",
      "account=petter.lee; email=petter.lee@cafe.com\n"
     ]
    }
   ],
   "source": [
    "# https://html.spec.whatwg.org/multipage/forms.html#valid-e-mail-address\n",
    "email_pattern = r'\\b([a-zA-Z0-9.!#$%&\\'*+/=?^_`{|}~-]+)@[a-zA-Z0-9](?:[a-zA-Z0-9-]{0,61}[a-zA-Z0-9])?(?:\\.[a-zA-Z0-9](?:[a-zA-Z0-9-]{0,61}[a-zA-Z0-9])?)*\\b'\n",
    "\n",
    "input_string = 'My email address is abc@test.com and his address is petter.lee@cafe.com'\n",
    "for email_matcher in re.finditer(email_pattern, input_string):\n",
    "    print(f'account={email_matcher.group(1)}; email={email_matcher.group(0)}')"
   ]
  },
  {
   "cell_type": "markdown",
   "id": "28398bc7",
   "metadata": {},
   "source": [
    "group 可以透過 `(P?<group_name>pattern)` 給定 group 的名稱 ([更多 group 用法介紹](https://realpython.com/regex-python/#other-grouping-constructs)):"
   ]
  },
  {
   "cell_type": "code",
   "execution_count": 295,
   "id": "5b402674",
   "metadata": {},
   "outputs": [
    {
     "name": "stdout",
     "output_type": "stream",
     "text": [
      "File=img1_regex101.PNG with size=112K\n",
      "File=img2_shorthand_character_sets.PNG with size=169K\n",
      "File=img3_greedy_ex.PNG with size=17K\n"
     ]
    }
   ],
   "source": [
    "ls_pattern = r'(?P<attributes>[rwe-]{10})\\W' \\\n",
    "    r'(?P<filecount>\\d+)\\W+' \\\n",
    "    r'(?P<user>[a-zA-Z]+)\\W+' \\\n",
    "    r'(?P<group>[a-zA-Z]+)\\W+' \\\n",
    "    r'(?P<filesize>\\d+[KMG]?)\\W+' \\\n",
    "    r'(?P<month>[A-Za-z]{3})\\W+' \\\n",
    "    r'(?P<day>[0-9]{2})\\W+' \\\n",
    "    r'(?P<time>[0-9]{2}:[0-9]{2})\\W+' \\\n",
    "    r'(?P<filename>.+)'\n",
    "    \n",
    "input_string='''\n",
    "root@ubuntu# ls -hl\n",
    "total 304K\n",
    "-rw-r--r-- 1 root root 112K Feb 19 17:28 img1_regex101.PNG\n",
    "-rw-r--r-- 1 root root 169K Feb 20 10:00 img2_shorthand_character_sets.PNG\n",
    "-rw-r--r-- 1 root root  17K Feb 20 13:45 img3_greedy_ex.PNG\n",
    "'''\n",
    "for matcher in re.finditer(ls_pattern, input_string):\n",
    "    print(f\"File={matcher.group('filename')} with size={matcher.group('filesize')}\")\n",
    "    #print(matcher)"
   ]
  },
  {
   "cell_type": "markdown",
   "id": "a0e4c73b",
   "metadata": {},
   "source": [
    "<a id='sect3'></a>\n",
    "## <font color='darkblue'>練習題</font> ([back](#sect0))"
   ]
  },
  {
   "cell_type": "markdown",
   "id": "dc41e755",
   "metadata": {},
   "source": [
    "## <font color='darkblue'>Supplement</font>\n",
    "* [Google for Education - Python Regular Expressions](https://developers.google.com/edu/python/regular-expressions)\n",
    "* [Python 正則表達式 – re模組與正則表示式語法介紹](https://pyecontech.com/2021/10/22/python-%E6%AD%A3%E5%89%87%E8%A1%A8%E9%81%94%E5%BC%8F-re%E6%A8%A1%E7%B5%84%E8%88%87%E6%AD%A3%E5%89%87%E8%A1%A8%E7%A4%BA%E5%BC%8F%E8%AA%9E%E6%B3%95%E4%BB%8B%E7%B4%B9/)\n",
    "* [給自己的Python小筆記 — 強大的數據處理工具 — 正則表達式 — Regular Expression — regex詳細教學](https://chwang12341.medium.com/%E7%B5%A6%E8%87%AA%E5%B7%B1%E7%9A%84python%E5%B0%8F%E7%AD%86%E8%A8%98-%E5%BC%B7%E5%A4%A7%E7%9A%84%E6%95%B8%E6%93%9A%E8%99%95%E7%90%86%E5%B7%A5%E5%85%B7-%E6%AD%A3%E5%89%87%E8%A1%A8%E9%81%94%E5%BC%8F-regular-expression-regex%E8%A9%B3%E7%B4%B0%E6%95%99%E5%AD%B8-a5d20341a0b2)\n",
    "* [InLearing - Learning Regular Expressions](https://www.linkedin.com/learning/learning-regular-expressions-2/what-are-regular-expressions?autoAdvance=true&autoSkip=false&autoplay=true&resume=false&u=56685617)\n",
    "* [RealPython - Regular Expressions: Regexes in Python (Part 1)](https://realpython.com/regex-python/)"
   ]
  }
 ],
 "metadata": {
  "kernelspec": {
   "display_name": "Python 3 (ipykernel)",
   "language": "python",
   "name": "python3"
  },
  "language_info": {
   "codemirror_mode": {
    "name": "ipython",
    "version": 3
   },
   "file_extension": ".py",
   "mimetype": "text/x-python",
   "name": "python",
   "nbconvert_exporter": "python",
   "pygments_lexer": "ipython3",
   "version": "3.8.10"
  }
 },
 "nbformat": 4,
 "nbformat_minor": 5
}
