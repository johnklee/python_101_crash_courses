{
 "cells": [
  {
   "cell_type": "markdown",
   "id": "a37a0149",
   "metadata": {},
   "source": [
    "## <font color='darkblue'>Preface</font>\n",
    "A code snippet explains thousands of words. Here we are going to use a few examples to explain topics covering Python packages [**threading**](https://docs.python.org/3/library/threading.html) and [**asyncio**](https://docs.python.org/3/library/asyncio.html). We won't go into details such as specific user cases or delicate API usages. On the contrary, a simple life situation will be used as a metaphor to explain the usage of those two similar concepts.\n",
    "\n",
    "Now let's consider the situation that you have below tasks to handle:\n",
    "* Cook breakfast (2s)\n",
    "* Wash clothes (5s)\n",
    "* Do house chores (3s)\n",
    "* Take out the trash (1s)\n",
    "\n",
    "Those tasks are defined below:"
   ]
  },
  {
   "cell_type": "code",
   "execution_count": 58,
   "id": "cf758ac6",
   "metadata": {},
   "outputs": [],
   "source": [
    "from codetiming import Timer\n",
    "import concurrent.futures\n",
    "import logging\n",
    "import threading\n",
    "import time\n",
    "import queue\n",
    "\n",
    "\n",
    "format = \"%(asctime)s: %(message)s\"\n",
    "logging.basicConfig(\n",
    "    format=format, level=logging.INFO, datefmt=\"%H:%M:%S\")\n",
    "\n",
    "class Task:\n",
    "  def __init__(self, task_name: str, time_sec: int):\n",
    "    self._name = task_name\n",
    "    self._time_sec = time_sec\n",
    "    \n",
    "  @property\n",
    "  def name(self):\n",
    "    return self._name\n",
    "\n",
    "  def do(self):\n",
    "    logging.info('Start task %s', self._name)\n",
    "    time.sleep(self._time_sec)\n",
    "    logging.info('End task %s', self._name)\n",
    "    \n",
    "    \n",
    "cook_breakfast_task = Task('Cook breakfast', 2)\n",
    "wash_clothes_task = Task('Wash clothes', 5)\n",
    "do_house_chores_task = Task('Wash clothes', 3)\n",
    "take_output_the_trash_task = Task('Wash clothes', 1)\n",
    "all_tasks = [\n",
    "  cook_breakfast_task, wash_clothes_task,\n",
    "  do_house_chores_task, take_output_the_trash_task]"
   ]
  },
  {
   "cell_type": "markdown",
   "id": "080b5576",
   "metadata": {},
   "source": [
    "<a id='sect0'></a>\n",
    "### <font color='darkgreen'>Agenda</font>\n",
    "* <font size='3ptx'><b><a href='#sect1'>Synchronous programming</a></b></font>\n",
    "* <font size='3ptx'><b><a href='#sect2'>Multi-threads programming</a></b></font>\n",
    "* <font size='3ptx'><b><a href='#sect3'>Async Programming</a></b></font>"
   ]
  },
  {
   "cell_type": "markdown",
   "id": "d75b6bb5",
   "metadata": {},
   "source": [
    "<a id='sect1'></a>\n",
    "## <font color='darkblue'>Synchronous programming</font> ([back](#sect0))\n",
    "If you are alone and do them one by one, how much time do you need to complete all tasks? Let's find out below:"
   ]
  },
  {
   "cell_type": "code",
   "execution_count": 48,
   "id": "c326d80c",
   "metadata": {},
   "outputs": [
    {
     "name": "stderr",
     "output_type": "stream",
     "text": [
      "20:26:40: Start task Cook breakfast\n",
      "20:26:42: End task Cook breakfast\n",
      "20:26:42: Start task Wash clothes\n",
      "20:26:47: End task Wash clothes\n",
      "20:26:47: Start task Wash clothes\n",
      "20:26:50: End task Wash clothes\n",
      "20:26:50: Start task Wash clothes\n",
      "20:26:51: End task Wash clothes\n"
     ]
    },
    {
     "name": "stdout",
     "output_type": "stream",
     "text": [
      "11.0s\n"
     ]
    }
   ],
   "source": [
    "st = time.perf_counter()\n",
    "\n",
    "# Iterate the tasks and handle them one by one\n",
    "for task in all_tasks:\n",
    "  task.do()\n",
    "  \n",
    "print(f'{time.perf_counter() - st:.01f}s')"
   ]
  },
  {
   "cell_type": "markdown",
   "id": "4b0fcfa2",
   "metadata": {},
   "source": [
    "No doubt. It took 11 seconds!"
   ]
  },
  {
   "cell_type": "markdown",
   "id": "2ec7fca6",
   "metadata": {},
   "source": [
    "<a id='sect2'></a>\n",
    "## <font color='darkblue'>Multi-threads programming</font> ([back](#sect0))\n",
    "Think about if we could have more than one person to do the task. How could we achieve that? In Python, package [**threading**](https://docs.python.org/3/library/threading.html#) is one solution for that goal. There are a few ways to implement multi-threads programming. Here we will take a look at two common practices: "
   ]
  },
  {
   "cell_type": "markdown",
   "id": "fe874eb6",
   "metadata": {},
   "source": [
    "### <font color='darkgreen'>threading.Thread</font>\n",
    "The [**Thread**](https://docs.python.org/3/library/threading.html#thread-objects) class represents an activity that is to run in a separate thread of control. Here we define two threads (people) to do the tasks:"
   ]
  },
  {
   "cell_type": "code",
   "execution_count": 55,
   "id": "95f94028",
   "metadata": {},
   "outputs": [],
   "source": [
    "# 0) Put tasks into the queue\n",
    "task_queues = queue.Queue()\n",
    "_ = [task_queues.put(task) for task in all_tasks]\n",
    "\n",
    "# 1) Define function to tacke tasaks\n",
    "def handle_tasks(worker_name: str, task_queues: queue.Queue):\n",
    "  logging.info('%s start working', worker_name)\n",
    "  while task_queues:\n",
    "    try:\n",
    "      next_task = task_queues.get(False)\n",
    "      next_task.do()\n",
    "    except Exception as ex:\n",
    "      # When task_queues is empty, Empty exception will be thrown.\n",
    "      break\n",
    "    \n",
    "  logging.info('%s stop working', worker_name)"
   ]
  },
  {
   "cell_type": "code",
   "execution_count": 56,
   "id": "4286e0db",
   "metadata": {},
   "outputs": [
    {
     "name": "stderr",
     "output_type": "stream",
     "text": [
      "20:34:40: worker-1 start working\n",
      "20:34:40: Start task Cook breakfast\n",
      "20:34:40: worker-2 start working\n",
      "20:34:40: Start task Wash clothes\n",
      "20:34:42: End task Cook breakfast\n",
      "20:34:42: Start task Wash clothes\n",
      "20:34:45: End task Wash clothes\n",
      "20:34:45: End task Wash clothes\n",
      "20:34:45: Start task Wash clothes\n",
      "20:34:45: worker-1 stop working\n",
      "20:34:46: End task Wash clothes\n",
      "20:34:46: worker-2 stop working\n"
     ]
    },
    {
     "name": "stdout",
     "output_type": "stream",
     "text": [
      "\n",
      "Total elapsed time: 6.0s\n"
     ]
    }
   ],
   "source": [
    "# 2) Initialize and start two threads to handle the tasks\n",
    "with Timer(text=\"\\nTotal elapsed time: {:.1f}s\"):\n",
    "  workers = []\n",
    "  for i in range(2):\n",
    "    worker = threading.Thread(target=handle_tasks, args=(f'worker-{i+1}', task_queues))\n",
    "    worker.start()\n",
    "    workers.append(worker)\n",
    "  \n",
    "  _ = [worker.join() for worker in workers]"
   ]
  },
  {
   "cell_type": "markdown",
   "id": "b079458a",
   "metadata": {},
   "source": [
    "With two people to do the tasks, we could reduce the time spent from 11s to 6s. Isn't it amazing! If we have more workers, could we reduce the time more? "
   ]
  },
  {
   "cell_type": "code",
   "execution_count": 53,
   "id": "c08cde07",
   "metadata": {},
   "outputs": [
    {
     "name": "stderr",
     "output_type": "stream",
     "text": [
      "20:33:51: worker-1 start working\n",
      "20:33:51: worker-2 start working\n",
      "20:33:51: Start task Cook breakfast\n",
      "20:33:51: worker-3 start working\n",
      "20:33:51: Start task Wash clothes\n",
      "20:33:51: Start task Wash clothes\n",
      "20:33:53: End task Cook breakfast\n",
      "20:33:53: Start task Wash clothes\n",
      "20:33:54: End task Wash clothes\n",
      "20:33:54: worker-3 stop working\n",
      "20:33:54: End task Wash clothes\n",
      "20:33:54: worker-1 stop working\n",
      "20:33:56: End task Wash clothes\n",
      "20:33:56: worker-2 stop working\n"
     ]
    },
    {
     "name": "stdout",
     "output_type": "stream",
     "text": [
      "\n",
      "Total elapsed time: 5.0s\n"
     ]
    }
   ],
   "source": [
    "# Put tasks into the queue\n",
    "task_queues = queue.Queue()\n",
    "_ = [task_queues.put(task) for task in all_tasks]\n",
    "\n",
    "with Timer(text=\"\\nTotal elapsed time: {:.1f}s\"):\n",
    "  workers = []\n",
    "  for i in range(3):  # Here we have three threads to handle the tasks\n",
    "    worker = threading.Thread(target=handle_tasks, args=(f'worker-{i+1}', task_queues))\n",
    "    worker.start()\n",
    "    workers.append(worker)\n",
    "  \n",
    "  # We call .join to wait for all threads to complete before moving to next line of code.\n",
    "  _ = [worker.join() for worker in workers]"
   ]
  },
  {
   "cell_type": "markdown",
   "id": "a5ce2d77",
   "metadata": {},
   "source": [
    "Yes, we could reduce the time slightly from 6s to 5s. No more because that's limitation. (Thinking about we do all tasks at same time, the minimum time we need is `max(task time1, task time2, ...) = max(5, 3, 2, 1) = 5`)"
   ]
  },
  {
   "cell_type": "markdown",
   "id": "01e1c3ad",
   "metadata": {},
   "source": [
    "### <font color='darkgreen'>ThreadPoolExecutor</font>\n",
    "Another convenient way to define multiple threads is by using [**ThreadPoolExecutor**](https://docs.python.org/3/library/concurrent.futures.html#threadpoolexecutor) in package [**concurrent.futures**](https://docs.python.org/3/library/concurrent.futures.html#):"
   ]
  },
  {
   "cell_type": "code",
   "execution_count": 57,
   "id": "61414d6c",
   "metadata": {},
   "outputs": [
    {
     "name": "stderr",
     "output_type": "stream",
     "text": [
      "20:37:51: worker-0 start working\n",
      "20:37:51: Start task Cook breakfast\n",
      "20:37:51: worker-1 start working\n",
      "20:37:51: worker-2 start working\n",
      "20:37:51: Start task Wash clothes\n",
      "20:37:51: Start task Wash clothes\n",
      "20:37:53: End task Cook breakfast\n",
      "20:37:53: Start task Wash clothes\n",
      "20:37:54: End task Wash clothes\n",
      "20:37:54: End task Wash clothes\n",
      "20:37:54: worker-0 stop working\n",
      "20:37:54: worker-2 stop working\n",
      "20:37:56: End task Wash clothes\n",
      "20:37:56: worker-1 stop working\n"
     ]
    },
    {
     "name": "stdout",
     "output_type": "stream",
     "text": [
      "\n",
      "Total elapsed time: 5.0s\n"
     ]
    }
   ],
   "source": [
    "# Put tasks into the queue\n",
    "task_queues = queue.Queue()\n",
    "_ = [task_queues.put(task) for task in all_tasks]\n",
    "num_worker = 3\n",
    "\n",
    "with Timer(text=\"\\nTotal elapsed time: {:.1f}s\"):\n",
    "  with concurrent.futures.ThreadPoolExecutor(max_workers=num_worker) as executor:\n",
    "    for i in range(num_worker):\n",
    "      executor.submit(handle_tasks, f'worker-{i}', task_queues)"
   ]
  },
  {
   "cell_type": "markdown",
   "id": "9874846f",
   "metadata": {},
   "source": [
    "<a id='sect3'></a>\n",
    "## <font color='darkblue'>Async Programming</font> ([back](#sect0))\n",
    "What if we don't need to wait for the task to be done and can do other tasks simultaneously while waiting?  Then the Python package  [**asyncio**](https://docs.python.org/3/library/asyncio.html) could come into handy in this situation. One thing to pay attention here is that [**asyncio**](https://docs.python.org/3/library/asyncio.html) is running in only one thread."
   ]
  },
  {
   "cell_type": "code",
   "execution_count": 43,
   "id": "e0272880",
   "metadata": {},
   "outputs": [],
   "source": [
    "import asyncio"
   ]
  },
  {
   "cell_type": "markdown",
   "id": "045c57ec",
   "metadata": {},
   "source": [
    "In order for our task class to work in package [**asyncio**](https://docs.python.org/3/library/asyncio.html), we have to refactor it and make method `do` async:\n",
    "```python\n",
    "class AsyncTask:\n",
    "  def __init__(self, task_name: str, time_sec: int):\n",
    "    self._name = task_name\n",
    "    self._time_sec = time_sec\n",
    "\n",
    "  async def do(self):  # Prefix `async` is required to work in package asyncio\n",
    "    logging.info('Start task %s', self._name)\n",
    "    await asyncio.sleep(self._time_sec)  # await is the blocking code symbol in package asyncio\n",
    "    logging.info('End task %s', self._name)\n",
    "    \n",
    "    \n",
    "cook_breakfast_task = AsyncTask('Cook breakfast', 2)\n",
    "wash_clothes_task = AsyncTask('Wash clothes', 5)\n",
    "do_house_chores_task = AsyncTask('Wash clothes', 3)\n",
    "take_output_the_trash_task = AsyncTask('Wash clothes', 1)\n",
    "all_async_tasks = [\n",
    "    cook_breakfast_task,\n",
    "    wash_clothes_task,\n",
    "    do_house_chores_task,\n",
    "    take_output_the_trash_task]\n",
    "\n",
    "```\n",
    "\n",
    "Here we add prefix `async` in front of method `do` and replace `time.sleep` with `asyncio.sleep`. \n",
    "\n",
    "Same actions are required to refactor the function `handle_tasks`:\n",
    "```python\n",
    "async def handle_tasks(task_queue, name):\n",
    "  timer = Timer(text=f\"Task {name} elapsed time: {{:.1f}}\")\n",
    "  while not task_queue.empty():\n",
    "    try:\n",
    "      task = task_queue.get()\n",
    "    except:\n",
    "      break\n",
    "    timer.start()\n",
    "    await task.do()\n",
    "    timer.stop()\n",
    "```\n",
    "\n",
    "Finally, we have to trigger the execution of async code explicitly. Check codes below:\n",
    "```python\n",
    "async def main():\n",
    "  \"\"\"\n",
    "  This is the main entry point for the program\n",
    "  \"\"\"\n",
    "\n",
    "  task_queue = queue.Queue()\n",
    "  _ = [task_queue.put(task) for task in all_async_tasks]\n",
    "\n",
    "  # Run the tasks\n",
    "  with Timer(text=\"\\nTotal elapsed time: {:.1f}\"):\n",
    "    await asyncio.gather(\n",
    "        handle_tasks(task_queue, 'a1'),\n",
    "        handle_tasks(task_queue, 'a2'),\n",
    "        handle_tasks(task_queue, 'a3'),\n",
    "    )\n",
    "\n",
    "\n",
    "if __name__ == \"__main__\":\n",
    "    asyncio.run(main())  # Trigger the execution of async code\n",
    "```\n",
    "\n",
    "For the full code implementation, please refer to `async_tasks_ex1.py`. Below is the execution example:\n",
    "```shell\n",
    "$ python async_tasks_ex1.py\n",
    "20:16:26: Start task Cook breakfast\n",
    "20:16:26: Start task Wash clothes\n",
    "20:16:26: Start task Wash clothes\n",
    "20:16:28: End task Cook breakfast\n",
    "Task a1 elapsed time: 2.0\n",
    "20:16:28: Start task Wash clothes\n",
    "20:16:29: End task Wash clothes\n",
    "Task a3 elapsed time: 3.0\n",
    "20:16:29: End task Wash clothes\n",
    "Task a1 elapsed time: 1.0\n",
    "20:16:31: End task Wash clothes\n",
    "Task a2 elapsed time: 5.0\n",
    "\n",
    "Total elapsed time: 5.0\n",
    "```"
   ]
  },
  {
   "cell_type": "markdown",
   "id": "b05dc26e",
   "metadata": {},
   "source": [
    "## <font color='darkblue'>Supplement</font>\n",
    "* [Youtube - Python Threading Explained in 8 Minutes](https://www.youtube.com/watch?v=A_Z1lgZLSNc&list=PLyQnbMWK6HUUXvb9HgY_1kJfnWZw28H84&index=1)\n",
    "* [RealPython - An Intro to Threading in Python](https://realpython.com/intro-to-python-threading/)\n",
    "* [RealPython - Getting Started With Async Features in Python](https://realpython.com/python-async-features/)"
   ]
  }
 ],
 "metadata": {
  "kernelspec": {
   "display_name": "Python 3 (ipykernel)",
   "language": "python",
   "name": "python3"
  },
  "language_info": {
   "codemirror_mode": {
    "name": "ipython",
    "version": 3
   },
   "file_extension": ".py",
   "mimetype": "text/x-python",
   "name": "python",
   "nbconvert_exporter": "python",
   "pygments_lexer": "ipython3",
   "version": "3.8.10"
  }
 },
 "nbformat": 4,
 "nbformat_minor": 5
}
