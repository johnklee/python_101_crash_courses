{
 "cells": [
  {
   "cell_type": "markdown",
   "id": "0a0d5cca",
   "metadata": {},
   "source": [
    "## <font color='darkblue'>Preface</font>\n",
    "<font size='3ptx'><b>([article source](https://haosquare.com/python-dataclass/#dataclass_%E8%A7%A3%E6%B1%BA%E7%9A%84%E7%97%9B%E9%BB%9E)) It is always efficient to learn things by examples with context. Here we will going to start from a simple coding example to learn why [datalclasses](https://docs.python.org/3/library/dataclasses.html) is useful and how to use it.</b></font>\n",
    "\n",
    "Let's imagine you are responsible to maintain a function which will return an employee info by input his/her id:"
   ]
  },
  {
   "cell_type": "code",
   "execution_count": 18,
   "id": "bf2d3530",
   "metadata": {},
   "outputs": [],
   "source": [
    "from datetime import datetime\n",
    "\n",
    "UNKNOWN_EMPLOYEE = ('?', '?', 0, datetime.now())\n",
    "\n",
    "employee_info_dict = {\n",
    "    # UID: (Name, Job, Salary, On-boarding date)\n",
    "    1: ('John', 'Developer', 12345, datetime.strptime('2023-03-01', '%Y-%m-%d')),\n",
    "    2: ('Mary', 'Manager', 45000, datetime.strptime('2022-01-12', '%Y-%m-%d')),\n",
    "    3: ('Ken', 'CEO', 999999, datetime.strptime('2021-06-06', '%Y-%m-%d')),\n",
    "}\n",
    "\n",
    "def get_employee(uid: int) -> tuple[str, str, int, datetime]:\n",
    "    return  employee_info_dict.get(uid, UNKNOWN_EMPLOYEE)"
   ]
  },
  {
   "cell_type": "code",
   "execution_count": 19,
   "id": "2fe3bc35",
   "metadata": {},
   "outputs": [
    {
     "data": {
      "text/plain": [
       "('Mary', 'Manager', 45000, datetime.datetime(2022, 1, 12, 0, 0))"
      ]
     },
     "execution_count": 19,
     "metadata": {},
     "output_type": "execute_result"
    }
   ],
   "source": [
    "# Retrieve employee 'Mary'\n",
    "get_employee(2)"
   ]
  },
  {
   "cell_type": "code",
   "execution_count": 20,
   "id": "a23f3f02",
   "metadata": {},
   "outputs": [
    {
     "data": {
      "text/plain": [
       "('?', '?', 0, datetime.datetime(2023, 4, 26, 22, 35, 54, 986183))"
      ]
     },
     "execution_count": 20,
     "metadata": {},
     "output_type": "execute_result"
    }
   ],
   "source": [
    "# Return unknown employee\n",
    "get_employee(99)"
   ]
  },
  {
   "cell_type": "markdown",
   "id": "d15a582c",
   "metadata": {},
   "source": [
    "## <font color='darkblue'>Use Class Employee</font>\n",
    "Using tuple to store employee information is inconvenient to extend and access interested field. Let's we want to add one more field `address` into employee tuple, then you have to rewrite the function `get_employee`:"
   ]
  },
  {
   "cell_type": "code",
   "execution_count": 21,
   "id": "29090df0",
   "metadata": {},
   "outputs": [],
   "source": [
    "UNKNOWN_EMPLOYEE = ('?', '?', 0, datetime.now(), '?')\n",
    "\n",
    "employee_info_dict = {\n",
    "    # UID: (Name, Job, Salary, On board date, Address)\n",
    "    1: ('John', 'Developer', 12345, datetime.strptime('2023-03-01', '%Y-%m-%d'), 'address1'),\n",
    "    2: ('Mary', 'Manager', 45000, datetime.strptime('2022-01-12', '%Y-%m-%d'), 'address2'),\n",
    "    3: ('Ken', 'CEO', 999999, datetime.strptime('2021-06-06', '%Y-%m-%d'), 'address3'),\n",
    "}\n",
    "\n",
    "def get_employee(uid: int) -> tuple[str, str, int, datetime]:\n",
    "    return  employee_info_dict.get(uid, UNKNOWN_EMPLOYEE)"
   ]
  },
  {
   "cell_type": "code",
   "execution_count": 22,
   "id": "54eb033b",
   "metadata": {},
   "outputs": [
    {
     "name": "stdout",
     "output_type": "stream",
     "text": [
      "Address of John is address1\n"
     ]
    }
   ],
   "source": [
    "# Get employee John\n",
    "employee_john = get_employee(1)\n",
    "print(f'Address of John is {employee_john[4]}')  # Use position 4 to access address of employee is lack of readability."
   ]
  },
  {
   "cell_type": "markdown",
   "id": "b0fc591e",
   "metadata": {},
   "source": [
    "So we decide to define a class <b><font color='blue'>Employee</font></b> to represent the employee's oinformation:"
   ]
  },
  {
   "cell_type": "code",
   "execution_count": 23,
   "id": "5af5ab4a",
   "metadata": {},
   "outputs": [],
   "source": [
    "class Employee:\n",
    "    def __init__(self, uid: int, name: str, job: str, salary: int, on_board_date: datetime, address: str):\n",
    "        self.uid = uid\n",
    "        self.name = name\n",
    "        self.job = job\n",
    "        self.salary = salary\n",
    "        self.on_board_date = on_board_date\n",
    "        self.address = address"
   ]
  },
  {
   "cell_type": "markdown",
   "id": "274e07b2",
   "metadata": {},
   "source": [
    "Next, we have to refine `employee_info_dict` by using class <b><font color='blue'>Employee</font></b>:"
   ]
  },
  {
   "cell_type": "code",
   "execution_count": 24,
   "id": "24608cab",
   "metadata": {},
   "outputs": [],
   "source": [
    "UNKNOWN_EMPLOYEE = Employee(-1, '?', '?', -1, datetime.now(), '?')\n",
    "\n",
    "employee_info_dict = {\n",
    "    # UID: (Name, Job, Salary, On board date, Address)\n",
    "    1: Employee(1, 'John', 'Developer', 12345, datetime.strptime('2023-03-01', '%Y-%m-%d'), 'address1'),\n",
    "    2: Employee(2, 'Mary', 'Manager', 45000, datetime.strptime('2022-01-12', '%Y-%m-%d'), 'address2'),\n",
    "    3: Employee(3, 'Ken', 'CEO', 999999, datetime.strptime('2021-06-06', '%Y-%m-%d'), 'address3'),\n",
    "}\n",
    "\n",
    "def get_employee(uid: int) -> Employee:\n",
    "    return  employee_info_dict.get(uid, UNKNOWN_EMPLOYEE)"
   ]
  },
  {
   "cell_type": "code",
   "execution_count": 25,
   "id": "420657e2",
   "metadata": {},
   "outputs": [
    {
     "name": "stdout",
     "output_type": "stream",
     "text": [
      "Ken lives in address3\n"
     ]
    }
   ],
   "source": [
    "# Get employee Key\n",
    "employee_ken = get_employee(3)\n",
    "\n",
    "# Now we could access the data of employee in a better way\n",
    "print(f'{employee_ken.name} lives in {employee_ken.address}')"
   ]
  },
  {
   "cell_type": "code",
   "execution_count": 26,
   "id": "528c45aa",
   "metadata": {},
   "outputs": [
    {
     "data": {
      "text/plain": [
       "<__main__.Employee at 0x7f066c70d6a0>"
      ]
     },
     "execution_count": 26,
     "metadata": {},
     "output_type": "execute_result"
    }
   ],
   "source": [
    "# What if we print the employee object?\n",
    "employee_ken"
   ]
  },
  {
   "cell_type": "markdown",
   "id": "99e02cd2",
   "metadata": {},
   "source": [
    "It is not easy to intrepret the information by printing the <b><font color='blue'>Employee</font></b> object directly. Let's implement methods `__repr__` and `__str__` to print useful employee information for better readability:"
   ]
  },
  {
   "cell_type": "code",
   "execution_count": 27,
   "id": "03f61547",
   "metadata": {},
   "outputs": [],
   "source": [
    "class Employee:\n",
    "    def __init__(self, uid: int, name: str, job: str, salary: int, on_board_date: datetime, address: str):\n",
    "        self.uid = uid\n",
    "        self.name = name\n",
    "        self.job = job\n",
    "        self.salary = salary\n",
    "        self.on_board_date = on_board_date\n",
    "        self.address = address\n",
    "        \n",
    "    def __str__(self):\n",
    "        return self.__repr__()\n",
    "    \n",
    "    def __repr__(self):\n",
    "        return f'Employee: name={self.name}; job={self.job}; onboarding date={self.on_board_date}'"
   ]
  },
  {
   "cell_type": "code",
   "execution_count": 28,
   "id": "eadf1b17",
   "metadata": {},
   "outputs": [],
   "source": [
    "UNKNOWN_EMPLOYEE = Employee(-1, '?', '?', -1, datetime.now(), '?')\n",
    "\n",
    "employee_info_dict = {\n",
    "    # UID: (Name, Job, Salary, On board date, Address)\n",
    "    1: Employee(1, 'John', 'Developer', 12345, datetime.strptime('2023-03-01', '%Y-%m-%d'), 'address1'),\n",
    "    2: Employee(2, 'Mary', 'Manager', 45000, datetime.strptime('2022-01-12', '%Y-%m-%d'), 'address2'),\n",
    "    3: Employee(3, 'Ken', 'CEO', 999999, datetime.strptime('2021-06-06', '%Y-%m-%d'), 'address3'),\n",
    "}"
   ]
  },
  {
   "cell_type": "code",
   "execution_count": 29,
   "id": "e8094f76",
   "metadata": {},
   "outputs": [
    {
     "data": {
      "text/plain": [
       "Employee: name=Ken; job=CEO; onboarding date=2021-06-06 00:00:00"
      ]
     },
     "execution_count": 29,
     "metadata": {},
     "output_type": "execute_result"
    }
   ],
   "source": [
    "# We could have more meanful message in printing the employee object now:\n",
    "get_employee(3)"
   ]
  },
  {
   "cell_type": "markdown",
   "id": "4a1550d3",
   "metadata": {},
   "source": [
    "For somehow, if you want the prevent the object from being edited on fields, we need extra work to achieve that:"
   ]
  },
  {
   "cell_type": "code",
   "execution_count": 33,
   "id": "e8405bbf",
   "metadata": {},
   "outputs": [
    {
     "name": "stdout",
     "output_type": "stream",
     "text": [
      "Before editing: Employee: name=Kenny; job=CEO; onboarding date=2021-06-06 00:00:00\n",
      "After editing: Employee: name=AAA; job=CEO; onboarding date=2021-06-06 00:00:00\n"
     ]
    }
   ],
   "source": [
    "employee = get_employee(3)\n",
    "print(f'Before editing: {employee}')\n",
    "employee.name = 'AAA'\n",
    "print(f'After editing: {employee}')"
   ]
  },
  {
   "cell_type": "code",
   "execution_count": 34,
   "id": "642f47de",
   "metadata": {},
   "outputs": [
    {
     "data": {
      "text/plain": [
       "Employee: name=AAA; job=CEO; onboarding date=2021-06-06 00:00:00"
      ]
     },
     "execution_count": 34,
     "metadata": {},
     "output_type": "execute_result"
    }
   ],
   "source": [
    "get_employee(3)"
   ]
  },
  {
   "cell_type": "markdown",
   "id": "165e3159",
   "metadata": {},
   "source": [
    "Now let's rewrite class <b><font color='blue'>Employee</font></b> to make it uneditable:"
   ]
  },
  {
   "cell_type": "code",
   "execution_count": 35,
   "id": "c7ab56d9",
   "metadata": {},
   "outputs": [],
   "source": [
    "class Employee:\n",
    "    def __init__(self, uid: int, name: str, job: str, salary: int, on_board_date: datetime, address: str):\n",
    "        self._uid = uid\n",
    "        self._name = name\n",
    "        self._job = job\n",
    "        self._salary = salary\n",
    "        self._on_board_date = on_board_date\n",
    "        self._address = address\n",
    "        \n",
    "    @property\n",
    "    def uid(self):\n",
    "        return self._uid\n",
    "    \n",
    "    @property\n",
    "    def name(self):\n",
    "        return self._name\n",
    "    \n",
    "    @property\n",
    "    def job(self):\n",
    "        return self._job\n",
    "    \n",
    "    @property\n",
    "    def salary(self):\n",
    "        return self._salary\n",
    "    \n",
    "    @property\n",
    "    def on_board_date(self):\n",
    "        return self._on_board_date\n",
    "    \n",
    "    @property\n",
    "    def address(self):\n",
    "        return self._address\n",
    "        \n",
    "    def __str__(self):\n",
    "        return self.__repr__()\n",
    "    \n",
    "    def __repr__(self):\n",
    "        return f'Employee: name={self.name}; job={self.job}; on board date={self.on_board_date}'"
   ]
  },
  {
   "cell_type": "code",
   "execution_count": 36,
   "id": "9231068c",
   "metadata": {},
   "outputs": [],
   "source": [
    "UNKNOWN_EMPLOYEE = Employee(-1, '?', '?', -1, datetime.now(), '?')\n",
    "\n",
    "employee_info_dict = {\n",
    "    # UID: (Name, Job, Salary, On board date, Address)\n",
    "    1: Employee(1, 'John', 'Developer', 12345, datetime.strptime('2023-03-01', '%Y-%m-%d'), 'address1'),\n",
    "    2: Employee(2, 'Mary', 'Manager', 45000, datetime.strptime('2022-01-12', '%Y-%m-%d'), 'address2'),\n",
    "    3: Employee(3, 'Ken', 'CEO', 999999, datetime.strptime('2021-06-06', '%Y-%m-%d'), 'address3'),\n",
    "}"
   ]
  },
  {
   "cell_type": "code",
   "execution_count": 37,
   "id": "f7a479b9",
   "metadata": {},
   "outputs": [
    {
     "name": "stdout",
     "output_type": "stream",
     "text": [
      "Employee: name=Ken; job=CEO; on board date=2021-06-06 00:00:00\n"
     ]
    }
   ],
   "source": [
    "employee = get_employee(3)\n",
    "print(employee)"
   ]
  },
  {
   "cell_type": "code",
   "execution_count": 38,
   "id": "45a91682",
   "metadata": {},
   "outputs": [
    {
     "data": {
      "text/plain": [
       "'Ken'"
      ]
     },
     "execution_count": 38,
     "metadata": {},
     "output_type": "execute_result"
    }
   ],
   "source": [
    "employee.name"
   ]
  },
  {
   "cell_type": "code",
   "execution_count": 39,
   "id": "fceb954d",
   "metadata": {},
   "outputs": [
    {
     "ename": "AttributeError",
     "evalue": "can't set attribute",
     "output_type": "error",
     "traceback": [
      "\u001b[0;31m---------------------------------------------------------------------------\u001b[0m",
      "\u001b[0;31mAttributeError\u001b[0m                            Traceback (most recent call last)",
      "\u001b[0;32m/tmp/ipykernel_231513/3225259759.py\u001b[0m in \u001b[0;36m<module>\u001b[0;34m\u001b[0m\n\u001b[1;32m      1\u001b[0m \u001b[0;31m# AttributeError: can't set attribute 'name'\u001b[0m\u001b[0;34m\u001b[0m\u001b[0;34m\u001b[0m\u001b[0;34m\u001b[0m\u001b[0m\n\u001b[0;32m----> 2\u001b[0;31m \u001b[0memployee\u001b[0m\u001b[0;34m.\u001b[0m\u001b[0mname\u001b[0m \u001b[0;34m=\u001b[0m \u001b[0;34m'Kenny'\u001b[0m\u001b[0;34m\u001b[0m\u001b[0;34m\u001b[0m\u001b[0m\n\u001b[0m",
      "\u001b[0;31mAttributeError\u001b[0m: can't set attribute"
     ]
    }
   ],
   "source": [
    "# AttributeError: can't set attribute 'name'\n",
    "# employee.name = 'Kenny'"
   ]
  },
  {
   "cell_type": "markdown",
   "id": "4a76904d",
   "metadata": {},
   "source": [
    "Now let's consider another example, consider we want to do some operations on X-Y plane:"
   ]
  },
  {
   "cell_type": "code",
   "execution_count": 42,
   "id": "e9f9ee44",
   "metadata": {},
   "outputs": [],
   "source": [
    "from __future__ import annotations\n",
    "\n",
    "\n",
    "class XYPos:\n",
    "    def __init__(self, x: int, y: int):\n",
    "        self._x = x\n",
    "        self._y = y\n",
    "        \n",
    "    @property\n",
    "    def x(self) -> int:\n",
    "        return self._x\n",
    "    \n",
    "    @property\n",
    "    def y(self) -> int:\n",
    "        return self._y\n",
    "    \n",
    "    def up(self) -> XYPos:\n",
    "        return XYPos(x=self.x, y=self.y + 1)\n",
    "    \n",
    "    def down(self) -> XYPos:\n",
    "        return XYPos(x=self.x, y=self.y - 1)\n",
    "    \n",
    "    def right(self) -> XYPos:\n",
    "        return XYPos(x=self.x + 1, y=self.y)\n",
    "        \n",
    "    def left(self) -> XYPos:\n",
    "        return XYPos(x=self.x - 1, y=self.y)\n",
    "    \n",
    "    def __str__(self):\n",
    "        return f'Pos(x={self.x}, y={self.y})'\n",
    "    \n",
    "    def __repr__(self):\n",
    "        return self.__str__()\n",
    "    \n",
    "    \n",
    "ORIGIN = XYPos(0, 0)"
   ]
  },
  {
   "cell_type": "code",
   "execution_count": 40,
   "id": "9ec5a4a6",
   "metadata": {},
   "outputs": [
    {
     "name": "stdout",
     "output_type": "stream",
     "text": [
      "Pos(x=0, y=1)\n",
      "Pos(x=0, y=-1)\n",
      "Pos(x=-1, y=0)\n",
      "Pos(x=1, y=0)\n"
     ]
    }
   ],
   "source": [
    "print(f'{ORIGIN.up()}')\n",
    "print(f'{ORIGIN.down()}')\n",
    "print(f'{ORIGIN.left()}')\n",
    "print(f'{ORIGIN.right()}')"
   ]
  },
  {
   "cell_type": "markdown",
   "id": "6857decb",
   "metadata": {},
   "source": [
    "So we expect `ORIGIN.up().down()` to be `ORIGIN`. But..."
   ]
  },
  {
   "cell_type": "code",
   "execution_count": 43,
   "id": "f1718dc1",
   "metadata": {},
   "outputs": [
    {
     "data": {
      "text/plain": [
       "False"
      ]
     },
     "execution_count": 43,
     "metadata": {},
     "output_type": "execute_result"
    }
   ],
   "source": [
    "ORIGIN.up().down() == ORIGIN"
   ]
  },
  {
   "cell_type": "markdown",
   "id": "53a671ad",
   "metadata": {},
   "source": [
    "For default implementation of method [`__eq__`](https://docs.python.org/3/reference/datamodel.html#object.__eq__) or a class:\n",
    "> By default, object implements \\_\\_eq__() by using **[is](https://docs.python.org/3/library/operator.html#operator.is_)** syntax, returning <font color='blue'><b>NotImplemented</font></b> in the case of a false comparison: `True if x is y else NotImplemented`."
   ]
  },
  {
   "cell_type": "code",
   "execution_count": 44,
   "id": "7dc325fe",
   "metadata": {},
   "outputs": [
    {
     "data": {
      "text/plain": [
       "False"
      ]
     },
     "execution_count": 44,
     "metadata": {},
     "output_type": "execute_result"
    }
   ],
   "source": [
    "ORIGIN.up().down() is ORIGIN"
   ]
  },
  {
   "cell_type": "markdown",
   "id": "47613f4f",
   "metadata": {},
   "source": [
    "So we have to implement [`__eq__`](https://docs.python.org/3/reference/datamodel.html#object.__eq__) by our own to let same position to have same equality."
   ]
  },
  {
   "cell_type": "code",
   "execution_count": 45,
   "id": "97b22e74",
   "metadata": {},
   "outputs": [],
   "source": [
    "from typing import Any, Optional\n",
    "\n",
    "\n",
    "class XYPos:\n",
    "    def __init__(self, x: int, y: int):\n",
    "        self._x = x\n",
    "        self._y = y\n",
    "        \n",
    "    @property\n",
    "    def x(self) -> int:\n",
    "        return self._x\n",
    "    \n",
    "    @property\n",
    "    def y(self) -> int:\n",
    "        return self._y\n",
    "    \n",
    "    def __eq__(self, another_pos: Any) -> bool:\n",
    "        if not isinstance(another_pos, XYPos):\n",
    "            return False\n",
    "        \n",
    "        return another_pos.x == self.x and another_pos.y == self.y\n",
    "    \n",
    "    def up(self) -> XYPos:\n",
    "        return XYPos(x=self.x, y=self.y + 1)\n",
    "    \n",
    "    def down(self) -> XYPos:\n",
    "        return XYPos(x=self.x, y=self.y - 1)\n",
    "    \n",
    "    def right(self) -> XYPos:\n",
    "        return XYPos(x=self.x + 1, y=self.y)\n",
    "        \n",
    "    def left(self) -> XYPos:\n",
    "        return XYPos(x=self.x - 1, y=self.y)\n",
    "    \n",
    "    def __str__(self):\n",
    "        return f'Pos(x={self.x}, y={self.y})'\n",
    "    \n",
    "    def __repr__(self):\n",
    "        return self.__str__()\n",
    "    \n",
    "    \n",
    "ORIGIN = XYPos(0, 0)"
   ]
  },
  {
   "cell_type": "code",
   "execution_count": 46,
   "id": "78594598",
   "metadata": {},
   "outputs": [
    {
     "data": {
      "text/plain": [
       "True"
      ]
     },
     "execution_count": 46,
     "metadata": {},
     "output_type": "execute_result"
    }
   ],
   "source": [
    "# Now we could get what we want:\n",
    "ORIGIN.up().down() == ORIGIN"
   ]
  },
  {
   "cell_type": "markdown",
   "id": "12feb035",
   "metadata": {},
   "source": [
    "## <font color='darkblue'>Using Dataclasses</font>\n",
    "Now let's check how to apply [**dataclasses**](https://docs.python.org/3/library/dataclasses.html) in user case of Employee :\n",
    "> [**dataclasses**](https://docs.python.org/3/library/dataclasses.html) provides a decorator and functions for automatically adding generated [special method](https://docs.python.org/3/glossary.html#term-special-method)s such as [`__init__()`](https://docs.python.org/3/reference/datamodel.html#object.__init__) and [`__repr__()`](https://docs.python.org/3/reference/datamodel.html#object.__repr__) to user-defined classes. It was originally described in [**PEP 557**](https://peps.python.org/pep-0557/)."
   ]
  },
  {
   "cell_type": "code",
   "execution_count": 11,
   "id": "58e9f423",
   "metadata": {},
   "outputs": [],
   "source": [
    "from dataclasses import dataclass, field"
   ]
  },
  {
   "cell_type": "markdown",
   "id": "5d0db879",
   "metadata": {},
   "source": [
    "### <font color='darkgreen'>Employee dataclass</font>"
   ]
  },
  {
   "cell_type": "code",
   "execution_count": 47,
   "id": "812d7b59",
   "metadata": {},
   "outputs": [],
   "source": [
    "@dataclass(frozen=True)\n",
    "class Employee:\n",
    "    uid: int = -1\n",
    "    name: str = '?'\n",
    "    job: str = '?'\n",
    "    salary: int = -1\n",
    "    on_board_date: datetime = field(default_factory=datetime.now)\n",
    "    address: str = '?'"
   ]
  },
  {
   "cell_type": "code",
   "execution_count": 48,
   "id": "6ff0b23d",
   "metadata": {},
   "outputs": [],
   "source": [
    "UNKNOWN_EMPLOYEE = Employee()\n",
    "\n",
    "employee_info_dict = {\n",
    "    1: Employee(1, 'John', 'Developer', 12345, datetime.strptime('2023-03-01', '%Y-%m-%d'), 'address1'),\n",
    "    2: Employee(2, 'Mary', 'Manager', 45000, datetime.strptime('2022-01-12', '%Y-%m-%d'), 'address2'),\n",
    "    3: Employee(3, 'Ken', 'CEO', 999999, datetime.strptime('2021-06-06', '%Y-%m-%d'), 'address3'),\n",
    "}"
   ]
  },
  {
   "cell_type": "code",
   "execution_count": 49,
   "id": "5b4a644c",
   "metadata": {},
   "outputs": [],
   "source": [
    "def get_employee(uid: int) -> Employee:\n",
    "    return  employee_info_dict.get(uid, UNKNOWN_EMPLOYEE)"
   ]
  },
  {
   "cell_type": "markdown",
   "id": "a120d2fc",
   "metadata": {},
   "source": [
    "### <font color='darkgreen'>Meaningful Object Representation</font>"
   ]
  },
  {
   "cell_type": "code",
   "execution_count": 50,
   "id": "b22eb0ea",
   "metadata": {},
   "outputs": [
    {
     "data": {
      "text/plain": [
       "Employee(uid=1, name='John', job='Developer', salary=12345, on_board_date=datetime.datetime(2023, 3, 1, 0, 0), address='address1')"
      ]
     },
     "execution_count": 50,
     "metadata": {},
     "output_type": "execute_result"
    }
   ],
   "source": [
    "get_employee(1)"
   ]
  },
  {
   "cell_type": "markdown",
   "id": "821737e2",
   "metadata": {},
   "source": [
    "### <font color='darkgreen'>Object equality</font>"
   ]
  },
  {
   "cell_type": "code",
   "execution_count": 52,
   "id": "5fd82e8d",
   "metadata": {},
   "outputs": [
    {
     "name": "stdout",
     "output_type": "stream",
     "text": [
      "True\n",
      "False\n"
     ]
    }
   ],
   "source": [
    "print(get_employee(1) == get_employee(1))\n",
    "print(get_employee(1) == UNKNOWN_EMPLOYEE)"
   ]
  },
  {
   "cell_type": "markdown",
   "id": "c363bd07",
   "metadata": {},
   "source": [
    "### <font color='darkgreen'>Frozen object</font>"
   ]
  },
  {
   "cell_type": "code",
   "execution_count": 54,
   "id": "d13f66e7",
   "metadata": {},
   "outputs": [],
   "source": [
    "employee_john = get_employee(1)\n",
    "\n",
    "# FrozenInstanceError: cannot assign to field 'name'\n",
    "# employee_john.name = 'Johny'"
   ]
  },
  {
   "cell_type": "markdown",
   "id": "c2f40c31",
   "metadata": {},
   "source": [
    "## <font color='darkblue'>Supplement</font>\n",
    "* [Medium - 9 Reasons Why You Should Start Using Python Dataclasses](https://towardsdatascience.com/9-reasons-why-you-should-start-using-python-dataclasses-98271adadc66)\n",
    "* [RealPython - Data Classes in Python 3.7+ (Guide)](https://realpython.com/python-data-classes/)"
   ]
  },
  {
   "cell_type": "code",
   "execution_count": null,
   "id": "4434d190",
   "metadata": {},
   "outputs": [],
   "source": []
  }
 ],
 "metadata": {
  "kernelspec": {
   "display_name": "Python 3 (ipykernel)",
   "language": "python",
   "name": "python3"
  },
  "language_info": {
   "codemirror_mode": {
    "name": "ipython",
    "version": 3
   },
   "file_extension": ".py",
   "mimetype": "text/x-python",
   "name": "python",
   "nbconvert_exporter": "python",
   "pygments_lexer": "ipython3",
   "version": "3.8.10"
  }
 },
 "nbformat": 4,
 "nbformat_minor": 5
}
