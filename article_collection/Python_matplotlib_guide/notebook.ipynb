{
 "cells": [
  {
   "cell_type": "markdown",
   "id": "28afba47",
   "metadata": {},
   "source": [
    "## <font color='darkblue'>Preface</font>\n",
    "([course link](https://realpython.com/python-matplotlib-guide/)) <b><font size='3ptx'>A picture is worth a thousand words, and with Python’s [matplotlib](https://matplotlib.org/) library, it fortunately takes far less than a thousand words of code to create a production-quality graphic.</font></b>\n",
    "\n",
    "However, matplotlib is also a massive library, and getting a plot to look just right is often achieved through trial and error. <b>Using one-liners to generate basic plots in matplotlib is fairly simple, but skillfully commanding the remaining 98% of the library can be daunting</b>.\n",
    "\n",
    "<b>This article is a beginner-to-intermediate-level walkthrough on matplotlib that mixes theory with examples</b>. While learning by example can be tremendously insightful, it helps to have even just a surface-level understanding of the library’s inner workings and layout as well.\n",
    "\n",
    "Here’s what we’ll cover:\n",
    "* Pylab and pyplot: which is which?\n",
    "* Key concepts of matplotlib’s design\n",
    "* Understanding `plt.subplots()`\n",
    "* Visualizing arrays with matplotlib\n",
    "* Plotting with the pandas + matplotlib combination"
   ]
  },
  {
   "cell_type": "markdown",
   "id": "bbc19eab",
   "metadata": {},
   "source": [
    "<a id='sect0'></a>\n",
    "### <font color='darkgreen'>Agenda</font>\n",
    "* <b><font size='3ptx'><a href='#sect1'>Why Can Matplotlib Be Confusing?</a></font></b>\n",
    "* <b><font size='3ptx'><a href='#sect2'>Pylab: What Is It, and Should I Use It?</a></font></b>\n",
    "* <b><font size='3ptx'><a href='#sect3'>The Matplotlib Object Hierarchy</a></font></b>\n",
    "* <b><font size='3ptx'><a href='#sect4'>Stateful Versus Stateless Approaches</a></font></b> \n",
    "* <b><font size='3ptx'><a href='#sect5'>Understanding `plt.subplots()` Notation</a></font></b>\n",
    "* <b><font size='3ptx'><a href='#sect6'>The “Figures” Behind The Scenes</a></font></b>\n",
    "* <b><font size='3ptx'><a href='#sect7'>A Burst of Color: `imshow()` and `matshow()`</a></font></b>\n",
    "* <b><font size='3ptx'><a href='#sect8'>Plotting in Pandas</a></font></b>\n",
    "* <b><font size='3ptx'><a href='#sect9'>Wrapping Up</a></font></b>"
   ]
  },
  {
   "cell_type": "markdown",
   "id": "fb3feb76",
   "metadata": {},
   "source": [
    "<a id='sect1'></a>\n",
    "## <font color='darkblue'>Why Can Matplotlib Be Confusing?</font>\n",
    "Learning matplotlib can be a frustrating process at times. The problem is not that matplotlib’s documentation is lacking: the documentation is actually extensive. But the following issues can cause some challenges:\n",
    "* The library itself is huge, at something like 70,000 total lines of code.\n",
    "* Matplotlib is home to several different interfaces (<font color='brown'>ways of constructing a figure</font>) and capable of interacting with a handful of different backends. (<font color='brown'>Backends deal with the process of how charts are actually rendered, not just structured internally.</font>)\n",
    "* While it is comprehensive, some of matplotlib’s own public documentation is seriously [out-of-date](https://matplotlib.org/users/shell.html). The library is still evolving, and many older examples floating around online may take 70% fewer lines of code in their modern version.\n",
    "\n",
    "So, before we get to any glitzy examples, it’s useful to grasp the core concepts of matplotlib’s design."
   ]
  },
  {
   "cell_type": "markdown",
   "id": "c489736e",
   "metadata": {},
   "source": [
    "<a id='sect2'></a>\n",
    "## <font color='darkblue'>Pylab: What Is It, and Should I Use It?</font> ([back](#sect0))\n",
    "Let’s start with a bit of history: John D. Hunter, a neurobiologist, began developing matplotlib around 2003, originally inspired to emulate commands from Mathworks’ [MATLAB](https://realpython.com/matlab-vs-python/) software. John passed away tragically young at age 44, in 2012, and matplotlib is now a full-fledged community effort, developed and maintained by a host of others. (<font color='brown'>John gave a [talk](https://www.youtube.com/watch?v=e3lTby5RI54) about the evolution of matplotlib at the 2012 SciPy conference, which is worth a watch.</font>)\n",
    "\n",
    "One relevant feature of MATLAB is its global style. The Python concept of importing is not heavily used in MATLAB, and most of MATLAB’s [functions](https://www.mathworks.com/help/matlab/functionlist.html) are readily available to the user at the top level.\n",
    "\n",
    "Knowing that matplotlib has its roots in MATLAB helps to explain why pylab exists. <b>pylab is a module within the matplotlib library that was built to mimic MATLAB’s global style. It exists only to bring a number of functions and classes from both NumPy and matplotlib into the [namespace](https://docs.python.org/3/tutorial/classes.html#python-scopes-and-namespaces), making for an easy transition for former MATLAB users who were not used to needing import statements</b>.\n",
    "\n",
    "Ex-MATLAB converts (<font color='brown'>who are all fine people, I promise!</font>) liked this functionality, because with `from pylab import *`, they could simply call `plot()` or `array()` directly, as they would in MATLAB.\n",
    "\n",
    "The issue here may be apparent to some Python users: using `from pylab import *` in a session or script is generally bad practice. Matplotlib now directly advises against this in its own tutorials:\n",
    "> “[pylab] still exists for historical reasons, but it is highly advised not to use. It pollutes namespaces with functions that will shadow Python built-ins and can lead to hard-to-track bugs. To get IPython integration without imports the use of the %matplotlib magic is preferred.” [Source](https://matplotlib.org/users/shell.html#using-matplotlib-in-a-python-shell)\n",
    "\n",
    "<br/>\n",
    "\n",
    "<b>The bottom line is that matplotlib has abandoned this convenience module and now explicitly recommends against using pylab, bringing things more in line with one of Python’s key notions: explicit is better than implicit</b>.\n",
    "\n",
    "Without the need for pylab, we can usually get away with just one canonical import:"
   ]
  },
  {
   "cell_type": "code",
   "execution_count": 1,
   "id": "38d44e86",
   "metadata": {},
   "outputs": [],
   "source": [
    "import matplotlib.pyplot as plt"
   ]
  },
  {
   "cell_type": "markdown",
   "id": "891eb828",
   "metadata": {},
   "source": [
    "While we’re at it, let’s also import NumPy, which we’ll use for generating data later on, and call <font color='blue'>np.random.seed()</font> to make examples with (<font color='brown'>pseudo</font>) random data reproducible:"
   ]
  },
  {
   "cell_type": "code",
   "execution_count": 2,
   "id": "1eaa3d81",
   "metadata": {},
   "outputs": [],
   "source": [
    "import numpy as np\n",
    "\n",
    "np.random.seed(444)"
   ]
  },
  {
   "cell_type": "markdown",
   "id": "12791cb0",
   "metadata": {},
   "source": [
    "<a id='sect3'></a>\n",
    "## <font color='darkblue'>The Matplotlib Object Hierarchy</font> ([back](#sect0))\n",
    "<b><font size='3ptx'>One important big-picture matplotlib concept is its object hierarchy.</font></b>\n",
    "\n",
    "If you’ve worked through any introductory matplotlib tutorial, you’ve probably called something like `plt.plot([1, 2, 3])`. This one-liner hides the fact that <b>a plot is really a hierarchy of nested Python objects. A “hierarchy” here means that there is a tree-like structure of matplotlib objects underlying each plot</b>.\n",
    "\n",
    "<b>A <font color='darkblue'>Figure</font> object is the outermost container for a matplotlib graphic, which can contain multiple Axes objects</b>. One source of confusion is the name: an Axes actually translates into what we think of as an individual plot or graph (<font color='brown'>rather than the plural of “axis,” as we might expect</font>).\n",
    "\n",
    "<b>You can think of the <font color='darkblue'>Figure</font> object as a box-like container holding one or more Axes</b> (<font color='brown'>actual plots</font>). Below the Axes in the hierarchy are smaller objects such as tick marks, individual lines, legends, and text boxes. Almost every “element” of a chart is its own manipulable Python object, all the way down to the ticks and labels:\n",
    "![Figure vs Axes](images/1.PNG)\n",
    "\n",
    "\n",
    "Here’s an illustration of this hierarchy in action. Don’t worry if you’re not completely familiar with this notation, which we’ll cover later on:"
   ]
  },
  {
   "cell_type": "code",
   "execution_count": 3,
   "id": "aa8eb0c1",
   "metadata": {},
   "outputs": [],
   "source": [
    "%matplotlib agg\n",
    "plt.rcParams['figure.figsize'] = [3, 3]\n",
    "fig, _ = plt.subplots()"
   ]
  },
  {
   "cell_type": "code",
   "execution_count": 4,
   "id": "ed59aac2",
   "metadata": {},
   "outputs": [
    {
     "data": {
      "text/plain": [
       "matplotlib.figure.Figure"
      ]
     },
     "execution_count": 4,
     "metadata": {},
     "output_type": "execute_result"
    }
   ],
   "source": [
    "type(fig)"
   ]
  },
  {
   "cell_type": "markdown",
   "id": "496d7e35",
   "metadata": {},
   "source": [
    "Above, we created two variables with <font color='blue'>plt.subplots()</font>. The first is a top-level [**Figure**](https://matplotlib.org/stable/api/figure_api.html#matplotlib.figure.Figure) object. The second is a “throwaway” variable that we don’t need just yet, denoted with an underscore. Using attribute notation, it is easy to traverse down the figure hierarchy and see the first tick of the y axis of the first [**Axes**](https://matplotlib.org/stable/api/_as_gen/matplotlib.axes.Axes.html#matplotlib.axes.Axes) object:"
   ]
  },
  {
   "cell_type": "code",
   "execution_count": 5,
   "id": "d69144be",
   "metadata": {},
   "outputs": [
    {
     "data": {
      "text/plain": [
       "matplotlib.axis.YTick"
      ]
     },
     "execution_count": 5,
     "metadata": {},
     "output_type": "execute_result"
    }
   ],
   "source": [
    "one_tick = fig.axes[0].yaxis.get_major_ticks()[0]\n",
    "type(one_tick)"
   ]
  },
  {
   "cell_type": "markdown",
   "id": "0aecce92",
   "metadata": {},
   "source": [
    "Above, `fig` (<font color='brown'>a [**Figure**](https://matplotlib.org/stable/api/figure_api.html#matplotlib.figure.Figure) class instance</font>) has multiple [**Axes**](https://matplotlib.org/stable/api/_as_gen/matplotlib.axes.Axes.html#matplotlib.axes.Axes) (<font color='brown'>a list, for which we take the first element</font>). Each[**Axes**](https://matplotlib.org/stable/api/_as_gen/matplotlib.axes.Axes.html#matplotlib.axes.Axes) has a yaxis and xaxis, each of which have a collection of “major ticks,” and we grab the first one.\n",
    "\n",
    "Matplotlib presents this as a figure anatomy, rather than an explicit hierarchy:\n",
    "![Figure hierarchy](images/2.PNG)"
   ]
  },
  {
   "cell_type": "markdown",
   "id": "34fa13f3",
   "metadata": {},
   "source": [
    "<a id='sect4'></a>\n",
    "## <font color='darkblue'>Stateful Versus Stateless Approaches</font> ([back](#sect0))\n",
    "<b><font size='3ptx'>Alright, we need one more chunk of theory before we can get around to the shiny visualizations: the difference between the stateful (<font color='brown'>state-based, state-machine</font>) and stateless ([object-oriented](https://realpython.com/python3-object-oriented-programming/), OO) interfaces.</font></b>\n",
    "\n",
    "Above, we used `import matplotlib.pyplot as plt` to import the pyplot module from matplotlib and name it `plt`.\n",
    "\n",
    "Almost all functions from pyplot, such as `plt.plot()`, are implicitly either referring to an existing current [**Figure**](https://matplotlib.org/stable/api/figure_api.html#matplotlib.figure.Figure) and current [**Axes**](https://matplotlib.org/stable/api/_as_gen/matplotlib.axes.Axes.html#matplotlib.axes.Axes), or creating them anew if none exist. Hidden in the matplotlib docs is this helpful snippet:\n",
    "> “`[With pyplot]`, simple functions are used to add plot elements (lines, images, text, etc.) <b>to the current axes in the current figure</b>.” `[emphasis added]`\n",
    "\n",
    "<br/>\n",
    "\n",
    "Hardcore ex-MATLAB users may choose to word this by saying something like, “`plt.plot()` is a state-machine interface that implicitly tracks the current figure!” In English, this means that:\n",
    "* The stateful interface makes its calls with `plt.plot()` and other top-level pyplot functions. There is only ever one [**Figure**](https://matplotlib.org/stable/api/figure_api.html#matplotlib.figure.Figure) or [**Axes**](https://matplotlib.org/stable/api/_as_gen/matplotlib.axes.Axes.html#matplotlib.axes.Axes) that you’re manipulating at a given time, and you don’t need to explicitly refer to it.\n",
    "* Modifying the underlying objects directly is the object-oriented approach. We usually do this by calling methods of an [**Axes**](https://matplotlib.org/stable/api/_as_gen/matplotlib.axes.Axes.html#matplotlib.axes.Axes) object, which is the object that represents a plot itself.\n",
    "\n",
    "<br/>\n",
    "\n",
    "The flow of this process, at a high level, looks like this:\n",
    "![Figure hierarchy](images/3.PNG)\n",
    "\n",
    "Tying these together, most of the functions from pyplot also exist as methods of the [**matplotlib.axes.Axes class**](https://matplotlib.org/stable/api/_as_gen/matplotlib.axes.Axes.html#matplotlib.axes.Axes). This is easier to see by peeking under the hood. <font color='blue'>plt.plot()</font> can be boiled down to five or so lines of code:\n",
    "```python\n",
    "# matplotlib/pyplot.py\n",
    ">>> def plot(*args, **kwargs):\n",
    "...     \"\"\"An abridged version of plt.plot().\"\"\"\n",
    "...     ax = plt.gca()\n",
    "...     return ax.plot(*args, **kwargs)\n",
    "\n",
    ">>> def gca(**kwargs):\n",
    "...     \"\"\"Get the current Axes of the current Figure.\"\"\"\n",
    "...     return plt.gcf().gca(**kwargs)\n",
    "```\n",
    "\n",
    "<br/>\n",
    "\n",
    "Calling `plt.plot()` is just a convenient way to get the current [**Axes**](https://matplotlib.org/stable/api/_as_gen/matplotlib.axes.Axes.html#matplotlib.axes.Axes) of the current [**Figure**](https://matplotlib.org/stable/api/figure_api.html#matplotlib.figure.Figure) and then call its <font color='blue'>plot()</font> method. This is what is meant by the assertion that the stateful interface always “implicitly tracks” the plot that it wants to reference.\n",
    "\n",
    "pyplot is home to a [batch of functions](https://matplotlib.org/api/pyplot_summary.html#the-pyplot-api) that are really just wrappers around matplotlib’s object-oriented interface. For example, with <font color='blue'>plt.title()</font>, there are corresponding setter and getter methods within the OO approach, <font color='blue'>ax.set_title()</font> and <font color='blue'>ax.get_title()</font>. (<font color='brown'>Use of getters and setters tends to be more popular in languages such as Java but is a key feature of matplotlib’s OO approach.</font>)\n",
    "\n",
    "Calling <font color='blue'>plt.title()</font> gets translated into this one line: <font color='blue'>gca().set_title(s, *args, **kwargs)</font>. Here’s what that is doing:\n",
    "* <font color='blue'>gca()</font> grabs the current axis and returns it.\n",
    "* <font color='blue'>set_title()</font> is a setter method that sets the title for that [**Axes**](https://matplotlib.org/stable/api/_as_gen/matplotlib.axes.Axes.html#matplotlib.axes.Axes) object. The “convenience” here is that we didn’t need to specify any [**Axes**](https://matplotlib.org/stable/api/_as_gen/matplotlib.axes.Axes.html#matplotlib.axes.Axes) object explicitly with <font color='blue'>plt.title()</font>.\n",
    "\n",
    "\n",
    "Similarly, if you take a few moments to look at the source for top-level functions like [plt.grid()](https://github.com/matplotlib/matplotlib/blob/master/lib/matplotlib/pyplot.py#L3708), [plt.legend()](https://github.com/matplotlib/matplotlib/blob/master/lib/matplotlib/pyplot.py#L3714), and [plt.ylabels()](https://github.com/matplotlib/matplotlib/blob/master/lib/matplotlib/pyplot.py#L1521), you’ll notice that all of them follow the same structure of delegating to the current [**Axes**](https://matplotlib.org/stable/api/_as_gen/matplotlib.axes.Axes.html#matplotlib.axes.Axes) with <font color='blue'>gca()</font> and then calling some method of the current [**Axes**](https://matplotlib.org/stable/api/_as_gen/matplotlib.axes.Axes.html#matplotlib.axes.Axes). (<font color='brown'>This is the underlying object-oriented approach!</font>)"
   ]
  },
  {
   "cell_type": "markdown",
   "id": "670e1484",
   "metadata": {},
   "source": [
    "<a id='sect5'></a>\n",
    "## <font color='darkblue'>Understanding `plt.subplots()` Notation</font> ([back](#sect0))\n",
    "<b><font size='3ptx'>Alright, enough theory. Now, we’re ready to tie everything together and do some plotting.</font></b>\n",
    "\n",
    "<b>From here on out, we’ll mostly rely on the stateless</b> (<font color='brown'>object-oriented</font>) <b>approach</b>, which is more customizable and comes in handy as graphs become more complex. The prescribed way to create a [**Figure**](https://matplotlib.org/stable/api/figure_api.html#matplotlib.figure.Figure) with a single [**Axes**](https://matplotlib.org/stable/api/_as_gen/matplotlib.axes.Axes.html#matplotlib.axes.Axes) under the OO approach is (<font color='brown'>not too intuitively</font>) with <font color='blue'>plt.subplots()</font>. This is really the only time that the OO approach uses pyplot, to create a [**Figure**](https://matplotlib.org/stable/api/figure_api.html#matplotlib.figure.Figure) and [**Axes**](https://matplotlib.org/stable/api/_as_gen/matplotlib.axes.Axes.html#matplotlib.axes.Axes):"
   ]
  },
  {
   "cell_type": "code",
   "execution_count": 6,
   "id": "6683a10c",
   "metadata": {},
   "outputs": [],
   "source": [
    "fig, ax = plt.subplots()"
   ]
  },
  {
   "cell_type": "markdown",
   "id": "3111457a",
   "metadata": {},
   "source": [
    "Above, we took advantage of iterable unpacking to assign a separate variable to each of the two results of [plt.subplots()](https://matplotlib.org/stable/api/_as_gen/matplotlib.pyplot.subplots.html#matplotlib.pyplot.subplots). Notice that we didn’t pass arguments to [subplots()](https://matplotlib.org/stable/api/_as_gen/matplotlib.pyplot.subplots.html#matplotlib.pyplot.subplots) here. The default call is <font color='blue'>subplots(nrows=1, ncols=1)</font>. Consequently, `ax` is a single <b><font color='blue'>AxesSubplot</font></b> object:"
   ]
  },
  {
   "cell_type": "code",
   "execution_count": 7,
   "id": "462634b8",
   "metadata": {},
   "outputs": [
    {
     "data": {
      "text/plain": [
       "matplotlib.axes._subplots.AxesSubplot"
      ]
     },
     "execution_count": 7,
     "metadata": {},
     "output_type": "execute_result"
    }
   ],
   "source": [
    "type(ax)"
   ]
  },
  {
   "cell_type": "markdown",
   "id": "cee3ae8f",
   "metadata": {},
   "source": [
    "We can call its instance methods to manipulate the plot similarly to how we call pyplots functions. Let’s illustrate with a stacked area graph of three time series:"
   ]
  },
  {
   "cell_type": "code",
   "execution_count": 8,
   "id": "8fd8c5e3",
   "metadata": {},
   "outputs": [],
   "source": [
    "rng = np.arange(50)\n",
    "rnd = np.random.randint(0, 10, size=(3, rng.size))\n",
    "yrs = 1950 + rng"
   ]
  },
  {
   "cell_type": "code",
   "execution_count": 9,
   "id": "0ca84a8c",
   "metadata": {},
   "outputs": [
    {
     "data": {
      "text/plain": [
       "array([[3, 0, 7, 8, 3, 4, 7, 6, 8, 9, 2, 2, 2, 0, 3, 8, 0, 6, 6, 0, 3, 0,\n",
       "        6, 7, 9, 3, 8, 7, 3, 2, 6, 9, 2, 9, 8, 9, 3, 2, 2, 8, 1, 5, 6, 7,\n",
       "        6, 0, 0, 0, 0, 4],\n",
       "       [8, 1, 9, 8, 5, 8, 9, 4, 6, 6, 4, 1, 8, 2, 7, 9, 3, 4, 2, 5, 0, 0,\n",
       "        8, 1, 0, 9, 9, 3, 2, 7, 6, 0, 5, 5, 4, 8, 3, 4, 9, 4, 7, 1, 5, 4,\n",
       "        4, 0, 2, 2, 5, 8],\n",
       "       [5, 6, 6, 1, 1, 6, 8, 4, 1, 0, 9, 2, 3, 7, 3, 3, 2, 7, 8, 6, 6, 7,\n",
       "        5, 7, 3, 9, 1, 3, 0, 4, 7, 5, 1, 5, 1, 4, 9, 7, 2, 4, 3, 7, 9, 2,\n",
       "        2, 0, 1, 5, 2, 4]])"
      ]
     },
     "execution_count": 9,
     "metadata": {},
     "output_type": "execute_result"
    }
   ],
   "source": [
    "rnd"
   ]
  },
  {
   "cell_type": "code",
   "execution_count": 10,
   "id": "88a02f14",
   "metadata": {},
   "outputs": [],
   "source": [
    "fig, ax = plt.subplots(figsize=(5, 3))\n",
    "ax.stackplot(yrs, rng + rnd, labels=['Eastasia', 'Eurasia', 'Oceania'])\n",
    "ax.set_title('Combined debt growth over time')\n",
    "ax.legend(loc='upper left')\n",
    "ax.set_ylabel('Total debt')\n",
    "ax.set_xlim(xmin=yrs[0], xmax=yrs[-1])\n",
    "fig.tight_layout()"
   ]
  },
  {
   "cell_type": "markdown",
   "id": "c37a574e",
   "metadata": {},
   "source": [
    "Here’s what’s going on above:\n",
    "* After creating three random time series, we defined one [**Figure**](https://matplotlib.org/stable/api/figure_api.html#matplotlib.figure.Figure) (`fig`) containing one [**Axes**](https://matplotlib.org/stable/api/_as_gen/matplotlib.axes.Axes.html#matplotlib.axes.Axes) (a plot, `ax`).\n",
    "* We call methods of `ax` directly to create a stacked area chart and to add a legend, title, and y-axis label. Under the object-oriented approach, it’s clear that all of these are attributes of `ax`.\n",
    "* <font color='blue'>tight_layout()</font> applies to the [**Figure**](https://matplotlib.org/stable/api/figure_api.html#matplotlib.figure.Figure) object as a whole to clean up whitespace padding.\n",
    "\n",
    "\n",
    "Let’s look at an example with multiple subplots (Axes) within one Figure, plotting two correlated arrays that are drawn from the discrete uniform distribution:"
   ]
  },
  {
   "cell_type": "code",
   "execution_count": 11,
   "id": "bf2e00f4",
   "metadata": {},
   "outputs": [
    {
     "data": {
      "text/plain": [
       "array([11,  5,  6,  7, 14, 13,  8, 10, 11,  8, 10,  7,  6, 11,  6, 10,  8,\n",
       "       13,  6, 11, 10,  6,  6,  9,  9, 13,  8, 12, 12, 11,  9,  4,  6,  5,\n",
       "        4,  2,  9,  8,  7,  8,  6,  3, 13,  8, 12,  4,  9,  7,  4, 11])"
      ]
     },
     "execution_count": 11,
     "metadata": {},
     "output_type": "execute_result"
    }
   ],
   "source": [
    "x = np.random.randint(low=1, high=11, size=50)\n",
    "y = x + np.random.randint(1, 5, size=x.size)\n",
    "y"
   ]
  },
  {
   "cell_type": "code",
   "execution_count": 12,
   "id": "0d327828",
   "metadata": {},
   "outputs": [
    {
     "data": {
      "text/plain": [
       "array([ 9,  1,  5,  6, 10,  9,  7,  7, 10,  6,  8,  6,  4,  9,  3,  7,  6,\n",
       "        9,  2, 10,  7,  2,  2,  5,  7,  9,  5,  9,  9,  8,  6,  3,  4,  3,\n",
       "        1,  1,  5,  7,  6,  4,  4,  1,  9,  5, 10,  3,  5,  4,  1,  9])"
      ]
     },
     "execution_count": 12,
     "metadata": {},
     "output_type": "execute_result"
    }
   ],
   "source": [
    "x"
   ]
  },
  {
   "cell_type": "code",
   "execution_count": 13,
   "id": "53ad6a13",
   "metadata": {},
   "outputs": [
    {
     "data": {
      "text/plain": [
       "array([[ 9, 11],\n",
       "       [ 1,  5],\n",
       "       [ 5,  6],\n",
       "       [ 6,  7],\n",
       "       [10, 14],\n",
       "       [ 9, 13],\n",
       "       [ 7,  8],\n",
       "       [ 7, 10],\n",
       "       [10, 11],\n",
       "       [ 6,  8]])"
      ]
     },
     "execution_count": 13,
     "metadata": {},
     "output_type": "execute_result"
    }
   ],
   "source": [
    "data = np.column_stack((x, y))\n",
    "data[:10]"
   ]
  },
  {
   "cell_type": "code",
   "execution_count": 14,
   "id": "20c10df1",
   "metadata": {},
   "outputs": [],
   "source": [
    "fig, (ax1, ax2) = plt.subplots(nrows=1, ncols=2, figsize=(8, 4))\n",
    "ax1.scatter(x=x, y=y, marker='o', c='r', edgecolor='b')\n",
    "ax1.set_title('Scatter: $x$ versus $y$')\n",
    "ax1.set_xlabel('$x$')\n",
    "ax1.set_ylabel('$y$')\n",
    "\n",
    "ax2.hist(data, bins=np.arange(data.min(), data.max()), label=('x', 'y'))\n",
    "ax2.legend(loc=(0.65, 0.8))\n",
    "ax2.set_title('Frequencies of $x$ and $y$')\n",
    "ax2.yaxis.tick_right()"
   ]
  },
  {
   "cell_type": "markdown",
   "id": "59b8440d",
   "metadata": {},
   "source": [
    "There’s a little bit more going on in this example:\n",
    "* Because we’re creating a “1x2” Figure, the returned result of <font color='blue'>plt.subplots(1, 2)</font> is now a [**Figure**](https://matplotlib.org/stable/api/figure_api.html#matplotlib.figure.Figure) object and a NumPy array of [**Axes**](https://matplotlib.org/stable/api/_as_gen/matplotlib.axes.Axes.html#matplotlib.axes.Axes) objects. (<font color='brown'>You can inspect this with `fig, axs = plt.subplots(1, 2)` and taking a look at axs.</font>)\n",
    "* We deal with `ax1` and `ax2` individually, which would be difficult to do with the stateful approach. The final line is a good illustration of the object hierarchy, where we are modifying the yaxis belonging to the second Axes, placing its ticks and ticklabels to the right.\n",
    "* Text inside dollar signs utilizes [TeX markup](https://en.wikipedia.org/wiki/TeX) to put variables in italics.\n",
    "\n",
    "<br/>\n",
    "\n",
    "Remember that multiple [**Axes**](https://matplotlib.org/stable/api/_as_gen/matplotlib.axes.Axes.html#matplotlib.axes.Axes) can be enclosed in or “belong to” a given figure. In the case above, fig.axes gets us a list of all the [**Axes**](https://matplotlib.org/stable/api/_as_gen/matplotlib.axes.Axes.html#matplotlib.axes.Axes) objects:"
   ]
  },
  {
   "cell_type": "code",
   "execution_count": 15,
   "id": "04ca578a",
   "metadata": {},
   "outputs": [
    {
     "data": {
      "text/plain": [
       "(True, True)"
      ]
     },
     "execution_count": 15,
     "metadata": {},
     "output_type": "execute_result"
    }
   ],
   "source": [
    "(fig.axes[0] is ax1, fig.axes[1] is ax2)"
   ]
  },
  {
   "cell_type": "markdown",
   "id": "bac1fc73",
   "metadata": {},
   "source": [
    "Taking this one step further, we could alternatively create a figure that holds a 2x2 grid of [**Axes**](https://matplotlib.org/stable/api/_as_gen/matplotlib.axes.Axes.html#matplotlib.axes.Axes) objects:"
   ]
  },
  {
   "cell_type": "code",
   "execution_count": 16,
   "id": "2cb2f918",
   "metadata": {},
   "outputs": [
    {
     "data": {
      "text/plain": [
       "numpy.ndarray"
      ]
     },
     "execution_count": 16,
     "metadata": {},
     "output_type": "execute_result"
    }
   ],
   "source": [
    "%matplotlib agg\n",
    "fig, ax = plt.subplots(nrows=2, ncols=2, figsize=(7, 7))\n",
    "type(ax)"
   ]
  },
  {
   "cell_type": "markdown",
   "id": "858fd01c",
   "metadata": {},
   "source": [
    "Now, what is ax? It’s no longer a single Axes, but a two-dimensional NumPy array of them:"
   ]
  },
  {
   "cell_type": "code",
   "execution_count": 17,
   "id": "8d6152fc",
   "metadata": {},
   "outputs": [
    {
     "data": {
      "text/plain": [
       "array([[<AxesSubplot: >, <AxesSubplot: >],\n",
       "       [<AxesSubplot: >, <AxesSubplot: >]], dtype=object)"
      ]
     },
     "execution_count": 17,
     "metadata": {},
     "output_type": "execute_result"
    }
   ],
   "source": [
    "ax"
   ]
  },
  {
   "cell_type": "code",
   "execution_count": 18,
   "id": "08cf3cde",
   "metadata": {},
   "outputs": [
    {
     "data": {
      "text/plain": [
       "(2, 2)"
      ]
     },
     "execution_count": 18,
     "metadata": {},
     "output_type": "execute_result"
    }
   ],
   "source": [
    "ax.shape"
   ]
  },
  {
   "cell_type": "markdown",
   "id": "bf9ea26a",
   "metadata": {},
   "source": [
    "This is reaffirmed by the docstring:\n",
    "> “ax can be either a single [**matplotlib.axes.Axes**](https://matplotlib.org/stable/api/_as_gen/matplotlib.axes.Axes.html) object or an array of [**Axes**](https://matplotlib.org/stable/api/_as_gen/matplotlib.axes.Axes.html) objects if more than one subplot was created.”\n",
    "\n",
    "<br/>\n",
    "\n",
    "We now need to call plotting methods on each of these [**Axes**](https://matplotlib.org/stable/api/_as_gen/matplotlib.axes.Axes.html) (<font color='brown'>but not the NumPy array, which is just a container in this case</font>). A common way to address this is to use iterable unpacking after flattening the array to be one-dimensional:\n",
    "```python\n",
    ">>> fig, ax = plt.subplots(nrows=2, ncols=2, figsize=(7, 7))\n",
    ">>> ax1, ax2, ax3, ax4 = ax.flatten()  # flatten a 2d NumPy array to 1d\n",
    "```\n",
    "\n",
    "<br/>\n",
    "\n",
    "To illustrate some more advanced subplot features, let’s pull some macroeconomic California housing data extracted from a compressed tar archive, using [**io**](https://docs.python.org/3/library/io.html), [**tarfile**](https://docs.python.org/3/library/tarfile.html), and [**urllib**](https://docs.python.org/3/library/urllib.html) from Python’s Standard Library."
   ]
  },
  {
   "cell_type": "code",
   "execution_count": 19,
   "id": "69d2258b",
   "metadata": {},
   "outputs": [
    {
     "name": "stdout",
     "output_type": "stream",
     "text": [
      "CPU times: user 96.3 ms, sys: 4.13 ms, total: 100 ms\n",
      "Wall time: 3.22 s\n"
     ]
    }
   ],
   "source": [
    "%%time\n",
    "from io import BytesIO\n",
    "import tarfile\n",
    "from urllib.request import urlopen\n",
    "\n",
    "url = 'http://www.dcc.fc.up.pt/~ltorgo/Regression/cal_housing.tgz'\n",
    "b = BytesIO(urlopen(url).read())\n",
    "fpath = 'CaliforniaHousing/cal_housing.data'\n",
    "\n",
    "with tarfile.open(mode='r', fileobj=b) as archive:\n",
    "  housing = np.loadtxt(archive.extractfile(fpath), delimiter=',')"
   ]
  },
  {
   "cell_type": "markdown",
   "id": "85d6334d",
   "metadata": {},
   "source": [
    "The “response” variable `y` below, to use the statistical term, is an area’s average home value. `pop` and `age` are the area’s population and average house age, respectively:"
   ]
  },
  {
   "cell_type": "code",
   "execution_count": 20,
   "id": "57e7dc72",
   "metadata": {},
   "outputs": [],
   "source": [
    "y = housing[:, -1]\n",
    "pop, age = housing[:, [4, 7]].T"
   ]
  },
  {
   "cell_type": "code",
   "execution_count": 21,
   "id": "78876904",
   "metadata": {},
   "outputs": [
    {
     "data": {
      "text/plain": [
       "array([ 129., 1106.,  190.])"
      ]
     },
     "execution_count": 21,
     "metadata": {},
     "output_type": "execute_result"
    }
   ],
   "source": [
    "# Top 3 area's population\n",
    "pop[:3]"
   ]
  },
  {
   "cell_type": "markdown",
   "id": "8e80d176",
   "metadata": {},
   "source": [
    "Next let’s define a “helper function” that places a text box inside of a plot and acts as an “in-plot title”:"
   ]
  },
  {
   "cell_type": "code",
   "execution_count": 22,
   "id": "4f8937f1",
   "metadata": {},
   "outputs": [],
   "source": [
    "def add_titlebox(ax, text):\n",
    "  ax.text(.55, .8, text,\n",
    "      horizontalalignment='center',\n",
    "      transform=ax.transAxes,\n",
    "      bbox=dict(facecolor='white', alpha=0.6),\n",
    "      fontsize=12.5)\n",
    "  return ax"
   ]
  },
  {
   "cell_type": "markdown",
   "id": "14d91a43",
   "metadata": {},
   "source": [
    "We’re ready to do some plotting. Matplotlib’s [**gridspec**](https://matplotlib.org/stable/api/gridspec_api.html) module allows for more subplot customization. pyplot’s <font color='blue'>subplot2grid()</font> interacts with this module nicely. Let’s say we want to create a layout like this:\n",
    "![4](images/4.PNG)\n",
    "\n",
    "Above, what we actually have is a 3x2 grid. ax1 is twice the height and width of ax2/ax3, meaning that it takes up two columns and two rows:\n",
    "![5](images/5.PNG)\n",
    "\n",
    "The second argument to <font color='blue'>subplot2grid()</font> is the `(row, column)` location of the [**Axes**](https://matplotlib.org/stable/api/_as_gen/matplotlib.axes.Axes.html) within the grid:\n",
    "```python\n",
    "gridsize = (3, 2)\n",
    "fig = plt.figure(figsize=(12, 8))\n",
    "ax1 = plt.subplot2grid(gridsize, (0, 0), colspan=2, rowspan=2)\n",
    "ax2 = plt.subplot2grid(gridsize, (2, 0))\n",
    "ax3 = plt.subplot2grid(gridsize, (2, 1))\n",
    "```"
   ]
  },
  {
   "cell_type": "markdown",
   "id": "da9d4693",
   "metadata": {},
   "source": [
    "Now, we can proceed as normal, modifying each [**Axes**](https://matplotlib.org/stable/api/_as_gen/matplotlib.axes.Axes.html) individually:"
   ]
  },
  {
   "cell_type": "code",
   "execution_count": 23,
   "id": "80ac6903",
   "metadata": {},
   "outputs": [],
   "source": [
    "gridsize = (3, 2)\n",
    "fig = plt.figure(figsize=(12, 8))\n",
    "ax1 = plt.subplot2grid(gridsize, (0, 0), colspan=2, rowspan=2)\n",
    "ax2 = plt.subplot2grid(gridsize, (2, 0))\n",
    "ax3 = plt.subplot2grid(gridsize, (2, 1))\n",
    "\n",
    "ax1.set_title('Home value as a function of home age & area population', fontsize=14)\n",
    "sctr = ax1.scatter(x=age, y=pop, c=y, cmap='RdYlGn')\n",
    "plt.colorbar(sctr, ax=ax1, format='$%d')\n",
    "ax1.set_yscale('log')\n",
    "\n",
    "ax2.hist(age, bins='auto')\n",
    "add_titlebox(ax2, 'Histogram: home age')\n",
    "\n",
    "ax3.hist(pop, bins='auto', log=True)\n",
    "add_titlebox(ax3, 'Histogram: area population (log scl.)')\n",
    "plt.show()"
   ]
  },
  {
   "cell_type": "markdown",
   "id": "18cf0cf7",
   "metadata": {},
   "source": [
    "Above, <font color='blue'>colorbar()</font> (<font color='brown'>different from ColorMap earlier</font>) gets called on the [**Figure**](https://matplotlib.org/stable/api/figure_api.html#matplotlib.figure.Figure) directly, rather than the [**Axes**](https://matplotlib.org/stable/api/_as_gen/matplotlib.axes.Axes.html). Its first argument uses Matplotlib’s <font color='brown'>.scatter()</font> and is the result of <font color='blue'>ax1.scatter()</font>, which functions as a mapping of y-values to a ColorMap.\n",
    "\n",
    "Visually, there isn’t much differentiation in color (the y-variable) as we move up and down the y-axis, indicating that home age seems to be a stronger determinant of house value."
   ]
  },
  {
   "cell_type": "markdown",
   "id": "50577244",
   "metadata": {},
   "source": [
    "<a id='sect6'></a>\n",
    "## <font color='darkblue'>The “Figures” Behind The Scenes</font> ([back](#sect0))\n",
    "Each time you call <font color='blue'>plt.subplots()</font> or the less frequently used <font color='blue'>plt.figure()</font> (<font color='brown'>which creates a Figure, with no [**Axes**](https://matplotlib.org/stable/api/_as_gen/matplotlib.axes.Axes.html)</font>), you are creating a new [**Figure**](https://matplotlib.org/stable/api/figure_api.html#matplotlib.figure.Figure) object that matplotlib sneakily keeps around in memory. Earlier, we alluded to the concept of a current [**Figure**](https://matplotlib.org/stable/api/figure_api.html#matplotlib.figure.Figure) and current [**Axes**](https://matplotlib.org/stable/api/_as_gen/matplotlib.axes.Axes.html)</font>).\n",
    "\n",
    "By default, these are the most recently created [**Figure**](https://matplotlib.org/stable/api/figure_api.html#matplotlib.figure.Figure) and [**Axes**](https://matplotlib.org/stable/api/_as_gen/matplotlib.axes.Axes.html), which we can show with the built-in function [id()](https://docs.python.org/3/library/functions.html#id) to display the address of the object in memory:"
   ]
  },
  {
   "cell_type": "code",
   "execution_count": 24,
   "id": "51c793cd",
   "metadata": {},
   "outputs": [],
   "source": [
    "%matplotlib agg\n",
    "fig1, ax1 = plt.subplots()"
   ]
  },
  {
   "cell_type": "code",
   "execution_count": 25,
   "id": "2f128d21",
   "metadata": {},
   "outputs": [
    {
     "data": {
      "text/plain": [
       "140701038932224"
      ]
     },
     "execution_count": 25,
     "metadata": {},
     "output_type": "execute_result"
    }
   ],
   "source": [
    "id(fig1)"
   ]
  },
  {
   "cell_type": "code",
   "execution_count": 26,
   "id": "2d54a74d",
   "metadata": {},
   "outputs": [
    {
     "data": {
      "text/plain": [
       "140701038932224"
      ]
     },
     "execution_count": 26,
     "metadata": {},
     "output_type": "execute_result"
    }
   ],
   "source": [
    "id(plt.gcf())  # `fig1` is the current figure."
   ]
  },
  {
   "cell_type": "code",
   "execution_count": 27,
   "id": "956b7fcf",
   "metadata": {},
   "outputs": [
    {
     "data": {
      "text/plain": [
       "True"
      ]
     },
     "execution_count": 27,
     "metadata": {},
     "output_type": "execute_result"
    }
   ],
   "source": [
    "%matplotlib agg\n",
    "fig2, ax2 = plt.subplots()\n",
    "id(fig2) == id(plt.gcf())  # The current figure has changed to `fig2`."
   ]
  },
  {
   "cell_type": "markdown",
   "id": "1000dc29",
   "metadata": {},
   "source": [
    "After the above routine, the current figure is `fig2`, the most recently created figure. However, both figures are still hanging around in memory, each with a corresponding ID number (1-indexed, in MATLAB style):"
   ]
  },
  {
   "cell_type": "code",
   "execution_count": 28,
   "id": "2c7e08ce",
   "metadata": {},
   "outputs": [
    {
     "data": {
      "text/plain": [
       "[1, 2]"
      ]
     },
     "execution_count": 28,
     "metadata": {},
     "output_type": "execute_result"
    }
   ],
   "source": [
    "%matplotlib agg\n",
    "fig1 = plt.figure()\n",
    "fig2 = plt.figure()\n",
    "plt.get_fignums()"
   ]
  },
  {
   "cell_type": "markdown",
   "id": "813c531e",
   "metadata": {},
   "source": [
    "A useful way to get all of the Figures themselves is with a mapping of plt.figure() to each of these integers:"
   ]
  },
  {
   "cell_type": "code",
   "execution_count": 29,
   "id": "d8168e27",
   "metadata": {},
   "outputs": [
    {
     "data": {
      "text/plain": [
       "[<Figure size 300x300 with 0 Axes>, <Figure size 300x300 with 0 Axes>]"
      ]
     },
     "execution_count": 29,
     "metadata": {},
     "output_type": "execute_result"
    }
   ],
   "source": [
    "%matplotlib agg\n",
    "fig1 = plt.figure()\n",
    "fig2 = plt.figure()\n",
    "\n",
    "def get_all_figures():\n",
    "    return [plt.figure(i) for i in plt.get_fignums()]\n",
    "\n",
    "get_all_figures()"
   ]
  },
  {
   "cell_type": "markdown",
   "id": "3a7475dd",
   "metadata": {},
   "source": [
    "<b>Be cognizant of this if running a script where you’re creating a group of figures. You’ll want to explicitly close each of them after use to avoid a MemoryError</b>. By itself, <font color='blue'>plt.close()</font> closes the current figure, <font color='blue'>plt.close(num)</font> closes the figure number num, and <font color='blue'>plt.close('all')</font> closes all the figure windows:"
   ]
  },
  {
   "cell_type": "code",
   "execution_count": 30,
   "id": "8b0e02e3",
   "metadata": {},
   "outputs": [],
   "source": [
    "plt.close('all')"
   ]
  },
  {
   "cell_type": "markdown",
   "id": "d567f787",
   "metadata": {},
   "source": [
    "<a id='sect7'></a>\n",
    "## <font color='darkblue'>A Burst of Color: `imshow()` and `matshow()`</font> ([back](#sect0))\n",
    "<b><font size='3ptx'>While <font color='blue'>ax.plot()</font> is one of the most common plotting methods on an [Axes](https://matplotlib.org/stable/api/_as_gen/matplotlib.axes.Axes.html), there are a whole host of others, as well. (<font color='brown'>We used</font> <font color='blue'>ax.stackplot()</font> <font color='brown'>above. You can find the complete list</font> [here](https://matplotlib.org/api/axes_api.html?highlight=axes%20class#plotting).)</font></b>\n",
    "\n",
    "Methods that get heavy use are [imshow()](https://matplotlib.org/stable/api/_as_gen/matplotlib.pyplot.imshow.html) and [matshow()](https://matplotlib.org/stable/api/_as_gen/matplotlib.pyplot.matshow.html), with the latter being a wrapper around the former. These are useful anytime that a raw numerical array can be visualized as a colored grid.\n",
    "\n",
    "First, let’s create two distinct grids with some fancy NumPy indexing:"
   ]
  },
  {
   "cell_type": "code",
   "execution_count": 31,
   "id": "714dbf4c",
   "metadata": {},
   "outputs": [],
   "source": [
    "x = np.diag(np.arange(2, 12))[::-1]\n",
    "x[np.diag_indices_from(x[::-1])] = np.arange(2, 12)\n",
    "x2 = np.arange(x.size).reshape(x.shape)"
   ]
  },
  {
   "cell_type": "code",
   "execution_count": 32,
   "id": "ff3d8c76",
   "metadata": {},
   "outputs": [
    {
     "data": {
      "text/plain": [
       "array([[ 2,  0,  0,  0,  0,  0,  0,  0,  0, 11],\n",
       "       [ 0,  3,  0,  0,  0,  0,  0,  0, 10,  0],\n",
       "       [ 0,  0,  4,  0,  0,  0,  0,  9,  0,  0],\n",
       "       [ 0,  0,  0,  5,  0,  0,  8,  0,  0,  0],\n",
       "       [ 0,  0,  0,  0,  6,  7,  0,  0,  0,  0],\n",
       "       [ 0,  0,  0,  0,  6,  7,  0,  0,  0,  0],\n",
       "       [ 0,  0,  0,  5,  0,  0,  8,  0,  0,  0],\n",
       "       [ 0,  0,  4,  0,  0,  0,  0,  9,  0,  0],\n",
       "       [ 0,  3,  0,  0,  0,  0,  0,  0, 10,  0],\n",
       "       [ 2,  0,  0,  0,  0,  0,  0,  0,  0, 11]])"
      ]
     },
     "execution_count": 32,
     "metadata": {},
     "output_type": "execute_result"
    }
   ],
   "source": [
    "x"
   ]
  },
  {
   "cell_type": "markdown",
   "id": "711fda30",
   "metadata": {},
   "source": [
    "Next, we can map these to their image representations. In this specific case, we toggle “off” all axis labels and ticks by using a dictionary comprehension and passing the result to <font color='blue'>ax.tick_params()</font>:"
   ]
  },
  {
   "cell_type": "code",
   "execution_count": 33,
   "id": "de3fa514",
   "metadata": {},
   "outputs": [
    {
     "name": "stdout",
     "output_type": "stream",
     "text": [
      "{'left': False, 'right': False, 'top': False, 'bottom': False, 'labelleft': False, 'labelright': False, 'labeltop': False, 'labelbottom': False}\n"
     ]
    }
   ],
   "source": [
    "sides = ('left', 'right', 'top', 'bottom')\n",
    "nolabels = {s: False for s in sides}\n",
    "nolabels.update({'label%s' % s: False for s in sides})\n",
    "print(nolabels)"
   ]
  },
  {
   "cell_type": "markdown",
   "id": "98236f05",
   "metadata": {},
   "source": [
    "Then, we can use a [context manager](https://docs.python.org/3/reference/datamodel.html#context-managers) to disable the grid, and call [matshow()](https://matplotlib.org/stable/api/_as_gen/matplotlib.pyplot.matshow.html) on each [**Axes**](https://matplotlib.org/stable/api/_as_gen/matplotlib.axes.Axes.html). Lastly, we need to put the colorbar in what is technically a new [**Axes**](https://matplotlib.org/stable/api/_as_gen/matplotlib.axes.Axes.html) within fig. For this, we can use a bit of an esoteric function from deep within matplotlib:"
   ]
  },
  {
   "cell_type": "code",
   "execution_count": 34,
   "id": "280f1a8a",
   "metadata": {},
   "outputs": [],
   "source": [
    "fig, ax = plt.subplots(nrows=2, ncols=2, figsize=(7, 7))"
   ]
  },
  {
   "cell_type": "code",
   "execution_count": 35,
   "id": "252875e8",
   "metadata": {},
   "outputs": [
    {
     "data": {
      "image/png": "[encoded data removed]",
      "text/plain": [
       "<Figure size 800x400 with 3 Axes>"
      ]
     },
     "metadata": {},
     "output_type": "display_data"
    }
   ],
   "source": [
    "%matplotlib inline\n",
    "from mpl_toolkits.axes_grid1.axes_divider import make_axes_locatable\n",
    "\n",
    "with plt.rc_context(rc={'axes.grid': False}):\n",
    "    fig, (ax1, ax2) = plt.subplots(1, 2, figsize=(8, 4))\n",
    "    ax1.matshow(x)\n",
    "    img2 = ax2.matshow(x2, cmap='RdYlGn_r')\n",
    "    for ax in (ax1, ax2):\n",
    "        ax.tick_params(axis='both', which='both', **nolabels)\n",
    "        \n",
    "    for i, j in zip(*x.nonzero()):\n",
    "        ax1.text(j, i, x[i, j], color='white', ha='center', va='center')\n",
    "        \n",
    "    divider = make_axes_locatable(ax2)\n",
    "    cax = divider.append_axes(\"right\", size='5%', pad=0)\n",
    "    plt.colorbar(img2, cax=cax, ax=[ax1, ax2])\n",
    "    fig.suptitle('Heatmaps with `Axes.matshow`', fontsize=16)\n",
    "    plt.show()"
   ]
  },
  {
   "cell_type": "markdown",
   "id": "88728d75",
   "metadata": {},
   "source": [
    "<a id='sect8'></a>\n",
    "## <font color='darkblue'>Plotting in Pandas</font> ([back](#sect0))\n",
    "<b><font size='3ptx'>The pandas library has become popular for not just for enabling powerful [data analysis](https://realpython.com/analyzing-obesity-in-england-with-python/), but also for its handy pre-canned plotting methods. Interestingly though, [pandas plotting methods](https://realpython.com/pandas-plot-python/) are really just convenient wrappers around existing matplotlib calls.</font></b>\n",
    "\n",
    "That is, the <font color='blue'>plot()</font> method on pandas’ [**Series**](https://pandas.pydata.org/docs/reference/api/pandas.Series.html) and [**DataFrame**](https://pandas.pydata.org/docs/reference/api/pandas.DataFrame.html) is a wrapper around <font color='blue'>plt.plot()</font>.\n",
    "\n",
    "One convenience provided, for example, is that if the DataFrame’s Index consists of dates, <font color='blue'>gcf().autofmt_xdate()</font> is called internally by pandas to get the current Figure and nicely auto-format the x-axis.\n",
    "\n",
    "In turn, remember that <font color='blue'>plt.plot()</font> (<font color='brown'>the state-based approach</font>) is implicitly aware of the current Figure and current Axes, so pandas is following the state-based approach by extension.\n",
    "\n",
    "We can prove this “chain” of function calls with a bit of introspection. First, let’s construct a plain-vanilla pandas Series, assuming we’re starting out in a fresh interpreter session:"
   ]
  },
  {
   "cell_type": "code",
   "execution_count": 39,
   "id": "034bc0fc",
   "metadata": {},
   "outputs": [
    {
     "data": {
      "image/png": "[encoded data removed]",
      "text/plain": [
       "<Figure size 300x300 with 1 Axes>"
      ]
     },
     "metadata": {},
     "output_type": "display_data"
    }
   ],
   "source": [
    "import pandas as pd\n",
    "\n",
    "s = pd.Series(np.arange(5), index=list('abcde'))\n",
    "ax = s.plot()"
   ]
  },
  {
   "cell_type": "code",
   "execution_count": 41,
   "id": "ef8df31d",
   "metadata": {},
   "outputs": [
    {
     "data": {
      "text/plain": [
       "matplotlib.axes._subplots.AxesSubplot"
      ]
     },
     "execution_count": 41,
     "metadata": {},
     "output_type": "execute_result"
    }
   ],
   "source": [
    "type(ax)"
   ]
  },
  {
   "cell_type": "markdown",
   "id": "88409a4c",
   "metadata": {},
   "source": [
    "This internal architecture is helpful to know when you are mixing pandas plotting methods with traditional matplotlib calls, which is done below in plotting the moving average of a widely watched financial time series. `ma` is a pandas Series for which we can call `ma.plot()` (<font color='brown'>the pandas method</font>), and then customize by retrieving the [**Axes**](https://matplotlib.org/stable/api/_as_gen/matplotlib.axes.Axes.html) that is created by this call (<font color='blue'>plt.gca()</font>), for matplotlib to reference:"
   ]
  },
  {
   "cell_type": "code",
   "execution_count": 44,
   "id": "178b53e8",
   "metadata": {},
   "outputs": [],
   "source": [
    "import pandas as pd\n",
    "import matplotlib.transforms as mtransforms\n",
    "\n",
    "url = 'https://fred.stlouisfed.org/graph/fredgraph.csv?id=VIXCLS'\n",
    "vix = pd.read_csv(url, index_col=0, parse_dates=True, na_values='.',\n",
    "                  infer_datetime_format=True).squeeze(\"columns\").dropna()\n",
    "                 \n",
    "ma = vix.rolling('90d').mean()"
   ]
  },
  {
   "cell_type": "code",
   "execution_count": 46,
   "id": "eadc5ffb",
   "metadata": {},
   "outputs": [
    {
     "data": {
      "text/plain": [
       "DATE\n",
       "1990-01-02    17.240000\n",
       "1990-01-03    17.715000\n",
       "1990-01-04    18.216667\n",
       "1990-01-05    18.690000\n",
       "1990-01-08    19.004000\n",
       "Name: VIXCLS, dtype: float64"
      ]
     },
     "execution_count": 46,
     "metadata": {},
     "output_type": "execute_result"
    }
   ],
   "source": [
    "ma[:5]"
   ]
  },
  {
   "cell_type": "code",
   "execution_count": 47,
   "id": "6900e3e1",
   "metadata": {},
   "outputs": [],
   "source": [
    "state = pd.cut(ma, bins=[-np.inf, 14, 18, 24, np.inf], labels=range(4))"
   ]
  },
  {
   "cell_type": "code",
   "execution_count": 56,
   "id": "30eca5a2",
   "metadata": {},
   "outputs": [
    {
     "data": {
      "text/plain": [
       "DATE\n",
       "1990-01-02    1\n",
       "1990-01-03    1\n",
       "1990-01-04    2\n",
       "1990-01-05    2\n",
       "1990-01-08    2\n",
       "Name: VIXCLS, dtype: category\n",
       "Categories (4, int64): [0 < 1 < 2 < 3]"
      ]
     },
     "execution_count": 56,
     "metadata": {},
     "output_type": "execute_result"
    }
   ],
   "source": [
    "state[:5]"
   ]
  },
  {
   "cell_type": "code",
   "execution_count": 48,
   "id": "0514b64f",
   "metadata": {},
   "outputs": [
    {
     "data": {
      "text/plain": [
       "<AxesSubplot: xlabel='DATE'>"
      ]
     },
     "execution_count": 48,
     "metadata": {},
     "output_type": "execute_result"
    },
    {
     "data": {
      "image/png": "[encoded data removed]",
      "text/plain": [
       "<Figure size 800x400 with 1 Axes>"
      ]
     },
     "metadata": {},
     "output_type": "display_data"
    }
   ],
   "source": [
    "cmap = plt.get_cmap('RdYlGn_r')\n",
    "ma.plot(color='black', linewidth=1.5, marker='', figsize=(8, 4),\n",
    "        label='VIX 90d MA')"
   ]
  },
  {
   "cell_type": "code",
   "execution_count": 54,
   "id": "ea6a76a4",
   "metadata": {},
   "outputs": [
    {
     "data": {
      "image/png": "[encoded data removed]",
      "text/plain": [
       "<Figure size 800x400 with 1 Axes>"
      ]
     },
     "metadata": {},
     "output_type": "display_data"
    }
   ],
   "source": [
    "ma.plot(color='black', linewidth=1.5, marker='', figsize=(8, 4),\n",
    "        label='VIX 90d MA')\n",
    "ax = plt.gca()  # Get the current Axes that ma.plot() references\n",
    "ax.set_xlabel('')\n",
    "ax.set_ylabel('90d moving average: CBOE VIX')\n",
    "ax.set_title('Volatility Regime State')\n",
    "ax.grid(False)\n",
    "ax.legend(loc='upper center')\n",
    "ax.set_xlim(xmin=ma.index[0], xmax=ma.index[-1])\n",
    "trans = mtransforms.blended_transform_factory(ax.transData, ax.transAxes)\n",
    "for i, color in enumerate(cmap([0.2, 0.4, 0.6, 0.8])):\n",
    "    ax.fill_between(ma.index, 0, 1, where=state==i,\n",
    "                    facecolor=color, transform=trans)\n",
    "ax.axhline(vix.mean(), linestyle='dashed', color='xkcd:dark grey',\n",
    "           alpha=0.6, label='Full-period mean', marker='')\n",
    "fig.show()"
   ]
  },
  {
   "cell_type": "markdown",
   "id": "7124df2b",
   "metadata": {},
   "source": [
    "There’s a lot happening above:\n",
    "* `ma` is a 90-day moving average of the VIX Index, a measure of market expectations of near-term stock volatility. `state` is a binning of the moving average into different regime states. A high VIX is seen as signaling a heightened level of fear in the marketplace.\n",
    "* `cmap` is a ColorMap—a matplotlib object that is essentially a mapping of floats to RGBA colors. Any colormap can be reversed by appending '_r', so 'RdYlGn_r' is the reversed Red-Yellow-Green colormap. Matplotlib maintains a handy [visual reference guide](https://matplotlib.org/examples/color/colormaps_reference.html) to ColorMaps in its docs.\n",
    "* The only real pandas call we’re making here is <font color='blue'>ma.plot()</font>. This calls <font color='blue'>plt.plot()</font> internally, so to integrate the object-oriented approach, we need to get an explicit reference to the current [**Axes**](https://matplotlib.org/stable/api/_as_gen/matplotlib.axes.Axes.html) with `ax = plt.gca()`.\n",
    "* The second chunk of code creates color-filled blocks that correspond to each bin of state. `cmap([0.2, 0.4, 0.6, 0.8])` says, “Get us an RGBA sequence for the colors at the 20th, 40th, 60th, and 80th ‘percentile’ along the ColorMaps’ spectrum.” `enumerate()` is used because we want to map each RGBA color back to a state.\n",
    "\n",
    "<br/>\n",
    "\n",
    "Pandas also comes built-out with a smattering of more advanced plots (which could take up an entire tutorial all on their own). However, all of these, like their simpler counterparts, rely on matplotlib machinery internally."
   ]
  },
  {
   "cell_type": "markdown",
   "id": "64aabfb9",
   "metadata": {},
   "source": [
    "<a id='sect9'></a>\n",
    "## <font color='darkblue'>Wrapping Up</font> ([back](#sect0))\n",
    "As shown by some of the examples above, there’s no getting around the fact that matplotlib can be a technical, syntax-heavy library. Creating a production-ready chart sometimes requires a half hour of Googling and combining a hodgepodge of lines in order to fine-tune a plot.\n",
    "\n",
    "However, understanding how matplotlib’s interfaces interact is an investment that can pay off down the road. As Real Python’s own Dan Bader has advised, <b>taking the time to dissect code rather than resorting to the Stack Overflow “copy pasta” solution tends to be a smarter long-term solution. Sticking to the object-oriented approach can save hours of frustration when you want to take a plot from plain to a work of art</b>."
   ]
  },
  {
   "cell_type": "markdown",
   "id": "aebd89a5",
   "metadata": {},
   "source": [
    "## <font color='darkblue'>Appendix A: Configuration and Styling</font> ([back](#sect0))\n",
    "If you’ve been following along with this tutorial, it’s likely that the plots popping up on your screen look different stylistically than the ones shown here. Matplotlib offers two ways to configure style in a uniform way across different plots:\n",
    "1. By customizing a [matplotlibrc](https://matplotlib.org/users/customizing.html) file\n",
    "2. By changing your configuration parameters interactively, or from a .py script.\n",
    "\n",
    "A `matplotlibrc` file (<font color='brown'>Option \\#1 above</font>) is basically a text file specifying user-customized settings that are remembered between Python sessions. On Mac OS X, this normally resides at <font color='olive'>~/.matplotlib/matplotlibrc</font>.\n",
    "\n",
    "<b><font color='darkred'>Quick Tip:</font></b>\n",
    "> GitHub is a great place to keep configuration files. I keep mine here. Just make sure that they don’t contain personally identifiable or private information, such as passwords or SSH private keys!"
   ]
  },
  {
   "cell_type": "markdown",
   "id": "627ff6a9",
   "metadata": {},
   "source": [
    "Alternatively, you can change your configuration parameters interactively (<font color='brown'>Option \\#2 above</font>). When you `import matplotlib.pyplot as plt`, you get access to an `rcParams` object that resembles a Python dictionary of settings. All of the module objects starting with “rc” are a means to interact with your plot styles and settings:"
   ]
  },
  {
   "cell_type": "code",
   "execution_count": 57,
   "id": "a4917804",
   "metadata": {},
   "outputs": [
    {
     "data": {
      "text/plain": [
       "['rc',\n",
       " 'rcParams',\n",
       " 'rcParamsDefault',\n",
       " 'rcParamsOrig',\n",
       " 'rc_context',\n",
       " 'rcdefaults',\n",
       " 'rcsetup']"
      ]
     },
     "execution_count": 57,
     "metadata": {},
     "output_type": "execute_result"
    }
   ],
   "source": [
    "[attr for attr in dir(plt) if attr.startswith('rc')]"
   ]
  },
  {
   "cell_type": "markdown",
   "id": "620abca3",
   "metadata": {},
   "source": [
    "Of these:\n",
    "* `plt.rcdefaults()` restores the rc parameters from matplotlib’s internal defaults, which are listed at `plt.rcParamsDefault`. This will revert (<font color='brown'>overwrite</font>) whatever you’ve already customized in a <font color='olive'>matplotlibrc</font> file.\n",
    "* `plt.rc()` is used for setting parameters interactively.\n",
    "* `plt.rcParams` is a (<font color='brown'>mutable</font>) dictionary-like object that lets you manipulate settings directly. If you have customized settings in a <font color='olive'>matplotlibrc</font> file, these will be reflected in this dictionary.\n",
    "\n",
    "<br/>\n",
    "\n",
    "With `plt.rc()` and `plt.rcParams`, these two syntaxes are equivalent for adjusting settings:\n",
    "```python\n",
    ">>> plt.rc('lines', linewidth=2, color='r')  # Syntax 1\n",
    "\n",
    ">>> plt.rcParams['lines.linewidth'] = 2  # Syntax 2\n",
    ">>> plt.rcParams['lines.color'] = 'r'\n",
    "```\n",
    "\n",
    "<br/>\n",
    "\n",
    "Notably, the [**Figure**](https://matplotlib.org/stable/api/figure_api.html#matplotlib.figure.Figure) class then uses some of these as its default arguments.\n",
    "\n",
    "Relatedly, a style is just a predefined cluster of custom settings. To view available styles, use:"
   ]
  },
  {
   "cell_type": "code",
   "execution_count": 58,
   "id": "ad3861ca",
   "metadata": {},
   "outputs": [
    {
     "data": {
      "text/plain": [
       "['Solarize_Light2',\n",
       " '_classic_test_patch',\n",
       " '_mpl-gallery',\n",
       " '_mpl-gallery-nogrid',\n",
       " 'bmh',\n",
       " 'classic',\n",
       " 'dark_background',\n",
       " 'fast',\n",
       " 'fivethirtyeight',\n",
       " 'ggplot',\n",
       " 'grayscale',\n",
       " 'seaborn-v0_8',\n",
       " 'seaborn-v0_8-bright',\n",
       " 'seaborn-v0_8-colorblind',\n",
       " 'seaborn-v0_8-dark',\n",
       " 'seaborn-v0_8-dark-palette',\n",
       " 'seaborn-v0_8-darkgrid',\n",
       " 'seaborn-v0_8-deep',\n",
       " 'seaborn-v0_8-muted',\n",
       " 'seaborn-v0_8-notebook',\n",
       " 'seaborn-v0_8-paper',\n",
       " 'seaborn-v0_8-pastel',\n",
       " 'seaborn-v0_8-poster',\n",
       " 'seaborn-v0_8-talk',\n",
       " 'seaborn-v0_8-ticks',\n",
       " 'seaborn-v0_8-white',\n",
       " 'seaborn-v0_8-whitegrid',\n",
       " 'tableau-colorblind10']"
      ]
     },
     "execution_count": 58,
     "metadata": {},
     "output_type": "execute_result"
    }
   ],
   "source": [
    "plt.style.available"
   ]
  },
  {
   "cell_type": "markdown",
   "id": "f0303241",
   "metadata": {},
   "source": [
    "To set a style, make this call:"
   ]
  },
  {
   "cell_type": "code",
   "execution_count": 59,
   "id": "3c7ceb8b",
   "metadata": {},
   "outputs": [],
   "source": [
    "plt.style.use('fivethirtyeight')"
   ]
  },
  {
   "cell_type": "markdown",
   "id": "50854869",
   "metadata": {},
   "source": [
    "Your plots will now take on a new look:"
   ]
  },
  {
   "cell_type": "code",
   "execution_count": 60,
   "id": "8db51730",
   "metadata": {},
   "outputs": [
    {
     "data": {
      "image/png": "[encoded data removed]",
      "text/plain": [
       "<Figure size 300x300 with 1 Axes>"
      ]
     },
     "metadata": {},
     "output_type": "display_data"
    }
   ],
   "source": [
    "x = np.linspace(0, 10)\n",
    "\n",
    "# Fixing random state for reproducibility\n",
    "np.random.seed(19680801)\n",
    "\n",
    "fig, ax = plt.subplots()\n",
    "\n",
    "ax.plot(x, np.sin(x) + x + np.random.randn(50))\n",
    "ax.plot(x, np.sin(x) + 0.5 * x + np.random.randn(50))\n",
    "ax.plot(x, np.sin(x) + 2 * x + np.random.randn(50))\n",
    "ax.plot(x, np.sin(x) - 0.5 * x + np.random.randn(50))\n",
    "ax.plot(x, np.sin(x) - 2 * x + np.random.randn(50))\n",
    "ax.plot(x, np.sin(x) + np.random.randn(50))\n",
    "ax.set_title(\"'fivethirtyeight' style sheet\")\n",
    "\n",
    "plt.show()"
   ]
  },
  {
   "cell_type": "markdown",
   "id": "94c7ea04",
   "metadata": {},
   "source": [
    "This full example is available [here](https://matplotlib.org/examples/style_sheets/plot_fivethirtyeight.html). For inspiration, matplotlib keeps some [style sheet displays](https://matplotlib.org/gallery.html#style_sheets) for reference as well."
   ]
  },
  {
   "cell_type": "markdown",
   "id": "f2d717d4",
   "metadata": {},
   "source": [
    "## <font color='darkblue'>Appendix B: Interactive Mode</font> ([back](#sect0))\n",
    "Behind the scenes, matplotlib also interacts with different backends. A backend is the workhorse behind actually rendering a chart. (<font color='brown'>On the popular Anaconda distribution, for instance, the default backend is Qt5Agg.</font>) Some backends are interactive, meaning they are dynamically updated and “pop up” to the user when changed.\n",
    "\n",
    "While interactive mode is off by default, you can check its status with `plt.rcParams['interactive']` or `plt.isinteractive()`, and toggle it on and off with `plt.ion()` and `plt.ioff()`, respectively:"
   ]
  },
  {
   "cell_type": "code",
   "execution_count": 61,
   "id": "629c48f3",
   "metadata": {},
   "outputs": [
    {
     "data": {
      "text/plain": [
       "True"
      ]
     },
     "execution_count": 61,
     "metadata": {},
     "output_type": "execute_result"
    }
   ],
   "source": [
    "plt.rcParams['interactive']"
   ]
  },
  {
   "cell_type": "code",
   "execution_count": 62,
   "id": "0f4561d6",
   "metadata": {},
   "outputs": [
    {
     "data": {
      "text/plain": [
       "False"
      ]
     },
     "execution_count": 62,
     "metadata": {},
     "output_type": "execute_result"
    }
   ],
   "source": [
    "plt.ioff()\n",
    "plt.rcParams['interactive']"
   ]
  },
  {
   "cell_type": "markdown",
   "id": "c0d61902",
   "metadata": {},
   "source": [
    "In some code examples, you may notice the presence of `plt.show()` at the end of a chunk of code. The main purpose of `plt.show()`, as the name implies, is to actually “show” (<font color='brown'>open</font>) the figure <b>when you’re running with interactive mode turned off. In other words</b>:\n",
    "* If interactive mode is on, you don’t need `plt.show()`, and images will automatically pop-up and be updated as you reference them.\n",
    "* If interactive mode is off, you’ll need `plt.show()` to display a figure and `plt.draw()` to update a plot.\n",
    "\n",
    "<b>Notably, interactive mode has nothing to do with what IDE you’re using</b>, or whether you’ve enable inline plotting with something like jupyter notebook `--matplotlib inline` or `%matplotlib`."
   ]
  },
  {
   "cell_type": "markdown",
   "id": "1e697472",
   "metadata": {},
   "source": [
    "## <font color='darkblue'>Supplement</font>\n",
    "* [Stackoverflow - prevent plot from showing in jupyter notebook](https://stackoverflow.com/questions/18717877/prevent-plot-from-showing-in-jupyter-notebook)"
   ]
  }
 ],
 "metadata": {
  "kernelspec": {
   "display_name": "Python 3 (ipykernel)",
   "language": "python",
   "name": "python3"
  },
  "language_info": {
   "codemirror_mode": {
    "name": "ipython",
    "version": 3
   },
   "file_extension": ".py",
   "mimetype": "text/x-python",
   "name": "python",
   "nbconvert_exporter": "python",
   "pygments_lexer": "ipython3",
   "version": "3.10.9"
  }
 },
 "nbformat": 4,
 "nbformat_minor": 5
}
