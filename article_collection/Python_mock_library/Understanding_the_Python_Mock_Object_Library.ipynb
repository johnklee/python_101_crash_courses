{
 "cells": [
  {
   "cell_type": "markdown",
   "id": "561f322d-f729-4e84-9dce-b78ff3132434",
   "metadata": {
    "jp-MarkdownHeadingCollapsed": true
   },
   "source": [
    "## <b><font color='darkblue'>Preface</font></b>\n",
    "([article source](https://realpython.com/python-mock-library/)) When you’re writing robust code, tests are essential for verifying that your application logic is correct, reliable, and efficient. <b>However, the value of your tests depends on how well they demonstrate these criteria. <font size='3ptx'>Obstacles such as complex logic and unpredictable dependencies make writing valuable tests difficult. The Python mock object library, [unittest.mock](https://docs.python.org/3/library/unittest.mock.html), can help you overcome these obstacles</font></b>.\n",
    "\n",
    "By the end of this article, you’ll be able to:\n",
    "\n",
    "* Create Python mock objects using [**Mock**](https://docs.python.org/3/library/unittest.mock.html#the-mock-class)\r\n",
    "* Assert you’re using objects as you intended\r\n",
    "* Inspect usage data stored on your Python mocks\r\n",
    "* Configure certain aspects of your Python mock objects\r\n",
    "* Substitute your mocks for real objects us[ing pat](https://docs.python.org/3/library/unittest.mock.html#unittest.mock.patch)ch()\r\n",
    "* Avoid common problems inherent in Python moc\n",
    "\n",
    "You’ll begin by seeing what mocking is and how it will improve your tests.king\r\n",
    "cking"
   ]
  },
  {
   "cell_type": "markdown",
   "id": "1cf8f72d-6caf-428b-b25a-ca37faf3e466",
   "metadata": {},
   "source": [
    "## <b><font color='darkblue'>What Is Mocking?</font></b>\n",
    "<b><font size='3ptx'>A [mock object](https://en.wikipedia.org/wiki/Mock_object) substitutes and imitates a real object within a [testing environment](https://realpython.com/python-testing/). It is a versatile and powerful tool for improving [the quality of your tests](https://realpython.com/python-cli-testing/#mocks).</font> One reason to use Python mock objects is to control your code’s behavior during testing.</b>\n",
    "\n",
    "For example, if your code makes [**HTTP requests**](https://realpython.com/python-requests/) to external services, then your tests execute predictably only so far as the services are behaving as you expected. Sometimes, a temporary change in the behavior of these external services can cause intermittent failures within your test suite.\n",
    "\n",
    "Because of this, it would be better for you to test your code in a controlled environment. [**Replacing the actual request with a mock object**](https://realpython.com/testing-third-party-apis-with-mocks/) would allow you to simulate external service outages and successful responses in a predictable way.\n",
    "\n",
    "Sometimes, it is difficult to test certain areas of your codebase. Such areas include except blocks and if statements that are hard to satisfy. Using Python mock objects can help you control the execution path of your code to reach these areas and improve your [**code coverage**](https://en.wikipedia.org/wiki/Code_coverage).\n",
    "\n",
    "<b>Another reason to use mock objects is to better understand how you’re using their real counterparts in your code</b>. A Python mock object contains data about its usage that you can inspect such as:\n",
    "\n",
    "* If you called a method\n",
    "* How you called the method\n",
    "* How often you called the method\n",
    "\n",
    "<b>Understanding what a mock object does is the first step to learning how to use one</b> .od"
   ]
  },
  {
   "cell_type": "markdown",
   "id": "7139ff2a-e9a9-40e8-a87b-d655abfbd882",
   "metadata": {},
   "source": [
    "## <b><font color='darkblue'>The Python Mock Library</font></b>\n",
    "The Python [**mock object library**](https://docs.python.org/3/library/unittest.mock.html) is [**unittest.mock**](https://docs.python.org/3/library/unittest.mock.html#). It provides an easy way to introduce mocks into your tests.\n",
    "\n",
    "<b><font color='darkred'>Note</font></b>: The standard library includes [**unittest.mock**](https://docs.python.org/3/library/unittest.mock.html#) in Python 3.3 and later. To install it in order Python runtime:\n",
    "> $ pip install mock\n",
    "\n",
    "unittest.mock provides a class called Mock which you will use to imitate real objects in your codebase. Mock offers incredible flexibility and insightful data. This, along with its subclasses, will meet most Python mocking needs that you will face in your tests.\n",
    "\n",
    "<b>The library also provides a function, called [patch()](https://docs.python.org/3/library/unittest.mock.html#unittest.mock.patch), which replaces the real objects in your code with [Mock](https://docs.python.org/3/library/unittest.mock.html#the-mock-class) instances</b>. You can use [patch()](https://docs.python.org/3/library/unittest.mock.html#unittest.mock.patch) as either a decorator or a context manager, giving you control over the scope in which the object will be mocked. <b>Once the designated scope exits, [patch()](https://docs.python.org/3/library/unittest.mock.html#unittest.mock.patch) will clean up your code by replacing the mocked objects with their original counterparts</b>.\n",
    "\n",
    "Finally, [**unittest.mock**](https://docs.python.org/3/library/unittest.mock.html#) provides solutions for some of the issues inherent in mocking objects.\n",
    "\n",
    "Now, you have a better understanding of what mocking is and the library you’ll be using to do it. Let’s dive in and explore what features and functionalities [**unittest.mock**](https://docs.python.org/3/library/unittest.mock.html#) offers."
   ]
  },
  {
   "cell_type": "markdown",
   "id": "31aa18ac-5967-46b2-9cdd-e76369460a42",
   "metadata": {},
   "source": [
    "## <b><font color='darkblue'>The `Mock` Object</font></b>\n",
    "<b><font size='3ptx'>[unittest.mock](https://docs.python.org/3/library/unittest.mock.html#) offers a base class for mocking objects called [Mock](https://docs.python.org/3/library/unittest.mock.html#the-mock-class). The use cases for [Mock](https://docs.python.org/3/library/unittest.mock.html#the-mock-class) are practically limitless because [Mock](https://docs.python.org/3/library/unittest.mock.html#the-mock-class) is so flexible.</font></b>\n",
    "\n",
    "Begin by instantiating a new [Mock](https://docs.python.org/3/library/unittest.mock.html#the-mock-class) instance:"
   ]
  },
  {
   "cell_type": "code",
   "execution_count": 1,
   "id": "c23020b6-7e64-4b44-9397-cf3175000276",
   "metadata": {},
   "outputs": [],
   "source": [
    "from unittest.mock import Mock"
   ]
  },
  {
   "cell_type": "code",
   "execution_count": 2,
   "id": "d6f7ff7e-04e7-4e5f-884e-fbd3602d2159",
   "metadata": {},
   "outputs": [
    {
     "data": {
      "text/plain": [
       "<Mock id='139735358937104'>"
      ]
     },
     "execution_count": 2,
     "metadata": {},
     "output_type": "execute_result"
    }
   ],
   "source": [
    "mock = Mock()\n",
    "mock"
   ]
  },
  {
   "cell_type": "markdown",
   "id": "4ef4fdc4-41fe-4465-9d93-ab0693df82dc",
   "metadata": {},
   "source": [
    "Now, you are able to substitute an object in your code with your new Mock. You can do this by passing it as an argument to a function or by redefining another object. For example:\n",
    "\n",
    "```python\n",
    "# Pass mock as an argument to do_something()\r\n",
    "do_something(mock)\r\n",
    "\r\n",
    "# Patch the json library\r\n",
    "json = mock\n",
    "```"
   ]
  },
  {
   "cell_type": "markdown",
   "id": "c2b9e726-8589-45aa-88e3-8425e2fecabf",
   "metadata": {},
   "source": [
    "When you substitute an object in your code, the [**Mock**](https://docs.python.org/3/library/unittest.mock.html#the-mock-class) must look like the real object it is replacing. Otherwise, your code will not be able to use the [**Mock**](https://docs.python.org/3/library/unittest.mock.html#the-mock-class) in place of the original object.\n",
    "\n",
    "For example, if you are mocking the json library and your program calls <font color='blue'>dumps()</font>, then your Python mock object must also contain <font color='blue'>dumps()</font>.\n",
    "\n",
    "Next, you’ll see how [**Mock**](https://docs.python.org/3/library/unittest.mock.html#the-mock-class) deals with this challenge."
   ]
  },
  {
   "cell_type": "markdown",
   "id": "6f192af1-5947-413b-ac86-cdf94a54cba0",
   "metadata": {},
   "source": [
    "### <b><font color='darkgreen'>Lazy Attributes and Methods</font></b>\n",
    "<b><font size='3ptx'>A [**Mock**](https://docs.python.org/3/library/unittest.mock.html#the-mock-class) must simulate any object that it replaces. To achieve such flexibility, it [creates its attributes when you access them](https://docs.python.org/3/library/unittest.mock.html#quick-guide).</font></b>"
   ]
  },
  {
   "cell_type": "code",
   "execution_count": 3,
   "id": "33f8f128-6419-4ed1-8018-14fa842135bb",
   "metadata": {},
   "outputs": [
    {
     "data": {
      "text/plain": [
       "<Mock name='mock.some_attribute' id='139735359018960'>"
      ]
     },
     "execution_count": 3,
     "metadata": {},
     "output_type": "execute_result"
    }
   ],
   "source": [
    "mock.some_attribute"
   ]
  },
  {
   "cell_type": "code",
   "execution_count": 4,
   "id": "fc8b7b5a-fd73-4503-894c-b1c6dde3eefe",
   "metadata": {},
   "outputs": [
    {
     "data": {
      "text/plain": [
       "<Mock name='mock.do_something()' id='139735393606864'>"
      ]
     },
     "execution_count": 4,
     "metadata": {},
     "output_type": "execute_result"
    }
   ],
   "source": [
    "mock.do_something()"
   ]
  },
  {
   "cell_type": "markdown",
   "id": "d8c817e2-c7c9-4a5f-8299-a7f2e3d2f9f9",
   "metadata": {},
   "source": [
    "Since [**Mock**](https://docs.python.org/3/library/unittest.mock.html#the-mock-class) can create arbitrary attributes on the fly, it is suitable to replace any object.\n",
    "\n",
    "Using an example from earlier, if you’re mocking the [**json library**](https://docs.python.org/3/library/json.html) and you call <font color='blue'>dumps()</font>, the Python `mock` object will create the method so that its interface can match the library’s interface:"
   ]
  },
  {
   "cell_type": "code",
   "execution_count": 5,
   "id": "043e1fc5-fa6e-40a6-a65e-140b935a79a6",
   "metadata": {},
   "outputs": [],
   "source": [
    "mock_json = Mock()"
   ]
  },
  {
   "cell_type": "code",
   "execution_count": 6,
   "id": "38d83504-c47e-4515-984e-9921351c10d5",
   "metadata": {},
   "outputs": [
    {
     "data": {
      "text/plain": [
       "<Mock name='mock.dumps()' id='139735394008336'>"
      ]
     },
     "execution_count": 6,
     "metadata": {},
     "output_type": "execute_result"
    }
   ],
   "source": [
    "mock_json.dumps()"
   ]
  },
  {
   "cell_type": "code",
   "execution_count": 7,
   "id": "562763b9-5265-488f-b113-5c09d4a585bc",
   "metadata": {},
   "outputs": [],
   "source": [
    "# `assert_called_with` is a special method ready in mock object to\n",
    "# confirm the mock method is called with the way you expect.\n",
    "mock_json.dumps.assert_called_with()"
   ]
  },
  {
   "cell_type": "markdown",
   "id": "83fae47a-d0ff-4bc3-b7fe-41881a8c6ead",
   "metadata": {},
   "source": [
    "Notice two key characteristics of this mocked version of <font color='blue'>dumps()</font>:\n",
    "\n",
    "1. Unlike the real <font color='blue'>dumps()</font>, this mocked method requires no arguments. In fact, it will accept any arguments that you pass to it.\r\n",
    "2. The return value of <font color='blue'>dumps()</font> is also a [**Mock**](https://docs.python.org/3/library/unittest.mock.html#the-mock-class). The capability of [**Mock**](https://docs.python.org/3/library/unittest.mock.html#the-mock-class) to recursively define other mocks allows for you to use mocks in complex situations::"
   ]
  },
  {
   "cell_type": "code",
   "execution_count": 8,
   "id": "4baec671-fd19-4a6e-b9bf-3dae38c5f3c0",
   "metadata": {},
   "outputs": [
    {
     "data": {
      "text/plain": [
       "<Mock name='mock.loads().get()' id='139735359084816'>"
      ]
     },
     "execution_count": 8,
     "metadata": {},
     "output_type": "execute_result"
    }
   ],
   "source": [
    "mock_json = Mock()\n",
    "mock_json.loads('{\"k\": \"v\"}').get('k')"
   ]
  },
  {
   "cell_type": "markdown",
   "id": "df1e23bc-0a20-4e52-95a8-e7728fbf421b",
   "metadata": {},
   "source": [
    "Because the return value of each mocked method is also a [**Mock**](https://docs.python.org/3/library/unittest.mock.html#the-mock-class), you can use your mocks in a multitude of ways. <b>[Mocks](https://docs.python.org/3/library/unittest.mock.html#the-mock-class) are flexible, but they’re also informative. Next, you’ll learn how you can use mocks to understand your code better.</b>"
   ]
  },
  {
   "cell_type": "markdown",
   "id": "5e0827c5-1ccf-4abb-b2ff-6e3c4881ac54",
   "metadata": {},
   "source": [
    "### <b><font color='darkgreen'>Assertions and Inspection</font></b>\n",
    "<b><font size='3ptx'>[Mock](https://docs.python.org/3/library/unittest.mock.html#the-mock-class) instances store data on how you used them</font>. For instance, you can see if you called a method, how you called the method, and so on. There are two main ways to use this information.</b>\n",
    "\n",
    "First, you can assert that your program used an object as you expected:"
   ]
  },
  {
   "cell_type": "markdown",
   "id": "a5698ea5-91ff-4aef-aa26-ddad7028928f",
   "metadata": {},
   "source": [
    "```python\n",
    ">>> from unittest.mock import Mock\r\n",
    "\r\n",
    ">>> # Create a mock object\r\n",
    "... json = Mock()\r\n",
    "\r\n",
    ">>> json.loads('{\"key\": \"value\"}')\r\n",
    "<Mock name='mock.loads()' id='4550144184'>\r\n",
    "\r\n",
    ">>> # You know that you called loads() so you can\r\n",
    ">>> # make assertions to test that expectation\r\n",
    "... json.loads.assert_called()\r\n",
    ">>> json.loads.assert_called_once()\r\n",
    ">>> json.loads.assert_called_with('{\"key\": \"value\"}')\r\n",
    ">>> json.loads.assert_called_once_with('{\"key\": \"value\"}')\r\n",
    "\r\n",
    ">>> json.loads('{\"key\": \"value\"}')\r\n",
    "<Mock name='mock.loads()' id='4550144184'>\r\n",
    "\r\n",
    ">>> # If an assertion fails, the mock will raise an AssertionError\r\n",
    "... json.loads.assert_called_once()\r\n",
    "Traceback (most recent call last):\r\n",
    "  File \"<stdin>\", line 1, in <module>\r\n",
    "  File \"/usr/local/Cellar/python/3.6.5/Frameworks/Python.framework/Versions/3.6/lib/python3.6/unittest/mock.py\", line 795, in assert_called_once\r\n",
    "    raise AssertionError(msg)\r\n",
    "AssertionError: Expected 'loads' to have been call not have been called. Called 2 times.\n",
    "```"
   ]
  },
  {
   "cell_type": "markdown",
   "id": "f5b04102-3438-4b4c-b95b-0191fbfa3ed6",
   "metadata": {},
   "source": [
    "```python\n",
    ">>> json.loads.assert_called_once_with('{\"key\": \"value\"}')\n",
    "Traceback (most recent call last):\n",
    "  File \"<stdin>\", line 1, in <module>\n",
    "  File \"/usr/local/Cellar/python/3.6.5/Frameworks/Python.framework/Versions/3.6/lib/python3.6/unittest/mock.py\", line 824, in assert_called_once_with\n",
    "    raise AssertionError(msg)\n",
    "AssertionError: Expected 'loads' to be called once. Called 2 times.\n",
    "```"
   ]
  },
  {
   "cell_type": "markdown",
   "id": "da78341d-cf85-47be-b77d-f24ceb18670f",
   "metadata": {},
   "source": [
    "```python\n",
    ">>> json.loads.assert_not_called()\n",
    "Traceback (most recent call last):\n",
    "  File \"<stdin>\", line 1, in <module>\n",
    "  File \"/usr/local/Cellar/python/3.6.5/Frameworks/Python.framework/Versions/3.6/lib/python3.6/unittest/mock.py\", line 777, in assert_not_called\n",
    "    raise AssertionError(msg)\n",
    "AssertionError: Expected 'loads' to not have been called. Called 2 times.\n",
    "```"
   ]
  },
  {
   "cell_type": "markdown",
   "id": "642c5cf8-1bc9-4c5d-8059-b7a35138926a",
   "metadata": {},
   "source": [
    "[.assert_called()](https://docs.python.org/3/library/unittest.mock.html#unittest.mock.Mock.assert_called) ensures you called the mocked method while [.assert_called_once()](https://docs.python.org/3/library/unittest.mock.html#unittest.mock.Mock.assert_called_once) checks that you called the method exactly one time ([more](https://docs.python.org/3/library/unittest.mock.html#unittest.mock.Mock)).\n",
    "\n",
    "Both assertion functions have variants that let you inspect the arguments passed to the mocked method:\n",
    "\n",
    "\r\n",
    "* [.assert_called_with(*args, **kwargs)](https://docs.python.org/3/library/unittest.mock.html#unittest.mock.Mock.assert_called_with)\r\n",
    "* [.assert_called_once_with(*args, **kwargs)](https://docs.python.org/3/library/unittest.mock.html#unittest.mock.Mock.assert_called_once_wh)it\n",
    "\n",
    "To pass these assertions, you must call the mocked method with the same arguments that you pass to the actual method:h)"
   ]
  },
  {
   "cell_type": "markdown",
   "id": "a30dec01-9929-44a9-8d46-87ef4c764430",
   "metadata": {},
   "source": [
    "```python\n",
    ">>> json = Mock()\r\n",
    ">>> json.loads(s='{\"key\": \"value\"}')\r\n",
    ">>> json.loads.assert_called_with('{\"key\": \"value\"}')\r\n",
    "Traceback (most recent call last):\r\n",
    "  File \"<stdin>\", line 1, in <module>\r\n",
    "  File \"/usr/local/Cellar/python/3.6.5/Frameworks/Python.framework/Versions/3.6/lib/python3.6/unittest/mock.py\", line 814, in assert_called_with\r\n",
    "    raise AssertionError(_error_message()) from cause\r\n",
    "AssertionError: Expected call: loads('{\"key\": \"value\"}')\r\n",
    "Actual call: loads(s='{\"key\": \"value\"}')\r\n",
    ">>> json.loads.assert_called_with(s='{\"key\": \"value\"}')\n",
    "```"
   ]
  },
  {
   "cell_type": "markdown",
   "id": "89e550e1-dc10-4090-8eb9-280c56eccb45",
   "metadata": {},
   "source": [
    "Second, you can <b>view special attributes to understand how your application used an object</b>:"
   ]
  },
  {
   "cell_type": "markdown",
   "id": "b84eac50-d3c7-4392-b360-6c4f51adf0aa",
   "metadata": {},
   "source": [
    "```python\n",
    ">>> from unittest.mock import Mock\r\n",
    "\r\n",
    ">>> # Create a mock object\r\n",
    "... json = Mock()\r\n",
    ">>> json.loads('{\"key\": \"value\"}')\r\n",
    "<Mock name='mock.loads()' id='4391026640'>\r\n",
    "\r\n",
    ">>> # Number of times you called loads():\r\n",
    "... json.loads.call_count\r\n",
    "1\r\n",
    ">>> # The last loads() call:\r\n",
    "... json.loads.call_args\r\n",
    "call('{\"key\": \"value\"}')\r\n",
    ">>> # List of loads() calls:\r\n",
    "... json.loads.call_args_list\r\n",
    "[call('{\"key\": \"value\"}')]\r\n",
    ">>> # List of calls to json's methods (recursively):\r\n",
    "... json.method_calls\r\n",
    "[call.loads('{\"key\": \"value\"}')]\n",
    "```"
   ]
  },
  {
   "cell_type": "markdown",
   "id": "30cb1935-5480-418e-bd0a-1ffd4ff90c8c",
   "metadata": {},
   "source": [
    "You can write tests using these attributes to make sure that your objects behave as you intended.\r\n",
    "\r\n",
    "Now, you can create mocks and inspect their usage data. Next, you’ll see how to customize mocked methods so that they become more useful in your testing environment."
   ]
  },
  {
   "cell_type": "markdown",
   "id": "618e5b4c-a387-486e-b235-388e8e969514",
   "metadata": {},
   "source": [
    "### <b><font color='darkgreen'>Managing a Mock’s Return Value</font></b>\n",
    "([source](https://realpython.com/python-mock-library/#managing-a-mocks-return-value)) <b><font size='3ptx'>One reason to use mocks is to control your code’s behavior during tests. One way to do this is to specify a function’s [return value](https://docs.python.org/3/library/unittest.mock.html#unittest.mock.Mock.return_value). Let’s use an example to see how this works</font></b>.\n",
    "\n",
    "First, create a file called <font color='olive'>my_calendar.py</font>. Add <font color='blue'>is_weekday()</font>, a function that uses Python’s datetime library to determine whether or not today is a week day. Finally, write a test that asserts that the function works as expected:"
   ]
  },
  {
   "cell_type": "markdown",
   "id": "f82b12d7-7cca-4f19-aaf3-3a15c9714f36",
   "metadata": {},
   "source": [
    "```python\n",
    "from datetime import datetime\r\n",
    "\r\n",
    "def is_weekday():\r\n",
    "    today = datetime.today()\r\n",
    "    # Python's datetime library treats Monday as 0 and Sunday as 6\r\n",
    "    return (0 <= today.weekday() < 5)\n",
    "```"
   ]
  },
  {
   "cell_type": "markdown",
   "id": "a308f6df-b73f-4c87-997c-f58a16a56049",
   "metadata": {},
   "source": [
    "<b>When writing tests, it is important to ensure that the results are predictable.</b> You can use [**Mock**](https://docs.python.org/3/library/unittest.mock.html#the-mock-class) to eliminate uncertainty from your code during testing."
   ]
  },
  {
   "cell_type": "code",
   "execution_count": 11,
   "id": "03574846-5b36-4ec7-a573-5692ba2d6bd7",
   "metadata": {},
   "outputs": [],
   "source": [
    "import datetime\n",
    "\n",
    "# Save a couple of test days\n",
    "tuesday = datetime.datetime(year=2019, month=1, day=1)\n",
    "saturday = datetime.datetime(year=2019, month=1, day=5)\n",
    "\n",
    "mock_datetime = Mock()\n",
    "\n",
    "def is_weekday():\n",
    "    today = mock_datetime.today()\n",
    "    # Python's datetime library treats Monday as 0 and Sunday as 6\n",
    "    return (0 <= today.weekday() < 5)"
   ]
  },
  {
   "cell_type": "code",
   "execution_count": 14,
   "id": "2085f936-2b5e-427e-b26b-4eb363620c6c",
   "metadata": {},
   "outputs": [],
   "source": [
    "# Test weekday\n",
    "mock_datetime.today.return_value = tuesday\n",
    "\n",
    "assert is_weekday() == True"
   ]
  },
  {
   "cell_type": "code",
   "execution_count": 13,
   "id": "37445962-7e5b-4809-b0b3-d16df0320452",
   "metadata": {},
   "outputs": [],
   "source": [
    "# Test not weekday\n",
    "mock_datetime.today.return_value = saturday\n",
    "\n",
    "assert is_weekday() == False"
   ]
  },
  {
   "cell_type": "markdown",
   "id": "4229e1a7-8795-4349-8f68-6c5029d8a840",
   "metadata": {},
   "source": [
    "In this case, you can mock datetime as `mock_datetime` and set the `.return_value` for <font color='blue'>.today()</font> to a day that you choose.\n",
    "\n",
    "<b><font color='orange'>Quiz:</font></b> Please modify <font color='olive'>test_my_calendar.py</font> to pass all unit test cases."
   ]
  },
  {
   "cell_type": "markdown",
   "id": "b3d8d254-f41e-4563-9628-bc1cfb0654a8",
   "metadata": {},
   "source": [
    "Sometimes, you’ll want to make functions return different values when you call them more than once or even raise exceptions. You can do this using `.side_effect`."
   ]
  },
  {
   "cell_type": "markdown",
   "id": "1bb679bb-79a8-4f0b-9320-d09008295308",
   "metadata": {},
   "source": [
    "### <b><font color='darkgreen'>Managing a Mock’s Side Effects</font></b>\n",
    "<b><font size='3ptx'>You can control your code’s behavior by specifying a mocked function’s side effects. A `.side_effect` defines what happens when you call the mocked function.</font></b>\n",
    "\n",
    "To test how this works, add a new function to <font color='olive'>my_calendar.py</font>:"
   ]
  },
  {
   "cell_type": "code",
   "execution_count": 19,
   "id": "95409704-dd26-4f28-84cb-834bbc3ced5b",
   "metadata": {},
   "outputs": [],
   "source": [
    "import requests\n",
    "\n",
    "def get_holidays():\n",
    "    r = requests.get('http://localhost/api/holidays')\n",
    "    if r.status_code == 200:\n",
    "        return r.json()\n",
    "        \n",
    "    return None"
   ]
  },
  {
   "cell_type": "markdown",
   "id": "ad396d3d-cf22-486e-9aad-d33833e79d57",
   "metadata": {},
   "source": [
    "You can test how <font color='blue'>get_holidays()</font> will respond to a connection timeout by setting `requests.get.side_effect`."
   ]
  },
  {
   "cell_type": "markdown",
   "id": "d28d5b5d-872d-4d3c-ae56-b9be9c17cc45",
   "metadata": {},
   "source": [
    "```python\n",
    "import unittest\r\n",
    "from requests.exceptions import Timeout\r\n",
    "from unittest.mock import Mock\r\n",
    "\r\n",
    "# Mock requests to control its behavior\r\n",
    "requests = Mock()\r\n",
    "\r\n",
    "def get_holidays():\r\n",
    "    r = requests.get('http://localhost/api/holidays')\r\n",
    "    if r.status_code == 200:\r\n",
    "        return r.json()\r\n",
    "    return None\r\n",
    "\r\n",
    "class TestCalendar(unittest.TestCase):\r\n",
    "    def test_get_holidays_timeout(self):\r\n",
    "        # Test a connection timeout\r\n",
    "        requests.get.side_effect = Timeout\r\n",
    "        with self.assertRaises(Timeout):\r\n",
    "            get_holidays()\r\n",
    "\r\n",
    "if __name__ == '__main__':\r\n",
    "    unittest.main()\n",
    "```"
   ]
  },
  {
   "cell_type": "markdown",
   "id": "bce6377f-7572-48eb-8f40-ca0a7c2ac332",
   "metadata": {},
   "source": [
    "You use <font color='blue'>.assertRaises()</font> to verify that <font color='blue'>get_holidays()</font> raises an exception given the new side effect of <font color='blue'>get()</font>."
   ]
  },
  {
   "cell_type": "markdown",
   "id": "1363f802-1d6c-48d3-b56f-8494a65ea72b",
   "metadata": {},
   "source": [
    "If you want to be a little more dynamic, you can set `.side_effect` to a function that [**Mock**](https://docs.python.org/3/library/unittest.mock.html#the-mock-class) will invoke when you call your mocked method. The mock shares the arguments and return value of the `.side_effect` function:"
   ]
  },
  {
   "cell_type": "markdown",
   "id": "751c2079-5ded-4267-9069-17b5b2e93058",
   "metadata": {},
   "source": [
    "```python\n",
    "import requests\r\n",
    "import unittest\r\n",
    "from unittest.mock import Mock\r\n",
    "\r\n",
    "# Mock requests to control its behavior\r\n",
    "requests = Mock()\r\n",
    "\r\n",
    "def get_holidays():\r\n",
    "    r = requests.get('http://localhost/api/holidays')\r\n",
    "    if r.status_code == 200:\r\n",
    "        return r.json()\r\n",
    "    return None\r\n",
    "\r\n",
    "class TestCalendar(unittest.TestCase):\r\n",
    "    def log_request(self, url):\r\n",
    "        # Log a fake request for test output purposes\r\n",
    "        print(f'Making a request to {url}.')\r\n",
    "        print('Request received!')\r\n",
    "\r\n",
    "        # Create a new Mock to imitate a Response\r\n",
    "        response_mock = Mock()\r\n",
    "        response_mock.status_code = 200\r\n",
    "        response_mock.json.return_value = {\r\n",
    "            '12/25': 'Christmas',\r\n",
    "            '7/4': 'Independence Day',\r\n",
    "        }\r\n",
    "        return response_mock\r\n",
    "\r\n",
    "    def test_get_holidays_logging(self):\r\n",
    "        # Test a successful, logged request\r\n",
    "        requests.get.side_effect = self.log_request\r\n",
    "        assert get_holidays()['12/25'] == 'Christmas'\r\n",
    "\r\n",
    "if __name__ == '__main__':\r\n",
    "    unittest.main()\n",
    "```"
   ]
  },
  {
   "cell_type": "code",
   "execution_count": 20,
   "id": "6779fc3b-2369-4e3a-a87d-eff7dd664b1d",
   "metadata": {},
   "outputs": [
    {
     "name": "stdout",
     "output_type": "stream",
     "text": [
      "Making a request to http://localhost/api/holidays.\n",
      "Request received!\n",
      "...\n",
      "----------------------------------------------------------------------\n",
      "Ran 3 tests in 0.009s\n",
      "\n",
      "OK\n"
     ]
    }
   ],
   "source": [
    "!python test_my_calendar_v2.py"
   ]
  },
  {
   "cell_type": "markdown",
   "id": "ef16cff9-5563-45b0-9dad-79c3143adfa9",
   "metadata": {},
   "source": [
    "<b>`.side_effect` can also be an iterable. The iterable must consist of return values, exceptions, or a mixture of both</b>. The iterable will produce its next value every time you call your mocked method. For example, you can test that a retry after a <b><font color='blue'>Timeout</font></b> returns a successful response:\n",
    "- <font color='olive'>test_my_calendar_v2.py</font>"
   ]
  },
  {
   "cell_type": "markdown",
   "id": "a54ecc27-359f-446b-948a-8872c0fd3400",
   "metadata": {},
   "source": [
    "```python\n",
    "...\n",
    "  @mock.patch.object(my_calendar, 'requests', autospec=True)\r\n",
    "  def test_get_holidays_retry(self, mock_requests):\r\n",
    "    # Create a new Mock to imitate a Response\r\n",
    "    response_mock = mock.Mock()\r\n",
    "    response_mock.status_code = 200\r\n",
    "    response_mock.json.return_value = {\r\n",
    "        '12/25': 'Christmas',\r\n",
    "        '7/4': 'Independence Day',\r\n",
    "    }\r\n",
    "    # Set the side effect of .get()\r\n",
    "    mock_requests.get.side_effect = [Timeout, response_mock]\r\n",
    "  \r\n",
    "    # Test that the first request raises a Timeout\r\n",
    "    with self.assertRaises(Timeout):\r\n",
    "      my_calendar.get_holidays()\r\n",
    "\r\n",
    "    # Now retry, expecting a successful response\r\n",
    "    assert my_calendar.get_holidays()['12/25'] == 'Christmas'\r\n",
    "    # Finally, assert .get() was called twice\r\n",
    "    assert mock_requests.get.call_count == 2"
   ]
  },
  {
   "cell_type": "markdown",
   "id": "1c7f25bc-83d2-4729-95ad-320025a5f892",
   "metadata": {},
   "source": [
    "### <b><font color='darkgreen'>Configuring Your Mock</font></b>\n",
    "<b><font size='3ptx'>You can configure a [**Mock**](https://docs.python.org/3/library/unittest.mock.html#the-mock-class) to set up some of the object’s behaviors. Some configurable members include .side_effect, .return_value, and .name. You configure a Mock when you [create](https://docs.python.org/3/library/unittest.mock.html#unittest.mock.Mock) one or when you use [.configure_mock()](https://docs.python.org/3/library/unittest.mock.html#unittest.mock.Mock.configure_mock).</font></b>\n",
    "\n",
    "You can configure a [**Mock**](https://docs.python.org/3/library/unittest.mock.html#the-mock-class) by specifying certain attributes when you initialize an object:"
   ]
  },
  {
   "cell_type": "markdown",
   "id": "087eff03-6001-4dc5-9080-ad3ab44433e4",
   "metadata": {},
   "source": [
    "```python\n",
    ">>> mock = Mock(side_effect=Exception)\r\n",
    ">>> mock()\r\n",
    "Traceback (most recent call last):\r\n",
    "  File \"<stdin>\", line 1, in <module>\r\n",
    "  File \"/usr/local/Cellar/python/3.6.5/Frameworks/Python.framework/Versions/3.6/lib/python3.6/unittest/mock.py\", line 939, in __call__\r\n",
    "    return _mock_self._mock_call(*args, **kwargs)\r\n",
    "  File \"/usr/local/Cellar/python/3.6.5/Frameworks/Python.framework/Versions/3.6/lib/python3.6/unittest/mock.py\", line 995, in _mock_call\r\n",
    "    raise effect\r\n",
    "Exception\r\n",
    "\r\n",
    ">>> mock = Mock(name='Real Python Mock')\r\n",
    ">>> mock\r\n",
    "<Mock name='Real Python Mock' id='4434041432'>\r\n",
    "\r\n",
    ">>> mock = Mock(return_value=True)\r\n",
    ">>> mock()\r\n",
    "True\n",
    "```"
   ]
  },
  {
   "cell_type": "markdown",
   "id": "d2dda833-6ed3-41e5-b2b0-896ed3bf2462",
   "metadata": {},
   "source": [
    "While `.side_effect` and `.return_value` can be set on the [**Mock**](https://docs.python.org/3/library/unittest.mock.html#the-mock-class) instance, itself, other <b><font color='darkred'>attributes like `.name` can only be set through `.__init__()` or `.configure_mock()`.</font> If you try to set the `.name` of the [**Mock**](https://docs.python.org/3/library/unittest.mock.html#the-mock-class) on the instance, you will get a different result:"
   ]
  },
  {
   "cell_type": "markdown",
   "id": "ab41bc24-051f-47c6-9f7e-c749e93d82bd",
   "metadata": {},
   "source": [
    "```python\n",
    ">>> mock = Mock(name='Real Python Mock')\r\n",
    ">>> mock.name\r\n",
    "<Mock name='Real Python Mock.name' id='4434041544'>\r\n",
    "\r\n",
    ">>> mock = Mock()\r\n",
    ">>> mock.name = 'Real Python Mock'\r\n",
    ">>> mock.name\r\n",
    "'Real Python Mock'\n",
    "```"
   ]
  },
  {
   "cell_type": "markdown",
   "id": "f01a6ddd-2042-44e9-af22-4da8521ec543",
   "metadata": {},
   "source": [
    "`.name` is a common attribute for objects to use. So, [**Mock**](https://docs.python.org/3/library/unittest.mock.html#the-mock-class) doesn’t let you set that value on the instance in the same way you can with `.return_value` or `.side_effect`. <b>If you access `mock.name` you will create a `.name` attribute instead of configuring your `mock`.</b>\n",
    "\n",
    "You can configure an existing Mock using [.configure_mock()](https://docs.python.org/3/library/unittest.mock.html#unittest.mock.Mock.configure_mock):"
   ]
  },
  {
   "cell_type": "code",
   "execution_count": 23,
   "id": "4fb04ad8-99bf-4075-b4af-8668621dcaa9",
   "metadata": {},
   "outputs": [
    {
     "data": {
      "text/plain": [
       "True"
      ]
     },
     "execution_count": 23,
     "metadata": {},
     "output_type": "execute_result"
    }
   ],
   "source": [
    "mock = Mock()\n",
    "mock.configure_mock(return_value=True)\n",
    "mock()"
   ]
  },
  {
   "cell_type": "markdown",
   "id": "bde241a1-d53c-4766-97b9-836effd4a283",
   "metadata": {},
   "source": [
    "By unpacking a dictionary into either `.configure_mock()` or `Mock.__init__()`, you can even configure your Python mock object’s attributes. Using [**Mock**](https://docs.python.org/3/library/unittest.mock.html#the-mock-class) configurations, you could simplify a previous example:"
   ]
  },
  {
   "cell_type": "markdown",
   "id": "ccb835a1-2b5d-4457-8a67-0dd35884c60b",
   "metadata": {},
   "source": [
    "```python\n",
    "# Verbose, old Mock\r\n",
    "response_mock = Mock()\r\n",
    "response_mock.json.return_value = {\r\n",
    "    '12/25': 'Christmas',\r\n",
    "    '7/4': 'Independence Day',\r\n",
    "}\r\n",
    "\r\n",
    "# Shiny, new .configure_mock()\r\n",
    "holidays = {'12/25': 'Christmas', '7/4': 'Independence Day'}\r\n",
    "response_mock = Mock(**{'json.return_value': holidays})\n",
    "```"
   ]
  },
  {
   "cell_type": "markdown",
   "id": "51cfd461-6322-4572-b4b7-379f3aafc55e",
   "metadata": {},
   "source": [
    "## <b><font color='darkblue'>patch()</font></b>\n",
    "<b><font size='3ptx'>[unittest.mock](https://docs.python.org/3/library/unittest.mock.html#) provides a powerful mechanism for mocking objects, called [patch()](https://docs.python.org/3/library/unittest.mock.html#patch), which looks up an object in a given module and replaces that object with a [**Mock**](https://docs.python.org/3/library/unittest.mock.html#the-mock-class).</font></b>\n",
    "\n",
    "Usually, you use [patch()](https://docs.python.org/3/library/unittest.mock.html#patch) as a decorator or a context manager to provide a scope in which you will mock the target object."
   ]
  },
  {
   "cell_type": "markdown",
   "id": "d09faec3-0c01-4d93-8625-2218c3a7aa50",
   "metadata": {},
   "source": [
    "### <b><font color='darkgreen'>`patch()` as a Decorator</font></b>\n",
    "If you want to mock an object for the duration of your entire test function, you can use [patch()](https://docs.python.org/3/library/unittest.mock.html#patch) as a function decorator.\n",
    "\n",
    "To see how this works, reorganize your <font color='olive'>my_calendar.py</font> file by putting the logic and tests into separate files:"
   ]
  },
  {
   "cell_type": "markdown",
   "id": "19a38917-b6cb-49d6-8395-bb5555653cb8",
   "metadata": {},
   "source": [
    "```python\n",
    "from datetime import datetime\r\n",
    "import requests\r\n",
    "\r\n",
    "\r\n",
    "def is_weekday():\r\n",
    "    today = datetime.today()\r\n",
    "    # Python's datetime library treats Monday as 0 and Sunday as 6\r\n",
    "    return (0 <= today.weekday() < 5)\r\n",
    "\r\n",
    "\r\n",
    "def get_holidays():\r\n",
    "    r = requests.get('http://localhost/api/holidays')\r\n",
    "    if r.status_code == 200:\r\n",
    "        return r.json()\r\n",
    "    return None\n",
    "```"
   ]
  },
  {
   "cell_type": "markdown",
   "id": "cc7cb43d-14e6-498f-aa5f-948bb0fef965",
   "metadata": {},
   "source": [
    "These functions are now in their own file, separate from their tests. Next, you’ll re-create your tests in a file called <font color='olive'>tests.py</font>. Below, you’ll use [patch()](https://docs.python.org/3/library/unittest.mock.html#patch) to replace your objects in <font color='olive'>my_calendar.py</font>:"
   ]
  },
  {
   "cell_type": "markdown",
   "id": "c0ed830b-ef98-42ec-8665-09025858a86a",
   "metadata": {},
   "source": [
    "```python\n",
    "import unittest\r\n",
    "from my_calendar import get_holidays\r\n",
    "from requests.exceptions import Timeout\r\n",
    "from unittest.mock import patch\r\n",
    "\r\n",
    "class TestCalendar(unittest.TestCase):\r\n",
    "    @patch('my_calendar.requests')\r\n",
    "    def test_get_holidays_timeout(self, mock_requests):\r\n",
    "            mock_requests.get.side_effect = Timeout\r\n",
    "            with self.assertRaises(Timeout):\r\n",
    "                get_holidays()\r\n",
    "                mock_requests.get.assert_called_once()\r\n",
    "\r\n",
    "if __name__ == '__main__':\r\n",
    "    unittest.main()\n",
    "```"
   ]
  },
  {
   "cell_type": "markdown",
   "id": "01be57c6-d8e2-4f88-83db-e85e49fc835f",
   "metadata": {},
   "source": [
    "For this case, you used [patch()](https://docs.python.org/3/library/unittest.mock.html#patch) as a decorator and passed the target object’s path. The target path was 'my_calendar.requests' which consists of the module name and the object.\n",
    "\n",
    "You also defined a new parameter for the test function. [patch()](https://docs.python.org/3/library/unittest.mock.html#patch) uses this parameter to pass the mocked object into your test. From there, you can modify the mock or make assertions as necessary.\n",
    "\n",
    "You can execute this test module to ensure it’s working as expected:"
   ]
  },
  {
   "cell_type": "code",
   "execution_count": 24,
   "id": "b4fd4c50-cf25-4fc4-b7f1-1d3c23722a48",
   "metadata": {},
   "outputs": [
    {
     "name": "stdout",
     "output_type": "stream",
     "text": [
      "\u001b[1m============================= test session starts ==============================\u001b[0m\n",
      "platform linux -- Python 3.11.5, pytest-7.4.3, pluggy-1.3.0\n",
      "rootdir: /usr/local/google/home/johnkclee/Gitrepos/python_101_crash_courses/article_collection/Python_mock_library\n",
      "plugins: anyio-3.7.0\n",
      "collected 1 item                                                               \u001b[0m\n",
      "\n",
      "test.py \u001b[32m.\u001b[0m\u001b[32m                                                                [100%]\u001b[0m\n",
      "\n",
      "\u001b[32m============================== \u001b[32m\u001b[1m1 passed\u001b[0m\u001b[32m in 0.13s\u001b[0m\u001b[32m ===============================\u001b[0m\n"
     ]
    }
   ],
   "source": [
    "!pytest test.py"
   ]
  },
  {
   "cell_type": "markdown",
   "id": "4624e7a6-4f80-43ee-b676-e10990c27391",
   "metadata": {},
   "source": [
    "<b><font color='blue'>Technical Detail:</font></b> [patch()](https://docs.python.org/3/library/unittest.mock.html#patch) returns an instance of [**MagicMock**](https://docs.python.org/3/library/unittest.mock.html#unittest.mock.MagicMock), which is a [**Mock**](https://docs.python.org/3/library/unittest.mock.html#the-mock-class) subclass. [**MagicMock**](https://docs.python.org/3/library/unittest.mock.html#unittest.mock.MagicMock) is useful because it implements most magic methods for you, such as `.__len__()`, `.__str__()`, and `.__iter__()`, with reasonable defaults.\n",
    "\n",
    "Using [patch()](https://docs.python.org/3/library/unittest.mock.html#patch) as a decorator worked well in this example. In some cases, it is more readable, more effective, or easier to use [patch()](https://docs.python.org/3/library/unittest.mock.html#patch) as a context manager."
   ]
  },
  {
   "cell_type": "markdown",
   "id": "cac96ff4-41d3-4799-bbcb-84aa170fbb2b",
   "metadata": {},
   "source": [
    "### <b><font color='darkgreen'>`patch()` as a Context Manager</font></b>\n",
    "<b>Sometimes, you’ll want to use [patch()](https://docs.python.org/3/library/unittest.mock.html#patch) as a [context manager](https://dbader.org/blog/python-context-managers-and-with-statement) rather than a decorator</b>. Some reasons why you might prefer a context manager include the following:\n",
    "\n",
    "* You only want to mock an object for a part of the test scope.\r\n",
    "* You are already using too many decorators or parameters, which hurts your test’s readability."
   ]
  },
  {
   "cell_type": "markdown",
   "id": "4c1eba12-9f07-4139-b110-ba41ab31d059",
   "metadata": {},
   "source": [
    "To use [patch()](https://docs.python.org/3/library/unittest.mock.html#patch) as a context manager, you use Python’s `with` statement:"
   ]
  },
  {
   "cell_type": "markdown",
   "id": "9f030305-e541-4ab1-aa21-268e755317de",
   "metadata": {},
   "source": [
    "```python\n",
    "import unittest\r\n",
    "from my_calendar import get_holidays\r\n",
    "from requests.exceptions import Timeout\r\n",
    "from unittest.mock import patch\r\n",
    "\r\n",
    "class TestCalendar(unittest.TestCase):\r\n",
    "    def test_get_holidays_timeout(self):\r\n",
    "        with patch('my_calendar.requests') as mock_requests:\r\n",
    "            mock_requests.get.side_effect = Timeout\r\n",
    "            with self.assertRaises(Timeout):\r\n",
    "                get_holidays()\r\n",
    "                mock_requests.get.assert_called_once()\r\n",
    "\r\n",
    "if __name__ == '__main__':\r\n",
    "    unittest.main()\n",
    "```"
   ]
  },
  {
   "cell_type": "markdown",
   "id": "bc69f741-429a-4f2f-a6c4-faaaeb408c18",
   "metadata": {},
   "source": [
    "When the test exits the with statement, [patch()](https://docs.python.org/3/library/unittest.mock.html#patch) replaces the mocked object with the original.\n",
    "\n",
    "Until now, you’ve mocked complete objects, but sometimes you’ll only want to mock a part of an object."
   ]
  },
  {
   "cell_type": "markdown",
   "id": "5b647c78-ee5e-4c6f-ad4f-0d2c4745321e",
   "metadata": {},
   "source": [
    "### <b><font color='darkgreen'>Patching an Object’s Attributes</font></b>\n",
    "<b>Let’s say you only want to mock one method of an object instead of the entire object. You can do so by using [patch.object()](https://docs.python.org/3/library/unittest.mock.html#patch-object).</b>\n",
    "\n",
    "For example, `.test_get_holidays_timeout()` really only needs to mock `requests.get()` and set its `.side_effect` to <b><font color='blue'>Timeout</font></b>:"
   ]
  },
  {
   "cell_type": "markdown",
   "id": "07b61e0c-6b6d-444b-9320-83540334b127",
   "metadata": {},
   "source": [
    "```python\n",
    "import unittest\r\n",
    "from my_calendar import requests, get_holidays\r\n",
    "from unittest.mock import patch\r\n",
    "\r\n",
    "class TestCalendar(unittest.TestCase):\r\n",
    "    @patch.object(requests, 'get', side_effect=requests.exceptions.Timeout)\r\n",
    "    def test_get_holidays_timeout(self, mock_requests):\r\n",
    "            with self.assertRaises(requests.exceptions.Timeout):\r\n",
    "                get_holidays()\r\n",
    "\r\n",
    "if __name__ == '__main__':\r\n",
    "    unittest.main()\n",
    "```"
   ]
  },
  {
   "cell_type": "markdown",
   "id": "ee91dd3b-0dd7-4d6c-b009-bc33cf22d893",
   "metadata": {},
   "source": [
    "In this example, you’ve mocked only <font color='blue'>get()</font> rather than all of **requests**. Every other attribute remains the same.\r\n",
    "\n",
    "[\r\n",
    "object](https://docs.python.org/3/library/unittest.mock.html#patch-object)() takes the same configuration parameters tha[t patch](https://docs.python.org/3/library/unittest.mock.html#patch)() does. But instead of passing the target’s path, you provide the target object, itself, as the first parameter. The second parameter is the attribute of the target object that you are trying to mock. You can also us[object()](https://docs.python.org/3/library/unittest.mock.html#patch-object)() as a context manager lik[patch()](https://docs.python.org/3/library/unittest.mock.html#patch)()."
   ]
  },
  {
   "cell_type": "markdown",
   "id": "030aae43-2969-4e92-bdfe-ea240592ecf2",
   "metadata": {},
   "source": [
    "### <b><font color='darkgreen'>Where to Patch</font></b>\n",
    "Knowing where to tell [patch()](https://docs.python.org/3/library/unittest.mock.html#patch) to look for the object you want mocked is important because if you choose the wrong target location, the result of [patch()](https://docs.python.org/3/library/unittest.mock.html#patch) could be something you didn’t expect.\n",
    "\n",
    "Let’s say you are mocking <font color='blue'>is_weekday()</font> in <font color='olive'>my_calendar.py</font> using [patch()](https://docs.python.org/3/library/unittest.mock.html#patch):"
   ]
  },
  {
   "cell_type": "code",
   "execution_count": 26,
   "id": "4926497d-bf4d-4c80-ad47-c8b1cf2a292f",
   "metadata": {},
   "outputs": [
    {
     "name": "stdout",
     "output_type": "stream",
     "text": [
      "<MagicMock name='is_weekday()' id='139735358210768'>\n"
     ]
    }
   ],
   "source": [
    "import my_calendar\n",
    "from unittest.mock import patch\n",
    "\n",
    "with patch('my_calendar.is_weekday'):\n",
    "  print(my_calendar.is_weekday())"
   ]
  },
  {
   "cell_type": "markdown",
   "id": "bba3563d-6b53-49d7-9030-8922f9674440",
   "metadata": {},
   "source": [
    "First, you import my_calendar.py. Then you patch <font color='blue'>is_weekday()</font>, replacing it with a [**Mock**](https://docs.python.org/3/library/unittest.mock.html#the-mock-class). Great! This is working as expected.\r\n",
    "\r\n",
    "Now, let’s change this example slightly and import the function directly:"
   ]
  },
  {
   "cell_type": "code",
   "execution_count": 27,
   "id": "4d2e4e68-5919-49dc-8f33-1e26abeecc60",
   "metadata": {},
   "outputs": [
    {
     "name": "stdout",
     "output_type": "stream",
     "text": [
      "True\n"
     ]
    }
   ],
   "source": [
    "from my_calendar import is_weekday\n",
    "from unittest.mock import patch\n",
    "\n",
    "with patch('my_calendar.is_weekday'):\n",
    "  print(is_weekday())"
   ]
  },
  {
   "cell_type": "markdown",
   "id": "196da6ab-3822-49f6-a12b-bfab464f40c5",
   "metadata": {},
   "source": [
    "`from my_calendar import is_weekday` binds the real function to the local scope. So, even though you [patch()](https://docs.python.org/3/library/unittest.mock.html#patch) the function later, you ignore the mock because you already have a local reference to the un-mocked function.\r\n",
    "\r\n",
    "[A good rule of thu](https://docs.python.org/3/library/unittest.mock.html#where-to-patch)mb is t[patch()](https://docs.python.org/3/library/unittest.mock.html#patch)() the object where it is looked up."
   ]
  },
  {
   "cell_type": "markdown",
   "id": "c61ea9f7-9cd1-4146-9e06-5b28e96aaafa",
   "metadata": {},
   "source": [
    "## <b><font color='darkblue'>Common Mocking Problems</font></b>\n",
    "Mocking objects can introduce several problems into your tests. Some problems are inherent in mocking while others are specific to unittest.mock. Keep in mind that there are other issues with mocking that are not mentioned in this tutorial.\r\n",
    "\r\n",
    "The ones covered here are similar to each other in that the problem they cause is fundamentally the same. In each case, the test assertions are irrelevant. Though the intention of each mock is valid, the mocks themselves are not."
   ]
  },
  {
   "cell_type": "markdown",
   "id": "42d7124f-44cc-4bcf-965a-f3e4db67013b",
   "metadata": {},
   "source": [
    "### <b><font color='darkgreen'>Changes to Object Interfaces and Misspellings</font></b>\n",
    "<b>Classes and function definitions change all the time. When the interface of an object changes, any tests relying on a Mock of that object may become irrelevant.</b>\n",
    "\n",
    "TBD"
   ]
  },
  {
   "cell_type": "markdown",
   "id": "c8ff4547-3287-495b-be93-df9ce3d9af45",
   "metadata": {},
   "source": [
    "### <b><font color='darkgreen'>Changes to External Dependencies</font></b>\n",
    "<b>Imagine again that your code makes a request to an external API. In this case, the external dependency is the API which is susceptible to change without your consent...</b>"
   ]
  },
  {
   "attachments": {},
   "cell_type": "markdown",
   "id": "592ab771-8c31-4e60-bb0e-db475ba85595",
   "metadata": {},
   "source": [
    "### <b><font color='darkgreen'>Avoiding Common Problems Using Specifications</font></b>\n",
    "<b>As mentioned before, if you change a class or function definition or you misspell a Python mock object’s attribute, you can cause problems with your tests.</b>\n",
    "\n",
    "These problems occur because [**Mock**](https://docs.python.org/3/library/unittest.mock.html#the-mock-class) creates attributes and methods when you access them. <b>The answer to these issues is to prevent Mock from creating attributes that don’t conform to the object you’re trying to mock.</b>\r\n",
    "\r\n",
    "When configuring [**Mock**](https://docs.python.org/3/library/unittest.mock.html#the-mock-class)ck, you can pass an object specification to th`e sp`ec parameter<b>. Th`e sp`ec parameter accepts a list of names or another object and defines the mock’s interface. If you attempt to access an attribute that does not belong to the specification, Mock will raise a<font color='blue'>n AttributeErr</font></b>or:"
   ]
  },
  {
   "cell_type": "code",
   "execution_count": 28,
   "id": "6e366a2c-b3d9-4a43-b2d9-1c7d7f9113d2",
   "metadata": {},
   "outputs": [],
   "source": [
    "from unittest.mock import Mock\n",
    "\n",
    "calendar = Mock(spec=['is_weekday', 'get_holidays'])"
   ]
  },
  {
   "cell_type": "code",
   "execution_count": 29,
   "id": "a85c171b-421f-4b53-bd4b-5103d0bd8922",
   "metadata": {},
   "outputs": [
    {
     "data": {
      "text/plain": [
       "<Mock name='mock.is_weekday()' id='139735353096528'>"
      ]
     },
     "execution_count": 29,
     "metadata": {},
     "output_type": "execute_result"
    }
   ],
   "source": [
    "calendar.is_weekday()"
   ]
  },
  {
   "cell_type": "code",
   "execution_count": 30,
   "id": "95e216ac-3ca9-4324-b228-a1410c815973",
   "metadata": {},
   "outputs": [
    {
     "ename": "AttributeError",
     "evalue": "Mock object has no attribute 'create_event'",
     "output_type": "error",
     "traceback": [
      "\u001b[0;31m---------------------------------------------------------------------------\u001b[0m",
      "\u001b[0;31mAttributeError\u001b[0m                            Traceback (most recent call last)",
      "Cell \u001b[0;32mIn[30], line 1\u001b[0m\n\u001b[0;32m----> 1\u001b[0m \u001b[43mcalendar\u001b[49m\u001b[38;5;241;43m.\u001b[39;49m\u001b[43mcreate_event\u001b[49m()\n",
      "File \u001b[0;32m/usr/lib/python3.11/unittest/mock.py:653\u001b[0m, in \u001b[0;36mNonCallableMock.__getattr__\u001b[0;34m(self, name)\u001b[0m\n\u001b[1;32m    651\u001b[0m \u001b[38;5;28;01melif\u001b[39;00m \u001b[38;5;28mself\u001b[39m\u001b[38;5;241m.\u001b[39m_mock_methods \u001b[38;5;129;01mis\u001b[39;00m \u001b[38;5;129;01mnot\u001b[39;00m \u001b[38;5;28;01mNone\u001b[39;00m:\n\u001b[1;32m    652\u001b[0m     \u001b[38;5;28;01mif\u001b[39;00m name \u001b[38;5;129;01mnot\u001b[39;00m \u001b[38;5;129;01min\u001b[39;00m \u001b[38;5;28mself\u001b[39m\u001b[38;5;241m.\u001b[39m_mock_methods \u001b[38;5;129;01mor\u001b[39;00m name \u001b[38;5;129;01min\u001b[39;00m _all_magics:\n\u001b[0;32m--> 653\u001b[0m         \u001b[38;5;28;01mraise\u001b[39;00m \u001b[38;5;167;01mAttributeError\u001b[39;00m(\u001b[38;5;124m\"\u001b[39m\u001b[38;5;124mMock object has no attribute \u001b[39m\u001b[38;5;132;01m%r\u001b[39;00m\u001b[38;5;124m\"\u001b[39m \u001b[38;5;241m%\u001b[39m name)\n\u001b[1;32m    654\u001b[0m \u001b[38;5;28;01melif\u001b[39;00m _is_magic(name):\n\u001b[1;32m    655\u001b[0m     \u001b[38;5;28;01mraise\u001b[39;00m \u001b[38;5;167;01mAttributeError\u001b[39;00m(name)\n",
      "\u001b[0;31mAttributeError\u001b[0m: Mock object has no attribute 'create_event'"
     ]
    }
   ],
   "source": [
    "calendar.create_event()"
   ]
  },
  {
   "cell_type": "markdown",
   "id": "194b583e-6228-4a1b-b1d0-0898e831d5e1",
   "metadata": {},
   "source": [
    "Specifications work the same way if you configure the [**Mock**](https://docs.python.org/3/library/unittest.mock.html#the-mock-class) with an object:"
   ]
  },
  {
   "cell_type": "code",
   "execution_count": 31,
   "id": "9aaba397-77d1-4b6b-8f13-67289997883f",
   "metadata": {},
   "outputs": [
    {
     "data": {
      "text/plain": [
       "<Mock name='mock.is_weekday()' id='139735359018128'>"
      ]
     },
     "execution_count": 31,
     "metadata": {},
     "output_type": "execute_result"
    }
   ],
   "source": [
    "import my_calendar\n",
    "from unittest.mock import Mock\n",
    "\n",
    "calendar = Mock(spec=my_calendar)\n",
    "calendar.is_weekday()"
   ]
  },
  {
   "cell_type": "code",
   "execution_count": 32,
   "id": "616840bc-c628-4c3d-889e-6ed7d892470e",
   "metadata": {},
   "outputs": [
    {
     "ename": "AttributeError",
     "evalue": "Mock object has no attribute 'create_event'",
     "output_type": "error",
     "traceback": [
      "\u001b[0;31m---------------------------------------------------------------------------\u001b[0m",
      "\u001b[0;31mAttributeError\u001b[0m                            Traceback (most recent call last)",
      "Cell \u001b[0;32mIn[32], line 1\u001b[0m\n\u001b[0;32m----> 1\u001b[0m \u001b[43mcalendar\u001b[49m\u001b[38;5;241;43m.\u001b[39;49m\u001b[43mcreate_event\u001b[49m()\n",
      "File \u001b[0;32m/usr/lib/python3.11/unittest/mock.py:653\u001b[0m, in \u001b[0;36mNonCallableMock.__getattr__\u001b[0;34m(self, name)\u001b[0m\n\u001b[1;32m    651\u001b[0m \u001b[38;5;28;01melif\u001b[39;00m \u001b[38;5;28mself\u001b[39m\u001b[38;5;241m.\u001b[39m_mock_methods \u001b[38;5;129;01mis\u001b[39;00m \u001b[38;5;129;01mnot\u001b[39;00m \u001b[38;5;28;01mNone\u001b[39;00m:\n\u001b[1;32m    652\u001b[0m     \u001b[38;5;28;01mif\u001b[39;00m name \u001b[38;5;129;01mnot\u001b[39;00m \u001b[38;5;129;01min\u001b[39;00m \u001b[38;5;28mself\u001b[39m\u001b[38;5;241m.\u001b[39m_mock_methods \u001b[38;5;129;01mor\u001b[39;00m name \u001b[38;5;129;01min\u001b[39;00m _all_magics:\n\u001b[0;32m--> 653\u001b[0m         \u001b[38;5;28;01mraise\u001b[39;00m \u001b[38;5;167;01mAttributeError\u001b[39;00m(\u001b[38;5;124m\"\u001b[39m\u001b[38;5;124mMock object has no attribute \u001b[39m\u001b[38;5;132;01m%r\u001b[39;00m\u001b[38;5;124m\"\u001b[39m \u001b[38;5;241m%\u001b[39m name)\n\u001b[1;32m    654\u001b[0m \u001b[38;5;28;01melif\u001b[39;00m _is_magic(name):\n\u001b[1;32m    655\u001b[0m     \u001b[38;5;28;01mraise\u001b[39;00m \u001b[38;5;167;01mAttributeError\u001b[39;00m(name)\n",
      "\u001b[0;31mAttributeError\u001b[0m: Mock object has no attribute 'create_event'"
     ]
    }
   ],
   "source": [
    "calendar.create_event()"
   ]
  },
  {
   "cell_type": "markdown",
   "id": "db2596a6-6afa-4f92-b3ca-53f09246863b",
   "metadata": {},
   "source": [
    "One way to implement automatic specifications is [create_autospec](https://docs.python.org/3/library/unittest.mock.html#unittest.mock.create_autospec):"
   ]
  },
  {
   "cell_type": "code",
   "execution_count": 33,
   "id": "b55e1861-da3d-4448-a970-46e5ce226d3e",
   "metadata": {},
   "outputs": [
    {
     "data": {
      "text/plain": [
       "<MagicMock name='mock.is_weekday()' id='139735359026576'>"
      ]
     },
     "execution_count": 33,
     "metadata": {},
     "output_type": "execute_result"
    }
   ],
   "source": [
    "import my_calendar\n",
    "from unittest.mock import create_autospec\n",
    "\n",
    "calendar = create_autospec(my_calendar)\n",
    "calendar.is_weekday()"
   ]
  },
  {
   "cell_type": "code",
   "execution_count": 34,
   "id": "0c411b3a-87fc-472e-9987-380cb20999ad",
   "metadata": {},
   "outputs": [
    {
     "ename": "AttributeError",
     "evalue": "Mock object has no attribute 'create_event'",
     "output_type": "error",
     "traceback": [
      "\u001b[0;31m---------------------------------------------------------------------------\u001b[0m",
      "\u001b[0;31mAttributeError\u001b[0m                            Traceback (most recent call last)",
      "Cell \u001b[0;32mIn[34], line 1\u001b[0m\n\u001b[0;32m----> 1\u001b[0m \u001b[43mcalendar\u001b[49m\u001b[38;5;241;43m.\u001b[39;49m\u001b[43mcreate_event\u001b[49m()\n",
      "File \u001b[0;32m/usr/lib/python3.11/unittest/mock.py:653\u001b[0m, in \u001b[0;36mNonCallableMock.__getattr__\u001b[0;34m(self, name)\u001b[0m\n\u001b[1;32m    651\u001b[0m \u001b[38;5;28;01melif\u001b[39;00m \u001b[38;5;28mself\u001b[39m\u001b[38;5;241m.\u001b[39m_mock_methods \u001b[38;5;129;01mis\u001b[39;00m \u001b[38;5;129;01mnot\u001b[39;00m \u001b[38;5;28;01mNone\u001b[39;00m:\n\u001b[1;32m    652\u001b[0m     \u001b[38;5;28;01mif\u001b[39;00m name \u001b[38;5;129;01mnot\u001b[39;00m \u001b[38;5;129;01min\u001b[39;00m \u001b[38;5;28mself\u001b[39m\u001b[38;5;241m.\u001b[39m_mock_methods \u001b[38;5;129;01mor\u001b[39;00m name \u001b[38;5;129;01min\u001b[39;00m _all_magics:\n\u001b[0;32m--> 653\u001b[0m         \u001b[38;5;28;01mraise\u001b[39;00m \u001b[38;5;167;01mAttributeError\u001b[39;00m(\u001b[38;5;124m\"\u001b[39m\u001b[38;5;124mMock object has no attribute \u001b[39m\u001b[38;5;132;01m%r\u001b[39;00m\u001b[38;5;124m\"\u001b[39m \u001b[38;5;241m%\u001b[39m name)\n\u001b[1;32m    654\u001b[0m \u001b[38;5;28;01melif\u001b[39;00m _is_magic(name):\n\u001b[1;32m    655\u001b[0m     \u001b[38;5;28;01mraise\u001b[39;00m \u001b[38;5;167;01mAttributeError\u001b[39;00m(name)\n",
      "\u001b[0;31mAttributeError\u001b[0m: Mock object has no attribute 'create_event'"
     ]
    }
   ],
   "source": [
    "calendar.create_event()"
   ]
  },
  {
   "cell_type": "markdown",
   "id": "319e21fa-63d9-4db8-911f-4bcad4dfbd9e",
   "metadata": {},
   "source": [
    "Like before, `calendar` is a [**Mock**](https://docs.python.org/3/library/unittest.mock.html#the-mock-class) instance whose interface matches `my_calendar`. If you’re using [patch()](https://docs.python.org/3/library/unittest.mock.html#patch), you can send an argument to the <font color='violet'>autospec</font> parameter to achieve the same result:"
   ]
  },
  {
   "cell_type": "code",
   "execution_count": 35,
   "id": "b3b2be58-19dc-40ea-bf46-e6d55579c4cc",
   "metadata": {},
   "outputs": [
    {
     "name": "stdout",
     "output_type": "stream",
     "text": [
      "Call is_weekday()\n",
      "Call create_event\n"
     ]
    },
    {
     "ename": "AttributeError",
     "evalue": "Mock object has no attribute 'create_event'",
     "output_type": "error",
     "traceback": [
      "\u001b[0;31m---------------------------------------------------------------------------\u001b[0m",
      "\u001b[0;31mAttributeError\u001b[0m                            Traceback (most recent call last)",
      "Cell \u001b[0;32mIn[35], line 8\u001b[0m\n\u001b[1;32m      6\u001b[0m calendar\u001b[38;5;241m.\u001b[39mis_weekday()\n\u001b[1;32m      7\u001b[0m \u001b[38;5;28mprint\u001b[39m(\u001b[38;5;124m'\u001b[39m\u001b[38;5;124mCall create_event\u001b[39m\u001b[38;5;124m'\u001b[39m)\n\u001b[0;32m----> 8\u001b[0m \u001b[43mcalendar\u001b[49m\u001b[38;5;241;43m.\u001b[39;49m\u001b[43mcreate_event\u001b[49m()\n",
      "File \u001b[0;32m/usr/lib/python3.11/unittest/mock.py:653\u001b[0m, in \u001b[0;36mNonCallableMock.__getattr__\u001b[0;34m(self, name)\u001b[0m\n\u001b[1;32m    651\u001b[0m \u001b[38;5;28;01melif\u001b[39;00m \u001b[38;5;28mself\u001b[39m\u001b[38;5;241m.\u001b[39m_mock_methods \u001b[38;5;129;01mis\u001b[39;00m \u001b[38;5;129;01mnot\u001b[39;00m \u001b[38;5;28;01mNone\u001b[39;00m:\n\u001b[1;32m    652\u001b[0m     \u001b[38;5;28;01mif\u001b[39;00m name \u001b[38;5;129;01mnot\u001b[39;00m \u001b[38;5;129;01min\u001b[39;00m \u001b[38;5;28mself\u001b[39m\u001b[38;5;241m.\u001b[39m_mock_methods \u001b[38;5;129;01mor\u001b[39;00m name \u001b[38;5;129;01min\u001b[39;00m _all_magics:\n\u001b[0;32m--> 653\u001b[0m         \u001b[38;5;28;01mraise\u001b[39;00m \u001b[38;5;167;01mAttributeError\u001b[39;00m(\u001b[38;5;124m\"\u001b[39m\u001b[38;5;124mMock object has no attribute \u001b[39m\u001b[38;5;132;01m%r\u001b[39;00m\u001b[38;5;124m\"\u001b[39m \u001b[38;5;241m%\u001b[39m name)\n\u001b[1;32m    654\u001b[0m \u001b[38;5;28;01melif\u001b[39;00m _is_magic(name):\n\u001b[1;32m    655\u001b[0m     \u001b[38;5;28;01mraise\u001b[39;00m \u001b[38;5;167;01mAttributeError\u001b[39;00m(name)\n",
      "\u001b[0;31mAttributeError\u001b[0m: Mock object has no attribute 'create_event'"
     ]
    }
   ],
   "source": [
    "import my_calendar\n",
    "from unittest.mock import patch\n",
    "\n",
    "with patch('__main__.my_calendar', autospec=True) as calendar:\n",
    "  print('Call is_weekday()')\n",
    "  calendar.is_weekday()\n",
    "  print('Call create_event')\n",
    "  calendar.create_event()"
   ]
  }
 ],
 "metadata": {
  "kernelspec": {
   "display_name": "Python 3 (ipykernel)",
   "language": "python",
   "name": "python3"
  },
  "language_info": {
   "codemirror_mode": {
    "name": "ipython",
    "version": 3
   },
   "file_extension": ".py",
   "mimetype": "text/x-python",
   "name": "python",
   "nbconvert_exporter": "python",
   "pygments_lexer": "ipython3",
   "version": "3.11.5"
  }
 },
 "nbformat": 4,
 "nbformat_minor": 5
}
