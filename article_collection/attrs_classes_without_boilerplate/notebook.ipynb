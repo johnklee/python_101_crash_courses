{
 "cells": [
  {
   "cell_type": "markdown",
   "id": "16d8b462",
   "metadata": {},
   "source": [
    "## <font color='darkblue'>Preface</font>\n",
    "([article source](https://www.attrs.org/en/stable/examples.html)) [**attrs**](https://www.attrs.org/en/stable/#) is the Python package that will bring back the joy of writing classes by relieving you from the drudgery of implementing object protocols (<font color='brown'>aka [dunder methods](https://www.attrs.org/en/latest/glossary.html#term-dunder-methods)</font>). Trusted by NASA for Mars missions since 2020!\n",
    "\n",
    "<b>Its main goal is to help you to write concise and correct software without slowing down your code.</b>"
   ]
  },
  {
   "cell_type": "code",
   "execution_count": 145,
   "id": "73b094b8",
   "metadata": {},
   "outputs": [],
   "source": [
    "import attrs\n",
    "import attr\n",
    "import collections\n",
    "import typing\n",
    "from attrs import define, field, frozen, evolve\n",
    "from attrs import fields, resolve_types"
   ]
  },
  {
   "cell_type": "markdown",
   "id": "631cd6bd",
   "metadata": {},
   "source": [
    "<a id='sect_agenda'></a>\n",
    "### <font color='darkgreen'>Agenda</font>\n",
    "* <font size='3ptx'><b><a href='#sect_basics'>Basics</a></b></font>\n",
    "* <font size='3ptx'><b><a href='#sect_kw_only'>Keyword-only Attributes</a></b></font>\n",
    "* <font size='3ptx'><b><a href='#sect_covert_to_collections'>Converting to Collections Types</a></b></font>\n",
    "* <font size='3ptx'><b><a href='#sect_defaults'>Defaults</a></b></font>\n",
    "* <font size='3ptx'><b><a href='#sect_validators'>Validators</a></b></font>\n",
    "* <font size='3ptx'><b><a href='#sect_conversion'>Conversions</a></b></font>\n",
    "* <font size='3ptx'><b><a href='#sect_metadata'>Metadata</a></b></font>\n",
    "* <font size='3ptx'><b><a href='#sect_types'>Types</a></b></font>\n",
    "* <font size='3ptx'><b><a href='#sect_slots'>Slots</a></b></font>\n",
    "* <font size='3ptx'><b><a href='#sect_immutability'>Immutability</a></b></font>\n",
    "* <font size='3ptx'><b><a href='#sect_other_goodies'>Other Goodies</a></b></font>"
   ]
  },
  {
   "cell_type": "markdown",
   "id": "7df180db",
   "metadata": {},
   "source": [
    "<a id='sect_basics'></a>\n",
    "## <font color='darkblue'>Basics</font>\n",
    "The simplest possible usage is using decorator [`define`](https://www.attrs.org/en/stable/api.html#attrs.define):"
   ]
  },
  {
   "cell_type": "code",
   "execution_count": 2,
   "id": "a4bcdfaf",
   "metadata": {},
   "outputs": [],
   "source": [
    "@define\n",
    "class Empty:\n",
    "    pass"
   ]
  },
  {
   "cell_type": "code",
   "execution_count": 3,
   "id": "092af0c7",
   "metadata": {},
   "outputs": [
    {
     "data": {
      "text/plain": [
       "Empty()"
      ]
     },
     "execution_count": 3,
     "metadata": {},
     "output_type": "execute_result"
    }
   ],
   "source": [
    "Empty()"
   ]
  },
  {
   "cell_type": "code",
   "execution_count": 4,
   "id": "6f95f175",
   "metadata": {},
   "outputs": [
    {
     "data": {
      "text/plain": [
       "True"
      ]
     },
     "execution_count": 4,
     "metadata": {},
     "output_type": "execute_result"
    }
   ],
   "source": [
    "# Object equality\n",
    "Empty() == Empty()"
   ]
  },
  {
   "cell_type": "code",
   "execution_count": 5,
   "id": "f447d0d5",
   "metadata": {},
   "outputs": [
    {
     "data": {
      "text/plain": [
       "False"
      ]
     },
     "execution_count": 5,
     "metadata": {},
     "output_type": "execute_result"
    }
   ],
   "source": [
    "# They are two different object.\n",
    "Empty() is Empty()"
   ]
  },
  {
   "cell_type": "markdown",
   "id": "5b8b2964",
   "metadata": {},
   "source": [
    "So in other words: [**attrs**](https://www.attrs.org/en/stable/#) is useful even without actual attributes! But you’ll usually want some data on your classes, so let’s add some:"
   ]
  },
  {
   "cell_type": "code",
   "execution_count": 6,
   "id": "16fca809",
   "metadata": {},
   "outputs": [],
   "source": [
    "@define\n",
    "class Coordinates:\n",
    "    x: int\n",
    "    y: int"
   ]
  },
  {
   "cell_type": "markdown",
   "id": "207aa786",
   "metadata": {},
   "source": [
    "By default, all features are added, so you immediately have a fully functional data class with a nice repr string and comparison methods."
   ]
  },
  {
   "cell_type": "code",
   "execution_count": 7,
   "id": "40e2dc8e",
   "metadata": {},
   "outputs": [
    {
     "data": {
      "text/plain": [
       "Coordinates(x=1, y=2)"
      ]
     },
     "execution_count": 7,
     "metadata": {},
     "output_type": "execute_result"
    }
   ],
   "source": [
    "c1 = Coordinates(1, 2)\n",
    "c1"
   ]
  },
  {
   "cell_type": "code",
   "execution_count": 8,
   "id": "70635078",
   "metadata": {},
   "outputs": [
    {
     "data": {
      "text/plain": [
       "Coordinates(x=2, y=1)"
      ]
     },
     "execution_count": 8,
     "metadata": {},
     "output_type": "execute_result"
    }
   ],
   "source": [
    "c2 = Coordinates(x=2, y=1)\n",
    "c2"
   ]
  },
  {
   "cell_type": "code",
   "execution_count": 9,
   "id": "37384b17",
   "metadata": {},
   "outputs": [
    {
     "data": {
      "text/plain": [
       "False"
      ]
     },
     "execution_count": 9,
     "metadata": {},
     "output_type": "execute_result"
    }
   ],
   "source": [
    "c1 == c2"
   ]
  },
  {
   "cell_type": "markdown",
   "id": "707c8077",
   "metadata": {},
   "source": [
    "As shown, the generated `__init__` method allows for both positional and keyword arguments.\n",
    "\n",
    "**For private attributes**, attrs will strip the leading underscores for keyword arguments:"
   ]
  },
  {
   "cell_type": "code",
   "execution_count": 10,
   "id": "149c7d55",
   "metadata": {},
   "outputs": [],
   "source": [
    "@define\n",
    "class C:\n",
    "    _x: int"
   ]
  },
  {
   "cell_type": "code",
   "execution_count": 11,
   "id": "9fb34f18",
   "metadata": {},
   "outputs": [
    {
     "data": {
      "text/plain": [
       "C(_x=1)"
      ]
     },
     "execution_count": 11,
     "metadata": {},
     "output_type": "execute_result"
    }
   ],
   "source": [
    "C(x=1)"
   ]
  },
  {
   "cell_type": "markdown",
   "id": "2dd7649b",
   "metadata": {},
   "source": [
    "If you want to initialize your private attributes yourself, you can do that too:"
   ]
  },
  {
   "cell_type": "code",
   "execution_count": 12,
   "id": "544d9a2d",
   "metadata": {},
   "outputs": [],
   "source": [
    "@define\n",
    "class C:\n",
    "    _x: int = field(init=False, default=42)"
   ]
  },
  {
   "cell_type": "code",
   "execution_count": 13,
   "id": "3dc62604",
   "metadata": {},
   "outputs": [
    {
     "data": {
      "text/plain": [
       "C(_x=42)"
      ]
     },
     "execution_count": 13,
     "metadata": {},
     "output_type": "execute_result"
    }
   ],
   "source": [
    "C()"
   ]
  },
  {
   "cell_type": "code",
   "execution_count": 14,
   "id": "89f244c6",
   "metadata": {},
   "outputs": [],
   "source": [
    "# Below code will cause\n",
    "# Traceback (most recent call last):\n",
    "#   ...\n",
    "# TypeError: __init__() takes exactly 1 argument (2 given)\n",
    "# C(23)"
   ]
  },
  {
   "cell_type": "markdown",
   "id": "3b7a77c0",
   "metadata": {},
   "source": [
    "An additional way of defining attributes is supported too. This is useful <b>in times when you want to enhance classes that are not yours</b> (<font color='brown'>nice `__repr__` for Django models anyone?</font>):"
   ]
  },
  {
   "cell_type": "code",
   "execution_count": 15,
   "id": "344a893d",
   "metadata": {},
   "outputs": [],
   "source": [
    "class SomethingFromSomeoneElse:\n",
    "    def __init__(self, x):\n",
    "        self.x = x\n",
    "        \n",
    "SomethingFromSomeoneElse = define(\n",
    "    these={\n",
    "        \"x\": field()\n",
    "    }, init=False)(SomethingFromSomeoneElse)"
   ]
  },
  {
   "cell_type": "code",
   "execution_count": 16,
   "id": "10888f63",
   "metadata": {},
   "outputs": [
    {
     "data": {
      "text/plain": [
       "SomethingFromSomeoneElse(x=1)"
      ]
     },
     "execution_count": 16,
     "metadata": {},
     "output_type": "execute_result"
    }
   ],
   "source": [
    "SomethingFromSomeoneElse(1)"
   ]
  },
  {
   "cell_type": "markdown",
   "id": "914695eb",
   "metadata": {},
   "source": [
    "[Subclassing is bad for you](https://www.youtube.com/watch?v=3MNVP9-hglc), but [**attrs**](https://www.attrs.org/en/stable/#) will still do what you’d hope for:\n",
    "* <font color='violet'>**slots** (bool)</font> – Create a [slotted class](https://www.attrs.org/en/stable/glossary.html#term-slotted-classes) that’s more memory-efficient. Slotted classes are generally superior to the default dict classes, but have some gotchas you should know about, so we encourage you to read the [glossary entry](https://www.attrs.org/en/stable/glossary.html#term-slotted-classes)."
   ]
  },
  {
   "cell_type": "code",
   "execution_count": 17,
   "id": "ede40e12",
   "metadata": {},
   "outputs": [],
   "source": [
    "@define(slots=False)\n",
    "class A:\n",
    "    a: int\n",
    "    def get_a(self):\n",
    "        return self.a\n",
    "      \n",
    "@define(slots=False)\n",
    "class B:\n",
    "    b: int\n",
    "      \n",
    "@define(slots=False)\n",
    "class C(B, A):\n",
    "    c: int"
   ]
  },
  {
   "cell_type": "code",
   "execution_count": 18,
   "id": "84d8bdef",
   "metadata": {},
   "outputs": [],
   "source": [
    "i = C(1, 2, 3)"
   ]
  },
  {
   "cell_type": "code",
   "execution_count": 19,
   "id": "3cea726e",
   "metadata": {},
   "outputs": [
    {
     "data": {
      "text/plain": [
       "C(a=1, b=2, c=3)"
      ]
     },
     "execution_count": 19,
     "metadata": {},
     "output_type": "execute_result"
    }
   ],
   "source": [
    "i"
   ]
  },
  {
   "cell_type": "code",
   "execution_count": 20,
   "id": "2f9dbff1",
   "metadata": {},
   "outputs": [
    {
     "data": {
      "text/plain": [
       "True"
      ]
     },
     "execution_count": 20,
     "metadata": {},
     "output_type": "execute_result"
    }
   ],
   "source": [
    "i == C(1, 2, 3)"
   ]
  },
  {
   "cell_type": "code",
   "execution_count": 21,
   "id": "27ec4c7e",
   "metadata": {},
   "outputs": [
    {
     "data": {
      "text/plain": [
       "1"
      ]
     },
     "execution_count": 21,
     "metadata": {},
     "output_type": "execute_result"
    }
   ],
   "source": [
    "i.get_a()"
   ]
  },
  {
   "cell_type": "code",
   "execution_count": 22,
   "id": "a7cd2bc2",
   "metadata": {},
   "outputs": [
    {
     "data": {
      "text/plain": [
       "[__main__.C, __main__.B, __main__.A, object]"
      ]
     },
     "execution_count": 22,
     "metadata": {},
     "output_type": "execute_result"
    }
   ],
   "source": [
    "# MRO of class C\n",
    "# It means we need to provide attributes in order as `a`, `b` and `c`\n",
    "C.mro()"
   ]
  },
  {
   "cell_type": "markdown",
   "id": "7ba6a739",
   "metadata": {},
   "source": [
    "[**Slotted classes**](https://www.attrs.org/en/stable/glossary.html#term-slotted-classes), which are the default for the new APIs, don’t play well with multiple inheritance so we don’t use them in the example. The order of the attributes is defined by the [MRO](https://www.python.org/download/releases/2.3/mro/) (<font color='brown'>Method Resolution Order</font>)."
   ]
  },
  {
   "cell_type": "markdown",
   "id": "304053c1",
   "metadata": {},
   "source": [
    "<a id='sect_kw_only'></a>\n",
    "## <font color='darkblue'>Keyword-only Attributes</font> ([back](#sect_agenda))\n",
    "You can also add [keyword-only](https://docs.python.org/3/glossary.html#keyword-only-parameter) attributes:\n",
    "* <font color='violet'>**kw_only** (bool)</font> – Make all attributes keyword-only (Python 3+) in the generated `__init__` (<font color='brown'>if init is False, this parameter is ignored</font>)."
   ]
  },
  {
   "cell_type": "code",
   "execution_count": 23,
   "id": "52c8714c",
   "metadata": {},
   "outputs": [],
   "source": [
    "@define\n",
    "class A:\n",
    "    a: int = field(kw_only=True)"
   ]
  },
  {
   "cell_type": "code",
   "execution_count": 24,
   "id": "21816b9a",
   "metadata": {},
   "outputs": [],
   "source": [
    "# TypeError: A.__init__() missing 1 required keyword-only argument: 'a'\n",
    "# A()"
   ]
  },
  {
   "cell_type": "code",
   "execution_count": 25,
   "id": "855cf1b0",
   "metadata": {},
   "outputs": [
    {
     "data": {
      "text/plain": [
       "A(a=1)"
      ]
     },
     "execution_count": 25,
     "metadata": {},
     "output_type": "execute_result"
    }
   ],
   "source": [
    "A(a=1)"
   ]
  },
  {
   "cell_type": "markdown",
   "id": "56965858",
   "metadata": {},
   "source": [
    "`kw_only` may also be specified at via [define](https://www.attrs.org/en/stable/api.html#attrs.define), and will apply to all attributes:"
   ]
  },
  {
   "cell_type": "code",
   "execution_count": 26,
   "id": "25d43049",
   "metadata": {},
   "outputs": [],
   "source": [
    "@define(kw_only=True)\n",
    "class A:\n",
    "    a: int\n",
    "    b: int"
   ]
  },
  {
   "cell_type": "code",
   "execution_count": 27,
   "id": "c919a612",
   "metadata": {},
   "outputs": [],
   "source": [
    "# TypeError: __init__() takes 1 positional argument but 3 were given\n",
    "# A(1, 2)"
   ]
  },
  {
   "cell_type": "code",
   "execution_count": 28,
   "id": "27d8e1e8",
   "metadata": {},
   "outputs": [
    {
     "data": {
      "text/plain": [
       "A(a=1, b=2)"
      ]
     },
     "execution_count": 28,
     "metadata": {},
     "output_type": "execute_result"
    }
   ],
   "source": [
    "A(a=1, b=2)"
   ]
  },
  {
   "cell_type": "markdown",
   "id": "0b9044ba",
   "metadata": {},
   "source": [
    "If you create an attribute with <font color='blue'>init=False</font>, the <font color='violet'>kw_only</font> argument is ignored.\n",
    "\n",
    "Keyword-only attributes allow subclasses to add attributes without default values, even if the base class defines attributes with default values:"
   ]
  },
  {
   "cell_type": "code",
   "execution_count": 29,
   "id": "dfb83ad5",
   "metadata": {},
   "outputs": [],
   "source": [
    "@define\n",
    "class A:\n",
    "    a: int = 0\n",
    "      \n",
    "@define\n",
    "class B(A):\n",
    "    b: int = field(kw_only=True)"
   ]
  },
  {
   "cell_type": "code",
   "execution_count": 30,
   "id": "2a79297b",
   "metadata": {},
   "outputs": [
    {
     "data": {
      "text/plain": [
       "B(a=0, b=1)"
      ]
     },
     "execution_count": 30,
     "metadata": {},
     "output_type": "execute_result"
    }
   ],
   "source": [
    "B(b=1)"
   ]
  },
  {
   "cell_type": "code",
   "execution_count": 31,
   "id": "dcbd8924",
   "metadata": {},
   "outputs": [],
   "source": [
    "# B.__init__() missing 1 required keyword-only argument: 'b'\n",
    "# B()"
   ]
  },
  {
   "cell_type": "markdown",
   "id": "8f4e8ea2",
   "metadata": {},
   "source": [
    "If you don’t set <font color='blue'>kw_only=True</font>, then there is no valid attribute ordering, and you’ll get an error:\n",
    "```python\n",
    "@define\n",
    "class A:\n",
    "    a: int = 0\n",
    "        \n",
    "@define\n",
    "class B(A):\n",
    "    b: int\n",
    "```\n",
    "\n",
    "Above code will incur below exception:\n",
    "```python\n",
    "ValueError: No mandatory attributes allowed after an attribute with a default value or factory.  Attribute in question: Attribute(name='b', default=NOTHING, validator=None, repr=True, eq=True, eq_key=None, order=True, order_key=None, hash=None, init=True, metadata=mappingproxy({}), type=<class 'int'>, converter=None, kw_only=False, inherited=False, on_setattr=None)\n",
    "```"
   ]
  },
  {
   "cell_type": "markdown",
   "id": "2270a849",
   "metadata": {},
   "source": [
    "<a id='sect_covert_to_collections'></a>\n",
    "## <font color='darkblue'>Converting to Collections Types</font> ([back](#sect_agenda))\n",
    "<b>When you have a class with data, it often is very convenient to transform that class into a `dict`</b> (<font color='brown'>for example if you want to serialize it to JSON</font>). In this case **[`attrs.asdict`](https://www.attrs.org/en/stable/api.html#attrs.asdict)** may come in handy.\n",
    "\n",
    "\n",
    "For example:"
   ]
  },
  {
   "cell_type": "code",
   "execution_count": 32,
   "id": "601752a4",
   "metadata": {},
   "outputs": [
    {
     "data": {
      "text/plain": [
       "{'x': 1, 'y': 2}"
      ]
     },
     "execution_count": 32,
     "metadata": {},
     "output_type": "execute_result"
    }
   ],
   "source": [
    "from attrs import asdict\n",
    "\n",
    "asdict(Coordinates(x=1, y=2))"
   ]
  },
  {
   "cell_type": "markdown",
   "id": "4bb5cb83",
   "metadata": {},
   "source": [
    "Some fields cannot or should not be transformed. For that, **[`attrs.asdict`](https://www.attrs.org/en/stable/api.html#attrs.asdict)** offers a callback that decides whether an attribute should be included:"
   ]
  },
  {
   "cell_type": "code",
   "execution_count": 33,
   "id": "d26c13b3",
   "metadata": {},
   "outputs": [],
   "source": [
    "@define\n",
    "class User:\n",
    "    email: str\n",
    "    password: str\n",
    "\n",
    "@define\n",
    "class UserList:\n",
    "    users: list[User]"
   ]
  },
  {
   "cell_type": "code",
   "execution_count": 34,
   "id": "4b560c19",
   "metadata": {},
   "outputs": [
    {
     "data": {
      "text/plain": [
       "{'users': [{'email': 'jane@doe.invalid'}, {'email': 'joe@doe.invalid'}]}"
      ]
     },
     "execution_count": 34,
     "metadata": {},
     "output_type": "execute_result"
    }
   ],
   "source": [
    "asdict(UserList([User(\"jane@doe.invalid\", \"s33kred\"),\n",
    "                 User(\"joe@doe.invalid\", \"p4ssw0rd\")]),\n",
    "       filter=lambda attr, value: attr.name != \"password\")"
   ]
  },
  {
   "cell_type": "markdown",
   "id": "f5935ef9",
   "metadata": {},
   "source": [
    "For the common case where you want to include or exclude certain types or attributes, [**attrs**](https://www.attrs.org/en/stable/#) ships with a few helpers:"
   ]
  },
  {
   "cell_type": "code",
   "execution_count": 35,
   "id": "d936fe37",
   "metadata": {},
   "outputs": [],
   "source": [
    "from attrs import asdict, filters, fields"
   ]
  },
  {
   "cell_type": "code",
   "execution_count": 36,
   "id": "e46e4886",
   "metadata": {},
   "outputs": [],
   "source": [
    "@define\n",
    "class User:\n",
    "    login: str\n",
    "    password: str\n",
    "    id: int"
   ]
  },
  {
   "cell_type": "code",
   "execution_count": 37,
   "id": "e6c43f97",
   "metadata": {},
   "outputs": [
    {
     "data": {
      "text/plain": [
       "{'login': 'jane'}"
      ]
     },
     "execution_count": 37,
     "metadata": {},
     "output_type": "execute_result"
    }
   ],
   "source": [
    "asdict(\n",
    "    User(\"jane\", \"s33kred\", 42),\n",
    "    filter=filters.exclude(fields(User).password, int))"
   ]
  },
  {
   "cell_type": "code",
   "execution_count": 38,
   "id": "c7194d27",
   "metadata": {},
   "outputs": [],
   "source": [
    "@define\n",
    "class C:\n",
    "    x: str\n",
    "    y: str\n",
    "    z: int"
   ]
  },
  {
   "cell_type": "code",
   "execution_count": 39,
   "id": "72c87cef",
   "metadata": {},
   "outputs": [
    {
     "data": {
      "text/plain": [
       "{'x': 'foo', 'z': 3}"
      ]
     },
     "execution_count": 39,
     "metadata": {},
     "output_type": "execute_result"
    }
   ],
   "source": [
    "asdict(C(\"foo\", \"2\", 3),\n",
    "       filter=filters.include(int, fields(C).x))"
   ]
  },
  {
   "cell_type": "markdown",
   "id": "69aab3a0",
   "metadata": {},
   "source": [
    "Other times, all you want is a tuple and [**attrs**](https://www.attrs.org/en/stable/examples.html) won’t let you down:"
   ]
  },
  {
   "cell_type": "code",
   "execution_count": 40,
   "id": "c0d16e98",
   "metadata": {},
   "outputs": [],
   "source": [
    "import sqlite3\n",
    "from attrs import astuple\n",
    "\n",
    "@define\n",
    "class Foo:\n",
    "   a: int\n",
    "   b: int"
   ]
  },
  {
   "cell_type": "code",
   "execution_count": 41,
   "id": "0081e0a9",
   "metadata": {},
   "outputs": [],
   "source": [
    "foo = Foo(2, 3)\n",
    "with sqlite3.connect(\":memory:\") as conn:\n",
    "   c = conn.cursor()\n",
    "   c.execute(\"CREATE TABLE foo (x INTEGER PRIMARY KEY ASC, y)\") \n",
    "   c.execute(\"INSERT INTO foo VALUES (?, ?)\", astuple(foo)) \n",
    "   foo2 = Foo(*c.execute(\"SELECT x, y FROM foo\").fetchone())"
   ]
  },
  {
   "cell_type": "code",
   "execution_count": 42,
   "id": "3c33d7e2",
   "metadata": {},
   "outputs": [
    {
     "data": {
      "text/plain": [
       "True"
      ]
     },
     "execution_count": 42,
     "metadata": {},
     "output_type": "execute_result"
    }
   ],
   "source": [
    "foo == foo2"
   ]
  },
  {
   "cell_type": "markdown",
   "id": "e97d660d",
   "metadata": {},
   "source": [
    "For more advanced transformations and conversions, we recommend you look at a companion library (<font color='brown'>such as [**cattrs**](https://github.com/python-attrs/cattrs)</font>)."
   ]
  },
  {
   "cell_type": "markdown",
   "id": "c3be75a4",
   "metadata": {},
   "source": [
    "<a id='sect_defaults'></a>\n",
    "## <a href='https://www.attrs.org/en/stable/examples.html#defaults'><font color='darkblue'>Defaults</font></a> ([back](#sect_agenda))\n",
    "Sometimes you want to have default values for your initializer. And sometimes you even want mutable objects as default values (<font color='brown'>ever accidentally used</font> <font color='blue'>def f(arg=[[])?</font>). [**attrs**](https://www.attrs.org/en/stable/) has you covered in both cases:\n",
    "* [**class attrs.Factory**(factory, takes_self=False)](https://www.attrs.org/en/stable/api.html#attrs.Factory): Stores a factory callable."
   ]
  },
  {
   "cell_type": "code",
   "execution_count": 48,
   "id": "3ec94d79",
   "metadata": {},
   "outputs": [],
   "source": [
    "@define\n",
    "class Connection:\n",
    "    socket: int\n",
    "      \n",
    "    @classmethod\n",
    "    def connect(cls, db_string):\n",
    "      # ... connect somehow to db_string ...\n",
    "      return cls(socket=42)\n",
    "\n",
    "@define\n",
    "class ConnectionPool:\n",
    "  db_string: str\n",
    "  pool: collections.deque = attrs.Factory(collections.deque)\n",
    "  debug: bool = False\n",
    "        \n",
    "  def get_connection(self):\n",
    "    try:\n",
    "      return self.pool.pop()\n",
    "    except IndexError:\n",
    "      if self.debug:\n",
    "        print(\"New connection!\")\n",
    "      return Connection.connect(self.db_string)\n",
    "      \n",
    "  def free_connection(self, conn):\n",
    "    if self.debug:\n",
    "      print(\"Connection returned!\")\n",
    "      \n",
    "    self.pool.appendleft(conn)"
   ]
  },
  {
   "cell_type": "code",
   "execution_count": 49,
   "id": "4f160dbf",
   "metadata": {},
   "outputs": [],
   "source": [
    "cp = ConnectionPool(\"postgres://localhost\")"
   ]
  },
  {
   "cell_type": "code",
   "execution_count": 50,
   "id": "b47aabb4",
   "metadata": {},
   "outputs": [
    {
     "data": {
      "text/plain": [
       "ConnectionPool(db_string='postgres://localhost', pool=deque([]), debug=False)"
      ]
     },
     "execution_count": 50,
     "metadata": {},
     "output_type": "execute_result"
    }
   ],
   "source": [
    "cp"
   ]
  },
  {
   "cell_type": "code",
   "execution_count": 51,
   "id": "96b4ef9c",
   "metadata": {},
   "outputs": [],
   "source": [
    "conn = cp.get_connection()"
   ]
  },
  {
   "cell_type": "code",
   "execution_count": 52,
   "id": "19bad326",
   "metadata": {},
   "outputs": [
    {
     "data": {
      "text/plain": [
       "Connection(socket=42)"
      ]
     },
     "execution_count": 52,
     "metadata": {},
     "output_type": "execute_result"
    }
   ],
   "source": [
    "conn"
   ]
  },
  {
   "cell_type": "code",
   "execution_count": 53,
   "id": "9702e61c",
   "metadata": {},
   "outputs": [],
   "source": [
    "cp.free_connection(conn)"
   ]
  },
  {
   "cell_type": "code",
   "execution_count": 54,
   "id": "3e133237",
   "metadata": {},
   "outputs": [
    {
     "data": {
      "text/plain": [
       "ConnectionPool(db_string='postgres://localhost', pool=deque([Connection(socket=42)]), debug=False)"
      ]
     },
     "execution_count": 54,
     "metadata": {},
     "output_type": "execute_result"
    }
   ],
   "source": [
    "cp"
   ]
  },
  {
   "cell_type": "markdown",
   "id": "f57e632c",
   "metadata": {},
   "source": [
    "More information on why class methods for constructing objects are awesome can be found in this insightful [blog post](https://web.archive.org/web/20210130220433/http://as.ynchrono.us/2014/12/asynchronous-object-initialization.html).\n",
    "\n",
    "Default factories can also be set using the `factory` argument to `field`, and using a decorator. The method receives the partially initialized instance which enables you to base a default value on other attributes:"
   ]
  },
  {
   "cell_type": "code",
   "execution_count": 55,
   "id": "89a66562",
   "metadata": {},
   "outputs": [],
   "source": [
    "@define\n",
    "class C:\n",
    "    x: int = 1\n",
    "    y: int = field()\n",
    "      \n",
    "    @y.default\n",
    "    def _any_name_except_a_name_of_an_attribute(self):\n",
    "        return self.x + 1\n",
    "      \n",
    "    z: list = field(factory=list)"
   ]
  },
  {
   "cell_type": "code",
   "execution_count": 56,
   "id": "62d9dee6",
   "metadata": {},
   "outputs": [
    {
     "data": {
      "text/plain": [
       "C(x=1, y=2, z=[])"
      ]
     },
     "execution_count": 56,
     "metadata": {},
     "output_type": "execute_result"
    }
   ],
   "source": [
    "C()"
   ]
  },
  {
   "cell_type": "markdown",
   "id": "7123d24f",
   "metadata": {},
   "source": [
    "Please keep in mind that the decorator approach only works if the attribute in question has a [`field`](https://www.attrs.org/en/stable/api.html#attrs.field) assigned to it. As a result, annotating an attribute with a type is not enough if you use `@default`."
   ]
  },
  {
   "cell_type": "markdown",
   "id": "df8d6a7f",
   "metadata": {},
   "source": [
    "<a id='sect_validators'></a>\n",
    "## <a href='https://www.attrs.org/en/stable/examples.html#validators'><font color='darkblue'>Validators</font></a> ([back](#sect_agenda))\n",
    "Although your initializers should do as little as possible (<font color='brown'>ideally: just initialize your instance according to the arguments!</font>), it can come in handy to do some kind of validation on the arguments.\n",
    "\n",
    "[**attrs**](https://www.attrs.org/en/stable/) offers two ways to define validators for each attribute and it’s up to you to choose which one suits your style and project better.\n",
    "\n",
    "You can use a decorator:"
   ]
  },
  {
   "cell_type": "code",
   "execution_count": 58,
   "id": "f8f832d7",
   "metadata": {},
   "outputs": [],
   "source": [
    "@define\n",
    "class C:\n",
    "  x: int = field()\n",
    "      \n",
    "  @x.validator\n",
    "  def check(self, attribute, value):\n",
    "    if value > 42:\n",
    "      raise ValueError(\"x must be smaller or equal to 42\")"
   ]
  },
  {
   "cell_type": "code",
   "execution_count": 59,
   "id": "5fed82da",
   "metadata": {},
   "outputs": [
    {
     "data": {
      "text/plain": [
       "C(x=42)"
      ]
     },
     "execution_count": 59,
     "metadata": {},
     "output_type": "execute_result"
    }
   ],
   "source": [
    "C(42)"
   ]
  },
  {
   "cell_type": "code",
   "execution_count": 61,
   "id": "a88e31a8",
   "metadata": {},
   "outputs": [],
   "source": [
    "# ValueError: x must be smaller or equal to 42\n",
    "# C(43)"
   ]
  },
  {
   "cell_type": "markdown",
   "id": "98800bf9",
   "metadata": {},
   "source": [
    "…or a callable…"
   ]
  },
  {
   "cell_type": "code",
   "execution_count": 62,
   "id": "d9d8330d",
   "metadata": {},
   "outputs": [],
   "source": [
    "from attrs import validators\n",
    "\n",
    "def x_smaller_than_y(instance, attribute, value):\n",
    "  if value >= instance.y:\n",
    "    raise ValueError(\"'x' has to be smaller than 'y'!\")\n",
    "        \n",
    "@define\n",
    "class C:\n",
    "  x: int = field(validator=[validators.instance_of(int),\n",
    "                            x_smaller_than_y])\n",
    "  y: int"
   ]
  },
  {
   "cell_type": "code",
   "execution_count": 63,
   "id": "a74b7efc",
   "metadata": {},
   "outputs": [
    {
     "data": {
      "text/plain": [
       "C(x=3, y=4)"
      ]
     },
     "execution_count": 63,
     "metadata": {},
     "output_type": "execute_result"
    }
   ],
   "source": [
    "C(x=3, y=4)"
   ]
  },
  {
   "cell_type": "code",
   "execution_count": 65,
   "id": "03ba9b55",
   "metadata": {},
   "outputs": [],
   "source": [
    "# ValueError: 'x' has to be smaller than 'y'!\n",
    "# C(x=4, y=3)"
   ]
  },
  {
   "cell_type": "markdown",
   "id": "57866c0b",
   "metadata": {},
   "source": [
    "…or both at once:"
   ]
  },
  {
   "cell_type": "code",
   "execution_count": 66,
   "id": "bc078977",
   "metadata": {},
   "outputs": [],
   "source": [
    "@define\n",
    "class C:\n",
    "  x: int = field(validator=validators.instance_of(int))\n",
    "\n",
    "  @x.validator\n",
    "  def fits_byte(self, attribute, value):\n",
    "    if not 0 <= value < 256:\n",
    "      raise ValueError(\"value out of bounds\")"
   ]
  },
  {
   "cell_type": "code",
   "execution_count": 67,
   "id": "c58d6b37",
   "metadata": {},
   "outputs": [
    {
     "data": {
      "text/plain": [
       "C(x=128)"
      ]
     },
     "execution_count": 67,
     "metadata": {},
     "output_type": "execute_result"
    }
   ],
   "source": [
    "C(128)"
   ]
  },
  {
   "cell_type": "code",
   "execution_count": 69,
   "id": "93c73d37",
   "metadata": {},
   "outputs": [],
   "source": [
    "# TypeError: (\"'x' must be <class 'int'> (got '128' that is a <class 'str'>).\"\n",
    "# C(\"128\")"
   ]
  },
  {
   "cell_type": "code",
   "execution_count": 71,
   "id": "7fde6575",
   "metadata": {},
   "outputs": [],
   "source": [
    "# ValueError: value out of bounds\n",
    "# C(256)"
   ]
  },
  {
   "cell_type": "markdown",
   "id": "ccabb710",
   "metadata": {},
   "source": [
    "Please note that the decorator approach only works if – and only if! – the attribute in question has a [`field`](https://www.attrs.org/en/stable/api.html#attrs.field) assigned. Therefore if you use `@validator`, it is not enough to annotate said attribute with a type.\n",
    "\n",
    "[**attrs**](https://www.attrs.org/en/stable/) ships with a bunch of [validators](https://www.attrs.org/en/stable/init.html#validators), make sure to check them out before writing your own:"
   ]
  },
  {
   "cell_type": "code",
   "execution_count": 72,
   "id": "c7df8023",
   "metadata": {},
   "outputs": [],
   "source": [
    "@define\n",
    "class C:\n",
    "  x: int = field(validator=validators.instance_of(int))"
   ]
  },
  {
   "cell_type": "code",
   "execution_count": 74,
   "id": "55eed0e1",
   "metadata": {},
   "outputs": [],
   "source": [
    "# TypeError: (\"'x' must be <class 'int'> (got '42' that is a <class 'str'>).\"\n",
    "# C(\"42\")"
   ]
  },
  {
   "cell_type": "markdown",
   "id": "9541413e",
   "metadata": {},
   "source": [
    "Please note that if you use [`attr.s`](https://www.attrs.org/en/stable/api.html#attr.s) (<font color='brown'>and not [`attrs.define`](https://www.attrs.org/en/stable/api.html#attrs.define)</font>) to define your class, validators only run on initialization by default. This behavior can be changed using the <font color='violet'>on_setattr</font> argument.\n",
    "\n",
    "Check out [**Validators**](https://www.attrs.org/en/stable/init.html#validators) for more details."
   ]
  },
  {
   "cell_type": "markdown",
   "id": "9c2b3e94",
   "metadata": {},
   "source": [
    "<a id='sect_conversion'></a>\n",
    "## <a href='https://www.attrs.org/en/stable/examples.html#conversion'><font color='darkblue'>Conversion</font></a> ([back](#sect_agenda))\n",
    "Attributes can have a `converter` function specified, which will be called with the attribute’s passed-in value to get a new value to use. This can be useful for doing type-conversions on values that you don’t want to force your callers to do."
   ]
  },
  {
   "cell_type": "code",
   "execution_count": 75,
   "id": "d820aa45",
   "metadata": {},
   "outputs": [],
   "source": [
    "@define\n",
    "class C:\n",
    "  x: int = field(converter=int)"
   ]
  },
  {
   "cell_type": "code",
   "execution_count": 77,
   "id": "edbb2582",
   "metadata": {},
   "outputs": [
    {
     "name": "stdout",
     "output_type": "stream",
     "text": [
      "o.x = 1 (<class 'int'>)\n"
     ]
    }
   ],
   "source": [
    "o = C(\"1\")\n",
    "print(f'o.x = {o.x} ({o.x.__class__})')"
   ]
  },
  {
   "cell_type": "markdown",
   "id": "580975fd",
   "metadata": {},
   "source": [
    "Please note that <b>converters only run on initialization</b>. Check out [**Converters**](https://www.attrs.org/en/stable/init.html#converters) for more details."
   ]
  },
  {
   "cell_type": "markdown",
   "id": "45d9a019",
   "metadata": {},
   "source": [
    "<a id='sect_metadata'></a>\n",
    "## <a href='https://www.attrs.org/en/stable/examples.html#metadata'><font color='darkblue'>Metadata</font></a> ([back](#sect_agenda))\n",
    "All [**attrs**](https://www.attrs.org/en/stable/) attributes may include arbitrary metadata in the form of a read-only dictionary."
   ]
  },
  {
   "cell_type": "code",
   "execution_count": 78,
   "id": "018384de",
   "metadata": {},
   "outputs": [],
   "source": [
    "from attrs import fields\n",
    "\n",
    "@define\n",
    "class C:\n",
    "  x = field(metadata={'my_metadata': 1})"
   ]
  },
  {
   "cell_type": "code",
   "execution_count": 79,
   "id": "bc51d04d",
   "metadata": {},
   "outputs": [
    {
     "data": {
      "text/plain": [
       "mappingproxy({'my_metadata': 1})"
      ]
     },
     "execution_count": 79,
     "metadata": {},
     "output_type": "execute_result"
    }
   ],
   "source": [
    "fields(C).x.metadata"
   ]
  },
  {
   "cell_type": "code",
   "execution_count": 80,
   "id": "45075f63",
   "metadata": {},
   "outputs": [
    {
     "data": {
      "text/plain": [
       "1"
      ]
     },
     "execution_count": 80,
     "metadata": {},
     "output_type": "execute_result"
    }
   ],
   "source": [
    "fields(C).x.metadata['my_metadata']"
   ]
  },
  {
   "cell_type": "markdown",
   "id": "166c3333",
   "metadata": {},
   "source": [
    "Metadata is not used by [**attrs**](https://www.attrs.org/en/stable/), and is meant to enable rich functionality in third-party libraries. The metadata dictionary follows the normal dictionary rules: keys need to be hashable, and both keys and values are recommended to be immutable.\n",
    "\n",
    "If you’re the author of a third-party library with [**attrs**](https://www.attrs.org/en/stable/) integration, please see [Extending Metadata](https://www.attrs.org/en/stable/extending.html#extending-metadata)."
   ]
  },
  {
   "cell_type": "markdown",
   "id": "4d1c925d",
   "metadata": {},
   "source": [
    "<a id='sect_types'></a>\n",
    "## <a href='https://www.attrs.org/en/stable/examples.html#types'><font color='darkblue'>Types</font></a> ([back](#sect_agenda))\n",
    "[**attrs**](https://www.attrs.org/en/stable/) also allows you to associate a type with an attribute using either the `type` argument to [attr.ib](https://www.attrs.org/en/stable/api.html#attr.ib) or – as of Python 3.6 – using [**PEP 526-annotations**](https://peps.python.org/pep-0526/):"
   ]
  },
  {
   "cell_type": "code",
   "execution_count": 82,
   "id": "2dfc19a6",
   "metadata": {},
   "outputs": [],
   "source": [
    "@define\n",
    "class C:\n",
    "  x: int"
   ]
  },
  {
   "cell_type": "code",
   "execution_count": 83,
   "id": "d5f0484a",
   "metadata": {},
   "outputs": [
    {
     "data": {
      "text/plain": [
       "int"
      ]
     },
     "execution_count": 83,
     "metadata": {},
     "output_type": "execute_result"
    }
   ],
   "source": [
    "fields(C).x.type"
   ]
  },
  {
   "cell_type": "code",
   "execution_count": 86,
   "id": "3344694c",
   "metadata": {},
   "outputs": [],
   "source": [
    "@attr.s\n",
    "class C:\n",
    "  x = attr.ib(type=int)"
   ]
  },
  {
   "cell_type": "code",
   "execution_count": 87,
   "id": "c7c43a4f",
   "metadata": {},
   "outputs": [
    {
     "data": {
      "text/plain": [
       "int"
      ]
     },
     "execution_count": 87,
     "metadata": {},
     "output_type": "execute_result"
    }
   ],
   "source": [
    "fields(C).x.type"
   ]
  },
  {
   "cell_type": "markdown",
   "id": "5fd6a893",
   "metadata": {},
   "source": [
    "If you don’t mind annotating all attributes, you can even drop the [attrs.field](https://www.attrs.org/en/stable/api.html#attrs.field) and assign default values instead:"
   ]
  },
  {
   "cell_type": "code",
   "execution_count": 92,
   "id": "bf4746f0",
   "metadata": {},
   "outputs": [],
   "source": [
    "@define\n",
    "class AutoC:\n",
    "  cls_var: typing.ClassVar[int] = 5  # this one is ignored\n",
    "  l: list[int] = attrs.Factory(list)\n",
    "  x: int = 1\n",
    "  foo: str = \"every attrib needs a type if auto_attribs=True\"\n",
    "  bar: typing.Any = None"
   ]
  },
  {
   "cell_type": "code",
   "execution_count": 93,
   "id": "9202185d",
   "metadata": {},
   "outputs": [
    {
     "data": {
      "text/plain": [
       "list[int]"
      ]
     },
     "execution_count": 93,
     "metadata": {},
     "output_type": "execute_result"
    }
   ],
   "source": [
    "fields(AutoC).l.type"
   ]
  },
  {
   "cell_type": "code",
   "execution_count": 94,
   "id": "b8d8acc4",
   "metadata": {},
   "outputs": [
    {
     "data": {
      "text/plain": [
       "int"
      ]
     },
     "execution_count": 94,
     "metadata": {},
     "output_type": "execute_result"
    }
   ],
   "source": [
    "fields(AutoC).x.type"
   ]
  },
  {
   "cell_type": "code",
   "execution_count": 95,
   "id": "da50fdd3",
   "metadata": {},
   "outputs": [
    {
     "data": {
      "text/plain": [
       "str"
      ]
     },
     "execution_count": 95,
     "metadata": {},
     "output_type": "execute_result"
    }
   ],
   "source": [
    "fields(AutoC).foo.type"
   ]
  },
  {
   "cell_type": "code",
   "execution_count": 96,
   "id": "86278167",
   "metadata": {},
   "outputs": [
    {
     "data": {
      "text/plain": [
       "typing.Any"
      ]
     },
     "execution_count": 96,
     "metadata": {},
     "output_type": "execute_result"
    }
   ],
   "source": [
    "fields(AutoC).bar.type"
   ]
  },
  {
   "cell_type": "code",
   "execution_count": 97,
   "id": "e4ee33bc",
   "metadata": {},
   "outputs": [
    {
     "data": {
      "text/plain": [
       "AutoC(l=[], x=1, foo='every attrib needs a type if auto_attribs=True', bar=None)"
      ]
     },
     "execution_count": 97,
     "metadata": {},
     "output_type": "execute_result"
    }
   ],
   "source": [
    "AutoC()"
   ]
  },
  {
   "cell_type": "code",
   "execution_count": 98,
   "id": "3a30c29f",
   "metadata": {},
   "outputs": [
    {
     "data": {
      "text/plain": [
       "5"
      ]
     },
     "execution_count": 98,
     "metadata": {},
     "output_type": "execute_result"
    }
   ],
   "source": [
    "AutoC.cls_var"
   ]
  },
  {
   "cell_type": "markdown",
   "id": "ffa6858e",
   "metadata": {},
   "source": [
    "The generated `__init__` method will have an attribute called `__annotations__` that contains this type information.\n",
    "\n",
    "If your annotations contain strings (<font color='brown'>e.g. forward references</font>), you can resolve these after all references have been defined by using [attrs.resolve_types()](https://www.attrs.org/en/stable/api.html#attrs.resolve_types). This will replace the type attribute in the respective fields."
   ]
  },
  {
   "cell_type": "code",
   "execution_count": 100,
   "id": "b7251f59",
   "metadata": {},
   "outputs": [],
   "source": [
    "@define\n",
    "class A:\n",
    "    a: 'list[A]'\n",
    "    b: 'B'\n",
    "\n",
    "@define\n",
    "class B:\n",
    "    a: A"
   ]
  },
  {
   "cell_type": "code",
   "execution_count": 101,
   "id": "bacb6f93",
   "metadata": {},
   "outputs": [
    {
     "data": {
      "text/plain": [
       "'list[A]'"
      ]
     },
     "execution_count": 101,
     "metadata": {},
     "output_type": "execute_result"
    }
   ],
   "source": [
    "fields(A).a.type"
   ]
  },
  {
   "cell_type": "code",
   "execution_count": 102,
   "id": "e8c9ba11",
   "metadata": {},
   "outputs": [
    {
     "data": {
      "text/plain": [
       "'B'"
      ]
     },
     "execution_count": 102,
     "metadata": {},
     "output_type": "execute_result"
    }
   ],
   "source": [
    "fields(A).b.type"
   ]
  },
  {
   "cell_type": "code",
   "execution_count": 103,
   "id": "895a1777",
   "metadata": {},
   "outputs": [
    {
     "data": {
      "text/plain": [
       "__main__.A"
      ]
     },
     "execution_count": 103,
     "metadata": {},
     "output_type": "execute_result"
    }
   ],
   "source": [
    "resolve_types(A, globals(), locals())"
   ]
  },
  {
   "cell_type": "code",
   "execution_count": 104,
   "id": "ad70c6f2",
   "metadata": {},
   "outputs": [
    {
     "data": {
      "text/plain": [
       "list[__main__.A]"
      ]
     },
     "execution_count": 104,
     "metadata": {},
     "output_type": "execute_result"
    }
   ],
   "source": [
    "fields(A).a.type"
   ]
  },
  {
   "cell_type": "code",
   "execution_count": 105,
   "id": "ede6239c",
   "metadata": {},
   "outputs": [
    {
     "data": {
      "text/plain": [
       "__main__.B"
      ]
     },
     "execution_count": 105,
     "metadata": {},
     "output_type": "execute_result"
    }
   ],
   "source": [
    "fields(A).b.type"
   ]
  },
  {
   "cell_type": "markdown",
   "id": "6142229b",
   "metadata": {},
   "source": [
    "<a id='sect_slots'></a>\n",
    "## <a href='https://www.attrs.org/en/stable/examples.html#slots'><font color='darkblue'>Slots</font></a> ([back](#sect_agenda))\n",
    "[**Slotted classes**](https://www.attrs.org/en/stable/glossary.html#term-slotted-classes) have several advantages on CPython. Defining `__slots__` by hand is tedious, in [**attrs**](https://www.attrs.org/en/stable/) it’s just a matter of using [attrs.define](https://www.attrs.org/en/stable/api.html#attrs.define) or passing <font color='blue'>slots=True</font> to [attr.s](https://www.attrs.org/en/stable/api.html#attr.s):"
   ]
  },
  {
   "cell_type": "code",
   "execution_count": 130,
   "id": "bb1afa9e",
   "metadata": {},
   "outputs": [],
   "source": [
    "@attr.s(slots=True, auto_attribs=True)\n",
    "class Person:\n",
    "  name: str\n",
    "  age: int"
   ]
  },
  {
   "cell_type": "code",
   "execution_count": 131,
   "id": "db7bd385",
   "metadata": {},
   "outputs": [],
   "source": [
    "p = Person(name='John', age=42)"
   ]
  },
  {
   "cell_type": "code",
   "execution_count": 138,
   "id": "21887e87",
   "metadata": {},
   "outputs": [],
   "source": [
    "# slots = True doesn't allow you to create new attribute\n",
    "# 'Person' object has no attribute 'height'\n",
    "# p.height=10"
   ]
  },
  {
   "cell_type": "code",
   "execution_count": 135,
   "id": "ede20812",
   "metadata": {},
   "outputs": [],
   "source": [
    "@attr.s(auto_attribs=True)\n",
    "class Person:\n",
    "  name: str\n",
    "  age: int"
   ]
  },
  {
   "cell_type": "code",
   "execution_count": 136,
   "id": "09e0eafb",
   "metadata": {},
   "outputs": [],
   "source": [
    "p = Person(name='John', age=42)"
   ]
  },
  {
   "cell_type": "code",
   "execution_count": 137,
   "id": "2b15d522",
   "metadata": {},
   "outputs": [],
   "source": [
    "p.height=10"
   ]
  },
  {
   "cell_type": "markdown",
   "id": "410af0f1",
   "metadata": {},
   "source": [
    "<a id='sect_immutability'></a>\n",
    "## <a href='https://www.attrs.org/en/stable/examples.html#immutability'><font color='darkblue'>Immutability</font></a> ([back](#sect_agenda))\n",
    "Sometimes you have instances that shouldn’t be changed after instantiation. Immutability is especially popular in functional programming and is generally a very good thing. If you’d like to enforce it, [**attrs**](https://www.attrs.org/en/stable/) will try to help:"
   ]
  },
  {
   "cell_type": "code",
   "execution_count": 141,
   "id": "e51f6d8d",
   "metadata": {},
   "outputs": [],
   "source": [
    "@frozen\n",
    "class C:\n",
    "  x: int"
   ]
  },
  {
   "cell_type": "code",
   "execution_count": 142,
   "id": "a093625d",
   "metadata": {},
   "outputs": [],
   "source": [
    "i = C(1)"
   ]
  },
  {
   "cell_type": "code",
   "execution_count": 144,
   "id": "602fc45a",
   "metadata": {},
   "outputs": [],
   "source": [
    "# FrozenInstanceError: \n",
    "# i.x = 2"
   ]
  },
  {
   "cell_type": "markdown",
   "id": "fed50565",
   "metadata": {},
   "source": [
    "Please note that true immutability is impossible in Python but it will [get you 99% there](https://www.attrs.org/en/stable/how-does-it-work.html#how-frozen). By themselves, immutable classes are useful for long-lived objects that should never change; like configurations for example.\n",
    "\n",
    "In order to use them in regular program flow, you’ll need a way to easily create new instances with changed attributes. In Clojure that function is called [assoc](https://clojuredocs.org/clojure.core/assoc) and [**attrs**](https://www.attrs.org/en/stable/) shamelessly imitates it: [attr.evolve](https://www.attrs.org/en/stable/api.html#attr.attr.evolve):"
   ]
  },
  {
   "cell_type": "code",
   "execution_count": 147,
   "id": "21f7959d",
   "metadata": {},
   "outputs": [],
   "source": [
    "@frozen\n",
    "class C:\n",
    "  x: int\n",
    "  y: int"
   ]
  },
  {
   "cell_type": "code",
   "execution_count": 148,
   "id": "8d58540a",
   "metadata": {},
   "outputs": [],
   "source": [
    "i1 = C(1, 2)"
   ]
  },
  {
   "cell_type": "code",
   "execution_count": 149,
   "id": "4f511112",
   "metadata": {},
   "outputs": [
    {
     "data": {
      "text/plain": [
       "C(x=1, y=2)"
      ]
     },
     "execution_count": 149,
     "metadata": {},
     "output_type": "execute_result"
    }
   ],
   "source": [
    "i1"
   ]
  },
  {
   "cell_type": "code",
   "execution_count": 150,
   "id": "623f883e",
   "metadata": {},
   "outputs": [],
   "source": [
    "i2 = evolve(i1, y=3)"
   ]
  },
  {
   "cell_type": "code",
   "execution_count": 151,
   "id": "c461d160",
   "metadata": {},
   "outputs": [
    {
     "data": {
      "text/plain": [
       "C(x=1, y=3)"
      ]
     },
     "execution_count": 151,
     "metadata": {},
     "output_type": "execute_result"
    }
   ],
   "source": [
    "i2"
   ]
  },
  {
   "cell_type": "code",
   "execution_count": 152,
   "id": "d6af6726",
   "metadata": {},
   "outputs": [
    {
     "data": {
      "text/plain": [
       "False"
      ]
     },
     "execution_count": 152,
     "metadata": {},
     "output_type": "execute_result"
    }
   ],
   "source": [
    "i1 == i2"
   ]
  },
  {
   "cell_type": "markdown",
   "id": "f60cb7d8",
   "metadata": {},
   "source": [
    "<a id='sect_other_goodies'></a>\n",
    "## <a href='https://www.attrs.org/en/stable/examples.html#other-goodies'><font color='darkblue'>Other Goodies</font></a> ([back](#sect_agenda))\n",
    "Sometimes you may want to create a class programmatically. [**attrs**](https://www.attrs.org/en/stable/) won’t let you down and gives you [attrs.make_class](https://www.attrs.org/en/stable/api.html#attrs.make_class) :\n",
    "> A quick way to create a new class called name with attrs."
   ]
  },
  {
   "cell_type": "code",
   "execution_count": 153,
   "id": "fedad808",
   "metadata": {},
   "outputs": [],
   "source": [
    "from attrs import fields, make_class\n",
    "\n",
    "@define\n",
    "class C1:\n",
    "  x = field()\n",
    "  y = field()"
   ]
  },
  {
   "cell_type": "code",
   "execution_count": 154,
   "id": "4c3c327d",
   "metadata": {},
   "outputs": [],
   "source": [
    "C2 = make_class(\"C2\", [\"x\", \"y\"])"
   ]
  },
  {
   "cell_type": "code",
   "execution_count": 155,
   "id": "5898c154",
   "metadata": {},
   "outputs": [
    {
     "data": {
      "text/plain": [
       "True"
      ]
     },
     "execution_count": 155,
     "metadata": {},
     "output_type": "execute_result"
    }
   ],
   "source": [
    "fields(C1) == fields(C2)"
   ]
  },
  {
   "cell_type": "markdown",
   "id": "95761ee6",
   "metadata": {},
   "source": [
    "You can still have power over the attributes if you pass a dictionary of name: `field` mappings and can pass arguments to <font color='orange'><b>@attr.s</b></font>:"
   ]
  },
  {
   "cell_type": "code",
   "execution_count": 157,
   "id": "5d03bd63",
   "metadata": {},
   "outputs": [],
   "source": [
    "C = make_class(\"C\", {\"x\": field(default=42),\n",
    "                     \"y\": field(default=attrs.Factory(list))},\n",
    "               repr=False)"
   ]
  },
  {
   "cell_type": "code",
   "execution_count": 158,
   "id": "90fa79b0",
   "metadata": {},
   "outputs": [],
   "source": [
    "i = C()"
   ]
  },
  {
   "cell_type": "code",
   "execution_count": 159,
   "id": "365664f2",
   "metadata": {},
   "outputs": [
    {
     "data": {
      "text/plain": [
       "<__main__.C at 0x7ff4678ac670>"
      ]
     },
     "execution_count": 159,
     "metadata": {},
     "output_type": "execute_result"
    }
   ],
   "source": [
    "i  # no repr added!"
   ]
  },
  {
   "cell_type": "code",
   "execution_count": 160,
   "id": "4590ee3c",
   "metadata": {},
   "outputs": [
    {
     "data": {
      "text/plain": [
       "42"
      ]
     },
     "execution_count": 160,
     "metadata": {},
     "output_type": "execute_result"
    }
   ],
   "source": [
    "i.x"
   ]
  },
  {
   "cell_type": "code",
   "execution_count": 161,
   "id": "c7203a14",
   "metadata": {},
   "outputs": [
    {
     "data": {
      "text/plain": [
       "[]"
      ]
     },
     "execution_count": 161,
     "metadata": {},
     "output_type": "execute_result"
    }
   ],
   "source": [
    "i.y"
   ]
  },
  {
   "cell_type": "markdown",
   "id": "93105e13",
   "metadata": {},
   "source": [
    "If you need to dynamically make a class with [attrs.make_class](https://www.attrs.org/en/stable/api.html#attrs.make_class) and it needs to be a subclass of something else than `object`, use the <font color='violet'>bases</font> argument:"
   ]
  },
  {
   "cell_type": "code",
   "execution_count": 162,
   "id": "88cc09a3",
   "metadata": {},
   "outputs": [],
   "source": [
    "class D:\n",
    "  def __eq__(self, other):\n",
    "    return True  # arbitrary example"
   ]
  },
  {
   "cell_type": "code",
   "execution_count": 164,
   "id": "4f90ec35",
   "metadata": {},
   "outputs": [],
   "source": [
    "# Setting cmp is equivalent to setting eq and order to the same value. Must not be mixed with eq or order.\n",
    "C = make_class(\"C\", {}, bases=(D,), cmp=False)"
   ]
  },
  {
   "cell_type": "code",
   "execution_count": 165,
   "id": "d17f6911",
   "metadata": {},
   "outputs": [
    {
     "data": {
      "text/plain": [
       "True"
      ]
     },
     "execution_count": 165,
     "metadata": {},
     "output_type": "execute_result"
    }
   ],
   "source": [
    "isinstance(C(), D)"
   ]
  },
  {
   "cell_type": "markdown",
   "id": "e7751561",
   "metadata": {},
   "source": [
    "Sometimes, you want to have your class’s `__init__` method do more than just the initialization, validation, etc. that gets done for you automatically when using `@define`. To do this, just define a `__attrs_post_init__` method in your class. It will get called at the end of the generated `__init__` method."
   ]
  },
  {
   "cell_type": "code",
   "execution_count": 166,
   "id": "74aa3ffd",
   "metadata": {},
   "outputs": [],
   "source": [
    "@define\n",
    "class C:\n",
    "  x: int\n",
    "  y: int\n",
    "  z: int = field(init=False)\n",
    "\n",
    "  def __attrs_post_init__(self):\n",
    "    self.z = self.x + self.y"
   ]
  },
  {
   "cell_type": "code",
   "execution_count": 167,
   "id": "57fc7695",
   "metadata": {},
   "outputs": [],
   "source": [
    "obj = C(x=1, y=2)"
   ]
  },
  {
   "cell_type": "code",
   "execution_count": 168,
   "id": "45a583e0",
   "metadata": {},
   "outputs": [
    {
     "data": {
      "text/plain": [
       "C(x=1, y=2, z=3)"
      ]
     },
     "execution_count": 168,
     "metadata": {},
     "output_type": "execute_result"
    }
   ],
   "source": [
    "obj"
   ]
  },
  {
   "cell_type": "markdown",
   "id": "d0472157",
   "metadata": {},
   "source": [
    "You can exclude single attributes from certain methods:\n",
    "* `repr (bool) – Create a __repr__ method with a human readable representation of attrs attributes.`"
   ]
  },
  {
   "cell_type": "code",
   "execution_count": 169,
   "id": "700d2b87",
   "metadata": {},
   "outputs": [],
   "source": [
    "@define\n",
    "class C:\n",
    "  user: str\n",
    "  password: str = field(repr=False)"
   ]
  },
  {
   "cell_type": "code",
   "execution_count": 170,
   "id": "2518cb52",
   "metadata": {},
   "outputs": [
    {
     "data": {
      "text/plain": [
       "C(user='me')"
      ]
     },
     "execution_count": 170,
     "metadata": {},
     "output_type": "execute_result"
    }
   ],
   "source": [
    "C(\"me\", \"s3kr3t\")"
   ]
  },
  {
   "cell_type": "markdown",
   "id": "c5824341",
   "metadata": {},
   "source": [
    "Alternatively, to influence how the generated `__repr__()` method formats a specific attribute, specify a custom callable to be used instead of the [repr()](https://docs.python.org/3/library/functions.html#repr) built-in function:"
   ]
  },
  {
   "cell_type": "code",
   "execution_count": 171,
   "id": "6da56267",
   "metadata": {},
   "outputs": [],
   "source": [
    "@define\n",
    "class C:\n",
    "  user: str\n",
    "  password: str = field(repr=lambda value: '***')"
   ]
  },
  {
   "cell_type": "code",
   "execution_count": 172,
   "id": "e64caeae",
   "metadata": {},
   "outputs": [
    {
     "data": {
      "text/plain": [
       "C(user='me', password=***)"
      ]
     },
     "execution_count": 172,
     "metadata": {},
     "output_type": "execute_result"
    }
   ],
   "source": [
    "C(\"me\", \"s3kr3t\")"
   ]
  },
  {
   "cell_type": "markdown",
   "id": "09d11adb",
   "metadata": {},
   "source": [
    "## <font color='darkblue'>Supplement</font>\n",
    "* [Why not - dataclasses?](https://www.attrs.org/en/stable/why.html#data-classes)\n",
    "* [Python- `__slots__` 變量介紹](https://medium.com/@yaia52009/%E9%BC%A0%E5%B9%B4%E5%85%A8%E9%A6%AC%E9%90%B5%E4%BA%BA%E6%8C%91%E6%88%B0week9-python-slots-%E8%AE%8A%E9%87%8F-9248d08c12a6)\n",
    "> Python是一種動態語言, 通常動態語言允許我們在程式運行時給物件綁定心的屬性或方法, 當然也可以對已經綁定屬性的方法解除綁定, 但是如果我們需要限定自定義類的物件只能綁定某些屬性, 可以通過在類中定義 `__slots__` 變量來進行限定, 需要注意的是 `__slots__` 的限定只對當前類的物件生效, 對子類不起任何作用..."
   ]
  }
 ],
 "metadata": {
  "kernelspec": {
   "display_name": "Python 3 (ipykernel)",
   "language": "python",
   "name": "python3"
  },
  "language_info": {
   "codemirror_mode": {
    "name": "ipython",
    "version": 3
   },
   "file_extension": ".py",
   "mimetype": "text/x-python",
   "name": "python",
   "nbconvert_exporter": "python",
   "pygments_lexer": "ipython3",
   "version": "3.10.7"
  }
 },
 "nbformat": 4,
 "nbformat_minor": 5
}
