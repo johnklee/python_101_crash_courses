{
 "cells": [
  {
   "cell_type": "markdown",
   "id": "60789112",
   "metadata": {},
   "source": [
    "## <font color='darkblue'>Preface</font>\n",
    "([article source](https://levelup.gitconnected.com/python-interfaces-choose-protocols-over-abc-3982e112342e)) <b><font size='3ptx'>Several practical reasons to prefer new shiny Protocols</font></b>\n",
    "\n",
    "I used a standard Python library [**abc**](https://docs.python.org/3/library/abc.html) to define interfaces for the last 10 years of my career. But recently, I found that relatively new [**Python Protocols**](https://peps.python.org/pep-0544/) are way nicer. People find uses for both technologies. But **I want to convince you to completely jump ships and start using them instead of more traditional techniques**."
   ]
  },
  {
   "cell_type": "markdown",
   "id": "4368bfc4",
   "metadata": {},
   "source": [
    "## <font color='darkblue'>Python interfaces: what can you use?</font>\n",
    "<b><font size='3ptx'>Python is somewhat different from other popular languages since there are no interfaces on a language level</font></b>. But there are several library implementations. The [**abc**](https://docs.python.org/3/library/abc.html) package is probably the most popular:"
   ]
  },
  {
   "cell_type": "code",
   "execution_count": 1,
   "id": "7423b48e",
   "metadata": {},
   "outputs": [],
   "source": [
    "from abc import ABC, abstractmethod\n",
    "\n",
    "class Animal(ABC):\n",
    "  @abstractmethod\n",
    "  def eat(self, food) -> float:\n",
    "    pass\n",
    "\n",
    "  @abstractmethod\n",
    "  def sleep(self, hours) -> float:\n",
    "    pass"
   ]
  },
  {
   "cell_type": "markdown",
   "id": "56cc4b12",
   "metadata": {},
   "source": [
    "Next, the most frequently mentioned package seems to be [**Zope**](https://pypi.org/project/Zope/):\n",
    "```python\n",
    "from zope.interface import Interface\n",
    "\n",
    "class Animal(Interface):\n",
    "  def eat(self, food) -> float:\n",
    "    pass\n",
    "  def sleep(self, hours) -> float:\n",
    "    pass\n",
    "```\n",
    "\n",
    "[**Zope**](https://pypi.org/project/Zope/) is a web-related library, and its interfaces have a lot of advanced features. Also, there are more custom packages and tutorials on the web on how to make an interface system yourself ([see example](https://realpython.com/python-interface/)).\n",
    "\n",
    "Finally, there are protocols:"
   ]
  },
  {
   "cell_type": "code",
   "execution_count": 2,
   "id": "841fbb66",
   "metadata": {},
   "outputs": [],
   "source": [
    "from typing import Protocol\n",
    "\n",
    "class Animal(Protocol):\n",
    "  def eat(self, food) -> float:\n",
    "    ...\n",
    "    \n",
    "  def sleep(self, hours) -> float:\n",
    "    ..."
   ]
  },
  {
   "cell_type": "markdown",
   "id": "ed51e8c8",
   "metadata": {},
   "source": [
    "A protocol is a formalization of Python’s “[duck-typing](https://en.wikipedia.org/wiki/Duck_typing)” ideology. There are many great articles on structural typing in Python (<font color='brown'>for example, see [this tutorial](https://trm.io/2017/01/29/structural-subtyping-python)</font>). Protocols and interfaces are different beasts in theory, but a protocol does the job. I had great success replacing [**abc**](https://docs.python.org/3/library/abc.html) with [**Protocols**](https://peps.python.org/pep-0544/) without any downsides."
   ]
  },
  {
   "cell_type": "markdown",
   "id": "58765eea",
   "metadata": {},
   "source": [
    "## <font color='darkblue'>Niche and Comparison</font>\n",
    "<b><font size='3ptx'>You should know that an interface system will not be localized to a small part of your codebase. After you choose to go with one, you’ll see it everywhere, and it’s going to be hard to change in the future. </font></b>\n",
    "\n",
    "<b>So I would immediately dismiss any custom implementations or [Zope](https://pypi.org/project/Zope/)</b>. It’s an extra dependency you have to deal with forever: installation, versions, support, and so on. For example, you have to install a [**Mypy plugin**](https://github.com/Shoobx/mypy-zope#plugin-for-mypy-to-support-zopeinterface) to support a `zope.interface` well. Additionally, a new developer in the team might not know this custom package, and you'll have to explain what it is and why you chose it.\n",
    "\n",
    "The main battle will happen between `abc` and `Protocols`. But if you really want a `zope` vs `Protocols` battle, please read [this detailed analysis](https://glyph.twistedmatrix.com/2021/03/interfaces-and-protocols.html#runtime-support)."
   ]
  },
  {
   "cell_type": "markdown",
   "id": "c3c52389",
   "metadata": {},
   "source": [
    "### <font color='darkgreen'>Static checking first</font>\n",
    "<font size='3ptx'><b>The big assumption I’m going to make is that you’re already convinced that static checking is a must</b></font>: you are not going to run the code that fails `pylint/mypy`. <b>Both checkers support `abc` and `Protocols` equally well. Also, just know that both `abc` and `Protocols` allow runtime checking, in case you need it</b>."
   ]
  },
  {
   "cell_type": "markdown",
   "id": "8cf3ac04",
   "metadata": {},
   "source": [
    "### <font color='darkgreen'>Both support explicit syntax</font>\n",
    "First, note that you still can explicitly inherit from an `abc` and a `Protocol`. Many arguments in a [very good video](https://www.youtube.com/watch?v=xvb5hGLoK0A) (<font color='brown'>and comments</font>) from Arjan revolve around the misconception that you can’t do that with protocols. You totally can:\n",
    "```python\n",
    "class Giraffe(Animal):\n",
    "   ...\n",
    "```\n",
    "\n",
    "So in that regard, `abc` and `protocols` could be used the same way. But **`Protocols` give you an extra degree of design freedom by default. You can avoid explicit inheritance but still enjoy full interface checking**:\n",
    "```python\n",
    "class Giraffe:  # no base class needed!\n",
    "  def eat(self, food) -> float:\n",
    "    return 0.\n",
    " \n",
    "  def sleep(self, hours) -> float:\n",
    "    return 1.\n",
    "\n",
    "def feed_animal(animal: Animal):\n",
    "    ... \n",
    "\n",
    "giraffe = Giraffe()\n",
    "feed_animal(giraffe)\n",
    "```\n",
    "\n",
    "This allows you to make an interface for the code you don’t control and loosen the dependencies between modules in your codebase. Whether to choose an implicit or explicit option is a subtle choice decided on a case-by-case basis. A good example in favour of explicit “opt-in” for an interface is described [here](https://glyph.twistedmatrix.com/2021/03/interfaces-and-protocols.html#where-interfaces-work-best-hidden-and-complex-meanings).\n",
    "\n",
    "<b>Protocols do not force you to opt-in. But you can still establish a company-wide agreement to always explicitly inherit from any protocol.</b>\n",
    "\n",
    "[**abc**](https://docs.python.org/3/library/abc.html) also support implicit interfaces through the concept of “<b><font color='darkblue'>virtual subclasses</font></b>” . But you have to call register for every implementation:\n",
    "```python\n",
    "class Giraffe:  # no base class needed!\n",
    "  def eat(self, food) -> float:\n",
    "    return 0.\n",
    "\n",
    "class Animal(ABC):\n",
    "  ...\n",
    "\n",
    "Animal.register(Giraffe)  # achieves the same as implicit Protocol\n",
    "```\n",
    "\n",
    "`Procotol` supports implicit and explicit variants without extra syntax and works with `mypy`. Also, [mypy does not support register as of the end of 2022](https://github.com/python/mypy/issues/2922). I'm not sure if we can fully count that in favour of [**abc**](https://docs.python.org/3/library/abc.html).\n",
    "\n",
    "**`Protocols` allow you to define an interface for a function** (<font color='brown'>not only a class</font>) — see [callback protocols](https://mypy.readthedocs.io/en/stable/protocols.html#callback-protocols). It is a very cool feature that is worthy of a separate post."
   ]
  },
  {
   "cell_type": "markdown",
   "id": "251da724",
   "metadata": {},
   "source": [
    "### <font color='darkgreen'>Both support default methods (unfortunately)</font>\n",
    "There is a big downside to both `abc` and `Protocols`. In the real world, many people work in a single codebase. Abstract base classes sometimes tend to acquire default method implementations. This is what it might look like:\n",
    "```python\n",
    "class Animal(Protocol):  # the same holds for Animal(ABC):\n",
    "  def eat(self, food) -> float:\n",
    "    ...  # this is still abstract\n",
    " \n",
    "  def sleep(self, hours) -> float:\n",
    "    return 3.\n",
    "```\n",
    "\n",
    "<font color='darkred'><b>In that case, they stop being “abstract” and become just base classes</b></font>. Python and static checkers do not catch that. A software design with inheritance is not really the same as a design with interfaces. I would love Python to separate them on a language level, but it is unlikely to happen. Implicit protocols have an advantage here since they allow you to avoid messy inheritance altogether."
   ]
  },
  {
   "cell_type": "markdown",
   "id": "b7509f22",
   "metadata": {},
   "source": [
    "### <font color='darkgreen'>Protocols are shorter</font>\n",
    "Last but not least, you can count the number of lines of code you need to define an interface. With `abc`, you must have an `abstractmethod` decorator for every method. But with `Protocols` without runtime checking, you don't have to use any decorators at all. So here, Protocols win hands down."
   ]
  },
  {
   "cell_type": "markdown",
   "id": "e022a12d",
   "metadata": {},
   "source": [
    "## <font color='darkblue'>Conclusion</font>\n",
    "Let’s add up the scores:\n",
    "![comparison table](https://miro.medium.com/max/1400/1*Em8M0KwmDHXsliHOaBwJ7Q.webp)\n",
    "\n",
    "Hopefully, I’m not missing anything huge in this analysis. Looking at the results, team “`Protocols`” wins, and you probably should just start using it!"
   ]
  }
 ],
 "metadata": {
  "kernelspec": {
   "display_name": "Python 3 (ipykernel)",
   "language": "python",
   "name": "python3"
  },
  "language_info": {
   "codemirror_mode": {
    "name": "ipython",
    "version": 3
   },
   "file_extension": ".py",
   "mimetype": "text/x-python",
   "name": "python",
   "nbconvert_exporter": "python",
   "pygments_lexer": "ipython3",
   "version": "3.10.9"
  }
 },
 "nbformat": 4,
 "nbformat_minor": 5
}
