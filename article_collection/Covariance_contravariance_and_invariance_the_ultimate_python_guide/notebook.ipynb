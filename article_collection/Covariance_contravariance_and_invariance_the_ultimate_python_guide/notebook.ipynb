{
 "cells": [
  {
   "cell_type": "markdown",
   "id": "1ceab6d5",
   "metadata": {},
   "source": [
    "## <font color='darkblue'>Preface</font>\n",
    "([article source](https://blog.daftcode.pl/covariance-contravariance-and-invariance-the-ultimate-python-guide-8fabc0c24278)) <b><font size='3ptx'>This blog post is about covariance, contravariance, and invariance of Python types. I define these concepts and explain them in detail. Every step is accompanied by a fairly straightforward code snippet. I aim to show that the knowledge of these concepts helps to write more reliable code and it is beneficial to all Python programmers.</font></b>\n",
    "\n",
    "This is the third part of a blog post series about contravariance and issues related to it. This part is self-contained, though, and can be read separately. The first two parts are devoted to understanding ([s02e01](https://blog.daftcode.pl/csi-python-type-system-episode-1-1c2ee1f8047c)) and fixing ([s02e02](https://blog.daftcode.pl/csi-python-type-system-episode-2-baf5168038c0)) a specific contravariance-related bug.\n",
    "\n",
    "There are some formalisms in this post, yet they are quite straightforward. <b>I use `<:` symbol, which reads “is a subtype of”</b> (i.e. subtype is always at the pointy end 🗡 😉). If you are not sure what subtyping is or how it differs from subclassing, just read [this](https://blog.daftcode.pl/first-steps-with-python-type-system-30e4296722af#3df5) and [this](https://blog.daftcode.pl/first-steps-with-python-type-system-30e4296722af#70a9) part of s01e01 blog post."
   ]
  },
  {
   "cell_type": "code",
   "execution_count": 13,
   "id": "9a837201",
   "metadata": {},
   "outputs": [],
   "source": [
    "from typing import Callable, List, Tuple\n",
    "\n",
    "class Animal: ...\n",
    "  \n",
    "class Dog(Animal): ..."
   ]
  },
  {
   "cell_type": "markdown",
   "id": "7045cf3b",
   "metadata": {},
   "source": [
    "## <font color='darkblue'>Covariance</font>"
   ]
  },
  {
   "cell_type": "markdown",
   "id": "237c954c",
   "metadata": {},
   "source": [
    "### <font color='darkgreen'>Tuple</font>\n",
    "Let’s say we have a tuple of <b><font color='blue'>Dog</font></b>s and a tuple of <b><font color='blue'>Animal</font></b>s. Their types are `Tuple[Dog, ...]` and `Tuple[Animal, ...]`, respectively (<font color='brown'>for a reminder about `Tuple` type, see [here](https://blog.daftcode.pl/first-steps-with-python-type-system-30e4296722af#0c1d)</font>). Every object with the type of `Tuple[Dog]` can be safely assigned to a variable of the type `Tuple[Animal]`, but not the other way around:"
   ]
  },
  {
   "cell_type": "code",
   "execution_count": 3,
   "id": "80dc3918",
   "metadata": {},
   "outputs": [],
   "source": [
    "an_animal: Animal = Animal()\n",
    "lassie: Dog = Dog()\n",
    "snoopy: Dog = Dog()\n",
    "\n",
    "animals: Tuple[Animal, ...] = (an_animal, lassie)\n",
    "dogs: Tuple[Dog, ...] = (lassie, snoopy)\n",
    "\n",
    "dogs = animals  # mypy error:\n",
    "# Incompatible types in assignment (expression has type \n",
    "#   \"Tuple[Animal, ...]\", variable has type \"Tuple[Dog, ...]\")"
   ]
  },
  {
   "cell_type": "markdown",
   "id": "b028e374",
   "metadata": {},
   "source": [
    "Why the error is reported? It's because <b>animals tuple could contain other animals than dogs</b>. (<font color='brown'>And in our code in fact it does: `an_animal`.</font>) Therefore, the type of dogs, which is `Tuple[Dog, ...]`, could be compromised if we assigned an object of `Tuple[Animal, ...]` type to it. (<font color='brown'>And in our code in fact it is assigned.</font>) \n",
    "<b><font color='orange'>其實這道理就跟 `下雨 -> 地濕` , 但是反過來不對: `地濕 -> 下雨`</font></b>\n",
    "\n",
    "On the other hand, [**mypy**](https://mypy.readthedocs.io/en/stable/) is happy with `animals = dogs` assignment. It’s because every element of `dogs` is a <font color='blue'><b>Dog</b></font> and, due to tuple’s immutability, cannot be anything else. Therefore, it can be used where an object of the type <b><font color='blue'>Animal</font></b> is expected, as <font color='blue'><b>Dog</b></font> is a subtype of <b><font color='blue'>Animal</font></b>. Thus `Tuple[Dog, ...] <: Tuple[Animal, ...]`.\n",
    "\n",
    "More generally:\n",
    "> `Tuple[SubType, ...] <: Tuple[SuperType, ...]`, <br/>\n",
    "> for `SubType <: SuperType`.\n",
    "\n",
    "Similarly, in the case of multiple-type tuples:\n",
    "> `Tuple[SubType1, SubType2, etc.] <: Tuple[SuperType1, SuperType2, etc.]`,<br/>\n",
    "> for `SubType1 <: SuperType1`, `SubType2 <: SuperType2` (etc.)."
   ]
  },
  {
   "cell_type": "markdown",
   "id": "797e0400",
   "metadata": {},
   "source": [
    "### <font color='darkgreen'>Definition of Covariance</font>\n",
    "<b>The property of `Tuple` type we have just discovered is called a <font color='darkblue'>covariance</font></b>. Or, more precisely: <b>`Tuple` is covariant in all its arguments</b>. The formal definition of the <font color='darkblue'><b>covariance</b></font> is as follows (<font color='brown'>I slightly modified the definition from [mypy docs](https://mypy.readthedocs.io/en/latest/generics.html#variance-of-generic-types)</font>):\n",
    "> Generic type `GenType[T, ...]` is covariant in type variable `T` <br/>\n",
    "> if `GenType[SubType, ...] <: GenType[SuperType, ...]`, <br/>\n",
    "> for `SubType <: SuperType`.\n",
    "\n",
    "A generic type is, basically, a type that takes other types as its parameters, in square brackets, like `Tuple`, `List`, `Union` (<font color='brown'>see [mypy docs](https://mypy.readthedocs.io/en/latest/generics.html#generics)</font>). In Python, most immutable containers are covariant. `Tuple`s and [`frozenset`s](https://docs.python.org/3/library/stdtypes.html#frozenset) (<font color='brown'>their type is [FrozenSet](https://docs.python.org/3/library/typing.html#typing.FrozenSet)</font>) are the most significant ones. But there are other covariant types as well."
   ]
  },
  {
   "cell_type": "markdown",
   "id": "f18f965e",
   "metadata": {},
   "source": [
    "### <font color='darkgreen'>Union</font>\n",
    "[**Union**](https://blog.daftcode.pl/first-steps-with-python-type-system-30e4296722af#9fbc) type is covariant in all its arguments:\n",
    "> `Union[SubType1, SubType2, etc.] <: Union[SuperType1, SuperType2, etc.]`, <br/>\n",
    "> for `SubType1 <: SuperType1`, `SubType2 <: SuperType2` (etc.).\n",
    "\n",
    "The covariance of [**Union**](https://blog.daftcode.pl/first-steps-with-python-type-system-30e4296722af#9fbc) basically works the same way as the covariance of `Tuple`. Let’s say we have two pairs of types: `Dog <: Animal` and `Meat <: Food`. It’s safe to use an object of the type `Union[Dog, Meat]` where an object of the type `Union[Animal, Food]` is expected, but not the other way around. So, it’s okay to assign an object of the type `Union[Dog, Meat]` to a variable of the type `Union[Animal, Food]`, but not vice versa."
   ]
  },
  {
   "cell_type": "markdown",
   "id": "7b0f68e0",
   "metadata": {},
   "source": [
    "### <font color='darkgreen'>Return Type of Callable</font>\n",
    "The case of [**Callable**](https://blog.daftcode.pl/next-steps-with-python-type-system-efc4df5251c9#e1dc) is a little bit more interesting. We can look at [**Callable**](https://blog.daftcode.pl/next-steps-with-python-type-system-efc4df5251c9#e1dc) type from two points of view: types of its arguments and the type of its return value.\n",
    "\n",
    "As for the type of return value, let’s look at the following functions. Both are getting dogs and animals from, say, external services."
   ]
  },
  {
   "cell_type": "code",
   "execution_count": 5,
   "id": "cd1d3a7e",
   "metadata": {},
   "outputs": [],
   "source": [
    "def get_dog() -> Dog:  # the type is: Callable[[], Dog]\n",
    "    dog = Dog()\n",
    "    return dog\n",
    "\n",
    "  \n",
    "def get_animal() -> Animal:  # the type is: Callable[[], Animal]\n",
    "    animal = Animal()\n",
    "    return animal"
   ]
  },
  {
   "cell_type": "markdown",
   "id": "aba72fdc",
   "metadata": {},
   "source": [
    "Now, it’s safe to use `get_dog` (<font color='brown'>returning a</font> <font color='blue'><b>Dog</b></font>) wherever `get_animal` (<font color='brown'>returning an</font> <font color='blue'><b>Animal</b></font>) is expected:\n",
    "```python\n",
    "some_animal: Animal = get_animal()\n",
    "```\n",
    "\n",
    "Type of `some_animal` is <font color='blue'><b>Animal</b></font>. `get_animal` can safely be switched with `get_dog`, then. It's because it will return a <font color='blue'><b>Dog</b></font> which can be safely used wherever <font color='blue'><b>Animal</b></font> is used because `Dog <: Animal`. So `Callable[[], Dog] <: Callable[[], Animal]`, or generally:\n",
    "> `Callable[[], SubType] <: Callable[[], SuperType]`, <br/>\n",
    "> for `SubType <: SuperType`.\n",
    "\n",
    "So [**Callable**](https://blog.daftcode.pl/next-steps-with-python-type-system-efc4df5251c9#e1dc) is covariant in the return type.\n",
    "\n",
    "<b>In more general terms, anything that provides something — producer, factory, constructor, writer, etc. — is covariant in the type of the objects it provides. It needs to be read-only with regard to the provided objects, though</b>."
   ]
  },
  {
   "cell_type": "markdown",
   "id": "878278d0",
   "metadata": {},
   "source": [
    "## <font color='darkblue'>Contravariance</font>"
   ]
  },
  {
   "cell_type": "markdown",
   "id": "e8badc7a",
   "metadata": {},
   "source": [
    "### <font color='darkgreen'>Definition of Contravariance</font>\n",
    "Contrary term to “covariance” is “contravariance”. It’s defined as follows:\n",
    "> Generic type `GenType[T, ...]` is contravariant in type variable `T` <br/>\n",
    "> if `GenType[SuperType, ...] <: GenType[SubType, ...]`, <br/>\n",
    "> for `SubType <: SuperType`.\n",
    "\n",
    "The definition is almost the same as of “covariance”, but with <: relation switched. Let’s get back to [**Callable**](https://blog.daftcode.pl/next-steps-with-python-type-system-efc4df5251c9#e1dc).\n",
    "> `Callable[[SuperType], None] <: Callable[[SubType], None]`, <br/>\n",
    "> for `SubType <: SuperType`.\n",
    "\n",
    "<br/>\n",
    "\n",
    "<b><font color='orange'>My understanding: </font></b>\n",
    "> 你的貓生病了, 本來想找 專門看貓的醫院 (`SubType`), 結果 只有 一般動物醫院 (`SuperType`) - Ok <br/>\n",
    "> 你個狗生病了, 來來想找 一般動物醫院 (`SuperType`), 結果 只有 專門看鳥的醫院 (`SubType`) - Not Ok"
   ]
  },
  {
   "cell_type": "markdown",
   "id": "7fda9912",
   "metadata": {},
   "source": [
    "### <font color='darkgreen'>Arguments of Callable</font>\n",
    "The other way of looking at [**Callable**](https://blog.daftcode.pl/next-steps-with-python-type-system-efc4df5251c9#e1dc) is from the types of its arguments point of view. It turns out — and we will see why in a second — that in the case of function’s arguments, subtyping works the other way around compared to plain objects:\n",
    "> `Callable[[SuperType], None] <: Callable[[SubType], None]`, <br/>\n",
    "> for `SubType <: SuperType`.\n",
    "\n",
    "**So,** [**Callable**](https://blog.daftcode.pl/next-steps-with-python-type-system-efc4df5251c9#e1dc) **is contravariant in the argument types**. Take note that for [**Callable**](https://blog.daftcode.pl/next-steps-with-python-type-system-efc4df5251c9#e1dc) contravariance works for an arbitrary number of arguments, as long as they are in subtyping relationships in a pairwise fashion:\n",
    "> `Callable[[SuperType1, SuperType2, etc.], None] <: Callable[[SubType1, SubType2, etc.], None]`, <br/>\n",
    "> for `SubType1 <: SuperType1`, `SubType2 <: SuperType2` (etc.).\n",
    "\n",
    "Let’s find out why [**Callable**](https://blog.daftcode.pl/next-steps-with-python-type-system-efc4df5251c9#e1dc) is not covariant but contravariant in the argument types, then. (<font color='brown'>The following part is the essence of [s02e01](https://medium.com/@pawel.swiecki/csi-python-type-system-1c2ee1f8047c) post. Look there for more examples and explanations.</font>)\n",
    "\n",
    "Take a look at the following code:"
   ]
  },
  {
   "cell_type": "code",
   "execution_count": 6,
   "id": "a589a61c",
   "metadata": {},
   "outputs": [],
   "source": [
    "class Animal: ...\n",
    "class Dog(Animal): ...\n",
    "class Kangaroo(Animal): ...\n",
    "\n",
    "  \n",
    "def animal_run(animal: Animal) -> None:\n",
    "    # its type is `Callable[[Animal], None]`\n",
    "    print('An animal is running!')\n",
    "\n",
    "    \n",
    "def dog_run(dog: Dog) -> None:\n",
    "    # its type is `Callable[[Dog], None]`\n",
    "    print('A dog is running!')"
   ]
  },
  {
   "cell_type": "markdown",
   "id": "e276a204",
   "metadata": {},
   "source": [
    "Can we assign `animal_run = dog_run`? That is: can we safely use `dog_run` wherever `animal_run` is expected? If we could, it’d mean that `Callable[[Dog], None]` is a subtype of `Callable[[Animal], None]`. It turns out we cannot safely make the assignment. If we could, it would be possible to use `dog_run` on an incompatible object, say, a `Kangaroo`."
   ]
  },
  {
   "cell_type": "code",
   "execution_count": 9,
   "id": "deb9f27e",
   "metadata": {},
   "outputs": [
    {
     "name": "stdout",
     "output_type": "stream",
     "text": [
      "A dog is running!\n"
     ]
    }
   ],
   "source": [
    "def make_animal_run(\n",
    "        an_animal: Animal,\n",
    "        run_function: Callable[[Animal], None],\n",
    ") -> None:\n",
    "    run_function(an_animal)\n",
    "\n",
    "bob_a_kangaroo: Kangaroo = Kangaroo()\n",
    "\n",
    "make_animal_run(bob_a_kangaroo, dog_run)  # mypy error: \n",
    "# Argument 2 to \"make_animal_run\" has incompatible type \n",
    "#   \"Callable[[Dog], None]\"; expected \"Callable[[Animal], None]\""
   ]
  },
  {
   "cell_type": "markdown",
   "id": "baaee7fe",
   "metadata": {},
   "source": [
    "Why [**mypy**](https://mypy.readthedocs.io/en/stable/) reports this error? So, `make_animal_run` gets two arguments: Bob, a Kangaroo (<font color='brown'>and it indeed is type-safe to pass him here, since `Kangaroo <: Animal`</font>) and a `dog_run` — a `Callable[[Animal], None]`. Now, inside `make_animal_run` function `dog_run` function is to be called on kangaroo Bob. It’s incorrect since `dog_run` can only be called on a <b><font color='blue'>Dog</font></b> and its subtypes. Therefore, we cannot safely pass `dog_run` to `make_animal_run`. For this reason, `Callable[[Dog], None]` is not a subtype of `Callable[[Animal], None]`. And this, in turn, leads to the conclusion: <b>Callable is not covariant in the argument types</b>.\n",
    "    \n",
    "What about the contravariance? Can we assign `dog_run = animal_run`? That is: can we safely use `animal_run` wherever `dog_run` is expected?"
   ]
  },
  {
   "cell_type": "code",
   "execution_count": 10,
   "id": "2d370cbd",
   "metadata": {},
   "outputs": [
    {
     "name": "stdout",
     "output_type": "stream",
     "text": [
      "An animal is running!\n"
     ]
    }
   ],
   "source": [
    "def make_dog_run(\n",
    "        a_dog: Dog,\n",
    "        run_function: Callable[[Dog], None],\n",
    ") -> None:\n",
    "    run_function(a_dog)\n",
    "    \n",
    "lassie: Dog = Dog()\n",
    "\n",
    "make_dog_run(a_dog=lassie, run_function=animal_run)"
   ]
  },
  {
   "cell_type": "markdown",
   "id": "c6d6f53e",
   "metadata": {},
   "source": [
    "`animal_run` accepts an Animal, so it needs to work with a <b><font color='blue'>Dog</font></b>, since `Dog <: Animal`. Thus, it’s safe to use `animal_run` when `dog_run` is expected. Therefore, `Callable[[Animal], None] <: Callable[[Dog], None]`. As a consequence, <b>Callable is contravariant in the argument types</b>.\n",
    "\n",
    "So now you understand what “function is covariant in the return type, but contravariant in the argument types” means. You nerd! \n",
    "\n",
    "In more general terms, anything that takes something— consumer, [sink](https://en.wikipedia.org/wiki/Sink_(computing)), reader, listener, etc. — is contravariant in the type of the objects it takes. It needs to be write-only with regard to the taken objects, though."
   ]
  },
  {
   "cell_type": "markdown",
   "id": "71d3c357",
   "metadata": {},
   "source": [
    "## <font color='darkblue'>Invariance</font>"
   ]
  },
  {
   "cell_type": "markdown",
   "id": "f573f205",
   "metadata": {},
   "source": [
    "### <font color='darkgreen'>Definition of Invariance</font>\n",
    "An invariant type is neither covariant nor contravariant. More formally:\n",
    "> Generic type `GenType[T, ...]` is invariant in type variable `T` if `GenType` is neither covariant in type variable `T` nor contravariant in type variable `T`."
   ]
  },
  {
   "cell_type": "markdown",
   "id": "6486ad23",
   "metadata": {},
   "source": [
    "### <font color='darkgreen'>List</font>\n",
    "Yes, there’s no mistake, `List` is not like `Tuple`, which is covariant. <b>`List` is neither covariant nor contravariant. I will use this code to show it</b>:"
   ]
  },
  {
   "cell_type": "code",
   "execution_count": 14,
   "id": "d625d6a4",
   "metadata": {},
   "outputs": [],
   "source": [
    "class Animal:\n",
    "    def eat(self):\n",
    "        print('Om nom nom!')\n",
    "\n",
    "class Dog(Animal):\n",
    "    def bark(self):\n",
    "        print('Woof woof!')\n",
    "\n",
    "class Kangaroo(Animal):\n",
    "    def leap(self):\n",
    "        print('Wooooo!')\n",
    "\n",
    "        \n",
    "animals: List[Animal]\n",
    "dogs: List[Dog]"
   ]
  },
  {
   "cell_type": "markdown",
   "id": "c317032b",
   "metadata": {},
   "source": [
    "All <b><font color='blue'>Animals</font></b>, including <b><font color='blue'>Dog</font></b>s and <b><font color='blue'>Kangaroo</font></b>s, can eat. Only <b><font color='blue'>Dog</font></b>s can bark, and only <b><font color='blue'>Kangaroo</font></b>s can leap.\n",
    "\n",
    "Let’s get the obvious out of the way — `List` type is not contravariant. It’s not because you cannot safely assign animals to dogs, as animals may contain non-Dogs. It’s exactly the same as in `Tuple`’s case. Mypy agrees:\n",
    "```python\n",
    "dogs = animals  # mypy error: \n",
    "  # Incompatible types in assignment (expression has type \n",
    "  # \"List[Animal]\", variable has type \"List[Dog]\")\n",
    "```\n",
    "<br/>\n",
    "\n",
    "Now, what about the covariance? If List was a covariant type, we could safely use a variable of the type `List[Dog]` instead of a variable of the type `List[Animal]`, yet we cannot:\n",
    "```python\n",
    "animals = dogs  # mypy error: \n",
    "  # Incompatible types in assignment (expression has type \n",
    "  # \"List[Dog]\", variable has type \"List[Animal]\")\n",
    "```\n",
    "<br/>\n",
    "\n",
    "Why? Shouldn’t it be the same as in `Tuple`’s case as well?\n",
    "\n",
    "Let’s step back a little and think what the difference between covariant `Tuple` type and `List` type is. Both are Sized, both are Iterables and both are Containers. Yet, <b>there is an essential difference between lists and tuples — mutability</b>. Python tuples are immutable — you cannot add or remove their elements. `List`s are mutable — you can add and remove their elements. It turns out that `List`’s mutability is something that determines `List` type not being covariant. If we used `List[Dog]` wherever `List[Animal]` is expected, we could append an incompatible object:"
   ]
  },
  {
   "cell_type": "code",
   "execution_count": 15,
   "id": "ff9aac72",
   "metadata": {},
   "outputs": [
    {
     "name": "stdout",
     "output_type": "stream",
     "text": [
      "Om nom nom!\n",
      "Woof woof!\n",
      "Om nom nom!\n"
     ]
    },
    {
     "ename": "AttributeError",
     "evalue": "'Kangaroo' object has no attribute 'bark'",
     "output_type": "error",
     "traceback": [
      "\u001b[0;31m---------------------------------------------------------------------------\u001b[0m",
      "\u001b[0;31mAttributeError\u001b[0m                            Traceback (most recent call last)",
      "\u001b[0;32m/tmp/ipykernel_398741/2715649558.py\u001b[0m in \u001b[0;36m<module>\u001b[0;34m\u001b[0m\n\u001b[1;32m     20\u001b[0m \u001b[0;31m# Om nom nom!\u001b[0m\u001b[0;34m\u001b[0m\u001b[0;34m\u001b[0m\u001b[0;34m\u001b[0m\u001b[0m\n\u001b[1;32m     21\u001b[0m \u001b[0;34m\u001b[0m\u001b[0m\n\u001b[0;32m---> 22\u001b[0;31m \u001b[0mdogs\u001b[0m\u001b[0;34m[\u001b[0m\u001b[0;36m1\u001b[0m\u001b[0;34m]\u001b[0m\u001b[0;34m.\u001b[0m\u001b[0mbark\u001b[0m\u001b[0;34m(\u001b[0m\u001b[0;34m)\u001b[0m  \u001b[0;31m# oops!\u001b[0m\u001b[0;34m\u001b[0m\u001b[0;34m\u001b[0m\u001b[0m\n\u001b[0m\u001b[1;32m     23\u001b[0m \u001b[0;31m# AttributeError: 'Kangaroo' object has no attribute 'bark'\u001b[0m\u001b[0;34m\u001b[0m\u001b[0;34m\u001b[0m\u001b[0;34m\u001b[0m\u001b[0m\n",
      "\u001b[0;31mAttributeError\u001b[0m: 'Kangaroo' object has no attribute 'bark'"
     ]
    }
   ],
   "source": [
    "def append_kangaroo(animals: List[Animal]) -> None:\n",
    "    animal = Kangaroo()\n",
    "    # it's okay, since `Kangaroo <: Animal`\n",
    "    animals.append(animal)\n",
    "\n",
    "dogs: List[Dog] = []\n",
    "\n",
    "lassie = Dog()\n",
    "dogs.append(lassie)\n",
    "\n",
    "append_kangaroo(dogs)\n",
    "\n",
    "dogs[0].eat()  # fine...\n",
    "# Om nom nom!\n",
    "\n",
    "dogs[0].bark()  # fine...\n",
    "# Woof woof!\n",
    "\n",
    "dogs[1].eat()  # also fine...\n",
    "# Om nom nom!\n",
    "\n",
    "dogs[1].bark()  # oops!\n",
    "# AttributeError: 'Kangaroo' object has no attribute 'bark'"
   ]
  },
  {
   "cell_type": "markdown",
   "id": "6382f4d2",
   "metadata": {},
   "source": [
    "So dogs list of the type `List[Dog]` got an object that cannot bark — a <b><font color='blue'>Kangaroo</font></b>. That’s why you cannot safely use object of `List[Dog]` type whenever there is an object of the type `List[Animal]` expected. Therefore `List[Dog]` is not a subtype of `List[Animal]`. Remember: the type is defined not only by a set of objects but also by functions/methods that can be used with these objects.\n",
    "\n",
    "This is the same exploit that we discovered when discussing `Callable`. But `List`, contrary to `Callable`, is not contravariant either, as we've seen. It is invariant then:\n",
    "> We neither have that `List[SubType] <: List[SuperType]` nor that `List[SuperType] <: List[SubType]`, for `SubType <: SuperType`.\n",
    "\n",
    "Other invariant types are `Set`, `Dict`, and many more mutable containers. I think it is pretty obvious now and no further examples are needed. This feature of immutable containers is clearly advantageous over mutable ones. But that’s another story for another time…\n",
    "\n",
    "In more general terms, any structure that supports both read and write operations on some set of objects — mutable container, queue, stack, heap, router, etc. — is invariant in the type of the objects it operates on."
   ]
  },
  {
   "cell_type": "markdown",
   "id": "185b6588",
   "metadata": {},
   "source": [
    "## <font color='darkblue'>Bonus: Liskov Substitution Principle</font>\n",
    "In this blog post series, I frequently said something like **it’s type-safe to use an object of the `SubType` type where an object of the `SuperType` type is expected**. This assumption is based on Liskov Substitution Principle — the principle formulated by Barbara Liskov, an American computer scientist. Wikipedia states it as follows:\n",
    "> `[…]` if `S` is a subtype of `T`, then objects of type `T` may be replaced with objects of type `S` (<font color='brown'>i.e. an object of type `T` may be substituted with any object of a subtype `S`</font>) without altering any of the desirable properties of the program (correctness, task performed, etc.). [source](https://en.wikipedia.org/wiki/Liskov_substitution_principle)\n",
    "\n",
    "This is a pretty strong requirement — when I replace any object of `SuperType` with an object of `SubType` (<font color='brown'>where `SubType <: SuperType`</font>) my program still needs to function correctly. It means not only that it cannot raise any new exceptions, but also it still needs to work according to its (<font color='brown'>original</font>) specification. This even means that we cannot override methods in subclasses if it changes the original behaviour; we can only add new methods. Python type system is not so rigid and [**mypy**](https://mypy.readthedocs.io/en/stable/) won’t complain when we override a method and change its behaviour (<font color='brown'>both methods— overridden and overriding — still need to have the same argument types, though!</font>). Yet, it’s good to know how to write even safer code"
   ]
  }
 ],
 "metadata": {
  "kernelspec": {
   "display_name": "Python 3 (ipykernel)",
   "language": "python",
   "name": "python3"
  },
  "language_info": {
   "codemirror_mode": {
    "name": "ipython",
    "version": 3
   },
   "file_extension": ".py",
   "mimetype": "text/x-python",
   "name": "python",
   "nbconvert_exporter": "python",
   "pygments_lexer": "ipython3",
   "version": "3.8.10"
  }
 },
 "nbformat": 4,
 "nbformat_minor": 5
}
