{
 "cells": [
  {
   "cell_type": "markdown",
   "id": "7cd3c333-eb60-4047-817d-5143cdc22be3",
   "metadata": {},
   "source": [
    "## <b><font color='darkblue'>Preface</font></b>\n",
    "([source](https://medium.com/@softoft/python-uml-class-diagram-generation-pdgen-documentation-2bd842352fb1)) <b><font size='3ptx'>Learn how to automatically generate Python UML class diagrams using [Pyreverse](https://pylint.readthedocs.io/en/stable/pyreverse.html) and [PlantUML](https://pypi.org/project/plantuml/). Simplify your object-oriented design and system visualization.</font></b>\n",
    "\n",
    "Discover the transformative power of [**UML class diagrams**](https://de.wikipedia.org/wiki/Klassendiagramm) in software development! In this article, we delve deep into the world of the [**Unified Modeling Language**](https://en.wikipedia.org/wiki/Unified_Modeling_Language) (UML), an indispensable tool for developers and system architects. You’ll learn how to automatically generate UML diagrams from Python code, and we’ll introduce you to best practices and the powerful tool [**PlantUML**](https://plantuml.com/)."
   ]
  },
  {
   "cell_type": "markdown",
   "id": "46c674ca-4212-4874-a27c-a0233f32dcff",
   "metadata": {},
   "source": [
    "## <b><font color='darkblue'>What are UML Class Diagrams?</font></b>\n",
    "<b><font size='3ptx'>UML class diagrams visually represent a system’s structure, including its classes, attributes, methods, and relationships.</font></b>\n",
    "![Simple UML class diagram](images/1.PNG)\n",
    "\n",
    "<b>They are essential for designing and maintaining object-oriented software, helping developers manage complex systems</b>. Automating UML diagram generation from Python code streamlines development and ensures accurate documentation. A UML class is typically shown as a rectangle with the class name, attributes, and methods in separate sections.\n",
    "* **Classes**: Represent the building blocks of the system.\n",
    "* **Attributes**: Define the properties or data of a class.\n",
    "* **Methods**: Functions or operations that a class can perform.\n",
    "* **Relationships**: Represent various types of interactions between classes, such as associations, inheritances, or dependencies."
   ]
  },
  {
   "cell_type": "markdown",
   "id": "d9a77a02-073d-410c-b314-d01614003c7b",
   "metadata": {},
   "source": [
    "## <b><font color='darkblue'>Creating UML Class Diagrams with PlantUML</font></b>\n",
    "<b><font size='3ptx'>To create an effective UML class diagram, start by identifying the main classes, then define their attributes, methods, and relationships.</font></b>\n",
    "\n",
    "This requires a solid understanding of the system and clear team communication. <b>[PlantUML](https://pypi.org/project/plantuml/), an open-source tool, simplifies diagram creation with its straightforward syntax, allowing seamless integration into development environments for easy updates and version control</b>.\n",
    "![Source code to UML](images/2.PNG)"
   ]
  },
  {
   "cell_type": "markdown",
   "id": "e10828f6-dd2b-4aea-8226-8b170e916a26",
   "metadata": {},
   "source": [
    "### <b><font color='darkgreen'>Attributes, Methods, and Visibility in PlantUML</font></b>\n",
    "<b><font size='3ptx'>Classes have attributes and methods.</font></b>\n",
    "\n",
    "![Class attributes](images/3.PNG)\n",
    "\n",
    "<b><font color='darkblue'>Visibility</font></b> specifies who can access an attribute/method. Visibility is indicated in a [**PlantUML**](https://pypi.org/project/plantuml/) diagram as follows:\n",
    "* **`-`**: private (class only)\n",
    "* **`~`**: protected (class and subclasses)\n",
    "* **`#`**: package-private (specific to Java: class and package)\n",
    "* **`{static}`**: static (shared between all instances of the class)"
   ]
  },
  {
   "cell_type": "markdown",
   "id": "093b4245-3bfb-4b97-91af-1a1f4a5496fe",
   "metadata": {},
   "source": [
    "### <b><font color='darkgreen'>Relationships in PlantUML</font></b>\n",
    "\n",
    "![Class relationships](images/4.PNG)\n",
    "\n",
    "The following UML relationship types are written in PlantUML as:\n",
    "* **`A - B`**: Association\n",
    "* **`A o- B`**: Aggregation (A has B)\n",
    "* **`A *- B`**: Composition (A has B; B is part of A) B cannot exist without A\n",
    "* **`A ..> B`**: Dependency (A needs B)\n",
    "* **`class A extends B`**: Inheritance (A is a B)\n",
    "* **`class A implements B`**: Implementation (A can be B)"
   ]
  },
  {
   "cell_type": "markdown",
   "id": "c74bc88b-825e-436b-a911-aa231847ab7e",
   "metadata": {},
   "source": [
    "### <b><font color='darkgreen'>Converting Python Code to UML</font></b>\n",
    "<b><font size='3ptx'>In Python, the `__init__` method serves as the class constructor, similar to constructors in languages like Java, C#, and JavaScript.</font></b>\n",
    "\n",
    "Python uses `self` to reference the instance itself. While Python doesn’t enforce visibility like private, protected, or public, <b>developers follow conventions: private attributes and methods start with `__`, and protected ones with `_`</b>.\n",
    "\n",
    "Python supports abstract classes but lacks formal interfaces, and it uniquely allows multiple inheritance, letting a class implement multiple base classes. Since Python 3.5 introduced type hints, generating UML diagrams has become easier. Without type hints, it can be challenging as attribute types can change at runtime.\n",
    "\n",
    "Tools like [**Pyreverse**](https://pylint.readthedocs.io/en/stable/pyreverse.html) and [**Py2UML**](https://github.com/Ivesvdf/py2uml) simplify UML diagram creation by automatically analyzing Python code, saving time and minimizing errors that come with manual diagramming."
   ]
  },
  {
   "cell_type": "markdown",
   "id": "4bdd473a-baf3-4e57-89f7-1ae482c1ee52",
   "metadata": {},
   "source": [
    "### <font color='darkgreen'><b>Creating a UML Class Diagram with Pyreverse</b></font>\n",
    "To generate UML diagrams with pyreverse, you can follow these steps:"
   ]
  },
  {
   "attachments": {},
   "cell_type": "markdown",
   "id": "91c4da69-cc7c-49ec-bb66-5d93fc8d9bdd",
   "metadata": {},
   "source": [
    "#### <b>1. Install Pyreverse:</b>\n",
    "Pyreverse is part of the pylint package. If you don’t have it installed, you can install it with:\n",
    "```shell\n",
    "$ pip install pylint\n",
    "```"
   ]
  },
  {
   "cell_type": "code",
   "execution_count": 1,
   "id": "68646551-62b8-4f2f-b0a6-492fb536c622",
   "metadata": {},
   "outputs": [
    {
     "name": "stdout",
     "output_type": "stream",
     "text": [
      "pylint==3.3.1\n"
     ]
    }
   ],
   "source": [
    "!pip freeze | grep pylint"
   ]
  },
  {
   "cell_type": "markdown",
   "id": "4d086e62-3da2-49d4-9407-48f5078dd42b",
   "metadata": {},
   "source": [
    "#### <b>2. Run Pyreverse:</b>\n",
    "Navigate to the directory containing the Python modules you want to generate a UML diagram for. Then run the following command:\n",
    "```shell\n",
    "$ pyreverse -o <format> -p <project_name> <module_or_directory>\n",
    "```\n",
    "\n",
    "Where:\n",
    "* **`<format>`**: The output format. Common formats are `png` and `dot` (for Graphviz). Example: `-o png`.\n",
    "* **`<project_name>`**: The name of the project (used for naming the output files).\n",
    "* **`<module_or_directory>`**: The specific Python file or directory you want to generate the diagram for.\n",
    "\n",
    "\n",
    "For example:\n",
    "```shell\n",
    "$ pyreverse -o png -p my_project .\n",
    "```\n",
    "\n",
    "This will generate two .png files:\n",
    "— `classes_my_project.png`: UML class diagram.\n",
    "— `packages_my_project.png`: UML package diagram."
   ]
  },
  {
   "cell_type": "markdown",
   "id": "f8569522-7f25-49ac-8821-a3e86043e03d",
   "metadata": {},
   "source": [
    "#### <b>3. View the Generated Diagrams:</b>\n",
    "The generated files will be in the current directory. You can open the `.png` files with any image viewer.\n",
    "\n",
    "For more specific options, you can refer to the help documentation by running:\n",
    "```shell\n",
    "$ pyreverse - help\n",
    "```"
   ]
  },
  {
   "cell_type": "markdown",
   "id": "e9972bf8-c791-4da8-bc05-5aee845cf825",
   "metadata": {},
   "source": [
    "## <b><font color='darkblue'>Problems with UML Class Diagrams</font></b>\n",
    "UML class diagrams are a powerful tool for visualizing the structure and relationships of classes in a software project. However, they can quickly become unwieldy, especially when they contain many attributes or methods. This can cause several problems:\n",
    "1. **Diagram Overload**: Too many details in a single diagram make it overloaded and hard to read. It becomes difficult to capture the main relationships and structures at a glance.\n",
    "2. **Loss of Overview**: When every class is depicted with all its attributes and methods, it can be hard to maintain an overview of the entire system. Important relationships and dependencies can get lost in the mass of information.\n",
    "3. **Maintenance Difficulties**: A cluttered diagram is not only hard to read but also hard to update. Changes in the code must be reflected in the diagram, which can be time-consuming and error-prone.\n",
    "4. **Viewer Confusion**: For new team members or external stakeholders, a cluttered UML diagram can be confusing and off-putting, complicating communication and understanding of the system architecture.\n",
    "\n",
    "**To avoid these issues, it is important to ensure clarity and conciseness when creating UML class diagrams**. This can be achieved by using abstraction, breaking down into multiple diagrams, and limiting details to essential elements."
   ]
  },
  {
   "cell_type": "markdown",
   "id": "990ff05c-12bd-4b09-b77c-1addb2371da6",
   "metadata": {},
   "source": [
    "## <b><font color='darkblue'>Example of a Cluttered UML Diagram</font></b>\n",
    "<b><font size='3ptx'>Here is an example of PlantUML code that generates a cluttered UML diagram.</font></b>\n",
    "\n",
    "The diagram contains many classes with numerous attributes and methods, demonstrating the complexity:\n",
    "![cluttered UML diagram](images/5.PNG)\n",
    "\n",
    "In this example, each class contains many attributes and methods, and the relationships between the classes make the diagram complex and hard to understand. To improve clarity, consider showing only the most important classes and relationships or breaking down the classes into multiple, specialized diagrams.\n",
    "\n",
    "<b>This suggests that it might be better not to always specify all attributes and classes.</b>"
   ]
  },
  {
   "cell_type": "markdown",
   "id": "02d1a663-402c-40fc-9d2b-e078506ab481",
   "metadata": {},
   "source": [
    "### <b><font color='darkgreen'>PdGen — Python Diagram Generation</font></b>\n",
    "<b><font size='3ptx'>[pdgen](https://github.com/gsdenys/pdgen) is a python library that allows you to automate UML diagram generation.</font></b>\n",
    "\n",
    "<b>This Python library allows you to automatically generate UML class diagrams from Python code, focusing only on the classes and methods you specify</b>. It uses Python decorators to mark which parts of your code should appear in the final UML diagram. The diagram is first generated as a PlantUML file (`.puml`), and then converted into an image format such as PNG."
   ]
  },
  {
   "cell_type": "markdown",
   "id": "a5084edf-7a34-4913-9be2-93d89b7824c5",
   "metadata": {},
   "source": [
    "#### <b>Example Usage of pdgen Decorators</b>\n",
    "Decorate your classes and methods, then call the provided functions to generate the UML diagram:\n",
    "```python\n",
    "@ClassToUML\n",
    "class MyClass:\n",
    "  @MethodToUML\n",
    "  def my_method(self):\n",
    "    pass\n",
    "```\n",
    "\n",
    "Then generate the UML file and convert it into an image:\n",
    "```python\n",
    "generate_puml_file(\"output.puml\")\n",
    "convert_puml_to_image(\"output.puml\", \"png\")\n",
    "```\n",
    "\n",
    "In the resulting diagram, only the decorated `MyClass` and its method `my_method()` will be displayed. This approach gives you full control over which parts of your code are included in the UML class diagram."
   ]
  },
  {
   "cell_type": "markdown",
   "id": "2586229e-1695-4c31-ba9b-d70448d77888",
   "metadata": {},
   "source": [
    "## <b><font color='darkblue'>Best Practices for Using UML Diagrams</font></b>\n",
    "1. **Regular Updates**: Keep your UML diagrams up to date to ensure they provide an accurate representation of the system.\n",
    "2. **Clear Notation**: Use clear and consistent notation to increase readability and understanding.\n",
    "3. **Integration into Documentation**: Integrate UML diagrams into the technical documentation to improve understanding and communication within the team and with stakeholders.\n",
    "\n",
    "In summary, UML class diagrams offer a valuable resource for visualizing and planning software architectures. By using tools like PlantUML and automating diagram generation from Python code, developers and architects can work more efficiently and develop more precise, error-free software."
   ]
  }
 ],
 "metadata": {
  "kernelspec": {
   "display_name": "Python 3 (ipykernel)",
   "language": "python",
   "name": "python3"
  },
  "language_info": {
   "codemirror_mode": {
    "name": "ipython",
    "version": 3
   },
   "file_extension": ".py",
   "mimetype": "text/x-python",
   "name": "python",
   "nbconvert_exporter": "python",
   "pygments_lexer": "ipython3",
   "version": "3.11.9"
  }
 },
 "nbformat": 4,
 "nbformat_minor": 5
}
