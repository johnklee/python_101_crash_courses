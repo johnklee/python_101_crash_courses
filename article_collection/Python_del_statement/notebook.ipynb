{
 "cells": [
  {
   "cell_type": "markdown",
   "id": "c1c35a04",
   "metadata": {},
   "source": [
    "## <font color='darkblue'>Preface</font>\n",
    "([course link](https://realpython.com/python-del-statement/)) <b><font size='3ptx'>Python’s [`del` statement](https://docs.python.org/3/reference/simple_stmts.html#the-del-statement) will allow you to remove names and references from different namespaces. It’ll also allow you to delete unneeded items from your lists and keys from your dictionaries.</font></b>\n",
    "\n",
    "If you want to learn how to use [del](https://docs.python.org/3/reference/simple_stmts.html#the-del-statement) in your Python code, then this tutorial is for you. The del statement empowers you to better manage memory resources in your code, making your programs more efficient.\n",
    "\n",
    "In this tutorial, you’ll learn how to:\n",
    "* Write and use [del](https://docs.python.org/3/reference/simple_stmts.html#the-del-statement) statements in Python\n",
    "* Take advantage of [del](https://docs.python.org/3/reference/simple_stmts.html#the-del-statement) to remove names from different scopes\n",
    "* Use del for removing list items and dictionary keys\n",
    "* Remove object attributes using [del](https://docs.python.org/3/reference/simple_stmts.html#the-del-statement)\n",
    "* Write classes that prevent attribute deletion using [del](https://docs.python.org/3/reference/simple_stmts.html#the-del-statement)"
   ]
  },
  {
   "cell_type": "markdown",
   "id": "1037b45f",
   "metadata": {},
   "source": [
    "## <font color='darkblue'>Getting to Know Python’s `del` Statement</font>\n",
    "<font size='3ptx'><b>Python’s [`del` statement](https://docs.python.org/3/reference/simple_stmts.html#the-del-statement) allows you to remove references to objects from a given namespace or container type</b>. It performs an operation that’s the opposite of what an assignment statement does. It’s sort of an unassignment statement that allows you to unbind one or more names from their referenced objects.</font>\n",
    "\n",
    "This is a natural feature to have in Python. If you can create a variable by writing `variable = value`, then you must have the option to undo this operation by deleting variable. That’s where [`del`](https://docs.python.org/3/reference/simple_stmts.html#the-del-statement) comes on the scene.\n",
    "\n",
    "The [`del`](https://docs.python.org/3/reference/simple_stmts.html#the-del-statement) statement can come in handy in different coding situations, such as:\n",
    "* Freeing up **memory resources**\n",
    "* Preventing **accidental use of variables and names**\n",
    "* Avoiding **naming conflicts**\n",
    "\n",
    "Of course, this list is incomplete. You may find some other appropriate use cases for this statement. In this tutorial, you’ll learn how the [`del` statement](https://docs.python.org/3/reference/simple_stmts.html#the-del-statement) works and how to use it in your code. <b>To kick things off, you’ll start by learning the general syntax of `del` in Python</b>."
   ]
  },
  {
   "cell_type": "markdown",
   "id": "cdafc92b",
   "metadata": {},
   "source": [
    "### <font color='darkgreen'>Learning the `del` Syntax</font>\n",
    "<font size='3ptx'>A Python [`del` statement](https://docs.python.org/3/reference/simple_stmts.html#the-del-statement) consists of the del keyword, followed by a comma-separated series of references.</font>\n",
    "> <font color='orange'>**Note:**</font> In this tutorial, you’ll use the term <font color='darkblue'><b>reference</b></font> to generically designate names or identifiers that can hold references to objects in Python.\n",
    "\n",
    "Here’s the general syntax of the [`del` statement](https://docs.python.org/3/reference/simple_stmts.html#the-del-statement) in Python:\n",
    "```python\n",
    "del reference_1[, reference_2, ..., reference_n]\n",
    "```\n",
    "\n",
    "**The [`del` statement](https://docs.python.org/3/reference/simple_stmts.html#the-del-statement) allows you to remove one or more references from a given namespace. It also lets you delete data from mutable container types, such as lists and dictionaries.**\n",
    "\n",
    "You’ll often use this statement with a single argument. However, it also supports a series of arguments separated by commas.\n",
    "\n",
    "In the above construct, `reference_*` represents any kind of identifier that can hold references to concrete objects stored in memory. In practice, these references can include:\n",
    "* **Identifiers**, such as variables and names of functions, classes, modules, and packages\n",
    "* **Indices of mutable sequences**, such as `a_list[index]`\n",
    "* **Slices of mutable sequences**, like `a_list[start:stop:step]`\n",
    "* **Keys of dictionaries**, like `a_dict[key]`\n",
    "* **Members of classes and objects**, such as attributes and methods\n",
    "\n",
    "You can use any of these references as arguments to `del`. <font color='red'>**If you use a comma-separated series of arguments, then keep in mind that del operates on every argument sequentially from left to right**</font>. This behavior can be risky when you’re removing items from lists, as you’ll learn later in this tutorial.\n",
    "\n",
    "Here’s a quick example of using del to remove a variable:"
   ]
  },
  {
   "cell_type": "code",
   "execution_count": 4,
   "id": "68e13c49",
   "metadata": {},
   "outputs": [
    {
     "data": {
      "text/plain": [
       "'Hi, Pythonista!'"
      ]
     },
     "execution_count": 4,
     "metadata": {},
     "output_type": "execute_result"
    }
   ],
   "source": [
    "greeting = \"Hi, Pythonista!\"\n",
    "greeting"
   ]
  },
  {
   "cell_type": "code",
   "execution_count": 5,
   "id": "354d6740",
   "metadata": {},
   "outputs": [],
   "source": [
    "del greeting\n",
    "# NameError: name 'greeting' is not defined\n",
    "# greeting"
   ]
  },
  {
   "cell_type": "markdown",
   "id": "6c076448",
   "metadata": {},
   "source": [
    "Once you’ve run the [`del` statement](https://docs.python.org/3/reference/simple_stmts.html#the-del-statement), the variable `greeting` is no longer available. If you try to access `greeting`, then you get a [**NameError**](https://docs.python.org/3/library/exceptions.html#NameError) because that variable doesn’t exist anymore.\n",
    "\n",
    "**Removing reference holders like variables is the primary goal of `del`. This statement doesn’t remove objects**. In the following section, you’ll dive deeper into the actual and immediate effects of running a [`del` statement](https://docs.python.org/3/reference/simple_stmts.html#the-del-statement)."
   ]
  },
  {
   "cell_type": "markdown",
   "id": "2202edc2",
   "metadata": {},
   "source": [
    "### <font color='darkgreen'>Understanding the Effects of `del`</font>\n",
    "<font size='3ptx'>As you’ve learned, Python’s [`del` statement](https://docs.python.org/3/reference/simple_stmts.html#the-del-statement) deletes references from namespaces or data containers. It doesn’t remove concrete objects.</font>\n",
    "\n",
    "For example, you can’t remove literals of built-in types using `del`:\n",
    "```python\n",
    ">>> del 314\n",
    "  File \"<input>\", line 1\n",
    "    del 314\n",
    "        ^^\n",
    "SyntaxError: cannot delete literal\n",
    "\n",
    ">>> del \"Hello, World!\"\n",
    "  File \"<input>\", line 1\n",
    "    del \"Hello, World!\"\n",
    "        ^^^^^^^^^^^^^^^\n",
    "SyntaxError: cannot delete literal\n",
    "```\n",
    "\n",
    "In these examples, <b>note that you can’t use the `del` statement directly on objects</b>. You must use it with variables, names, and other identifiers, as you already learned:\n",
    "```python\n",
    ">>> number = 314\n",
    ">>> del number\n",
    "```\n",
    "\n",
    "However, running `del` like in this example doesn’t mean that you’re removing the number 314 from memory. <b>It only removes the name `number` from your current namespace or [scope](https://realpython.com/python-scope-legb-rule/)</b>.\n",
    "\n",
    "When you pass an identifier—like a variable, class, function, or method name—as an argument to `del`, the statement unbinds the identifier from the referenced object and removes the identifier from its containing namespace. However, the referenced object may not be deleted from your computer’s memory immediately.\n",
    "\n",
    "Similarly, when you use a list index, slice, or dictionary key as an argument to del, you remove the reference to the target item, slice, or key from the containing data structure. This may not imply the immediate removal of the referenced object from your computer’s memory.\n",
    "\n",
    "<b>In short, `del` doesn’t remove objects from memory and free up the used space. It only removes references to objects</b>. This behavior may raise a question. If del doesn’t remove objects from memory, <b>then how can you use `del` to release memory resources during your code’s execution?</b>\n",
    "\n",
    "To answer this question, you need to understand how Python manages the removal of objects from memory. <b>In the following section, you’ll learn about Python’s garbage collection system and how it relates to using `del` for freeing up memory in your programs</b>."
   ]
  },
  {
   "cell_type": "markdown",
   "id": "4b3c615e",
   "metadata": {},
   "source": [
    "### <font color='darkgreen'>Unraveling `del` vs Garbage Collection</font>\n",
    "<font size='3ptx'>Python has a [**garbage collection system**](https://realpython.com/python-memory-management/#garbage-collection) that takes care of removing unused objects from memory and freeing up resources for later use. In Python’s [CPython](https://realpython.com/cpython-source-code-guide/) implementation, the <b><font color='darkblue'>reference count</font></b> is the primary indicator that triggers garbage collection.</font>\n",
    "\n",
    "Essentially, Python keeps track of how many identifiers hold references to each object at any given time. The number of identifiers pointing to a given object is known as the object’s <b><font color='darkblue'>reference count</font></b>.\n",
    "\n",
    "If there’s at least one active reference to an object, then the object will remain accessible to you, occupying memory on your computer. If you use `del` to remove this single reference, then the object is ready for garbage collection, which will remove the object and free the memory.\n",
    "\n",
    "On the other hand, if you have several active references to an object and you use `del` to remove some of these references but not all of them, then the garbage collection system won’t be able to remove the object and free up the memory.\n",
    "\n",
    "In short, del removes references, while garbage collection removes objects and frees up memory. According to this behavior, you can <b>conclude that `del` only allows you to reduce your code’s memory consumption when it removes the last reference to an object, which prepares the object to be garbage-collected</b>.\n",
    "\n",
    "It’s important to note that Python’s garbage collection system doesn’t free the memory used by an object immediately after you remove the last reference to that object, bringing the reference count down to zero. Instead, <b>Python’s garbage collector periodically scans the memory for unreferenced objects and frees them</b>.\n",
    "> <font color='orange'><b>Note:</b></font> The del statement isn’t the only tool that you can use to lower the reference count of a given object. If you make an existing reference point to another object, then you implicitly remove one reference to the original object.\n",
    "> Another action that lowers the reference count is making a given reference go out of scope, implicitly removing the reference.\n",
    "\n",
    "When an object’s reference count reaches zero, the garbage collector may proceed to remove that object from memory. At that moment, the `.__del__()` special method comes into play.\n",
    "\n",
    "**Python automatically calls [`.__del__()`](https://docs.python.org/3/reference/datamodel.html#object.__del__) when a given object is about to be destroyed.** This call allows the object to release external resources and clean itself up. It’s important to note that the del statement doesn’t trigger the `.__del__()` method.\n",
    "\n",
    "You won’t need to implement the `.__del__()` method in your own classes very often. The proper use of `.__del__()` is rather tricky. If you ever need to write this method in one of your classes, then make sure you carefully read its [documentation page](https://docs.python.org/3/reference/datamodel.html#object.__del__)."
   ]
  },
  {
   "cell_type": "markdown",
   "id": "5fd17203",
   "metadata": {},
   "source": [
    "### <font color='darkgreen'>Using `del` vs Assigning `None`</font>\n",
    "<font size='3ptx'>Assigning None to a reference is an operation that’s often compared to using a `del` statement. But this operation doesn’t remove the reference like `del` does. It only reassigns the reference to point to `None`:</font>\n",
    "```python\n",
    ">>> number = 314\n",
    ">>> number\n",
    "314\n",
    ">>> number = None\n",
    ">>> print(number)\n",
    "None\n",
    "```\n",
    "\n",
    "Reassigning the variable `number` to point to `None` makes the reference count of object 314 go down to zero. Because of this, Python can garbage-collect the object, freeing the corresponding memory. However, this assignment doesn’t remove the variable name from your current scope like a `del` statement would do.\n",
    "\n",
    "Because `None` is a singleton object that’s built into Python, this assignment doesn’t allocate or use new memory but keeps your variable alive and available in your current scope.\n",
    "\n",
    "The `None` approach may be useful when you want to prevent the [**NameError**](https://docs.python.org/3/library/exceptions.html#NameError) exception that happens when you attempt to delete a name or reference holder that doesn’t exist in your current namespace. In this case, Python will silently create a new variable and assign `None` as its initial value."
   ]
  },
  {
   "cell_type": "markdown",
   "id": "f97a69fd",
   "metadata": {},
   "source": [
    "## <font color='darkblue'>Deleting Names From a Scope</font>\n",
    "<font size='3ptx'>Removing a name from a given scope is the first use case of `del` that you’ll learn about in this tutorial. The scope of a given name or identifier is the area of a program where you can unambiguously access that name.</font>\n",
    "\n",
    "In Python, you’ll find at most four scopes:\n",
    "* The [local](https://realpython.com/python-scope-legb-rule/#functions-the-local-scope), or function-level, scope\n",
    "* The [enclosing scope](https://realpython.com/python-scope-legb-rule/#nested-functions-the-enclosing-scope) of nested functions\n",
    "* The [global](https://realpython.com/python-scope-legb-rule/#modules-the-global-scope), or module-level, scope\n",
    "* The [built-in](https://realpython.com/python-scope-legb-rule/#builtins-the-built-in-scope) scope, where built-in names live\n",
    "\n",
    "The [`del` statement](https://docs.python.org/3/reference/simple_stmts.html#the-del-statement) can remove names from some of these scopes. As you’ve seen in previous examples, you can use del to remove one or more variables from the global scope:\n",
    "```python\n",
    ">>> color = \"blue\"\n",
    ">>> fruit = \"apple\"\n",
    ">>> pet = \"dog\"\n",
    "\n",
    ">>> del color\n",
    ">>> color\n",
    "Traceback (most recent call last):\n",
    "    ...\n",
    "NameError: name 'color' is not defined\n",
    "\n",
    ">>> del fruit, pet\n",
    ">>> fruit\n",
    "Traceback (most recent call last):\n",
    "    ...\n",
    "NameError: name 'fruit' is not defined\n",
    ">>> pet\n",
    "Traceback (most recent call last):\n",
    "    ...\n",
    "NameError: name 'pet' is not defined\n",
    "```\n",
    "\n",
    "In this example, you create three global variables. Then you use the `del` statement to remove these variables from your global scope, which is where they live. Remember that `del` has the effect of an unassignment statement.\n",
    "> <font color='orange'><b>Note</b></font>: You can inspect all the names that live in your global and built-in scopes using the built-in [globals()](https://docs.python.org/3/library/functions.html#globals) function. Similarly, you can access the names in your current local scope using the [locals()](https://docs.python.org/3/library/functions.html#locals) function. Both functions return dictionary objects mapping names to objects in their target scopes.\n",
    "\n",
    "You can also remove names from the local and enclosed scopes within your custom functions using del in the same way. However, <b><font color='red'>you can’t remove names from the built-in scope</font></b>:\n",
    "```python\n",
    ">>> del list\n",
    "Traceback (most recent call last):\n",
    "    ...\n",
    "NameError: name 'list' is not defined\n",
    ">>> list()\n",
    "[]\n",
    "\n",
    ">>> del dict\n",
    "Traceback (most recent call last):\n",
    "    ...\n",
    "NameError: name 'dict' is not defined\n",
    ">>> dict()\n",
    "{}\n",
    "\n",
    ">>> del max\n",
    "Traceback (most recent call last):\n",
    "    ...\n",
    "NameError: name 'max' is not defined\n",
    ">>> max([3, 2, 5])\n",
    "5\n",
    "```\n",
    "\n",
    "If you try to remove any built-in name using a del statement, then you get a [**NameError**](https://docs.python.org/3/library/exceptions.html#NameError). The error message may seem confusing because you can access all these names as if they were in the global scope. However, these names live in the built-in scope, which isn’t directly accessible with `del`.\n",
    "\n",
    "<b>Even though you can’t delete built-in names, you can override or shadow them at any moment in your code</b>. Python has many built-in names. Some of them may fit your naming needs in some situations. For example, when you’re beginning with Python, lists may be one of the first built-in data types that you learn about.\n",
    "\n",
    "Say that you’re learning about lists and run the following code:"
   ]
  },
  {
   "cell_type": "code",
   "execution_count": 6,
   "id": "68793a20",
   "metadata": {},
   "outputs": [
    {
     "data": {
      "text/plain": [
       "[1, 2, 3, 4]"
      ]
     },
     "execution_count": 6,
     "metadata": {},
     "output_type": "execute_result"
    }
   ],
   "source": [
    "list = [1, 2, 3, 4]\n",
    "list"
   ]
  },
  {
   "cell_type": "markdown",
   "id": "fd75f8f4",
   "metadata": {},
   "source": [
    "In this example, you’ve used list as the name for a list object containing some numbers. <b>Reassigning a built-in name, as you did in this code snippet, shadows the original object behind the name, which prevents you from using it in your code</b>:"
   ]
  },
  {
   "cell_type": "code",
   "execution_count": 8,
   "id": "d7134466",
   "metadata": {},
   "outputs": [],
   "source": [
    "# TypeError: 'list' object is not callable\n",
    "# list(range(10))"
   ]
  },
  {
   "cell_type": "markdown",
   "id": "3cb10501",
   "metadata": {},
   "source": [
    "Now calling `list()` fails because you’ve overridden the name in your previous code. A quick fix to this issue is to use the `del` statement to remove the fake built-in name and recover the original name:"
   ]
  },
  {
   "cell_type": "code",
   "execution_count": 9,
   "id": "a92f784b",
   "metadata": {},
   "outputs": [
    {
     "data": {
      "text/plain": [
       "[0, 1, 2, 3, 4, 5, 6, 7, 8, 9]"
      ]
     },
     "execution_count": 9,
     "metadata": {},
     "output_type": "execute_result"
    }
   ],
   "source": [
    "del list  # Remove the redefined name\n",
    "list(range(10))"
   ]
  },
  {
   "cell_type": "markdown",
   "id": "c02e4692",
   "metadata": {},
   "source": [
    "If you accidentally reassign a built-in name in an interactive session, then you can run a quick `del` name statement to remove the redefinition from your scope and restore the original built-in name in your working scope."
   ]
  },
  {
   "cell_type": "markdown",
   "id": "5ed8f48b",
   "metadata": {},
   "source": [
    "## <font color='darkblue'>Removing Items From Mutable Collections</font>\n",
    "<font size='3ptx'>Removing items from mutable collections like lists or dictionaries is arguably the most common use case of Python’s del statement. Even though these built-in data types provide methods that you can use to remove items by index or key, `del` can produce slightly different results or be appropriate in different scenarios.</font>\n",
    "\n",
    "You can also use the [`del` statement](https://docs.python.org/3/reference/simple_stmts.html#the-del-statement) to remove several items from a list in one go. To do this, you can use the slice syntax. For this specific use case, you won’t find a method that performs the task. So, `del` is your way to go.\n",
    "\n",
    "In the following sections, you’ll learn how to use `del` to remove items from existing lists. You’ll also learn how to remove key-value pairs from dictionaries using `del`. With these skills, you’ll be able to make your code more efficient by letting Python’s garbage collection system free up the memory resources that your lists and dictionaries won’t need any longer."
   ]
  },
  {
   "cell_type": "markdown",
   "id": "55165e45",
   "metadata": {},
   "source": [
    "### <font color='darkgreen'>Deleting Items From a List</font>\n",
    "<font size='3ptx'>You’ve already learned that the list-indexing syntax, `a_list[index]`, allows you to access individual items in a list. This syntax provides an identifier that holds a reference to the item at the target index.</font>\n",
    "\n",
    "If you need to delete an item from an existing list, then you can use the `del` statement along with the indexing operator. The general syntax is:\n",
    "```python\n",
    "del a_list[index]\n",
    "```\n",
    "\n",
    "This statement will remove the item that lives at the position defined by index in a_list. Here’s an example so you can experience how this works in practice:\n",
    "```python\n",
    ">>> computer_parts = [\n",
    "...     \"CPU\",\n",
    "...     \"motherboard\",\n",
    "...     \"case\",\n",
    "...     \"monitor\",\n",
    "...     \"keyboard\",\n",
    "...     \"mouse\"\n",
    "... ]\n",
    "\n",
    ">>> del computer_parts[3]\n",
    ">>> computer_parts\n",
    "['CPU', 'motherboard', 'case', 'keyboard', 'mouse']\n",
    "\n",
    ">>> del computer_parts[-1]\n",
    ">>> computer_parts\n",
    "['CPU', 'motherboard', 'case', 'keyboard']\n",
    "```\n",
    "\n",
    "In this code snippet, you create a list containing some computer parts. Then you use del to remove \"monitor\", the item at index 3. Finally, you remove the last item in the list, using the negative index -1.\n",
    "\n",
    "<b><font color='orange'>Note</font></b>: The del statement fails to remove items from immutable sequence types, such as strings, bytes, and tuples:\n",
    "```python\n",
    ">>> site = \"realpython.com/\"\n",
    ">>> del site[-1]\n",
    "Traceback (most recent call last):\n",
    "    ...\n",
    "TypeError: 'str' object doesn't support item deletion\n",
    "\n",
    ">>> color = (255, 0, 0)\n",
    ">>> del color[0]\n",
    "Traceback (most recent call last):\n",
    "    ...\n",
    "TypeError: 'tuple' object doesn't support item deletion\n",
    "```\n",
    "\n",
    "Deleting an item from this tuple would imply an in-place mutation, which isn’t allowed in immutable collection types.\n",
    "\n",
    "Be careful when using the extended syntax of del to remove multiple items from a list. You may end up removing the wrong items or even getting an [**IndexError**](https://docs.python.org/3/library/exceptions.html#IndexError). For example, say that you need to remove the items containing None in a sample of numeric data so that you can use the data in some computations. Then you may think of using the following `del` statement:\n",
    "```python\n",
    ">>> sample = [3, None, 2, 4, None, 5, 2]\n",
    "\n",
    ">>> del sample[1], sample[4]\n",
    ">>> sample\n",
    "[3, 2, 4, None, 2]\n",
    "```\n",
    "\n",
    "What just happened? You didn’t remove the second None but instead removed the number 5. The problem is that del acts on its arguments sequentially from left to right. In this example, `del` first removes the second item from sample. Then it removes the fourth item, 5, from the modified list. <b><font color='red'>To get the desired result, you need to consider that the target list changes after every removal</font></b>.\n",
    "\n",
    "<b>A possible work-around is to remove items from right to left</b>:\n",
    "```python\n",
    ">>> sample = [3, None, 2, 4, None, 5, 2]\n",
    "\n",
    ">>> del sample[4], sample[1]\n",
    ">>> sample\n",
    "[3, 2, 4, 5, 2]\n",
    "```\n",
    "\n",
    "In this example, you’ve deleted the items in reverse order starting from the greatest index and going back to the smallest one. This technique allows you to safely remove multiple items from lists using a single `del` statement.\n",
    "\n",
    "When you use a list index as an argument to `del`, Python falls back to calling the `.__delitem__()` special method, which takes care of the actual removal. Here’s an example that illustrates this behavior:\n",
    "```python\n",
    ">>> class List(list):\n",
    "...     def __delitem__(self, index):\n",
    "...         print(\n",
    "...             f\"Running .__delitem__() to delete {self[index]}\"\n",
    "...         )\n",
    "...         super().__delitem__(index)\n",
    "...\n",
    "\n",
    ">>> sample = List([3, None, 2, 4, None, 5, 2])\n",
    ">>> del sample[1]\n",
    "Running .__delitem__() to delete None\n",
    "\n",
    ">>> del sample[3]\n",
    "Running .__delitem__() to delete None\n",
    "```\n",
    "\n",
    "Speaking of methods, Python lists have the <font color='blue'>.remove()</font> and <font color='blue'>.pop()</font> methods, which allow you to remove an item by value or index, respectively:\n",
    "```python\n",
    ">>> pets = [\"dog\", \"cat\", \"fish\", \"bird\", \"hamster\"]\n",
    "\n",
    ">>> pets.remove(\"fish\")  # Equivalent to del pets[2]\n",
    ">>> pets\n",
    "['dog', 'cat', 'bird', 'hamster']\n",
    "\n",
    ">>> pets.pop(3)\n",
    "'hamster'\n",
    ">>> pets.pop()\n",
    "'bird'\n",
    ">>> pets\n",
    "['dog', 'cat']\n",
    "```\n",
    "\n",
    "Using `del` vs <font color='blue'>.pop()</font> depends even more on your specific needs. In this case, both options operate with item indices. The distinctive feature is the return value. If you don’t care about the return value, then go for `del`. If you need the return value for further computations, then you must use <font color='blue'>.pop()</font>."
   ]
  },
  {
   "cell_type": "markdown",
   "id": "720befcf",
   "metadata": {},
   "source": [
    "### <font color='darkgreen'>Deleting a Slice From a List</font>\n",
    "<font size='3ptx'>Removing a slice of items from an existing list is another everyday use case of the `del` statement.</font>\n",
    "\n",
    "You won’t find any list method that performs a similar task, so `del` might be your way to go. To remove a slice from a list, you need to use the following syntax:\n",
    "```python\n",
    "del a_list[start:stop:step]\n",
    "```\n",
    "\n",
    "The slicing syntax accepts up to three colon-separated arguments: `start`, `stop`, and `step`. They define the index that starts the slice, the index at which the slicing must stop retrieving values, and the step between values. These three arguments are commonly known as <b><font color='darkblue'>offsets</font></b>.\n",
    "\n",
    "Here are some examples of using the above construct to remove slices from lists:\n",
    "```python\n",
    ">>> digits = [0, 1, 2, 3, 4, 5, 6, 7, 8, 9]\n",
    ">>> del digits[3:6]\n",
    ">>> digits\n",
    "[0, 1, 2, 6, 7, 8, 9]\n",
    "\n",
    ">>> del digits[:3]\n",
    ">>> digits\n",
    "[6, 7, 8, 9]\n",
    "\n",
    ">>> del digits[2:]\n",
    ">>> digits\n",
    "[6, 7]\n",
    "```\n",
    "\n",
    "You can also use the `step` offset to define how many items you want to jump through during the slicing. Consider the following example:\n",
    "```python\n",
    ">>> numbers = [1, 2, 3, 4, 5, 6, 7, 8, 9]\n",
    ">>> del numbers[::2]\n",
    ">>> numbers\n",
    "[2, 4, 6, 8]\n",
    "```\n",
    "\n",
    "You can use a [slice](https://docs.python.org/3/library/functions.html#slice) object instead of the slicing operator to delete items from your lists:\n",
    "```python\n",
    ">>> numbers = [1, 2, 3, 4, 5, 6, 7, 8, 9]\n",
    ">>> every_other = slice(0, None, 2)\n",
    "\n",
    ">>> del numbers[every_other]\n",
    ">>> numbers\n",
    "[2, 4, 6, 8]\n",
    "```\n",
    "\n",
    "Interestingly enough, <b>deleting a slice of items from an existing list has the same effect as assigning an empty list to the same slice</b>:\n",
    "```python\n",
    ">>> digits = [0, 1, 2, 3, 4, 5, 6, 7, 8, 9]\n",
    "\n",
    ">>> digits[3:6] = []\n",
    ">>> digits\n",
    "[0, 1, 2, 6, 7, 8, 9]\n",
    "\n",
    ">>> digits[:3] = []\n",
    ">>> digits\n",
    "[6, 7, 8, 9]\n",
    "\n",
    ">>> digits[2:] = []\n",
    ">>> digits\n",
    "[6, 7]\n",
    "```\n",
    "\n",
    "<b>Assigning an empty list to a given slice has the same effect as removing the target slice using a `del` statement</b>. This example is equivalent to its first version at the beginning of this section.\n",
    "\n",
    "Removing unnecessary items from your lists may save some memory in your programs. You typically don’t keep additional references to list items, so if you remove several items from a list, then the objects stored in those items become available for garbage collection, which may lead to releasing some memory."
   ]
  },
  {
   "cell_type": "markdown",
   "id": "88c86499",
   "metadata": {},
   "source": [
    "### <font color='darkgreen'>Removing Keys From Dictionaries</font>\n",
    "<font size='3ptx'>Removing key-value pairs from a dictionary is another common use case of del. For this to work, you need to specify the key that you want to remove as an argument to `del`. </font>\n",
    "\n",
    "Here’s the general syntax for that:\n",
    "```python\n",
    "del a_dict[key]\n",
    "```\n",
    "\n",
    "This statement removes key, and its associated value, from the containing dictionary, `a_dict`. To see this construct in action, go ahead and run the following example:\n",
    "```python\n",
    ">>> vegetable_prices = {\n",
    "...     \"carrots\": 0.99,\n",
    "...     \"spinach\": 1.50,\n",
    "...     \"onions\": 0.50,\n",
    "...     \"cucumbers\": 0.75,\n",
    "...     \"peppers\": 1.25,\n",
    "... }\n",
    "\n",
    ">>> del vegetable_prices[\"spinach\"]\n",
    ">>> del vegetable_prices[\"onions\"], vegetable_prices[\"cucumbers\"]\n",
    "\n",
    ">>> vegetable_prices\n",
    "{'carrots': 0.99, 'peppers': 1.25}\n",
    "```\n",
    "\n",
    "You can also use some methods to remove keys from a dictionary. For example, you can use the <font color='blue'>.pop()</font> and <font color='blue'>.popitem()</font> methods:\n",
    "```python\n",
    ">>> school_supplies = {\n",
    "...     \"pencil\": 0.99,\n",
    "...     \"pen\": 1.49,\n",
    "...     \"notebook\": 2.99,\n",
    "...     \"highlighter\": 0.79,\n",
    "...     \"ruler\": 1.29,\n",
    "... }\n",
    "\n",
    ">>> school_supplies.pop(\"notebook\")\n",
    "2.99\n",
    "\n",
    ">>> school_supplies.popitem()\n",
    "('ruler', 1.29)\n",
    ">>> school_supplies.popitem()\n",
    "('highlighter', 0.79)\n",
    "\n",
    ">>> school_supplies\n",
    "{'pencil': 0.99, 'pen': 1.49}\n",
    "```\n",
    "\n",
    "Even though these methods remove keys from existing dictionaries, they work slightly differently from del. Besides removing the target key, .pop() returns the value associated with that key. Similarly, .popitem() removes the key and returns the corresponding key-value pair as a tuple. The `del` statement doesn’t return the removed value.\n",
    "\n",
    "Python automatically calls the `.__delitem__()` special method when you use `del` to remove a key from a dictionary. Here’s an example that illustrates this behavior:\n",
    "```python\n",
    ">>> class Dict(dict):\n",
    "...     def __delitem__(self, key) -> None:\n",
    "...         print(f\"Running .__delitem__() to delete {(key, self[key])}\")\n",
    "...         super().__delitem__(key)\n",
    "...\n",
    "\n",
    ">>> ordinals = Dict(\n",
    "...     {\"First\": \"I\", \"Second\": \"II\", \"Third\": \"III\", \"Fourth\": \"IV\"}\n",
    "... )\n",
    "\n",
    ">>> del ordinals[\"Second\"]\n",
    "Running .__delitem__() to delete ('Second', 'II')\n",
    "\n",
    ">>> del ordinals[\"Fourth\"]\n",
    "Running .__delitem__() to delete ('Fourth', 'IV')\n",
    "```\n",
    "\n",
    "To learn more about how to safely subclass the built-in `dict` type in Python, check out [Custom Python Dictionaries: Inheriting From dict vs UserDict](https://realpython.com/inherit-python-dict/)."
   ]
  },
  {
   "cell_type": "markdown",
   "id": "de34dcb0",
   "metadata": {},
   "source": [
    "### <font color='darkgreen'>Removing Items From Mutable Nested Collections</font>\n",
    "Sometimes, you may need to nest mutable types, such as lists and dictionaries, in outer lists, tuples, and dictionaries. Once you’ve created one of these nested structures, you can access individual items on different levels of nesting using the indices or keys of those items. The leftmost indices or keys will retrieve the outer sequences or dictionaries, while the rightmost indices will retrieve the most deeply nested objects.\n",
    "\n",
    "The possibility of accessing nested items allows you to use del to remove them using the following syntax:\n",
    "```python\n",
    "# Syntax for sequences\n",
    "del sequence[outer_index][nested_index_1]...[nested_index_n]\n",
    "\n",
    "# Syntax for dictionaries\n",
    "del dictionary[outer_key][nested_key_1]...[nested_key_n]\n",
    "\n",
    "# Syntax for combined structures\n",
    "del sequence_of_dicts[sequence_index][dict_key]\n",
    "del dict_of_lists[dict_key][list_index]\n",
    "```\n",
    "\n",
    "To access and delete objects from nested mutable collections, you must use the indexing operator, providing appropriate indices from left to right. Count how many levels of nesting you’ll need to walk through to reach the target item. That’s how many indices you must provide.\n",
    "\n",
    "Here’s an example of how to remove nested items from a list of lists:\n",
    "```python\n",
    ">>> matrix = [\n",
    "...     [1, 2, 3],\n",
    "...     [4, 5, 6],\n",
    "...     [7, 8, 9]\n",
    "... ]\n",
    "\n",
    ">>> target_row = 0\n",
    ">>> target_col = 2\n",
    ">>> del matrix[target_row][target_col]\n",
    ">>> matrix\n",
    "[\n",
    "    [1, 2],\n",
    "    [4, 5, 6],\n",
    "    [7, 8, 9]\n",
    "]\n",
    "\n",
    ">>> target_row = 1\n",
    ">>> del matrix[target_row][target_col]\n",
    ">>> matrix\n",
    "[\n",
    "    [1, 2],\n",
    "    [4, 5],\n",
    "    [7, 8, 9]\n",
    "]\n",
    "\n",
    ">>> target_row = 2\n",
    ">>> del matrix[target_row][target_col]\n",
    ">>> matrix\n",
    "[\n",
    "    [1, 2],\n",
    "    [4, 5],\n",
    "    [7, 8]\n",
    "]\n",
    "```\n",
    "\n",
    "In this example, you’ve used `del` to remove nested items in your matrix list. Specifically, you’ve removed the last value from every matrix row. Using descriptive names for the indices allows you to improve the readability of your code, making it easier to reason about."
   ]
  },
  {
   "cell_type": "markdown",
   "id": "0bd06414",
   "metadata": {},
   "source": [
    "## <font color='darkblue'>Deleting Members From Custom Classes</font>\n",
    "<font size='3ptx'>When it comes to user-defined classes, you can remove both [class and instance attributes](https://realpython.com/python3-object-oriented-programming/#class-and-instance-attributes) using the [`del` statement](https://docs.python.org/3/reference/simple_stmts.html#the-del-statement).</font>\n",
    "\n",
    "Deleting members of classes and instances might be only rarely useful, but it’s possible in Python. The general syntax for removing class members with del is as follows:\n",
    "```python\n",
    "del a_class.class_attribute\n",
    "del a_class.method\n",
    "\n",
    "del an_instance.instance_attribute\n",
    "```\n",
    "\n",
    "To pass the target member as an argument to del, you need to use dot notation on either the class or one of its instances, depending on what type of member you need to remove. In the following sections, you’ll code examples of how all this works in practice."
   ]
  },
  {
   "cell_type": "markdown",
   "id": "9e1e3c88",
   "metadata": {},
   "source": [
    "### <font color='darkgreen'>Removing Class Members: A Generic Example</font>\n",
    "To illustrate how the del syntax for removing class members works, go ahead and write the following <font color='blue'><b>SampleClass</b></font> class:"
   ]
  },
  {
   "cell_type": "code",
   "execution_count": 10,
   "id": "c64b669a",
   "metadata": {},
   "outputs": [],
   "source": [
    "class SampleClass:\n",
    "  class_attribute = 0\n",
    "\n",
    "  def __init__(self, arg):\n",
    "    self.instance_attribute = arg\n",
    "\n",
    "  def method(self):\n",
    "    print(self.instance_attribute)"
   ]
  },
  {
   "cell_type": "code",
   "execution_count": 11,
   "id": "47d56981",
   "metadata": {},
   "outputs": [
    {
     "data": {
      "text/plain": [
       "mappingproxy({'__module__': '__main__',\n",
       "              'class_attribute': 0,\n",
       "              '__init__': <function __main__.SampleClass.__init__(self, arg)>,\n",
       "              'method': <function __main__.SampleClass.method(self)>,\n",
       "              '__dict__': <attribute '__dict__' of 'SampleClass' objects>,\n",
       "              '__weakref__': <attribute '__weakref__' of 'SampleClass' objects>,\n",
       "              '__doc__': None})"
      ]
     },
     "execution_count": 11,
     "metadata": {},
     "output_type": "execute_result"
    }
   ],
   "source": [
    "SampleClass.__dict__"
   ]
  },
  {
   "cell_type": "code",
   "execution_count": 12,
   "id": "34da0023",
   "metadata": {},
   "outputs": [
    {
     "data": {
      "text/plain": [
       "{'instance_attribute': 'Value'}"
      ]
     },
     "execution_count": 12,
     "metadata": {},
     "output_type": "execute_result"
    }
   ],
   "source": [
    "sample_instance = SampleClass(\"Value\")\n",
    "sample_instance.__dict__"
   ]
  },
  {
   "cell_type": "markdown",
   "id": "8d87ff0a",
   "metadata": {},
   "source": [
    "In this code snippet, you create a sample class with a class attribute, an instance attribute, and a method. The highlighted lines show how these members live in the class and instance `.__dict__` attributes, which store the class and instance attributes, respectively.\n",
    "\n",
    "Now go ahead and run the following statements to delete the members of this class and its object:\n",
    "```python\n",
    ">>> # Delete members through the instance\n",
    ">>> del sample_instance.instance_attribute\n",
    "\n",
    ">>> del sample_instance.class_attribute\n",
    "Traceback (most recent call last):\n",
    "    ...\n",
    "AttributeError: 'SampleClass' object has no attribute 'class_attribute'\n",
    ">>> del sample_instance.method\n",
    "Traceback (most recent call last):\n",
    "    ...\n",
    "AttributeError: 'SampleClass' object has no attribute 'method'\n",
    "\n",
    ">>> sample_instance.__dict__\n",
    "{}\n",
    "\n",
    ">>> # Delete members through the class\n",
    ">>> del SampleClass.class_attribute\n",
    ">>> del SampleClass.method\n",
    "\n",
    ">>> SampleClass.__dict__\n",
    "mappingproxy({\n",
    "    '__module__': '__main__',\n",
    "    '__init__': <function SampleClass.__init__ at 0x105534360>,\n",
    "    ...\n",
    "})\n",
    "```\n",
    "\n",
    "Using an instance of a given class, you can only remove instance attributes. If you try to remove class attributes and methods, then you get an [**AttributeError**](https://docs.python.org/3/library/exceptions.html#AttributeError) exception. You can only remove class attributes and methods through the class itself, as you can confirm in the final two examples."
   ]
  },
  {
   "cell_type": "markdown",
   "id": "07ea5288",
   "metadata": {},
   "source": [
    "### <font color='darkgreen'>Removing an Instance Attribute: A Practical Example</font>\n",
    "<font size='3ptx'>When would del be useful for removing instance attributes? <b>When you need to reduce your object’s memory footprint by preparing temporary instance attributes for Python’s garbage collection system, which can result in freeing up valuable memory resources on your computer</b>.</font>\n",
    "\n",
    "For example, say that you want to write a <font color='blue'><b>Factorial</b></font> class to represent the factorial of a number. The class constructor must take a number as an argument and create an instance with two read-only attributes, `.number` and `.factorial`.\n",
    "\n",
    "The class should use [caching](https://realpython.com/lru-cache-python/#caching-and-its-uses) as an optimization to avoid any unnecessary repetition of intermediate computations. <b>It should also be memory-efficient and remove the cache after computing the factorial</b>.\n",
    "\n",
    "Here’s a possible implementation for your <font color='blue'><b>Factorial</b></font> class:"
   ]
  },
  {
   "cell_type": "code",
   "execution_count": 13,
   "id": "7f059ac7",
   "metadata": {},
   "outputs": [],
   "source": [
    "class Factorial:\n",
    "    def __init__(self, number):\n",
    "        self._number = number\n",
    "        self._cache = {0: 1, 1: 1}\n",
    "        self._factorial = self._calculate_factorial(number)\n",
    "        del self._cache\n",
    "\n",
    "    def _calculate_factorial(self, number):\n",
    "        if number in self._cache:\n",
    "            return self._cache[number]\n",
    "        current_factorial = number * self._calculate_factorial(number - 1)\n",
    "        self._cache[number] = current_factorial\n",
    "        return current_factorial\n",
    "\n",
    "    @property\n",
    "    def number(self):\n",
    "        return self._number\n",
    "\n",
    "    @property\n",
    "    def factorial(self):\n",
    "        return self._factorial\n",
    "\n",
    "    def __str__(self) -> str:\n",
    "        return f\"{self._number}! = {self._factorial}\"\n",
    "\n",
    "    def __repr__(self):\n",
    "        return f\"{type(self).__name__}({self._number})\""
   ]
  },
  {
   "cell_type": "markdown",
   "id": "96994064",
   "metadata": {},
   "source": [
    "Here’s how your class works in practice:"
   ]
  },
  {
   "cell_type": "code",
   "execution_count": 14,
   "id": "1b9e099e",
   "metadata": {},
   "outputs": [
    {
     "name": "stdout",
     "output_type": "stream",
     "text": [
      "0! = 1\n",
      "1! = 1\n",
      "2! = 2\n",
      "3! = 6\n",
      "4! = 24\n"
     ]
    }
   ],
   "source": [
    "for i in range(5):\n",
    "  print(Factorial(i))"
   ]
  },
  {
   "cell_type": "code",
   "execution_count": 15,
   "id": "a3ccc668",
   "metadata": {},
   "outputs": [
    {
     "data": {
      "text/plain": [
       "Factorial(5)"
      ]
     },
     "execution_count": 15,
     "metadata": {},
     "output_type": "execute_result"
    }
   ],
   "source": [
    "factorial_5 = Factorial(5)\n",
    "factorial_5"
   ]
  },
  {
   "cell_type": "code",
   "execution_count": 16,
   "id": "5d2d591d",
   "metadata": {},
   "outputs": [
    {
     "data": {
      "text/plain": [
       "5"
      ]
     },
     "execution_count": 16,
     "metadata": {},
     "output_type": "execute_result"
    }
   ],
   "source": [
    "factorial_5.number"
   ]
  },
  {
   "cell_type": "code",
   "execution_count": 17,
   "id": "f54c9d94",
   "metadata": {},
   "outputs": [
    {
     "data": {
      "text/plain": [
       "120"
      ]
     },
     "execution_count": 17,
     "metadata": {},
     "output_type": "execute_result"
    }
   ],
   "source": [
    "factorial_5.factorial"
   ]
  },
  {
   "cell_type": "code",
   "execution_count": 18,
   "id": "ff7624ff",
   "metadata": {},
   "outputs": [],
   "source": [
    "# AttributeError: property 'factorial' of 'Factorial' object has no setter\n",
    "# factorial_5.factorial = 720\n",
    "\n",
    "# AttributeError: 'Factorial' object has no attribute '_cache'\n",
    "# factorial_5._cache"
   ]
  },
  {
   "cell_type": "markdown",
   "id": "74e338c8",
   "metadata": {},
   "source": [
    "Deleting the `._cache` attribute after the factorial computation makes the instances of Factorial memory-efficient. To illustrate this, go ahead and add the [**Pympler library**](https://pympler.readthedocs.io/en/latest/) by installing pympler with pip. This library will allow you to measure the memory footprint of your <font color='blue'><b>Factorial</b></font> instances.\n",
    "\n",
    "Then execute the following code:"
   ]
  },
  {
   "cell_type": "code",
   "execution_count": 20,
   "id": "e80bb433",
   "metadata": {},
   "outputs": [
    {
     "data": {
      "text/plain": [
       "528"
      ]
     },
     "execution_count": 20,
     "metadata": {},
     "output_type": "execute_result"
    }
   ],
   "source": [
    "from pympler import asizeof\n",
    "\n",
    "asizeof.asizeof(Factorial(100))"
   ]
  },
  {
   "cell_type": "markdown",
   "id": "8851c1fb",
   "metadata": {},
   "source": [
    "Here, you use the <font color='blue'>asizeof()</font> function to calculate the combined size in bytes of a <font color='blue'><b>Factorial</b></font> instance. As you can see, this specific instance of <font color='blue'><b>Factorial</b></font> occupies 528 bytes in your computer’s memory.\n",
    "\n",
    "Below class <b><font color='blue'>Factorial_v2</font></b> which won't removes `._cache`. With this change in place, go ahead and run the above function call again:"
   ]
  },
  {
   "cell_type": "code",
   "execution_count": 21,
   "id": "918b944e",
   "metadata": {},
   "outputs": [],
   "source": [
    "class Factorial_v2:\n",
    "    def __init__(self, number):\n",
    "        self._number = number\n",
    "        self._cache = {0: 1, 1: 1}\n",
    "        self._factorial = self._calculate_factorial(number)\n",
    "        # del self._cache\n",
    "\n",
    "    def _calculate_factorial(self, number):\n",
    "        if number in self._cache:\n",
    "            return self._cache[number]\n",
    "        current_factorial = number * self._calculate_factorial(number - 1)\n",
    "        self._cache[number] = current_factorial\n",
    "        return current_factorial\n",
    "\n",
    "    @property\n",
    "    def number(self):\n",
    "        return self._number\n",
    "\n",
    "    @property\n",
    "    def factorial(self):\n",
    "        return self._factorial\n",
    "\n",
    "    def __str__(self) -> str:\n",
    "        return f\"{self._number}! = {self._factorial}\"\n",
    "\n",
    "    def __repr__(self):\n",
    "        return f\"{type(self).__name__}({self._number})\""
   ]
  },
  {
   "cell_type": "code",
   "execution_count": 22,
   "id": "19acc3e5",
   "metadata": {},
   "outputs": [
    {
     "data": {
      "text/plain": [
       "14024"
      ]
     },
     "execution_count": 22,
     "metadata": {},
     "output_type": "execute_result"
    }
   ],
   "source": [
    "asizeof.asizeof(Factorial_v2(100))"
   ]
  },
  {
   "cell_type": "markdown",
   "id": "9d2bae5b",
   "metadata": {},
   "source": [
    "Now the size of your <b><font color='blue'>Factorial_v2</font></b> instance is more than 23 times greater than before. That’s the impact of removing vs keeping the unnecessary cached data once the instance is complete."
   ]
  },
  {
   "cell_type": "markdown",
   "id": "b76aefe3",
   "metadata": {},
   "source": [
    "## <font color='darkblue'>Preventing Attribute Deletion in Custom Classes</font>\n",
    "In Python, you can write your classes in a way that prevents the removal of instance attributes. You’ll find a bunch of techniques to do this. In this section, you’ll learn about two of these techniques:\n",
    "1. Providing a custom [`.__delattr__()`](https://docs.python.org/3/reference/datamodel.html#object.__delattr__) method\n",
    "2. Using a property with a deleter method\n",
    "\n",
    "To kick things off, you’ll start by overriding the [`.__delattr__()`](https://docs.python.org/3/reference/datamodel.html#object.__delattr__) special method with a custom implementation. Under the hood, Python automatically calls this method when you use a given instance attribute as an argument to the `del` statement.\n",
    "\n",
    "As an example of how to create a class that prevents you from removing its instance attribute, consider the following toy class:"
   ]
  },
  {
   "cell_type": "code",
   "execution_count": 23,
   "id": "879ea998",
   "metadata": {},
   "outputs": [],
   "source": [
    "class NonDeletable:\n",
    "    def __init__(self, value):\n",
    "        self.value = value\n",
    "\n",
    "    def __delattr__(self, name):\n",
    "        raise AttributeError(\n",
    "            f\"{type(self).__name__} object doesn't support attribute deletion\"\n",
    "        )"
   ]
  },
  {
   "cell_type": "markdown",
   "id": "cd3d23f4",
   "metadata": {},
   "source": [
    "In this class, you override the `.__delattr__()` special method. Your implementation raises an <b><font color='blue'>AttributeError</font></b> exception whenever a user tries to remove any attribute, like the `.value`, using a `del` statement.\n",
    "\n",
    "Here’s an example of how your class behaves in practice:\n",
    "```python\n",
    ">>> one = NonDeletable(1)\n",
    ">>> one.value\n",
    "1\n",
    "\n",
    ">>> del one.value\n",
    "Traceback (most recent call last):\n",
    "    ...\n",
    "AttributeError: NonDeletable object doesn't support attribute deletion\n",
    "```\n",
    "\n",
    "Whenever you try to remove the .value attribute of any instance of <font color='blue'><b>NonDeletable</b></font>, you get an <b><font color='blue'>AttributeError</font></b> exception that comes from your custom implementation of `.__delattr__()`. <b>This technique provides a quick solution for those situations where you need to prevent instance attribute deletion</b>.\n",
    "\n",
    "Another common, quick technique for preventing instance attribute deletions is to turn your target attribute into a property and provide a suitable deleter method. For example, say that you want to code a <b><font color='blue'>Person</font></b> class that prevents users from deleting its `.name` attribute:"
   ]
  },
  {
   "cell_type": "code",
   "execution_count": 24,
   "id": "1d72a41c",
   "metadata": {},
   "outputs": [],
   "source": [
    "class Person:\n",
    "    def __init__(self, name):\n",
    "        self.name = name\n",
    "\n",
    "    @property\n",
    "    def name(self):\n",
    "        return self._name\n",
    "\n",
    "    @name.setter\n",
    "    def name(self, value):\n",
    "        self._name = str(value).upper()\n",
    "\n",
    "    @name.deleter\n",
    "    def name(self):\n",
    "        raise AttributeError(\"can't delete attribute 'name'\")"
   ]
  },
  {
   "cell_type": "markdown",
   "id": "a323c1dc",
   "metadata": {},
   "source": [
    "The setter method takes a new value for the attributes, converts it into a string, and transforms it into uppercase letters.\n",
    "\n",
    "Finally, the deleter method raises an <font color='blue'>AttributeError</font></b> to signal that the attribute isn’t deletable. Python calls this method automatically when you use the `.name` attribute as an argument in a `del` statement:\n",
    "```python\n",
    ">>> from person import Person\n",
    "\n",
    ">>> jane = Person(\"Jane\")\n",
    ">>> jane.name\n",
    "'JANE'\n",
    ">>> jane.name = \"Jane Doe\"\n",
    ">>> jane.name\n",
    "'JANE DOE'\n",
    "\n",
    ">>> del jane.name\n",
    "Traceback (most recent call last):\n",
    "    ...\n",
    "AttributeError: can't delete attribute 'name'\n",
    "```"
   ]
  },
  {
   "cell_type": "markdown",
   "id": "54219b5b",
   "metadata": {},
   "source": [
    "## <b><font color='darkblue'>Conclusion</font></b>\n",
    "In this tutorial, you’ve learned how to:\n",
    "* Write `del` statements in your Python code\n",
    "* Remove names from different namespaces using `del`\n",
    "* Quickly delete list items and dictionary keys with `del`\n",
    "* Use `del` to remove attributes for user-defined classes and objects\n",
    "* Prevent attribute deletion in your custom classes\n",
    "\n",
    "Now that you’ve learned a lot about Python’s del statement, you can write memory-efficient code by removing references to unneeded objects, which prepares those objects for the garbage collection system."
   ]
  }
 ],
 "metadata": {
  "kernelspec": {
   "display_name": "Python 3 (ipykernel)",
   "language": "python",
   "name": "python3"
  },
  "language_info": {
   "codemirror_mode": {
    "name": "ipython",
    "version": 3
   },
   "file_extension": ".py",
   "mimetype": "text/x-python",
   "name": "python",
   "nbconvert_exporter": "python",
   "pygments_lexer": "ipython3",
   "version": "3.8.10"
  }
 },
 "nbformat": 4,
 "nbformat_minor": 5
}
