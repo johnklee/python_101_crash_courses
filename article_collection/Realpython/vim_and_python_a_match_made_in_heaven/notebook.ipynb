{
 "cells": [
  {
   "cell_type": "markdown",
   "id": "8c4d66c7-1007-4fa5-a070-8ad5823e77f4",
   "metadata": {},
   "source": [
    "## <b><font color='darkblue'>Preface</font></b>\n",
    "([source](https://realpython.com/vim-and-python-a-match-made-in-heaven/?fbclid=IwZXh0bgNhZW0CMTEAAR24rJV_Ldog6SK3p7eusLX1IHUs3WCm7oNVYaS_EfhBgy1ZecXcXKgvfDY_aem_Arg_gE_3FltjHYY8wBsTLg#code-folding)) <b><font size='3ptx'>It has come to my attention that somebody ‘round these parts has been preaching the gospel of [Sublime Text 3](https://realpython.com/setting-up-sublime-text-3-for-full-stack-python-development/). As the resident senior developer (err, old fogey), I feel it’s my duty to tell you about the only TRUE Python development environment you will ever need: [VIM](http://www.vim.org/)</font></b>.\n",
    "\n",
    "That’s right. VIM is ubiquitous and fast, and it never crashes. It can also do just about anything!\n",
    "\n",
    "On the down side though, VIM can be a pain to configure, but fear not. <b>This article will show you how to get a powerful VIM environment set up in a way that is geared towards wrangling Python day in and day out.</b>\n",
    "![sample vim UI](https://files.realpython.com/media/vim-ide.90be624b30bf.png)\n",
    "\n",
    "<b><font color='orange'>Note</font></b>: To get the most out of this article, you should have at least a basic understanding of how to use VIM and its command modes. If you’re just getting started, check out [this resource](http://vim-adventures.com/) or [this one](http://www.openvim.com/). You’ll want to spend some time with VIM and get the basics down before moving on."
   ]
  },
  {
   "cell_type": "markdown",
   "id": "957bc724-0a51-4d05-af03-4a80dd4b404f",
   "metadata": {},
   "source": [
    "## <b><font color='darkblue'>Installing</font></b>\n",
    "Since VIM comes pre-installed on a number of *nix systems, let’s first check to see if it’s installed:"
   ]
  },
  {
   "cell_type": "code",
   "execution_count": 1,
   "id": "63343a74-5374-4012-9e21-2e1369a84d19",
   "metadata": {},
   "outputs": [
    {
     "name": "stdout",
     "output_type": "stream",
     "text": [
      "VIM - Vi IMproved 9.1 (2024 Jan 02, compiled Jul 03 2024 12:04:47)\n",
      "Included patches: 1-377\n",
      "Modified by team+vim@tracker.debian.org\n",
      "Compiled by team+vim@tracker.debian.org\n",
      "Huge version with GTK3 GUI.  Features included (+) or not (-):\n",
      "+acl               +file_in_path      +mouse_urxvt       -tag_any_white\n",
      "+arabic            +find_in_path      +mouse_xterm       +tcl\n",
      "+autocmd           +float             +multi_byte        +termguicolors\n",
      "+autochdir         +folding           +multi_lang        +terminal\n",
      "-autoservername    -footer            -mzscheme          +terminfo\n",
      "+balloon_eval      +fork()            +netbeans_intg     +termresponse\n",
      "+balloon_eval_term +gettext           +num64             +textobjects\n",
      "+browse            -hangul_input      +packages          +textprop\n",
      "++builtin_terms    +iconv             +path_extra        +timers\n",
      "+byte_offset       +insert_expand     +perl              +title\n",
      "+channel           +ipv6              +persistent_undo   +toolbar\n",
      "+cindent           +job               +popupwin          +user_commands\n",
      "+clientserver      +jumplist          +postscript        +vartabs\n",
      "+clipboard         +keymap            +printer           +vertsplit\n",
      "+cmdline_compl     +lambda            +profile           +vim9script\n",
      "+cmdline_hist      +langmap           -python            +viminfo\n",
      "+cmdline_info      +libcall           +python3           +virtualedit\n",
      "+comments          +linebreak         +quickfix          +visual\n",
      "+conceal           +lispindent        +reltime           +visualextra\n",
      "+cryptv            +listcmds          +rightleft         +vreplace\n",
      "+cscope            +localmap          +ruby              +wildignore\n",
      "+cursorbind        +lua               +scrollbind        +wildmenu\n",
      "+cursorshape       +menu              +signs             +windows\n",
      "+dialog_con_gui    +mksession         +smartindent       +writebackup\n",
      "+diff              +modify_fname      +sodium            +X11\n",
      "+digraphs          +mouse             +sound             +xattr\n",
      "+dnd               +mouseshape        +spell             -xfontset\n",
      "-ebcdic            +mouse_dec         +startuptime       +xim\n",
      "+emacs_tags        +mouse_gpm         +statusline        -xpm\n",
      "+eval              -mouse_jsbterm     -sun_workshop      +xsmp_interact\n",
      "+ex_extra          +mouse_netterm     +syntax            +xterm_clipboard\n",
      "+extra_search      +mouse_sgr         +tag_binary        -xterm_save\n",
      "-farsi             -mouse_sysmouse    -tag_old_static    \n",
      "   system vimrc file: \"/etc/vim/vimrc\"\n",
      "     user vimrc file: \"$HOME/.vimrc\"\n",
      " 2nd user vimrc file: \"~/.vim/vimrc\"\n",
      " 3rd user vimrc file: \"~/.config/vim/vimrc\"\n",
      "      user exrc file: \"$HOME/.exrc\"\n",
      "  system gvimrc file: \"/etc/vim/gvimrc\"\n",
      "    user gvimrc file: \"$HOME/.gvimrc\"\n",
      "2nd user gvimrc file: \"~/.vim/gvimrc\"\n",
      "3rd user gvimrc file: \"~/.config/vim/gvimrc\"\n",
      "       defaults file: \"$VIMRUNTIME/defaults.vim\"\n",
      "    system menu file: \"$VIMRUNTIME/menu.vim\"\n",
      "  fall-back for $VIM: \"/usr/share/vim\"\n",
      "Compilation: gcc -c -I. -Iproto -DHAVE_CONFIG_H -DFEAT_GUI_GTK -I/usr/include/gtk-3.0 -I/usr/include/pango-1.0 -I/usr/include/glib-2.0 -I/usr/lib/x86_64-linux-gnu/glib-2.0/include -I/usr/include/harfbuzz -I/usr/include/freetype2 -I/usr/include/libpng16 -I/usr/include/libmount -I/usr/include/blkid -I/usr/include/fribidi -I/usr/include/cairo -I/usr/include/pixman-1 -I/usr/include/gdk-pixbuf-2.0 -I/usr/include/x86_64-linux-gnu -I/usr/include/webp -I/usr/include/gio-unix-2.0 -I/usr/include/cloudproviders -I/usr/include/atk-1.0 -I/usr/include/at-spi2-atk/2.0 -I/usr/include/at-spi-2.0 -I/usr/include/dbus-1.0 -I/usr/lib/x86_64-linux-gnu/dbus-1.0/include -pthread -Wdate-time -g -O2 -Werror=implicit-function-declaration -ffile-prefix-map=/build/vim-cMlasG/vim-9.1.0377=. -fstack-protector-strong -fstack-clash-protection -Wformat -Werror=format-security -fcf-protection -DSYS_VIMRC_FILE=\\\"/etc/vim/vimrc\\\" -DSYS_GVIMRC_FILE=\\\"/etc/vim/gvimrc\\\" -D_REENTRANT -U_FORTIFY_SOURCE -D_FORTIFY_SOURCE=1 \n",
      "Linking: gcc -Wl,-E -Wl,-z,relro -Wl,-z,now -Wl,--as-needed -o vim -lgtk-3 -lgdk-3 -lz -lpangocairo-1.0 -lpango-1.0 -lharfbuzz -latk-1.0 -lcairo-gobject -lcairo -lgdk_pixbuf-2.0 -lgio-2.0 -lgobject-2.0 -lglib-2.0 -lSM -lICE -lXt -lX11 -lXdmcp -lSM -lICE -lm -ltinfo -lselinux -lcanberra -lsodium -lacl -lattr -lgpm -L/usr/lib -llua5.1 -Wl,-E -fstack-protector-strong -L/usr/local/lib -L/usr/lib/x86_64-linux-gnu/perl/5.38/CORE -lperl -ldl -lm -lpthread -lcrypt -L/usr/lib/python3.11/config-3.11-x86_64-linux-gnu -lpython3.11 -ldl -lm -L/usr/lib/x86_64-linux-gnu -ltcl8.6 -ldl -lz -lpthread -lm -lruby-3.1 -lm -L/usr/lib \n"
     ]
    }
   ],
   "source": [
    "!vim --version"
   ]
  },
  {
   "cell_type": "markdown",
   "id": "077e5df0-4f1e-418f-8784-3c983492ba3a",
   "metadata": {},
   "source": [
    "At this point, you want to check two things:\n",
    "1. The VIM version should be higher than 7.3.\n",
    "2. `+python` or `+python3` should show up in the list of features, so you know Python is supported.\n",
    "\n",
    "If both of these checks pass, then move right along to [**VIM Extensions**](https://realpython.com/vim-and-python-a-match-made-in-heaven/?fbclid=IwZXh0bgNhZW0CMTEAAR24rJV_Ldog6SK3p7eusLX1IHUs3WCm7oNVYaS_EfhBgy1ZecXcXKgvfDY_aem_Arg_gE_3FltjHYY8wBsTLg#vim-extensions). If not, it’s time to [**install/upgrade**](http://www.vim.org/download.php)."
   ]
  },
  {
   "cell_type": "markdown",
   "id": "727fba7a-fb25-4e51-87f3-c17266ac8510",
   "metadata": {},
   "source": [
    "### <b><font color='darkgreen'>*NIX / Linux</font></b>\n",
    "For Debian or Ubuntu, you can try:\n",
    "```shell\n",
    "$ sudo apt-get remove vim-tiny\n",
    "$ sudo apt-get update\n",
    "$ sudo apt-get install vim\n",
    "```\n",
    "\n",
    "For other flavors of Linux, check the docs from your package manager. Here is a link to get you started: [**Install Vim**](http://oss.sgi.com/LDP/HOWTO/Vim-HOWTO/introduction.html)."
   ]
  },
  {
   "cell_type": "markdown",
   "id": "d0d83221-b4ff-4a94-b081-6755a1b5e29d",
   "metadata": {},
   "source": [
    "## <b><font color='darkblue'>VIM Extensions</font></b>\n",
    "VIM can do a lot of what developers need right out of the box. However, it is also massively extensible, and there are some pretty killer extensions that make it behave more like a “modern” IDE. The very first thing you need is a good extension manager.\n",
    "\n",
    "<b><font color='orange'>Note</font></b>: Extensions in VIM are often referred to as bundles or [**plugins**](http://vimdoc.sourceforge.net/htmldoc/usr_05.html#plugin)."
   ]
  },
  {
   "cell_type": "markdown",
   "id": "d86b358d-d8bd-45ee-8864-0a8a9d98874e",
   "metadata": {},
   "source": [
    "### <b><font color='darkgreen'>Vundle</font></b>\n",
    "VIM has several extension managers, but the one I strongly recommend is [**Vundle**](https://github.com/gmarik/Vundle.vim). Think of it as [pip](https://realpython.com/what-is-pip/) for VIM. It makes installing and updating packages trivial.\n",
    "\n",
    "Let’s get Vundle installed:\n",
    "```shell\n",
    "$ git clone https://github.com/gmarik/Vundle.vim.git ~/.vim/bundle/Vundle.vim\n",
    "```\n",
    "\n",
    "This command downloads the Vundle plugin manager and chucks it in your VIM bundles directory. Now you can manage all your extensions from the `.vimrc` [configuration file](https://github.com/amix/vimrc). Next, let's add the file to your user’s home directory:\n",
    "```shell\n",
    "$ touch ~/.vimrc\n",
    "```"
   ]
  },
  {
   "cell_type": "markdown",
   "id": "eccb3f1a-6a1d-454d-b32e-a24566f388f6",
   "metadata": {},
   "source": [
    "Now set up Vundle in your `.vimrc` by adding the following to the top of the file:"
   ]
  }
 ],
 "metadata": {
  "kernelspec": {
   "display_name": "Python 3 (ipykernel)",
   "language": "python",
   "name": "python3"
  },
  "language_info": {
   "codemirror_mode": {
    "name": "ipython",
    "version": 3
   },
   "file_extension": ".py",
   "mimetype": "text/x-python",
   "name": "python",
   "nbconvert_exporter": "python",
   "pygments_lexer": "ipython3",
   "version": "3.11.9"
  }
 },
 "nbformat": 4,
 "nbformat_minor": 5
}
