{
 "cells": [
  {
   "cell_type": "markdown",
   "id": "04e6172b-1866-402b-b1e8-0de4c26f1feb",
   "metadata": {},
   "source": [
    "## <b><font color='darkblue'>Preface</font></b>\n",
    "([article source](https://superfastpython.com/multiprocessing-in-python/)) <b><font size='3ptx'>Python Multiprocessing provides parallelism in Python with processes.</font></b>\n",
    "\n",
    "The multiprocessing API uses process-based concurrency and is the preferred way to implement parallelism in Python. <b>With multiprocessing, we can use all CPU cores on one system, whilst avoiding [Global Interpreter Lock](https://realpython.com/python-gil/)</b>.\n",
    "\n",
    "This notebook provides a detailed and comprehensive walkthrough of the [**Python Multiprocessing API**](https://docs.python.org/3/library/multiprocessing.html)."
   ]
  },
  {
   "cell_type": "markdown",
   "id": "b6c5b690-572e-4f86-a240-cbf5b7182b01",
   "metadata": {},
   "source": [
    "<a id='agenda'></a>\n",
    "### <b><font color='darkgreen'>Table of Contents</font></b>\n",
    "* <b><font size='3ptx'><a href='#sect1'>Python Processes</a></font></b>\n",
    "* <b><font size='3ptx'><a href='#sect2'>Run a Function in a Process</a></font></b>\n",
    "* <b><font size='3ptx'><a href='#sect3'>Extend the Process Class</a></font></b>\n",
    "* <b><font size='3ptx'><a href='#sect4'>Process Start Methods</a></font></b>\n",
    "* <b><font size='3ptx'><a href='#sect5'>Process Instance Attributes</a></font></b>\n",
    "* <b><font size='3ptx'><a href='#sect6'>Configure Processes</a></font></b>\n",
    "* <b><font size='3ptx'><a href='#sect7'>Main Process</a></font></b>\n",
    "* <b><font size='3ptx'><a href='#sect8'>Process Utilities</a></font></b>\n",
    "* <b><font size='3ptx'><a href='#sect9'>Process Mutex Lock</a></font></b>\n",
    "* <b><font size='3ptx'><a href='#sect10'>Process Reentrant Lock</a></font></b>"
   ]
  },
  {
   "cell_type": "code",
   "execution_count": 2,
   "id": "3481e326-77fa-44ef-a144-34ad828f4e74",
   "metadata": {},
   "outputs": [],
   "source": [
    "import multiprocessing\n",
    "from multiprocessing import Process\n",
    "from time import sleep"
   ]
  },
  {
   "cell_type": "markdown",
   "id": "21be1490-3cc6-4e6f-ac5c-0d93dc43cecc",
   "metadata": {},
   "source": [
    "<a id='sect1'></a>\n",
    "## <b><font color='darkblue'>Python Processes</font></b>\n",
    "<b><font size='3ptx'>So what are processes and why do we care?</font></b>\n",
    "* <b><a href='#sect1_1'>What Are Processes</a></b>\n",
    "* <b><a href='#sect1_2'>Thread vs Process</a></b>\n",
    "* <b><a href='#sect1_3'>Life-Cycle of a Process</a></b>\n",
    "* <b><a href='#sect1_4'>Child vs Parent Process</a></b>"
   ]
  },
  {
   "cell_type": "markdown",
   "id": "e44c2725-8cb6-4d34-a823-4b898eceb927",
   "metadata": {},
   "source": [
    "<a id='sect1_1'></a>\n",
    "### <b><font color='darkgreen'>What Are Processes</font></b>\n",
    "<b><font size='3ptx'>A process refers to a computer program.</font></b>\n",
    "\n",
    "<b>Every Python program is a process and has one default thread called the main thread used to execute your program instructions. Each process is, in fact, one instance of the Python interpreter that executes Python instructions</b> (Python byte-code), which is a slightly lower level than the code you type into your Python program.\n",
    "\n",
    "Sometimes we may need to create new processes to run additional tasks concurrently. Python provides real system-level processes via the [**multiprocessing.Process**](https://docs.python.org/3/library/multiprocessing.html#the-process-class) class in the [**multiprocessing**](https://docs.python.org/3/library/multiprocessing.html#) module.\n",
    "\n",
    "The underlying operating system controls how new processes are created. On some systems, that may require spawning a new process, and on others, it may require that the process is forked. <b>The operating-specific method used for creating new processes in Python is not something we need to worry about as it is managed by your installed Python interpreter</b>.\n",
    "\n",
    "The code in new child processes may or may not be executed in parallel (<font color='brown'>at the same time</font>), even though the threads are executed concurrently.\n",
    "\n",
    "There are a number of reasons for this, such as the underlying hardware may or may not support parallel execution (<font color='brown'>e.g. one vs multiple CPU cores</font>). This highlights the distinction between code that can run out of order (<font color='brown'>concurrent</font>) from the capability to execute simultaneously (<font color='brown'>parallel</font>).\n",
    "* <b>Concurrent</b>: Code that can be executed out of order.\r",
    "* <b>\n",
    "Paralle</b>l: Capability to execute code simultaneously\n",
    "\n",
    "<b>Processes and threads are different.</b> Next, let’s consider the important differences between processes and threads.."
   ]
  },
  {
   "cell_type": "markdown",
   "id": "0e84180b-84fe-4659-b5cf-a8724fad851d",
   "metadata": {},
   "source": [
    "<a id='sect1_2'></a>\n",
    "### <b><font color='darkgreen'>Thread vs Process</font></b>\n",
    "<b><font size='3ptx'>By definition, a process is an instance of a program running on a computer. And a thread is a unit of execution within a process.</font></b>\n",
    "\n",
    "Each process is in fact one instance of the Python interpreter that executes Python instructions (Python byte-code), which is a slightly lower level than the code you type into your Python program.\n",
    "> Process: The operating system’s spawned and controlled entity that encapsulates an executing application. A process has two main functions. The first is to act as the resource holder for the application, and the second is to execute the instructions of the application. <br/><br/>\n",
    "> <b><a href='https://amzn.to/3J74TRr'>— PAGE 271, THE ART OF CONCURRENCY, 2009.</a></b>\n",
    "\n",
    "<br/>\n",
    "\n",
    "The operating-specific method used for creating new processes in Python is not something we need to worry about as it is managed by your installed Python interpreter. <b>A thread always exists within a process and represents the manner in which instructions or code is executed.</b>\n",
    "\n",
    "<b>A process will have at least one thread, called the main thread. Any additional threads that we create within the process will belong to that process</b>. The Python process will terminate once all (<font color='brown'>non background threads</font>) are terminated.\n",
    "\n",
    "* **Process**: An instance of the Python interpreter has at least one thread called the MainThread.\r\n",
    "* **Thread**: A thread of execution within a Python process, such as the MainThread or a new thread\n",
    "\n",
    "You can learn more about the differences between processes and threads in the tutorial \"[**Thread vs Process in Python**](https://superfastpython.com/thread-vs-process)\" . Next, let’s take a look at processes in Python..."
   ]
  },
  {
   "cell_type": "markdown",
   "id": "5b5b5c97-8d2a-41b3-a216-30f20f002630",
   "metadata": {},
   "source": [
    "<a id='sect1_3'></a>\r\n",
    "### <b><font color='darkgreen'>Life-Cycle of a Process</font></b>\r\n",
    "<b><font size='3ptx'>A process in Python is represented as an instance of the [**multiprocessing.Process**](https://docs.python.org/3/library/multiprocessing.html#the-process-class) class.</font></b>\r\n",
    "\r\n",
    "Once a process is started, the Python runtime will interface with the underlying operating system and request that a new native process be created. The [**multiprocessing.Process**](https://docs.python.org/3/library/multiprocessing.html#the-process-class) instance then provides a Python-based reference to this underlying native process.\r\n",
    "\r\n",
    "Each process follows the same life cycle. Understanding the stages of this life-cycle can help when getting started with concurrent programming in Python.\r\n",
    "\r\n",
    "For example:\r\n",
    "* The difference between creating and starting a process.\r\n",
    "* The difference between run and start.\r\n",
    "* The difference between blocked and terminated.\r\n",
    "\r\n",
    "A Python process may progress through three steps of its life cycle: a new process, a running process, and a terminated process."
   ]
  },
  {
   "cell_type": "markdown",
   "id": "1d33c707-0489-432a-ab42-660a52726791",
   "metadata": {},
   "source": [
    "While running, the process may be executing code or may be blocked, waiting on something such as another process or an external resource. Although not all processes may block, it is optional based on the specific use case for the new process:\n",
    "\n",
    "1. New Child Process.\n",
    "2. Running Process.\n",
    "3. Blocked Process (optional)\n",
    "4. Terminated Process.\n",
    "\n",
    "A new process is a process that has been constructed and configured by creating an instance of the [**multiprocessing.Process**](https://docs.python.org/3/library/multiprocessing.html#the-process-class) class.\n",
    "\n",
    "<b>A new process can transition to a running process by calling the <font color='blue'>start()</font> method. This also creates and starts the main thread for the process that actually executes code in the process</b>. A running process may block in many ways if its main thread is blocked, such as reading or writing from a file or a socket or by waiting on a concurrency primitive such as a semaphore or a lock. After blocking, the process will run again.\n",
    "\n",
    "Finally, a process may terminate once it has finished executing its code or by raising an error or exception.\n",
    "\n",
    "A process cannot terminate until:\n",
    "* All non-daemon threads have terminated, including the main thread.\r\n",
    "* All non-daemon child processes have terminated, including the main process\n",
    "\n",
    "You can learn more about the life-cycle of processes in the tutorial \"[**Process Life-Cycle in Python**](https://superfastpython.com/process-life-cycle)\". Next, let’s take a closer look at the difference between parent and child processes.."
   ]
  },
  {
   "cell_type": "markdown",
   "id": "74fd31ce-f50e-4864-9fa0-18bfbab5c01d",
   "metadata": {},
   "source": [
    "<a id='sect1_4'></a>\n",
    "### <b><font color='darkgreen'>Child vs Parent Process</font></b>\n",
    "<b><font size='3ptx'>Parent processes have one or more child processes, whereas child processes is created by a parent process.</font></b>"
   ]
  },
  {
   "cell_type": "markdown",
   "id": "1f4f65a4-fdf9-4a0c-9a80-2bce824f6c6b",
   "metadata": {},
   "source": [
    "#### <b>Parent Process</b>\n",
    "A parent process is a process that is capable of starting child processes.\n",
    "\n",
    "Typically, we would not refer to a process as a parent process until it has created one or more child processes. This is the commonly accepted definition:\n",
    "> <b>Parent Process:</b> Has one or more child processes. May have a parent process, e.g. may also be a child process.\n",
    "\n",
    "<br/>\n",
    "\n",
    "Recall, a process is an instance of a computer program. In Python, a process is an instance of the Python interpreter that executes Python code. <b>In Python, the first process created when we run our program is called the ‘MainProcess‘</b>. It is also a parent process and may be called the main parent process.\n",
    "\n",
    "The main process will create the first child process or processes. A child process may also become a parent process if it in turn creates and starts a child process."
   ]
  },
  {
   "cell_type": "markdown",
   "id": "00fbd3aa-a467-49cd-b3cd-45a86b98e78c",
   "metadata": {},
   "source": [
    "#### <b>Child Process</b>\n",
    "A child process is a process that was created by another process.\n",
    "\n",
    "A child process may also be called a subprocess, as it was created by another process rather than by the operating system directly. That being said, the creation and management of all processes is handled by the underlying operating system.\n",
    "> <b>Child Process</b>: Has a parent process. May have its own child processes, e.g. may also be a parent.\n",
    "\n",
    "<br/>\n",
    "\n",
    "The process that creates a child process is called a parent process. A child process only ever has one parent process. There are three main techniques used to create a child process, referred to as process start methods.\n",
    "> They are: fork, spawn, and fork server.\n",
    "\n",
    "<br/>\n",
    "\n",
    "Depending on the technique used to start the child, the child process may or may not inherit properties of the parent process. For example, a forked process may inherit a copy of the global variables from the parent process.\n",
    "\n",
    "A child process may become orphaned if the parent process that created it is terminated. You can learn more about the differences between child and parent processes in the tutorial \"[**Parent Process vs Child Process in Python**](https://superfastpython.com/parent-process-vs-child-process-in-python)\".\n",
    "\n",
    "Now that we are familiar with child and parent processes, let’s look at how to run code in new processes."
   ]
  },
  {
   "cell_type": "markdown",
   "id": "c112bdd9-e8d1-42c5-aadb-e2f21a1684ca",
   "metadata": {},
   "source": [
    "<a id='sect2'></a>\n",
    "## <b><font color='darkblue'>Run a Function in a Process</font></b>\n",
    "<b><font size='3ptx'>Python functions can be executed in a separate process using the [multiprocessing.Process](https://docs.python.org/3/library/multiprocessing.html#the-process-class) class.</font></b>\n",
    "* <b><a href='#sect2_1'>How to Run a Function In a Process?</a></b>\n",
    "* <b><a href='#sect2_2'>Example of Running a Function in a Process</a></b>\n",
    "* <b><a href='#sect2_3'>Example of Running a Function in a Process With Arguments</a></b>\n",
    "\n",
    "In this section we will look at a few examples of how to run functions in a child process."
   ]
  },
  {
   "cell_type": "markdown",
   "id": "b4665793-f6ba-439a-a44a-74a9ef47c37f",
   "metadata": {},
   "source": [
    "<a id='sect2_1'></a>\n",
    "### <b><font color='darkgreen'>How to Run a Function In a Process</font></b>\n",
    "To run a function in another process:\n",
    "* Create an instance of the [**multiprocessing.Process**](https://docs.python.org/3/library/multiprocessing.html#the-process-class) class.\n",
    "* Specify the name of the function via the “target” argument.\n",
    "* Call the <font color='blue'>start()</font> function.\n",
    "\n",
    "First, we must create a new instance of the [**multiprocessing.Process**](https://docs.python.org/3/library/multiprocessing.html#the-process-class) class and specify the function we wish to execute in a new process via the “target” argument:\n",
    "\n",
    "```python\n",
    "...\n",
    "# create a process\n",
    "process = multiprocessing.Process(target=task)\n",
    "```\n",
    "\n",
    "<br/>\n",
    "\n",
    "The function executed in another process may have arguments in which case they can be specified as a tuple and passed to the “args” argument of the multiprocessing.Process class constructor or as a dictionary to the “kwargs” argument:\n",
    "\n",
    "```python\n",
    "...\n",
    "# create a process\n",
    "process = multiprocessing.Process(target=task, args=(arg1, arg2))\n",
    "```\n",
    "\n",
    "<br/>\n",
    "\n",
    "We can then start executing the process by calling the <font color='blue'>start()</font> function. The <font color='blue'>start()</font> function will return immediately and the operating system will execute the function in a separate process as soon as it is able:\n",
    "```python\n",
    "...\n",
    "# run the new process\n",
    "process.start()\n",
    "```\n",
    "\n",
    "<br/>\n",
    "\n",
    "A new instance of the Python interpreter will be created and a new thread within the new process will be created to execute our target function. And that’s all there is to it.\n",
    "\n",
    "We do not have control over when the process will execute precisely or which CPU core will execute it. Both of these are low-level responsibilities that are handled by the underlying operating system.\n",
    "\n",
    "Next, let’s look at a worked example of executing a function in a new process."
   ]
  },
  {
   "cell_type": "markdown",
   "id": "eb5a1a6a-f6b6-4811-9136-7d445a2464fd",
   "metadata": {},
   "source": [
    "<a id='sect2_2'></a>\n",
    "### <b><font color='darkgreen'>Example of Running a Function in a Process</font></b>\n",
    "<b><font size='3ptx'>First, we can define a custom function that will be executed in another process.</font></b>\n",
    "\n",
    "We will define a simple function that blocks for a moment then prints a statement. The function can have any name we like, in this case we’ll name it “task“."
   ]
  },
  {
   "cell_type": "code",
   "execution_count": 2,
   "id": "244127ff-2280-4968-9b79-a0e5cb7348d7",
   "metadata": {},
   "outputs": [],
   "source": [
    "# a custom function that blocks for a moment\n",
    "def task():\n",
    "    # block for a moment\n",
    "    sleep(1)\n",
    "    # display a message\n",
    "    print('This is from another process')"
   ]
  },
  {
   "cell_type": "markdown",
   "id": "cb9014a6-4422-4297-b466-fed305c3db2c",
   "metadata": {},
   "source": [
    "Next, we can create an instance of the [**multiprocessing.Process**](https://docs.python.org/3/library/multiprocessing.html#the-process-class) class and specify our function name as the “target” argument in the constructor."
   ]
  },
  {
   "cell_type": "code",
   "execution_count": 5,
   "id": "0d9909ad-0dd8-4c97-92d6-e0f8dba5d547",
   "metadata": {},
   "outputs": [],
   "source": [
    "# create a process\n",
    "process = Process(target=task)"
   ]
  },
  {
   "cell_type": "markdown",
   "id": "93021a3f-75b6-4f3a-b0f7-9d54f0628610",
   "metadata": {},
   "source": [
    "Once created we can run the process which will execute our custom function in a new native process, as soon as the operating system can:\n",
    "\n",
    "```python\n",
    "# run the process\n",
    "process.start()\n",
    "```\n",
    "\n",
    "The <font color='blue'>start()</font> function does not block, meaning it returns immediately. We can explicitly wait for the new process to finish executing by calling the <font color='blue'>join()</font> function.\n",
    "\n",
    "```python\n",
    "...\n",
    "# wait for the process to finish\n",
    "print('Waiting for the process...')\n",
    "process.join()\n",
    "```\n",
    "\n",
    "Tying this together, the complete example of executing a function in another process is listed below:"
   ]
  },
  {
   "cell_type": "code",
   "execution_count": 7,
   "id": "5c0bbd71-24ad-4d50-95aa-aedb2ab21be5",
   "metadata": {},
   "outputs": [
    {
     "name": "stdout",
     "output_type": "stream",
     "text": [
      "Waiting for the process...\n",
      "This is from another process\n",
      "Process is done!\n"
     ]
    }
   ],
   "source": [
    "# run the process\n",
    "process.start()\n",
    "\n",
    "# wait for the process to finish\n",
    "print('Waiting for the process...')\n",
    "process.join()\n",
    "print('Process is done!')"
   ]
  },
  {
   "cell_type": "markdown",
   "id": "adc0906d-d019-41f7-ad39-b996e92fbd21",
   "metadata": {},
   "source": [
    "Running the example first creates the [**multiprocessing.Process**](https://docs.python.org/3/library/multiprocessing.html#the-process-class) then calls the <font color='blue'>start()</font> function. <b>This does not start the process immediately, but instead allows the operating system to schedule the function to execute as soon as possible</b>.\n",
    "\n",
    "At some point a new instance of the Python interpreter is created that has a new thread which will execute our target function.\n",
    "\n",
    "You could use this script `test_subprocess_ex1.py` to learn more:\n",
    "```shell\n",
    "$ ./test_subprocess_ex1.py &\r\n",
    "[1] 80327\n",
    "Parent process id: 803279\r\n",
    "Waiting for the process...\r\n",
    "Subprocess PID: 803280\r\n",
    "Current working directory: /usr/local/google/home/johnkclee/Gitrepos/python_101_crash_courses/article_collection/Multiprocessing_in_python\r\n",
    "Touch file \"STOP\" to stop the task...\r\n",
    "Subprocess PID: 803281\r\n",
    "Current working directory: /usr/local/google/home/johnkclee/Gitrepos/python_101_crash_courses/article_collection/Multiprocessing_in_python\r\n",
    "Touch file \"STOP\" to stop the \n",
    "\n",
    "$ pstree -p 803279\r\n",
    "python(803279)─┬─python(803280)\r\n",
    "               └─python(80328\n",
    "\n",
    "$ touch STOP\n",
    "Stopping\r\n",
    "Stopping\r\n",
    "Sub processes are all done!\r\n",
    "Sleep 5s for main process to quit\n",
    "\n",
    "$ pstree -p 803279\r\n",
    "python(803279)...\n",
    "\n",
    "Next, let’s look at how we might run a function with arguments in a new process.1)task...9\n",
    "```"
   ]
  },
  {
   "cell_type": "markdown",
   "id": "76c2f8fd-5f83-40a1-82e8-2159bc1c73f1",
   "metadata": {},
   "source": [
    "<a id='sect2_3'></a>\n",
    "### <b><font color='darkgreen'>Example of Running a Function in a Process With Arguments</font></b> ([back](#sect2))\n",
    "<b><font size='3ptx'>We can execute functions in another process that takes arguments.</font></b>\n",
    "\n",
    "This can be demonstrated by first updating our <font color='blue'>task2()</font> function from the previous section to take two arguments, one for the time in seconds to block and the second for a message to display:\n",
    "\n",
    "```python\n",
    "# a custom function that blocks for a moment\n",
    "def task2(sleep_time, message):\n",
    "    # block for a moment\n",
    "    sleep(sleep_time)\n",
    "    # display a message\n",
    "    print(message)\n",
    "```\n",
    "\n",
    "<br/>\n",
    "\n",
    "Next, we can update the call to the [**multiprocessing.Process**](https://docs.python.org/3/library/multiprocessing.html#the-process-class) constructor to specify the two arguments in the order that our <font color='blue'>task2()</font> function expects them as a tuple via the “args” argument:\n",
    "\n",
    "\n",
    "```python\n",
    "...\n",
    "# create a process\n",
    "process = Process(target=task, args=(1.5, 'New message from another process'))\n",
    "```\n",
    "\n",
    "Tying this together, the complete example of executing a custom function that takes arguments in a separate process is listed below.\n",
    "- `test_subprocess_ex2.py`:\n",
    "\n",
    "```python\n",
    "# example of running a function with arguments in another process\n",
    "import os\n",
    "\n",
    "from time import sleep\n",
    "from multiprocessing import Process\n",
    "\n",
    "\n",
    "# a custom function that blocks for a moment\n",
    "def task2(sleep_time, message):\n",
    "  print(f'Subprocess with PID: {os.getpid()}')\n",
    "  # block for a moment\n",
    "  sleep(sleep_time)\n",
    "  # display a message\n",
    "  print(message)\n",
    "  print(f'Exit from {os.getpid()}')\n",
    "\n",
    "\n",
    "# entry point\n",
    "if __name__ == '__main__':\n",
    "  print(f'Main process with PID: {os.getpid()}')\n",
    "\n",
    "  # create a process\n",
    "  process1 = Process(target=task2, args=(1.5, 'New message from another process'))\n",
    "  process2 = Process(target=task2, args=(2, 'New message from another process'))\n",
    "\n",
    "  # run the process\n",
    "  process1.start()\n",
    "  process2.start()\n",
    "\n",
    "  # wait for the process to finish\n",
    "  print('Waiting for the process...')\n",
    "  process1.join()\n",
    "  process2.join()\n",
    "\n",
    "  print('Bye!')\n",
    "```"
   ]
  },
  {
   "cell_type": "markdown",
   "id": "678428df-9fe8-4e82-9654-494e5f309b63",
   "metadata": {},
   "source": [
    "You can learn more about running functions in new processes in this tutorial \"[**Run a Function in a Child Process**](https://superfastpython.com/run-function-in-new-process/)\".\r\n",
    "\r\n",
    "Next let’s look at how we might run a function in a child process by extending th[**e multiprocessing.Proce**](https://docs.python.org/3/library/multiprocessing.html#the-process-class)ss class."
   ]
  },
  {
   "cell_type": "markdown",
   "id": "d7a6a5ef-b5cd-4dac-a329-4446a910daac",
   "metadata": {},
   "source": [
    "<a id='sect3'></a>\n",
    "## <b><font color='darkblue'>Extend the Process Class</font></b> ([back](#agenda))\n",
    "<b><font size='3ptx'>We can also execute functions in a child process by extending the [multiprocessing.Process](https://docs.python.org/3/library/multiprocessing.html#the-process-class) class and overriding the <font color='blue'>run()</font> function.</font></b>\n",
    "* <b><a href='#sect3_1'>How to Extend the Process Class</a></b>\n",
    "* <b><a href='#sect3_2'>Example of Extending the Process Class</a></b>\n",
    "* <b><a href='#sect3_3'>Example of Extending the Process Class and Returning Values</a></b>\n",
    "\n",
    "In this section we will look at some examples of extending the [**multiprocessing.Process**](https://docs.python.org/3/library/multiprocessing.html#the-process-class) class."
   ]
  },
  {
   "cell_type": "markdown",
   "id": "9853b471-5c48-45df-aae0-0bf6a49e4ece",
   "metadata": {},
   "source": [
    "<a id='sect3_1'></a>\n",
    "### <b><font color='darkgreen'>How to Extend the Process Class</font></b>\n",
    "<b><font size='3ptx'>The [multiprocessing.Process](https://docs.python.org/3/library/multiprocessing.html#the-process-class) class can be extended to run code in another process.</font></b>\n",
    "\n",
    "This can be achieved by first extending the class, just like any other Python class. For example:\n",
    "\n",
    "```python\n",
    "# custom process class\n",
    "class CustomProcess(multiprocessing.Process):\n",
    "    # ...\n",
    "```\n",
    "\n",
    "Then the <font color='blue'>run()</font> function of the [**multiprocessing.Process**](https://docs.python.org/3/library/multiprocessing.html#the-process-class) class must be overridden to contain the code that you wish to execute in another process:\n",
    "\n",
    "\n",
    "```python\n",
    "class CustomProcess(multiprocessing.Process):\n",
    "  # ...\n",
    "\n",
    "  def run(self):\n",
    "    # ...    \n",
    "```\n",
    "\n",
    "You can also define additional functions in the class to split up the work you may need to complete in another process.\n",
    "\n",
    "Next, let’s look at a worked example of extending the multiprocessing.Process class."
   ]
  },
  {
   "cell_type": "markdown",
   "id": "7c4890c9-ad51-487f-89cc-9ad05a8dc67f",
   "metadata": {},
   "source": [
    "<a id='sect3_2'></a>\n",
    "### <b><font color='darkgreen'>Example of Extending the Process Class</font></b> ([back](#sect3))\n",
    "The complete example of executing code in another process by extending the [**multiprocessing.Process**](https://docs.python.org/3/library/multiprocessing.html#the-process-class) class is listed below:\n",
    "\n",
    "- `test_subprocess_ex3.py`:\n",
    "\n",
    "```python\n",
    "import os\n",
    "\n",
    "from time import sleep\n",
    "from multiprocessing import Process\n",
    "\n",
    "\n",
    "STOP_SIGNAL = os.path.join(os.getcwd(), 'STOP')\n",
    "\n",
    "\n",
    "class MyProcess(Process):\n",
    "\n",
    "  def __init__(self, name: str):\n",
    "    super().__init__()\n",
    "    self.name = name\n",
    "\n",
    "  def run(self):\n",
    "    print(f'Subprocess of \"{self.name}\" with pid: {os.getpid()}')\n",
    "    print('Wait for STOP signal...')\n",
    "    while not os.path.isfile(STOP_SIGNAL):\n",
    "      sleep(1)\n",
    "\n",
    "    print(f'Exit subprocess({os.getpid()})')\n",
    "\n",
    "\n",
    "if __name__ == '__main__':\n",
    "  print(f'Main process with pid: {os.getpid()}')\n",
    "\n",
    "  # 1) Create processes\n",
    "  my_process1 = MyProcess('John')\n",
    "  my_process2 = MyProcess('Mary')\n",
    "\n",
    "  # 2) Start the processes\n",
    "  my_process1.start()\n",
    "  my_process2.start()\n",
    "\n",
    "  # 3) Join the processes\n",
    "  my_process1.join()\n",
    "  my_process2.join()\n",
    "\n",
    "  os.remove(STOP_SIGNAL)\n",
    "\n",
    "  print('Bye!')\n",
    "\n",
    "```"
   ]
  },
  {
   "cell_type": "markdown",
   "id": "cc58c68e-1353-4bf3-867e-c7b7580ea438",
   "metadata": {},
   "source": [
    "You can learn more about extending the multiprocessing.Process class in this tutorial \"[**How to Extend the Process Class in Python**](https://superfastpython.com/extend-process-class/)\".\r\n",
    "\r\n",
    "Next, let’s look at how we might return values from a child process."
   ]
  },
  {
   "cell_type": "markdown",
   "id": "4fdf082c-1013-448b-8050-7e2c5fa8b757",
   "metadata": {},
   "source": [
    "<a id='sect3_3'></a>\n",
    "### <b><font color='darkgreen'>Example of Extending the Process Class and Returning Values</font></b> ([back](#sect3))\n",
    "<b><font size='3ptx'>Instance variable attributes can be shared between processes via the [multiprocessing.Value](https://docs.python.org/3/library/multiprocessing.html#multiprocessing.Value) and [multiprocessing.Array](https://docs.python.org/3/library/multiprocessing.html#multiprocessing.Array) classes.</font></b>\n",
    "\n",
    "These classes explicitly define data attributes designed to be shared between processes in a process-safe manner. <b>Shared variables mean that changes made in one process are always propagated and made available to other processes.</b>\n",
    "\n",
    "An instance of the [**multiprocessing.Value**](https://docs.python.org/3/library/multiprocessing.html#multiprocessing.Value) can be defined in the constructor of a custom class as a shared instance variable. The constructor of the [**multiprocessing.Value**](https://docs.python.org/3/library/multiprocessing.html#multiprocessing.Value) class requires that we specify the data type and an initial value.\n",
    "\n",
    "The data type can be specified using ctype “type” or a typecode.\n",
    "\n",
    "We can define an instance attribute as an instance of the [**multiprocessing.Value**](https://docs.python.org/3/library/multiprocessing.html#multiprocessing.Value) which will automatically and correctly be shared between processes. We can update the above example to use a [**multiprocessing.Value**](https://docs.python.org/3/library/multiprocessing.html#multiprocessing.Value) directly.\n",
    "\n",
    "The complete example is listed below."
   ]
  },
  {
   "cell_type": "markdown",
   "id": "95da1dcc-b2d6-484e-ac2d-21412696e0dd",
   "metadata": {},
   "source": [
    "- `test_subprocess_ex4.py`:\n",
    "\n",
    "```python\n",
    "import os\n",
    "from time import sleep\n",
    "from multiprocessing import Process\n",
    "from multiprocessing import Value\n",
    "\n",
    "\n",
    "# custom process class\n",
    "class CustomProcess(Process):\n",
    "  # override the constructor\n",
    "  def __init__(self, name: str):\n",
    "    # execute the base constructor\n",
    "    Process.__init__(self)\n",
    "    self.name = name\n",
    "\n",
    "    # initialize integer attribute\n",
    "    self.data = Value('i', 0)\n",
    "\n",
    "  @property\n",
    "  def identity(self):\n",
    "    return f'{self.name}:{os.getpid()}'\n",
    "\n",
    "  # override the run function\n",
    "  def run(self):\n",
    "    # block for a moment\n",
    "    sleep(1)\n",
    "    # store the data variable\n",
    "    self.data.value = 99\n",
    "    # report stored value\n",
    "    print(f'{self.identity} > Child stored: {self.data.value}')\n",
    "\n",
    "\n",
    "# entry point\n",
    "if __name__ == '__main__':\n",
    "  print(f'Main process with pid: {os.getpid()}')\n",
    "\n",
    "  # create the process\n",
    "  process = CustomProcess('John')\n",
    "  print(f'Parent with process.data.value: {process.data.value}')\n",
    "\n",
    "  # start the process\n",
    "  process.start()\n",
    "\n",
    "  # wait for the process to finish\n",
    "  print('Waiting for the child process to finish')\n",
    "  # block until child process is terminated\n",
    "  process.join()\n",
    "\n",
    "  # report the process attribute\n",
    "  print(f'Parent got: {process.data.value}')\n",
    "```"
   ]
  },
  {
   "cell_type": "markdown",
   "id": "da992c04-99b4-4570-bbd2-26331a3d1af7",
   "metadata": {},
   "source": [
    "Execution result:\n",
    "```shell\n",
    "$ ./test_subprocess_ex4.py \n",
    "Main process with pid: 850814\n",
    "Parent with process.data.value: 0\n",
    "Waiting for the child process to finish\n",
    "John:850815 > Child stored: 99\n",
    "Parent got: 99\n",
    "```\n",
    "\n",
    "You can learn more about returning values from a child process in this tutorial \"[**Shared Process Class Attributes in Python**](https://superfastpython.com/share-process-attributes/)\". Next, let’s take a closer look at process start methods."
   ]
  },
  {
   "cell_type": "markdown",
   "id": "89718ebd-9743-4302-919d-742ecfb27927",
   "metadata": {},
   "source": [
    "<a id='sect4'></a>\n",
    "## <b><font color='darkblue'>Process Start Methods</font></b> ([back](#agenda))\n",
    "<b><font size='3ptx'>In multiprocessing, we may need to change the technique used to start child processes.</font></b>\n",
    "* <b><a href='#sect4_1'>What is a Start Method</a></b>\n",
    "* <b><a href='#sect4_2'>How to Change The Start Method</a></b>\n",
    "* <b><a href='#sect4_3'>How to Set Start Method Via Context</a></b>\n",
    "* <b><a href='#sect4_4'>Process Instance Attributes</a></b>\n",
    "\n",
    "\n",
    "This is called the start method."
   ]
  },
  {
   "cell_type": "markdown",
   "id": "9a964bab-92b6-4299-84bd-ef0b0aa85cde",
   "metadata": {},
   "source": [
    "<a id='sect4_1'></a>\n",
    "### <b><font color='darkgreen'>What is a Start Method</font></b>\n",
    "<b><font size='3ptx'>A start method is the technique used to start child processes in Python.</font></b>\n",
    "\n",
    "There are three start methods, they are:\n",
    "* **spawn**: start a new Python process.\n",
    "* **fork**: copy a Python process from an existing process.\n",
    "* **forkserver**: new process from which future forked processes will be copied.\n",
    "\n",
    "Each platform has a default start method. The following lists the major platforms and the default start methods:\n",
    "* **Windows** (win32): spawn\n",
    "* **macOS** (darwin): spawn\n",
    "* **Linux** (unix): fork\n",
    "\n",
    "Not all platforms support all start methods. The following lists the major platforms and the start methods that are supported:\n",
    "* **Windows** (win32): spawn\n",
    "* **macOS** (darwin): spawn, fork, forkserver.\n",
    "* **Linux** (unix): spawn, fork, forkserver."
   ]
  },
  {
   "cell_type": "markdown",
   "id": "ba17cfa0-ef9c-4a1e-aff0-ec49e2d6d2c0",
   "metadata": {},
   "source": [
    "<a id='sect4_2'></a>\n",
    "### <b><font color='darkgreen'>How to Change The Start Method</font></b> ([back](#sect4))\n",
    "<b><font size='3ptx'>The [multiprocessing](https://docs.python.org/3/library/multiprocessing.html#) module provides functions for getting and setting the start method for creating child processes.</font></b>\n",
    "\n",
    "The list of supported start methods can be retrieved via the [**multiprocessing**.get_all_start_methods()](get_all_start_methods) function. The function returns a list of string values, each representing a supported start method."
   ]
  },
  {
   "cell_type": "code",
   "execution_count": 3,
   "id": "3a45d5bc-de46-4654-85bc-17e6cf78ffeb",
   "metadata": {},
   "outputs": [
    {
     "name": "stdout",
     "output_type": "stream",
     "text": [
      "['fork', 'spawn', 'forkserver']\n"
     ]
    }
   ],
   "source": [
    "# get supported start methods\n",
    "methods = multiprocessing.get_all_start_methods()\n",
    "print(methods)"
   ]
  },
  {
   "cell_type": "markdown",
   "id": "65fa4ce6-7b53-4cb0-97c7-31e346fcbf04",
   "metadata": {},
   "source": [
    "The current start method can be retrieved via the [**multiprocessing**.get_start_method()](https://docs.python.org/3/library/multiprocessing.html#multiprocessing.get_start_method) function. The function returns a string value for the currently configured start method."
   ]
  },
  {
   "cell_type": "code",
   "execution_count": 4,
   "id": "099d1b4c-1dce-43d0-8c4c-34cff78437c4",
   "metadata": {},
   "outputs": [
    {
     "name": "stdout",
     "output_type": "stream",
     "text": [
      "fork\n"
     ]
    }
   ],
   "source": [
    "# get the current start method\n",
    "method = multiprocessing.get_start_method()\n",
    "print(method)"
   ]
  },
  {
   "cell_type": "markdown",
   "id": "a67b27ca-ff22-4198-84cf-17c453a91f12",
   "metadata": {},
   "source": [
    "The start method can be set via the [**multiprocessing**.set_start_method()](https://docs.python.org/3/library/multiprocessing.html#multiprocessing.set_start_method) function. For example:\n",
    "\n",
    "```python\n",
    "...\r\n",
    "# set the start method\r\n",
    "multiprocessing.set_start_method('spawn')\n",
    "```"
   ]
  },
  {
   "cell_type": "markdown",
   "id": "ba71c789-158e-4fde-a07b-b94d3e38722c",
   "metadata": {},
   "source": [
    "It is a best practice, and required on most platforms that the start method be set first, prior to any other code, and to be done so within a `if __name__ == ‘__main__’` check called a [protected entry point or top-level code environment](https://docs.python.org/3/library/__main__.html).\n",
    "\n",
    "For example:\n",
    "```python\n",
    "# protect the entry point\r\n",
    "if __name__ == '__main__':\r\n",
    "\t# set the start method\r\n",
    "\tmultiprocessing.set_start_method('spawn')\n",
    "```"
   ]
  },
  {
   "cell_type": "markdown",
   "id": "ada0be39-806b-4aa3-b5c6-908234f812e4",
   "metadata": {},
   "source": [
    "In summary, the rules for setting the start method are as follows:\r\n",
    "* Set the start method first prior to all other code.\r\n",
    "* Set the start method only once in a program.\r\n",
    "* Set the start method within a protected entry point."
   ]
  },
  {
   "cell_type": "markdown",
   "id": "efd41049-7f22-4e82-805b-601a4f95d3c7",
   "metadata": {},
   "source": [
    "<a id='sect4_3'></a>\n",
    "### <b><font color='darkgreen'>How to Set Start Method Via Context</font></b> ([back](#sect4))\n",
    "<b><font size='3ptx'>A multiprocessing context configured with a given start method can be retrieved via the [multiprocessing.get_context()](https://docs.python.org/3/library/multiprocessing.html#multiprocessing.get_context) function.</font></b>\n",
    "\n",
    "This function takes the name of the start method as an argument, then returns a multiprocessing context that can be used to create new child processes.\n",
    "\n",
    "For example:\n",
    "```python\n",
    "...\r\n",
    "# get a context configured with a start method\r\n",
    "context = multiprocessing.get_context('fork')\n",
    "```"
   ]
  },
  {
   "cell_type": "markdown",
   "id": "663bddb6-a767-4857-85a7-79e62891e3ab",
   "metadata": {},
   "source": [
    "The context can then be used to create a child process, for example:\n",
    "```python\n",
    "...\r\n",
    "# create a child process via a context\r\n",
    "process = context.Process(...)\n",
    "```"
   ]
  },
  {
   "cell_type": "markdown",
   "id": "8489a3fb-b346-423f-88eb-c7dc787386b2",
   "metadata": {},
   "source": [
    "It may also be possible to force the start method. This can be achieved via the “force” argument provided on the [set_start_method()](https://docs.python.org/3/library/multiprocessing.html#multiprocessing.set_start_method) implementation in the DefaultContext, although not documented.\r\n",
    "\r\n",
    "For exampl\n",
    "```python\n",
    "...\r\n",
    "# set the start method\r\n",
    "context.set_start_method('spawn', force=True)\n",
    "```e:"
   ]
  },
  {
   "cell_type": "markdown",
   "id": "a81336db-043f-4abc-9d47-0a0b0bfd39fa",
   "metadata": {},
   "source": [
    "You can learn more about setting the process start method in the tutorial \"[**Multiprocessing Start Methods**](https://superfastpython.com/multiprocessing-start-method)\". Next, let’s look at some properties of processes instances."
   ]
  },
  {
   "cell_type": "markdown",
   "id": "de9736e4-1db6-41cc-85de-16bd398df780",
   "metadata": {},
   "source": [
    "<a id='sect5'></a>\n",
    "## <b><font color='darkblue'>Process Instance Attributes</font></b> ([back](#agenda))\n",
    "<b><font size='3ptx'>An instance of the [multiprocessing.Process](https://docs.python.org/3/library/multiprocessing.html#the-process-class) class provides a handle of a new instance of the Python interpreter.</font></b>\n",
    "* <b><a href='#sect5_1'>Query Process Name</a></b>\n",
    "* <b><a href='#sect5_2'>Query Process Daemon</a></b>\n",
    "* <b><a href='#sect5_3'>Query Process PID</a></b>\n",
    "* <b><a href='#sect5_4'>Query Process Alive</a></b>\n",
    "* <b><a href='#sect5_5'>Query Process Exit Code </a></b>\n",
    "\n",
    "As such, it provides attributes that we can use to query properties and the status of the underlying process. Let’s look at some examples."
   ]
  },
  {
   "cell_type": "markdown",
   "id": "5f3500d9-e282-401e-89fa-71cdfcc5fc41",
   "metadata": {},
   "source": [
    "<a id='sect5_1'></a>\n",
    "### <b><font color='darkgreen'>Query Process Name</font></b>\n",
    "<b><font size='3ptx'>Each process has a name.</font></b>\n",
    "\n",
    "The parent process has the name “`MainProcess`“. Child processes are named automatically in a somewhat unique manner within each process with the form “`Process-%d`” where %d is the integer indicating the process number created by the parent process, e.g. Process-1 for the first process created.\n",
    "\n",
    "We can access the name of a process via the [**multiprocessing.Process**.name](https://docs.python.org/3/library/multiprocessing.html#multiprocessing.Process.name) attribute, for example:\n",
    "\n",
    "```python\n",
    "...\r\n",
    "# report the process name\r\n",
    "print(process.name)\n",
    "```"
   ]
  },
  {
   "cell_type": "markdown",
   "id": "647303f3-51d0-4129-bf94-a81339e529c7",
   "metadata": {},
   "source": [
    "The example below creates an instance of the [**multiprocessing.Process**](https://docs.python.org/3/library/multiprocessing.html#the-process-class) class and reports the default name of the process:\r\n",
    "```python\r\n",
    "# SuperFastPython.com\r\n",
    "# example of accessing the child process name\r\n",
    "from multiprocessing import Process\r\n",
    "# entry point\r\n",
    "if __name__ == '__main__':\r\n",
    "    # create the process\r\n",
    "    process = Process()\r\n",
    "    # report the process name\r\n",
    "    print(process.name)\r\n",
    "```"
   ]
  },
  {
   "cell_type": "markdown",
   "id": "71460cb5-deb9-44b5-98fa-761b32b770c3",
   "metadata": {},
   "source": [
    "You can learn more about configuring the process name in the tutorial \"[**How to Change the Process Name in Python**](https://superfastpython.com/process-name/)\"."
   ]
  },
  {
   "cell_type": "markdown",
   "id": "8f52d473-e4fe-4de2-8bee-493145caa13d",
   "metadata": {},
   "source": [
    "<a id='sect5_2'></a>\n",
    "### <b><font color='darkgreen'>Query Process Daemon</font></b> ([back](#sect))\n",
    "Daemon process is the name given to the background process. By default, processes are non-daemon processes because they inherit the daemon value from the parent process, which is set `False` for the MainProcess.\n",
    "\n",
    "<b>A Python parent process will only exit when all non-daemon processes have finished exiting</b>. For example, the MainProcess is a non-daemon process. This means that the daemon process can run in the background and do not have to finish or be explicitly excited for the program to end.\n",
    "\n",
    "We can determine if a process is a daemon process via the [**multiprocessing.Process**.daemon](https://docs.python.org/3/library/multiprocessing.html#multiprocessing.Process.daemon) attribute."
   ]
  },
  {
   "cell_type": "markdown",
   "id": "e6e641b3-c8ed-4237-9a1c-e0d916008ed0",
   "metadata": {},
   "source": [
    "<a id='sect5_3'></a>\n",
    "### <b><font color='darkgreen'>Query Process PID</font></b> ([back](#sect5))\n",
    "<font size='3ptx'><b>Each process has a unique process identifier, called the PID, assigned by the operating system.</b></font>\r\n",
    "\r\n",
    "Python processes are real native processes, meaning that each process we create is actually created and managed by the underlying operating system. As such, the operating system will assign a unique integer to each process that is created on the system<font color='brown'> (across process</font>es).\r\n",
    "\r\n",
    "The process identifier can be accessed via [**the multiprocessing.Pro**cess](https://docs.python.org/3/library/multiprocessing.html#multiprocessing.Process.pid).pid property and is assigned after the process has been started."
   ]
  },
  {
   "cell_type": "markdown",
   "id": "5431fb90-4a2c-4bf1-97ff-9477fbc8fb3e",
   "metadata": {},
   "source": [
    "<a id='sect5_4'></a>\n",
    "### <b><font color='darkgreen'>Query Process Alive</font></b> ([back](#sect5))\n",
    "<b><font size='3ptx'>A process instance can be alive or dead.</font></b>\n",
    "\n",
    "An alive process means that the <font color='blue'>run()</font> method of the [**multiprocessing.Process**](https://docs.python.org/3/library/multiprocessing.html#the-process-class) instance is currently executing.\n",
    "\n",
    "This means that before the <font color='blue'>start()</font> method is called and after the <font color='blue'>run()</font> method has completed, the process will not be alive.\n",
    "\n",
    "We can check if a process is alive via the [**multiprocessing.Process**.is_alive()](https://docs.python.org/3/library/multiprocessing.html#multiprocessing.Process.is_alive) method."
   ]
  },
  {
   "cell_type": "markdown",
   "id": "1cc00c35-ff4a-4c28-901c-8f38f19179fd",
   "metadata": {},
   "source": [
    "<a id='sect5_5'></a>\n",
    "### <b><font color='darkgreen'>Query Process Exit Code</font></b> ([back](#sect5))\n",
    "<b><font size='3ptx'>A child process will have an exit code once it has terminated.</font></b>\n",
    "\n",
    "An exit code provides an indication of whether processes completed successfully or not, and if not, the type of error that occurred that caused the termination.\n",
    "\n",
    "Common exit codes include:\n",
    "* 0: Normal (exit success)\n",
    "* 1: Error (exit failure)\n",
    "\n",
    "We can write the exit code for a child process via the [**multiprocessing.Process**.exitcode](https://docs.python.org/3/library/multiprocessing.html#multiprocessing.Process.exitcode) attribute."
   ]
  },
  {
   "cell_type": "markdown",
   "id": "9431f7ed-35a9-4592-a653-d3ceb8364754",
   "metadata": {},
   "source": [
    "<a id='sect6'></a>\n",
    "## <b><font color='darkblue'>Configure Processes</font></b> ([back](#agenda))\n",
    "<b><font size='3ptx'>Instances of the [**multiprocessing.Process**](https://docs.python.org/3/library/multiprocessing.html#the-process-class) class can be configured.</font></b>\n",
    "* <b><a href='#sect6_1'>How to Configure Process Name</a></b>\n",
    "* <b><a href='#sect6_2'>How to Configure a Daemon Process</a></b>\n",
    "\n",
    "There are two properties of a process that can be configured, they are the name of the process and whether the process is a daemon or not."
   ]
  },
  {
   "cell_type": "markdown",
   "id": "83b1fd8f-829a-4527-90d6-53c9d5ee0a30",
   "metadata": {},
   "source": [
    "<a id='sect6_1'></a>\n",
    "### <b><font color='darkgreen'>How to Configure Process Name</font></b>\n",
    "<b>Processes can be assigned custom names.</b>\n",
    "\n",
    "The name of a process can be set via the “name” argument in the [**multiprocessing.Process**](https://docs.python.org/3/library/multiprocessing.html#the-process-class) constructor. e.g.:\n",
    "```python\n",
    "...\n",
    "# create a process with a custom name\n",
    "process = Process(name='MyProcess')\n",
    "```"
   ]
  },
  {
   "cell_type": "markdown",
   "id": "87f78cd1-2e43-44a0-ad11-faa4b1977842",
   "metadata": {},
   "source": [
    "<a id='sect6_2'></a>\n",
    "### <b><font color='darkgreen'>How to Configure a Daemon Process</font></b>\n",
    "<b>Processes can be configured to be “daemon” or “daemonic”, that is, they can be configured as background processes.</b>\n",
    "\n",
    "A parent Python process can only exit once all non-daemon child processes have exited.\n",
    "\n",
    "This means that daemon child processes can run in the background and do not prevent a Python program from exiting when the “main parts of the program” have finished.\n",
    "\n",
    "A process can be configured to be a daemon by setting the “daemon” argument to True in the [**multiprocessing.Process**](https://docs.python.org/3/library/multiprocessing.html#the-process-class) constructor.\n",
    "\n",
    "For example:\n",
    "```python\n",
    "# create a daemon process\n",
    "process = Process(daemon=True)\n",
    "```"
   ]
  },
  {
   "cell_type": "markdown",
   "id": "693d0d5b-9334-400b-9bac-418a55786fc5",
   "metadata": {},
   "source": [
    "<a id='sect7'></a>\n",
    "## <b><font color='darkblue'>Main Process</font></b> ([back](#agenda))\n",
    "<b><font size='3ptx'>The main process is the parent process that executes your program.</font></b>\n",
    "* <b><a href='#sect7_1'>What is the Main Process?</a></b>\n",
    "* <b><a href='#sect7_2'>How Can the Main Process Be Identified</a></b>\n",
    "* <b><a href='#sect7_3'>How to Get the Main Process?</a></b>\n",
    "\n",
    "In this section we will take a closer look at the main process in Python."
   ]
  },
  {
   "cell_type": "markdown",
   "id": "1a870582-0532-4835-a25f-a65080bf26f8",
   "metadata": {},
   "source": [
    "<a id='sect7_1'></a>\n",
    "### <b><font color='darkgreen'>What is the Main Process?</font></b>\n",
    "<b><font size='3ptx'>The main process in Python is the process started when you run your Python program.</font></b>\n",
    "\n",
    "<b>Recall that a process in Python is an instance of the Python interpreter</b>. We can create and run new child processes via the [**multiprocessing.Process**](https://docs.python.org/3/library/multiprocessing.html#the-process-class) class.\r\n",
    "\r\n",
    "What makes the main process unique is that it is the first process created when you run your program and the main thread of the process executes the entry point of your program.\r\n",
    "\r\n",
    "As such the main process does not have a parent process.\r\n",
    "\r\n",
    "The main process also has a distinct name, specific`ally “MainP`rocess“."
   ]
  },
  {
   "cell_type": "markdown",
   "id": "8fbe2e42-6ee8-4c24-af50-14793e2a3d5a",
   "metadata": {},
   "source": [
    "<a id='sect7_2'></a>\n",
    "### <b><font color='darkgreen'>How Can the Main Process Be Identified</font></b>\n",
    "There are a number of ways that the main process can be identified. They are:\r\n",
    "* The main process has a distinct name of “MainProcess“.\r\n",
    "* The main process does not have a parent process.\r\n",
    "* The main process is an instance of t[**he multiprocessing.process._MainProc**](https://github.com/python/cpython/blob/3.10/Lib/multiprocessing/process.py#L391)ess class."
   ]
  },
  {
   "cell_type": "markdown",
   "id": "6bbbfdad-b7fd-41e6-8281-7776412e310c",
   "metadata": {},
   "source": [
    "<a id='sect7_3'></a>\n",
    "### <b><font color='darkgreen'>How to Get the Main Process?</font></b> ([back](#sect7))\n",
    "<b><font size='3ptx'>We can get a [multiprocessing.Process](https://docs.python.org/3/library/multiprocessing.html#the-process-class) instance for the main process.</font></b>\n",
    "\n",
    "There are a number of ways that we can do this, depending on where exactly we are in the code.\n",
    "\n",
    "For example, if we are running code in the main process, we can get a [**multiprocessing.Process**](https://docs.python.org/3/library/multiprocessing.html#the-process-class) instance for the main process via the [**multiprocessing**.current_process()](https://docs.python.org/3/library/multiprocessing.html#multiprocessing.current_process) function. For example:\n",
    "```python\n",
    "# SuperFastPython.com\n",
    "# example of getting the main process from the main process\n",
    "from multiprocessing import current_process\n",
    "# get the process instance\n",
    "process = current_process()\n",
    "# report details of the main process\n",
    "print(process)\n",
    "```"
   ]
  },
  {
   "cell_type": "markdown",
   "id": "eb8543d9-8352-4db3-a41d-9919da4eafda",
   "metadata": {},
   "source": [
    "If we are in a child process of the main process then we can get the main process via the [**multiprocessing**.parent_process()](https://docs.python.org/3/library/multiprocessing.html#multiprocessing.parent_process)  function. For example:\r\n",
    "```python\r\n",
    "# SuperFastPython.com\r\n",
    "# example of getting the main process from a child of the main process\r\n",
    "from multiprocessing import parent_process\r\n",
    "from multiprocessing import Process\r\n",
    " \r\n",
    "# function executed in a child process\r\n",
    "def task():\r\n",
    "    # get the parent process instance\r\n",
    "    process = parent_process()\r\n",
    "    # report details of the main process\r\n",
    "    print(process)\r\n",
    " \r\n",
    "# entry point\r\n",
    "if __name__ == '__main__':\r\n",
    "    # create a new process\r\n",
    "    process = Process(target=task)\r\n",
    "    # start the new process\r\n",
    "    process.start()\r\n",
    "    # wait for the new process to terminate\r\n",
    "    process.join()\r\n",
    "```"
   ]
  },
  {
   "cell_type": "markdown",
   "id": "af0b4d7a-240e-4cc1-8ec7-1c40913bb697",
   "metadata": {},
   "source": [
    "<a id='sect8'></a>\n",
    "## <b><font color='darkblue'>Process Utilities</font></b> ([back](#agenda))\n",
    "<b><font size='3ptx'>There are a number of utilities we can use when working with processes within a Python process.</font></b>\n",
    "* <b><a href='#sect8_1'>Active Child Processes</a></b>\n",
    "* <b><a href='#sect8_2'>Get The Number of CPU Cores</a></b>\n",
    "\n",
    "\r\n",
    "In this section we will review a number of additional utility functions."
   ]
  },
  {
   "cell_type": "markdown",
   "id": "ca055c73-b552-4be3-92db-c1490984990c",
   "metadata": {},
   "source": [
    "<a id='sect8_1'></a>\n",
    "### <b><font color='darkgreen'>Active Child Processes</font></b>\n",
    "<b><font size='3ptx'>We can get a list of all active child processes for a parent process.</font></b>\r\n",
    "\r\n",
    "This can be achieved via th[**e multiprocessi**ng.active_children](https://docs.python.org/3/library/multiprocessing.html#multiprocessing.active_children)() function that returns a list of all child processes that are currently running. For example:\r\n",
    "```python\r\n",
    "# SuperFastPython.com\r\n",
    "# list all active child processes\r\n",
    "from time import sleep\r\n",
    "from multiprocessing import active_children\r\n",
    "from multiprocessing import Process\r\n",
    " \r\n",
    "# function to execute in a new process\r\n",
    "def task():\r\n",
    "    # block for a moment\r\n",
    "    sleep(1)\r\n",
    " \r\n",
    "# entry point\r\n",
    "if __name__ == '__main__':\r\n",
    "    # create a number of child processes\r\n",
    "    processes = [Process(target=task) for _ in range(5)]\r\n",
    "    # start the child processes\r\n",
    "    for process in processes:\r\n",
    "        process.start()\r\n",
    "    # get a list of all active child processes\r\n",
    "    children = active_children()\r\n",
    "    # report a count of active children\r\n",
    "    print(f'Active Children Count: {len(children)}')\r\n",
    "    # report each in turn\r\n",
    "    for child in children:\r\n",
    "        print(child)\r\n",
    "```"
   ]
  },
  {
   "cell_type": "markdown",
   "id": "dc3a2332-1cf0-4624-a19b-66c30f910b01",
   "metadata": {},
   "source": [
    "<a id='sect8_2'></a>\n",
    "### <b><font color='darkgreen'>Get The Number of CPU Cores</font></b> ([back](#sect8))\n",
    "<b><font size='3ptx'>We may want to know the number of CPU cores available.</font></b>\r\n",
    "\r\n",
    "This can be determined via th[**e multiprocessi**ng.cpu_count](https://docs.python.org/3/library/multiprocessing.html#multiprocessing.cpu_count)() function.\r\n",
    "\r\n",
    "The function returns an integer that indicates the number of logical CPU cores available in the system running the Python program.\r\n",
    "\r\n",
    "Recall that a central processing unit or CPU executes program instructions. A CPU may have one or more physical CPU cores for executing code in parallel. Modern CPU cores may make u[**se of hyperthr**](https://en.wikipedia.org/wiki/Hyper-threading)eading, allowing each physical CPU core to operate like two (or more) logical CPU cores.\r\n",
    "\r\n",
    "Therefore, a computer system with a CPU with four physical cores may report eight logical CPU cores [**multiprocessing**.cpu_count()](https://docs.python.org/3/library/multiprocessing.html#multiprocessing.cpu_count)_count() function function.\r\n",
    "\r\n",
    "It may be useful to know the number of CPU cores available to configure a thread pool or the number of processes to create to execute tasks in parallel.\r\n",
    "\r\n",
    "The example below demonstrates how to use the number of CPU cores."
   ]
  },
  {
   "cell_type": "code",
   "execution_count": 5,
   "id": "f58d3d96-581c-495d-ae22-8a0a2b22949e",
   "metadata": {},
   "outputs": [
    {
     "name": "stdout",
     "output_type": "stream",
     "text": [
      "This machine has 24 CPU core(s)\n"
     ]
    }
   ],
   "source": [
    "print(f'This machine has {multiprocessing.cpu_count()} CPU core(s)')"
   ]
  },
  {
   "cell_type": "code",
   "execution_count": 6,
   "id": "71f67194-7e21-486d-8b9e-be1c4ad2ec8b",
   "metadata": {},
   "outputs": [
    {
     "name": "stdout",
     "output_type": "stream",
     "text": [
      "24\n"
     ]
    }
   ],
   "source": [
    "!cat /proc/cpuinfo | grep 'process' | wc -l"
   ]
  },
  {
   "cell_type": "code",
   "execution_count": 7,
   "id": "f3b00465-e5c6-4034-b616-40adb9876a97",
   "metadata": {},
   "outputs": [
    {
     "name": "stdout",
     "output_type": "stream",
     "text": [
      "CPU(s):                             24\n"
     ]
    }
   ],
   "source": [
    "!lscpu | grep '^CPU(s):'"
   ]
  },
  {
   "cell_type": "markdown",
   "id": "1235f168-6337-408a-825f-e8b6035300af",
   "metadata": {},
   "source": [
    "<a id='sect9'></a>\n",
    "## <b><font color='darkblue'>Process Mutex Lock</font></b> ([back](#agenda))\n",
    "<b><font size='3ptx'>A mutex lock is used to protect critical sections of code from concurrent execution.</font></b>\n",
    "* <b><a href='#sect9_1'>What is a Mutual Exclusion Lock</a></b>\n",
    "* <b><a href='#sect9_2'>How to Use a Mutex Lock</a></b>\n",
    "* <b><a href='#sect9_3'>Example of Using a Mutex Lock</a></b>\n",
    "\n",
    "You can use a mutual exclusion (mutex) lock in Python via the [**multiprocessing.Lock**](https://docs.python.org/3/library/multiprocessing.html#multiprocessing.Lock) class."
   ]
  },
  {
   "cell_type": "markdown",
   "id": "00af46c8-3f84-4efe-a355-6d8f25eb0d7e",
   "metadata": {},
   "source": [
    "<a id='sect9_1'></a>\n",
    "### <b><font color='darkgreen'>What is a Mutual Exclusion Lock</font></b>\n",
    "<b><font size='3ptx'>A [mutual exclusion lock](https://en.wikipedia.org/wiki/Mutual_exclusion) or mutex lock is a synchronization primitive intended to prevent a race condition.</font></b>\n",
    "\n",
    "A race condition is a concurrency failure case when two processes (or threads) run the same code and access or update the same resource (e.g. data variables, stream, etc.) leaving the resource in an unknown and inconsistent state.\n",
    "\n",
    "<b>Race conditions often result in unexpected behavior of a program and/or corrupt data.</b>\n",
    "\n",
    "These sensitive parts of code that can be executed by multiple processes concurrently and may result in race conditions are called critical sections. A critical section may refer to a single block of code, but it also refers to multiple accesses to the same data variable or resource from multiple functions.\n",
    "\n",
    "A mutex lock can be used to ensure that only one process at a time executes a critical section of code at a time, while all other processes trying to execute the same code must wait until the currently executing process is finished with the critical section and releases the lock.\n",
    "\n",
    "Each process must attempt to acquire the lock at the beginning of the critical section. If the lock has not been obtained, then a process will acquire it and other processes must wait until the process that acquired the lock releases it.\n",
    "\n",
    "If the lock has not been acquired, we might refer to it as being in the “unlocked” state. Whereas if the lock has been acquired, we might refer to it as being in the “locked” state.\n",
    "\n",
    "* **Unlocked**: The lock has not been acquired and can be acquired by the next process that makes an attempt.\n",
    "* **Locked**: The lock has been acquired by process thread and any process that makes an attempt to acquire it must wait until it is released.\n",
    "\n",
    "Locks are created in the unlocked state.\n",
    "\n",
    "Now that we know what a mutex lock is, let’s take a look at how we can use it in Python."
   ]
  },
  {
   "cell_type": "markdown",
   "id": "fcc69600-2063-4243-aa86-45055ca48905",
   "metadata": {},
   "source": [
    "<a id='sect9_2'></a>\n",
    "### <b><font color='darkgreen'>How to Use a Mutex Lock</font></b>\n",
    "<b><font size='3ptx'>Python provides a mutual exclusion lock for use with processes via the [multiprocessing.Lock](https://docs.python.org/3/library/multiprocessing.html#multiprocessing.Lock) class.</font></b>\r\n",
    "\r\n",
    "An instance of the lock can be created and then acquired by processes before accessing a critical section, and released after the critical section. For exampl\n",
    "```python\r\n",
    "...\r\n",
    "# create a lock\r\n",
    "lock = multiprocessing.Lock()\r\n",
    "# acquire the lock\r\n",
    "lock.acquire()\r\n",
    "# ...\r\n",
    "# release the lock\r\n",
    "lock.release()\r\n",
    "```e:"
   ]
  },
  {
   "cell_type": "markdown",
   "id": "ab03c67c-25d2-4c70-8c55-de4d40768d4d",
   "metadata": {},
   "source": [
    "<b>Only one process can have the lock at any time. If a process does not release an acquired lock, it cannot be acquired again</b>.\n",
    "\n",
    "The process attempting to acquire the lock will block until the lock is acquired, such as if another process currently holds the lock then releases it.\n",
    "\n",
    "We can attempt to acquire the lock without blocking by setting the “block” argument to False. <b>If the lock cannot be acquired, a value of `False` is returned.</b>\n",
    "```python\n",
    "...\r\n",
    "# acquire the lock without blocking\r\n",
    "lock.acquire(block=false)\n",
    "```"
   ]
  },
  {
   "cell_type": "markdown",
   "id": "6d9a1672-c82b-45b9-be5c-3022afd8f302",
   "metadata": {},
   "source": [
    "We can also attempt to acquire the lock with a timeout, that will wait the set number of seconds to acquire the lock before giving up. If the lock cannot be acquired, a value of False is returned.\r\n",
    "```python\r\n",
    "...\r\n",
    "# acquire the lock with a timeout\r\n",
    "lock.acquire(timeout=10)\r\n",
    "```"
   ]
  },
  {
   "cell_type": "markdown",
   "id": "6f59e9d9-dbd1-46ba-9541-2fe9901f6c88",
   "metadata": {},
   "source": [
    "We can also use the lock via the context manager protocol via the with statement, allowing the critical section to be a block within the usage of the lock and for the lock to be released automatically once the block has completed.\r\n",
    "\r\n",
    "For example:\r\n",
    "```python\r\n",
    "...\r\n",
    "# create a lock\r\n",
    "lock = multiprocessing.Lock()\r\n",
    "# acquire the lock\r\n",
    "with lock:\r\n",
    "    # ...\r\n",
    "```"
   ]
  },
  {
   "cell_type": "markdown",
   "id": "45854d3f-7dd9-42d6-9dd7-3cb5682dbbb8",
   "metadata": {},
   "source": [
    "This is the preferred usage as it makes it clear where the protected code begins and ends, and ensures that the lock is always released, even if there is an exception or error within the critical section.\r\n",
    "\r\n",
    "We can also check if the lock is currently acquired by a process via th<font color='blue'>e locked</font>() function.\r\n",
    "```python\r\n",
    "...\r\n",
    "# check if a lock is currently acquired\r\n",
    "if lock.locked():\r\n",
    "    # ...\r\n",
    "```\r\n",
    "\r\n",
    "Now that we know how t[**o use the multiproce**](https://docs.python.org/3/library/multiprocessing.html#multiprocessing.Lock)ssing.Lock class, let’s look at a worked example."
   ]
  },
  {
   "cell_type": "markdown",
   "id": "aa952a27-d008-4c7c-b922-5597952efbe2",
   "metadata": {},
   "source": [
    "<a id='sect9_3'></a>\n",
    "### <b><font color='darkgreen'>Example of Using a Mutex Lock</font></b> ([back](#sect9))\n",
    "<b><font size='3ptx'>We can develop an example to demonstrate how to use the mutex lock.</font></b>\n",
    "\n",
    "The complete example of using a lock is listed below:\n",
    "- `test_subprocess_ex5.py`:\n",
    "\r\n",
    "```python\r\n",
    "# example of a mutual exclusion (mutex) lock for processes\r\n",
    "from datetime import datetime\r\n",
    "from time import sleep\r\n",
    "from random import random\r\n",
    "from multiprocessing import Process\r\n",
    "from multiprocessing import Lock\r\n",
    "\r\n",
    "\r\n",
    "# work function\r\n",
    "def task_with_lock(lock, identifier, value):\r\n",
    "  # acquire the lock\r\n",
    "  with lock:\r\n",
    "    print(f'>process {identifier} got the lock, sleeping for {value:.03f}s')\r\n",
    "    sleep(value)\r\n",
    "\r\n",
    "\r\n",
    "def task_ignore_lock(lock, identifier, value):\r\n",
    "  # acquire the lock\r\n",
    "  print(f'>process {identifier} got the lock, sleeping for {value:.03f}s')\r\n",
    "  sleep(value)\r\n",
    "\r\n",
    "\r\n",
    "# entry point\r\n",
    "if __name__ == '__main__':\r\n",
    "  # create the shared lock\r\n",
    "  lock = Lock()\r\n",
    "  # create a number of processes with different sleep times\r\n",
    "  random_numbers = [random() for i in range(10)]\r\n",
    "  random_number_sum = sum(random_numbers)\r\n",
    "  processes = [Process(target=task_ignore_lock, args=(lock, i, random_numbers[i])) for i in range(10)]\r\n",
    "  # start the processes\r\n",
    "  for process in processes:\r\n",
    "    process.start()\r\n",
    "\r\n",
    "  # wait for all processes to finish\r\n",
    "  start_time = datetime.now()\r\n",
    "  for process in processes:\r\n",
    "    process.join()\r\n",
    "\r\n",
    "  time_diff = datetime.now() - start_time\r\n",
    "  print(f'Done in {time_diff}  (random nubmer sum={random_number_sum:.03f})!')\r\n",
    "`````"
   ]
  },
  {
   "cell_type": "markdown",
   "id": "ed898659-4206-4001-a80a-4b45145b8645",
   "metadata": {},
   "source": [
    "You can learn more about mutex locks in this tutorial \"[**Multiprocessing Lock in Python**](https://superfastpython.com/multiprocessing-mutex-lock-in-python/)\". Now that we are familiar with multiprocessing mutex locks, let’s take a look at the reentrant lock."
   ]
  },
  {
   "cell_type": "markdown",
   "id": "2fb86fe2-f3de-4647-9eeb-41424b696658",
   "metadata": {},
   "source": [
    "<a id='sect10'></a>\n",
    "## <b><font color='darkblue'>Process Reentrant Lock</font></b> ([back](#agenda))\n",
    "<b><font size='3ptx'>A reentrant lock is a lock that can be acquired more than once by the same process.</font></b>\n",
    "* <b><a href='#sect10_1'>What is a Reentrant Lock</a></b>\n",
    "* <b><a href='#sect10_2'>How to Use the Reentrant Lock</a></b>\n",
    "* <b><a href='#sect10_3'>Example of Using a Reentrant Lock</a></b>\n",
    "\n",
    "You can use reentrant locks in Python via the [**multiprocessing.RLock**](https://docs.python.org/3/library/multiprocessing.html#multiprocessing.RLock) class."
   ]
  },
  {
   "cell_type": "markdown",
   "id": "341bf092-1b87-4772-9c86-33a6abc628a5",
   "metadata": {},
   "source": [
    "<a id='sect10_1'></a>\n",
    "### <b><font color='darkgreen'>What is a Reentrant Lock</font></b>\n",
    "<b><font size='3ptx'>A reentrant mutual exclusion lock, “reentrant mutex” or “reentrant lock” for short, is like a mutex lock except it allows a process (or thread) to acquire the lock more than once</font>.</b>\n",
    "\n",
    "<b>A process may need to acquire the same lock more than once for many reasons.</b>\n",
    "\n",
    "We can imagine critical sections spread across a number of functions, each protected by the same lock. A process may call across these functions in the course of normal execution and may call into one critical section from another critical section.\n",
    "\n",
    "<b>A limitation of a</b> (<font color='brown'>non-reentrant</font>) <b>mutex lock is that if a process has acquired the lock that it cannot acquire it again. In fact, this situation will result in a [deadlock](https://en.wikipedia.org/wiki/Deadlock) as it will wait forever for the lock to be released so that it can be acquired, but it holds the lock and will not release it.</b>\n",
    "\n",
    "<b>A reentrant lock will allow a process to acquire the same lock again if it has already acquired it</b>. This allows the process to execute critical sections from within critical sections, as long as they are protected by the same reentrant lock.\n",
    "\n",
    "Each time a process acquires the lock it must also release it, meaning that there are recursive levels of acquire and release for the owning process. As such, this type of lock is sometimes called a “recursive mutex lock“.\n",
    "\n",
    "Now that we are familiar with the reentrant lock, let’s take a closer look at the difference between a lock and a reentrant lock in Python."
   ]
  },
  {
   "cell_type": "markdown",
   "id": "dd96e257-945b-4f72-bca9-3ec9c3c4d9bd",
   "metadata": {},
   "source": [
    "<a id='sect10_2'></a>\n",
    "### <b><font color='darkgreen'>How to Use the Reentrant Lock</font></b> ([back](#sect10))\n",
    "<b><font size='3ptx'>Python provides a reentrant lock for processes via the [multiprocessing.RLock](https://docs.python.org/3/library/multiprocessing.html#multiprocessing.RLock) class.</font></b>\n",
    "\n",
    "An instance of the [**multiprocessing.RLock**](https://docs.python.org/3/library/multiprocessing.html#multiprocessing.RLock) can be created and then acquired by processes before accessing a critical section, and released after the critical section:\n",
    "```python\r\n",
    "...\r\n",
    "# create a reentrant lock\r\n",
    "lock = multiprocessing.RLock()\r\n",
    "# acquire the lock\r\n",
    "lock.acquire()\r\n",
    "# ...\r\n",
    "# release the lock\r\n",
    "lock.release()\r\n",
    "```"
   ]
  },
  {
   "cell_type": "markdown",
   "id": "7622606a-fc9b-4a27-9496-02e1dd4198b9",
   "metadata": {},
   "source": [
    "We can attempt to acquire the lock without blocking by setting the “block” argument to False. If the lock cannot be acquired, a value of `False` is returned:\r\n",
    "```python\r\n",
    "...\r\n",
    "# acquire the lock without blocking\r\n",
    "lock.acquire(block=false)\r\n",
    "```"
   ]
  },
  {
   "cell_type": "markdown",
   "id": "f46778e0-fed1-45b6-bdfc-3b72596e1818",
   "metadata": {},
   "source": [
    "We can also attempt to acquire the lock with a timeout, that will wait the set number of seconds to acquire the lock before giving up. If the lock cannot be acquired, a value of `False` is returned.\r\n",
    "```python\r\n",
    "...\r\n",
    "# acquire the lock with a timeout\r\n",
    "lock.acquire(timeout=10)\r\n",
    "```"
   ]
  },
  {
   "cell_type": "markdown",
   "id": "13c7fc6c-5909-4cd5-a266-3fe2b3617687",
   "metadata": {},
   "source": [
    "We can also use the reentrant lock via the context manager protocol via the `with` statement, allowing the critical section to be a block within the usage of the lock and for the lock to be released once the block is exited. For example:\r\n",
    "```python\r\n",
    "...\r\n",
    "# create a reentrant lock\r\n",
    "lock = multiprocessing.RLock()\r\n",
    "# acquire the lock\r\n",
    "with lock:\r\n",
    "    # ...\r\n",
    "```"
   ]
  },
  {
   "cell_type": "markdown",
   "id": "0d64fd5a-64ee-48ea-b0c4-2580cf213c7f",
   "metadata": {},
   "source": [
    "Now that we know how to use the [**multiprocessing.RLock**](https://docs.python.org/3/library/multiprocessing.html#multiprocessing.RLock) class, let’s look at a worked example."
   ]
  },
  {
   "cell_type": "markdown",
   "id": "fbf046bb-ae87-4669-ad28-2cc5dbd2887a",
   "metadata": {},
   "source": [
    "<a id='sect10_3'></a>\n",
    "### <b><font color='darkgreen'>Example of Using a Reentrant Lock</font></b> ([back](#sect10))\n",
    "The complete example of using a lock is listed below.\n",
    "- `test_subprocess_ex6.py`\n",
    "\n",
    "```python\n",
    "# example of a reentrant lock for processes\r\n",
    "from time import sleep\r\n",
    "from random import random\r\n",
    "from multiprocessing import Process\r\n",
    "from multiprocessing import RLock\r\n",
    "\r\n",
    "\r\n",
    "# reporting function\r\n",
    "def report(lock, identifier):\r\n",
    "  # acquire the lock\r\n",
    "  with lock:\r\n",
    "    print(f'>process {identifier} done')\r\n",
    "\r\n",
    "\r\n",
    "# work function\r\n",
    "def task(lock, identifier, value):\r\n",
    "  # acquire the lock\r\n",
    "  with lock:\r\n",
    "    print(f'>process {identifier} sleeping for {value}')\r\n",
    "    sleep(value)\r\n",
    "    # report\r\n",
    "    rep\n",
    "\n",
    "\n",
    "# entry point\r\n",
    "if __name__ == '__main__':\r\n",
    "  # create a shared reentrant lock\r\n",
    "  lock = RLock()\r\n",
    "\r\n",
    "  # create processes\r\n",
    "  processes = [Process(target=task, args=(lock, i, random())) for i in range(10)]\r\n",
    "\r\n",
    "  # start child processes\r\n",
    "  for process in processes:\r\n",
    "    process.start()\r\n",
    "\r\n",
    "  # wait for child processes to finish\r\n",
    "  for process in processes:\r\n",
    "    process.join()ort(lock, identifier)\n",
    "```"
   ]
  },
  {
   "cell_type": "markdown",
   "id": "7fd91227-c9b2-4def-b1e9-c9e13a57eeaf",
   "metadata": {},
   "source": [
    "You can learn more about reentrant locks in this tutorial \"[**Multiprocessing RLock in Python**](https://superfastpython.com/multiprocessing-rlock-in-python/)\". Now that we are familiar with the reentrant lock, let’s look at condition variables."
   ]
  },
  {
   "cell_type": "markdown",
   "id": "36c4b020-1974-42fe-9a68-517ee0a793f9",
   "metadata": {},
   "source": [
    "## <b><font color='darkblue'>Supplement</font></b>\n",
    "* [Python Concurrency - What’s are the Differences between Processes and Threads](https://www.pythontutorial.net/python-concurrency/differences-between-processes-and-threads/)\n",
    "* [Generate CPU load using Python](https://qxf2.com/blog/generate-cpu-load/)"
   ]
  }
 ],
 "metadata": {
  "kernelspec": {
   "display_name": "Python 3 (ipykernel)",
   "language": "python",
   "name": "python3"
  },
  "language_info": {
   "codemirror_mode": {
    "name": "ipython",
    "version": 3
   },
   "file_extension": ".py",
   "mimetype": "text/x-python",
   "name": "python",
   "nbconvert_exporter": "python",
   "pygments_lexer": "ipython3",
   "version": "3.12.2"
  }
 },
 "nbformat": 4,
 "nbformat_minor": 5
}
