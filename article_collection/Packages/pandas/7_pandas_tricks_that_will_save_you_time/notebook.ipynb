{
 "cells": [
  {
   "cell_type": "markdown",
   "id": "5edf0dde-bb4b-43a8-bd74-72fd862c73a2",
   "metadata": {},
   "source": [
    "## <b><font color='darkblue'>Preface</font></b>\n",
    "<font size='3ptx'><b>These seven Pandas tricks will speed up your workflow, cut memory usage, and make your data manipulations smoother. Get ready to level up.</b> [**Pandas**](https://pandas.pydata.org/) is Python's default data-manipulation library. But come on—if you're doing it inefficiently, you're just creating more work than you need to. You ever seen someone iterate over a DataFrame line by line? Torture. <b>Like seeing someone wash a car with a toothbrush</b>.</font>\n",
    "\n",
    "<font size='3ptx'><b>Pandas is quick, but only if you understand how to use it. The problem is, most don't.</b></font> They use it as a slow, cumbersome spreadsheet instead of the optimized monster that it can be. They use loops when they shouldn't, misuse functions, and then struggle with performance when their datasets grow into tens of thousands of rows.\n",
    "\n",
    "<b><font size='3ptx'>Here's the reality: Pandas is constructed on top of NumPy, which is optimized for vectorized operations</font></b>. That is to say, wherever possible, <b>you should be operating on whole columns at a time rather than looping over individual rows</b>. Nevertheless, many developers reach for loops instinctively because, well, that's what they're accustomed to. <b>Old habits die hard. But in Pandas, looping is nearly always the slowest way</b>.\n",
    "\n",
    "<b><font size='3ptx'>Performance isn’t the only problem, though. Code readability matters, too</font></b>. If your Pandas code looks like a tangled mess of `.loc[]`, `.iloc[]`, `.apply()`, and endless conditionals, you’re setting yourself up for frustration both for yourself and anyone else who has to read your work. <b>Clean, efficient Pandas code isn’t just about speed; it’s about writing something that makes sense at a glance</b>.\n",
    "\n",
    "The best news? <b><font size='3ptx'>Pandas has built-in shortcuts that accelerate, streamline, and make it much less frustrating</font></b>. Some of them are just simple—like applying vectorized operations rather than loops. Some, like `query()` or `merge()`, simply require a small shift in mental thought but save you a tremendous amount of effort. <b>A few tricks will even help minimize memory use, which comes into play when you're working with large sets of data</b>.\n",
    "\n",
    "<b><font size='3ptx'>These aren't \"nice-to-know\" hacks. They're the difference between writing Pandas code that works and Pandas code that flies</font></b>. If you're dealing with financial data, scrubbing filthy CSVs, or processing hundreds of thousands of rows, these seven hacks will trim valuable time and suffering from your workflow."
   ]
  },
  {
   "cell_type": "code",
   "execution_count": 31,
   "id": "4f0a1dbc-8f76-48ac-afb0-64ccad7f8d0a",
   "metadata": {},
   "outputs": [
    {
     "data": {
      "text/html": [
       "<div>\n",
       "<style scoped>\n",
       "    .dataframe tbody tr th:only-of-type {\n",
       "        vertical-align: middle;\n",
       "    }\n",
       "\n",
       "    .dataframe tbody tr th {\n",
       "        vertical-align: top;\n",
       "    }\n",
       "\n",
       "    .dataframe thead th {\n",
       "        text-align: right;\n",
       "    }\n",
       "</style>\n",
       "<table border=\"1\" class=\"dataframe\">\n",
       "  <thead>\n",
       "    <tr style=\"text-align: right;\">\n",
       "      <th></th>\n",
       "      <th>a</th>\n",
       "      <th>b</th>\n",
       "    </tr>\n",
       "  </thead>\n",
       "  <tbody>\n",
       "    <tr>\n",
       "      <th>3393</th>\n",
       "      <td>67</td>\n",
       "      <td>64</td>\n",
       "    </tr>\n",
       "    <tr>\n",
       "      <th>13002</th>\n",
       "      <td>9</td>\n",
       "      <td>43</td>\n",
       "    </tr>\n",
       "    <tr>\n",
       "      <th>25532</th>\n",
       "      <td>66</td>\n",
       "      <td>5</td>\n",
       "    </tr>\n",
       "    <tr>\n",
       "      <th>47658</th>\n",
       "      <td>84</td>\n",
       "      <td>12</td>\n",
       "    </tr>\n",
       "    <tr>\n",
       "      <th>34522</th>\n",
       "      <td>90</td>\n",
       "      <td>16</td>\n",
       "    </tr>\n",
       "  </tbody>\n",
       "</table>\n",
       "</div>"
      ],
      "text/plain": [
       "        a   b\n",
       "3393   67  64\n",
       "13002   9  43\n",
       "25532  66   5\n",
       "47658  84  12\n",
       "34522  90  16"
      ]
     },
     "execution_count": 31,
     "metadata": {},
     "output_type": "execute_result"
    }
   ],
   "source": [
    "import random\n",
    "import pandas as pd\n",
    "\n",
    "test_data = [\n",
    "    [random.randint(0, 100), random.randint(0, 100)]  for _ in range(50000)\n",
    "]\n",
    "test_df = pd.DataFrame(test_data, columns=['a', 'b'])\n",
    "test_df.sample(n=5)"
   ]
  },
  {
   "cell_type": "markdown",
   "id": "b3dd2c98-0dd1-4bea-97b0-fca32fb55b42",
   "metadata": {},
   "source": [
    "## <b><font color='darkblue'>1. Stop Using Loops—Use Vectorized Operations Instead</font></b>"
   ]
  },
  {
   "cell_type": "markdown",
   "id": "0e0e4d8f-1925-403b-a9a0-9a0f0bfab413",
   "metadata": {},
   "source": [
    "### <b><font color='darkgreen'>The Problem</font></b>\n",
    "Loops are slow. If you’re iterating through a DataFrame row by row, you’re doing it wrong."
   ]
  },
  {
   "cell_type": "markdown",
   "id": "485394c1-0482-43cd-85ad-ec38f88abb51",
   "metadata": {},
   "source": [
    "### <b><font color='darkgreen'>Why It Matters</font></b>\n",
    "Pandas is built on NumPy, which is optimized for fast, vectorized operations. That means instead of looping, you can apply calculations to entire columns at once. It’s faster and less messy."
   ]
  },
  {
   "cell_type": "markdown",
   "id": "4d87d0bc-be9f-4eb7-81aa-91ea981bbe63",
   "metadata": {},
   "source": [
    "### <b><font color='darkgreen'>Fix It</font></b>\n",
    "Instead of this:\n",
    "```python\n",
    "df = pd.DataFrame({'a': range(1, 6), 'b': range(10, 15)})\n",
    "df['c'] = [x * y for x, y in zip(df['a'], df['b'])]\n",
    "```\n",
    "\n",
    "Do this:\n",
    "```python\n",
    "df['c'] = df['a'] * df['b']\n",
    "```\n",
    "\n",
    "Faster, cleaner, and no unnecessary loops."
   ]
  },
  {
   "cell_type": "code",
   "execution_count": 32,
   "id": "85cce79e-856a-4d1d-8e9b-d24771a91988",
   "metadata": {},
   "outputs": [
    {
     "name": "stdout",
     "output_type": "stream",
     "text": [
      "CPU times: user 22.7 ms, sys: 24.6 ms, total: 47.4 ms\n",
      "Wall time: 47.2 ms\n"
     ]
    }
   ],
   "source": [
    "%%time\n",
    "test_df['c'] = [x * y for x, y in zip(test_df['a'], test_df['b'])]"
   ]
  },
  {
   "cell_type": "code",
   "execution_count": 33,
   "id": "c6b1f547-69d4-4d22-bb9e-47925a27c2f6",
   "metadata": {},
   "outputs": [
    {
     "name": "stdout",
     "output_type": "stream",
     "text": [
      "CPU times: user 0 ns, sys: 2.04 ms, total: 2.04 ms\n",
      "Wall time: 1.72 ms\n"
     ]
    }
   ],
   "source": [
    "%%time\n",
    "test_df['c'] = test_df['a'] * test_df['b']"
   ]
  },
  {
   "cell_type": "markdown",
   "id": "cb7b20e8-bac0-4ab2-a965-2473f827cdc6",
   "metadata": {},
   "source": [
    "### <b><font color='darkgreen'>Avoid This Mistake</font></b>\n",
    "`.iterrows()` might seem like a good idea, but it's painfully slow. Use vectorized operations or `.apply()` (but only when needed—see trick #7)."
   ]
  },
  {
   "cell_type": "markdown",
   "id": "af72a527-a287-4bd1-b7a9-4105b16a0114",
   "metadata": {},
   "source": [
    "## <b><font color='darkblue'>2. Filter Data Faster with query()</font></b>"
   ]
  },
  {
   "cell_type": "markdown",
   "id": "aa5808d5-78c7-4295-802e-abe353fabd67",
   "metadata": {},
   "source": [
    "### <b><font color='darkgreen'>The Problem</font></b>\n",
    "Filtering with boolean conditions can get ugly fast."
   ]
  },
  {
   "cell_type": "markdown",
   "id": "08a715e8-c6e1-4bca-a15f-0dce45a339bc",
   "metadata": {},
   "source": [
    "### <b><font color='darkgreen'>The Fix</font></b>\n",
    "Instead of:\n",
    "```python\n",
    "df[(df['a'] > 2) & (df['b'] < 14)]\n",
    "```\n",
    "\n",
    "Use:\n",
    "```python\n",
    "df.query('a > 2 and b < 14')\n",
    "```\n",
    "\n",
    "More readable, and it runs faster too."
   ]
  },
  {
   "cell_type": "code",
   "execution_count": 36,
   "id": "99fd91e3-ceea-4608-94a4-7d741af4b4ef",
   "metadata": {},
   "outputs": [
    {
     "name": "stdout",
     "output_type": "stream",
     "text": [
      "CPU times: user 792 μs, sys: 1.28 ms, total: 2.07 ms\n",
      "Wall time: 2 ms\n"
     ]
    }
   ],
   "source": [
    "%%time\n",
    "_ = test_df[(test_df['a'] > 2) & (test_df['b'] < 14)]"
   ]
  },
  {
   "cell_type": "code",
   "execution_count": 37,
   "id": "c5327012-c502-4bcc-9a40-21f0294e5c85",
   "metadata": {},
   "outputs": [
    {
     "name": "stdout",
     "output_type": "stream",
     "text": [
      "CPU times: user 0 ns, sys: 5.56 ms, total: 5.56 ms\n",
      "Wall time: 4.68 ms\n"
     ]
    }
   ],
   "source": [
    "%%time\n",
    "_ = test_df.query('a > 2 and b < 14')"
   ]
  },
  {
   "cell_type": "markdown",
   "id": "82b1c82a-b8f5-405b-aaf6-e401c44af139",
   "metadata": {},
   "source": [
    "### <b><font color='darkgreen'>Pro Tip</font></b>\n",
    "If you need to use a variable inside `.query()`, use `@`:"
   ]
  },
  {
   "cell_type": "code",
   "execution_count": 39,
   "id": "f0509339-7f7a-4a33-863d-8f9aac68c6e2",
   "metadata": {},
   "outputs": [
    {
     "name": "stdout",
     "output_type": "stream",
     "text": [
      "CPU times: user 2.07 ms, sys: 8.08 ms, total: 10.2 ms\n",
      "Wall time: 8.99 ms\n"
     ]
    }
   ],
   "source": [
    "%%time\n",
    "threshold = 2\n",
    "_ = test_df.query('a > @threshold')"
   ]
  },
  {
   "cell_type": "markdown",
   "id": "23cbc31c-a403-45ba-bf15-c53d5389b19d",
   "metadata": {},
   "source": [
    "## <b><font color='darkblue'>3. Save Memory with astype()</font></b>"
   ]
  },
  {
   "cell_type": "markdown",
   "id": "6e94e408-6a1c-4742-aeaf-671d176b13b0",
   "metadata": {},
   "source": [
    "### <b><font color='darkgreen'>The Problem</font></b>\n",
    "Large DataFrames eat up RAM."
   ]
  },
  {
   "cell_type": "markdown",
   "id": "a3865394-8d53-44fd-b815-ef525f68f50c",
   "metadata": {},
   "source": [
    "### <b><font color='darkgreen'>The Fix</font></b>\n",
    "Downcast data types where possible. Check memory usage before and after with:"
   ]
  },
  {
   "cell_type": "code",
   "execution_count": 40,
   "id": "1fa3b8b9-f62c-4739-9039-594700a53a3e",
   "metadata": {},
   "outputs": [
    {
     "name": "stdout",
     "output_type": "stream",
     "text": [
      "<class 'pandas.core.frame.DataFrame'>\n",
      "RangeIndex: 50000 entries, 0 to 49999\n",
      "Data columns (total 3 columns):\n",
      " #   Column  Non-Null Count  Dtype\n",
      "---  ------  --------------  -----\n",
      " 0   a       50000 non-null  int64\n",
      " 1   b       50000 non-null  int64\n",
      " 2   c       50000 non-null  int64\n",
      "dtypes: int64(3)\n",
      "memory usage: 1.1 MB\n"
     ]
    }
   ],
   "source": [
    "test_df.info()"
   ]
  },
  {
   "cell_type": "code",
   "execution_count": 41,
   "id": "89d9200a-a965-4c7a-9524-39f4cca69b6a",
   "metadata": {},
   "outputs": [],
   "source": [
    "test_df['a'] = test_df['a'].astype('int8')"
   ]
  },
  {
   "cell_type": "code",
   "execution_count": 42,
   "id": "e07f4a50-d718-4f56-8ed8-ca82af238cce",
   "metadata": {},
   "outputs": [
    {
     "name": "stdout",
     "output_type": "stream",
     "text": [
      "<class 'pandas.core.frame.DataFrame'>\n",
      "RangeIndex: 50000 entries, 0 to 49999\n",
      "Data columns (total 3 columns):\n",
      " #   Column  Non-Null Count  Dtype\n",
      "---  ------  --------------  -----\n",
      " 0   a       50000 non-null  int8 \n",
      " 1   b       50000 non-null  int64\n",
      " 2   c       50000 non-null  int64\n",
      "dtypes: int64(2), int8(1)\n",
      "memory usage: 830.2 KB\n"
     ]
    }
   ],
   "source": [
    "test_df.info()"
   ]
  },
  {
   "cell_type": "markdown",
   "id": "e9e2a035-1c54-4ec6-b96a-3d38be7d95ed",
   "metadata": {},
   "source": [
    "### <b><font color='darkgreen'>Watch Out</font></b>\n",
    "Downcasting floats can lead to precision loss. Stick to float32 unless you need float64."
   ]
  },
  {
   "cell_type": "markdown",
   "id": "d4302a1a-1649-4ec8-af6d-731e0cc9451a",
   "metadata": {},
   "source": [
    "## <b><font color='darkblue'>4. Handle Missing Data Without the Headache</font></b>"
   ]
  },
  {
   "cell_type": "markdown",
   "id": "7fd5d097-21a6-4340-b5f0-1db8dd123f6a",
   "metadata": {},
   "source": [
    "### <b><font color='darkgreen'>The Problem</font></b>\n",
    "`NaN` values mess up calculations."
   ]
  },
  {
   "cell_type": "markdown",
   "id": "601deb40-8c33-4b08-ab2f-ebd77fd8a800",
   "metadata": {},
   "source": [
    "### <b><font color='darkgreen'>The Fix</font></b>\n",
    "* Remove them: `df.dropna()`\n",
    "* Fill them: `df.fillna(0)`\n",
    "* Interpolate them: `df.interpolate()`"
   ]
  },
  {
   "cell_type": "markdown",
   "id": "17921238-e06d-4693-86d4-323a07da7580",
   "metadata": {},
   "source": [
    "### <b><font color='darkgreen'>Pro Tip</font></b>\n",
    "Interpolation can be a lifesaver for time series data."
   ]
  },
  {
   "cell_type": "markdown",
   "id": "5d8332f6-483c-4a28-8a0d-032edadb2d29",
   "metadata": {},
   "source": [
    "## <b><font color='darkblue'>5. Get More From Your Data with groupby()</font></b>"
   ]
  },
  {
   "cell_type": "markdown",
   "id": "dd457d6f-84c7-4021-a535-e847cb365de7",
   "metadata": {},
   "source": [
    "### <b><font color='darkgreen'>The Problem</font></b>\n",
    "Manually summarizing data is a waste of time."
   ]
  },
  {
   "cell_type": "code",
   "execution_count": 47,
   "id": "3b960ef0-5991-4be2-b49e-e969930c7753",
   "metadata": {},
   "outputs": [],
   "source": [
    "categories = [\"car\", \"fruit\", \"others\"]\n",
    "test_data = []\n",
    "for _ in range(100):\n",
    "    category = random.choice(categories)\n",
    "    match category:\n",
    "        case \"car\":\n",
    "            sale = random.randint(5000, 15000)\n",
    "        case \"fruit\":\n",
    "            sale = random.randint(1, 100)\n",
    "        case _:\n",
    "            sale = random.randint(1, 10000)\n",
    "    test_data.append((category, sale))\n",
    "\n",
    "test_df = pd.DataFrame(test_data, columns = ['category', 'sales'])"
   ]
  },
  {
   "cell_type": "markdown",
   "id": "0060ebe9-9e94-419a-9982-553dc8f94586",
   "metadata": {},
   "source": [
    "### <b><font color='darkgreen'>The Fix</font></b>\n",
    "Use `groupby()` to aggregate data quickly:"
   ]
  },
  {
   "cell_type": "code",
   "execution_count": 48,
   "id": "3806a9b2-01a4-4370-91e6-374a20059eae",
   "metadata": {},
   "outputs": [
    {
     "data": {
      "text/plain": [
       "category\n",
       "car       360865\n",
       "fruit       1686\n",
       "others    140501\n",
       "Name: sales, dtype: int64"
      ]
     },
     "execution_count": 48,
     "metadata": {},
     "output_type": "execute_result"
    }
   ],
   "source": [
    "test_df.groupby('category')['sales'].sum()"
   ]
  },
  {
   "cell_type": "markdown",
   "id": "187ab87d-bb5b-4f1b-b9f1-8640a382a7d2",
   "metadata": {},
   "source": [
    "Need multiple aggregations? Use `.agg()`:"
   ]
  },
  {
   "cell_type": "code",
   "execution_count": 50,
   "id": "3cb633fe-dea5-45a6-8cbd-22411edc22b1",
   "metadata": {},
   "outputs": [
    {
     "data": {
      "text/html": [
       "<div>\n",
       "<style scoped>\n",
       "    .dataframe tbody tr th:only-of-type {\n",
       "        vertical-align: middle;\n",
       "    }\n",
       "\n",
       "    .dataframe tbody tr th {\n",
       "        vertical-align: top;\n",
       "    }\n",
       "\n",
       "    .dataframe thead tr th {\n",
       "        text-align: left;\n",
       "    }\n",
       "\n",
       "    .dataframe thead tr:last-of-type th {\n",
       "        text-align: right;\n",
       "    }\n",
       "</style>\n",
       "<table border=\"1\" class=\"dataframe\">\n",
       "  <thead>\n",
       "    <tr>\n",
       "      <th></th>\n",
       "      <th colspan=\"2\" halign=\"left\">sales</th>\n",
       "    </tr>\n",
       "    <tr>\n",
       "      <th></th>\n",
       "      <th>sum</th>\n",
       "      <th>mean</th>\n",
       "    </tr>\n",
       "    <tr>\n",
       "      <th>category</th>\n",
       "      <th></th>\n",
       "      <th></th>\n",
       "    </tr>\n",
       "  </thead>\n",
       "  <tbody>\n",
       "    <tr>\n",
       "      <th>car</th>\n",
       "      <td>360865</td>\n",
       "      <td>10310.428571</td>\n",
       "    </tr>\n",
       "    <tr>\n",
       "      <th>fruit</th>\n",
       "      <td>1686</td>\n",
       "      <td>49.588235</td>\n",
       "    </tr>\n",
       "    <tr>\n",
       "      <th>others</th>\n",
       "      <td>140501</td>\n",
       "      <td>4532.290323</td>\n",
       "    </tr>\n",
       "  </tbody>\n",
       "</table>\n",
       "</div>"
      ],
      "text/plain": [
       "           sales              \n",
       "             sum          mean\n",
       "category                      \n",
       "car       360865  10310.428571\n",
       "fruit       1686     49.588235\n",
       "others    140501   4532.290323"
      ]
     },
     "execution_count": 50,
     "metadata": {},
     "output_type": "execute_result"
    }
   ],
   "source": [
    "test_df.groupby('category').agg({'sales': ['sum', 'mean']})"
   ]
  },
  {
   "cell_type": "markdown",
   "id": "d83af9d7-082b-4bb6-b488-5944090df025",
   "metadata": {},
   "source": [
    "### <b><font color='darkgreen'>Did You Know?</font></b>\n",
    "You can also use `transform()` to add aggregated values back into the original DataFrame without losing the original row structure."
   ]
  },
  {
   "cell_type": "code",
   "execution_count": 51,
   "id": "9cd6791d-c69f-45f2-8af2-73e09d86f8e3",
   "metadata": {},
   "outputs": [],
   "source": [
    "test_df['total_sales'] = test_df.groupby('category')['sales'].transform('sum')"
   ]
  },
  {
   "cell_type": "code",
   "execution_count": 53,
   "id": "554a7b40-0aee-4d64-ab8f-570ad427b614",
   "metadata": {},
   "outputs": [
    {
     "data": {
      "text/html": [
       "<div>\n",
       "<style scoped>\n",
       "    .dataframe tbody tr th:only-of-type {\n",
       "        vertical-align: middle;\n",
       "    }\n",
       "\n",
       "    .dataframe tbody tr th {\n",
       "        vertical-align: top;\n",
       "    }\n",
       "\n",
       "    .dataframe thead th {\n",
       "        text-align: right;\n",
       "    }\n",
       "</style>\n",
       "<table border=\"1\" class=\"dataframe\">\n",
       "  <thead>\n",
       "    <tr style=\"text-align: right;\">\n",
       "      <th></th>\n",
       "      <th>category</th>\n",
       "      <th>sales</th>\n",
       "      <th>total_sales</th>\n",
       "    </tr>\n",
       "  </thead>\n",
       "  <tbody>\n",
       "    <tr>\n",
       "      <th>0</th>\n",
       "      <td>car</td>\n",
       "      <td>9908</td>\n",
       "      <td>360865</td>\n",
       "    </tr>\n",
       "    <tr>\n",
       "      <th>1</th>\n",
       "      <td>car</td>\n",
       "      <td>7287</td>\n",
       "      <td>360865</td>\n",
       "    </tr>\n",
       "    <tr>\n",
       "      <th>2</th>\n",
       "      <td>car</td>\n",
       "      <td>11886</td>\n",
       "      <td>360865</td>\n",
       "    </tr>\n",
       "    <tr>\n",
       "      <th>3</th>\n",
       "      <td>car</td>\n",
       "      <td>13014</td>\n",
       "      <td>360865</td>\n",
       "    </tr>\n",
       "    <tr>\n",
       "      <th>4</th>\n",
       "      <td>car</td>\n",
       "      <td>11428</td>\n",
       "      <td>360865</td>\n",
       "    </tr>\n",
       "    <tr>\n",
       "      <th>5</th>\n",
       "      <td>fruit</td>\n",
       "      <td>96</td>\n",
       "      <td>1686</td>\n",
       "    </tr>\n",
       "    <tr>\n",
       "      <th>6</th>\n",
       "      <td>fruit</td>\n",
       "      <td>41</td>\n",
       "      <td>1686</td>\n",
       "    </tr>\n",
       "    <tr>\n",
       "      <th>7</th>\n",
       "      <td>fruit</td>\n",
       "      <td>6</td>\n",
       "      <td>1686</td>\n",
       "    </tr>\n",
       "    <tr>\n",
       "      <th>8</th>\n",
       "      <td>fruit</td>\n",
       "      <td>74</td>\n",
       "      <td>1686</td>\n",
       "    </tr>\n",
       "    <tr>\n",
       "      <th>9</th>\n",
       "      <td>car</td>\n",
       "      <td>7589</td>\n",
       "      <td>360865</td>\n",
       "    </tr>\n",
       "  </tbody>\n",
       "</table>\n",
       "</div>"
      ],
      "text/plain": [
       "  category  sales  total_sales\n",
       "0      car   9908       360865\n",
       "1      car   7287       360865\n",
       "2      car  11886       360865\n",
       "3      car  13014       360865\n",
       "4      car  11428       360865\n",
       "5    fruit     96         1686\n",
       "6    fruit     41         1686\n",
       "7    fruit      6         1686\n",
       "8    fruit     74         1686\n",
       "9      car   7589       360865"
      ]
     },
     "execution_count": 53,
     "metadata": {},
     "output_type": "execute_result"
    }
   ],
   "source": [
    "test_df.head(n=10)"
   ]
  },
  {
   "cell_type": "markdown",
   "id": "2cb2646a-1b21-4273-b043-fe1fc741028f",
   "metadata": {},
   "source": [
    "## <b><font color='darkblue'>6. Merge DataFrames Without Slowing Down Your Code</font></b>"
   ]
  },
  {
   "cell_type": "markdown",
   "id": "20dad9fe-440c-4cb4-93e8-a5639b91674f",
   "metadata": {},
   "source": [
    "### <b><font color='darkgreen'>The Problem</font></b>\n",
    "Badly executed joins slow everything down."
   ]
  },
  {
   "cell_type": "markdown",
   "id": "bf447af2-92e8-4e6e-82b3-c1d5fb68958d",
   "metadata": {},
   "source": [
    "### <b><font color='darkgreen'>The Fix</font></b>\n",
    "Use `merge()` properly:"
   ]
  },
  {
   "cell_type": "code",
   "execution_count": 54,
   "id": "b6a217b6-2352-4100-9a22-55f6452053b7",
   "metadata": {},
   "outputs": [],
   "source": [
    "test_data1 = [(1, 'John'), (2, 'Mary'), (3, 'Ken')]\n",
    "test_data2 = [(1, 45), (2, 23), (3, 37)]\n",
    "test_df1 = pd.DataFrame(test_data1, columns=['id', 'name']) \n",
    "test_df2 = pd.DataFrame(test_data2, columns=['id', 'age']) "
   ]
  },
  {
   "cell_type": "code",
   "execution_count": 56,
   "id": "9a4b7dc1-6cba-4c8d-8330-f6d6c722c7d0",
   "metadata": {},
   "outputs": [
    {
     "data": {
      "text/html": [
       "<div>\n",
       "<style scoped>\n",
       "    .dataframe tbody tr th:only-of-type {\n",
       "        vertical-align: middle;\n",
       "    }\n",
       "\n",
       "    .dataframe tbody tr th {\n",
       "        vertical-align: top;\n",
       "    }\n",
       "\n",
       "    .dataframe thead th {\n",
       "        text-align: right;\n",
       "    }\n",
       "</style>\n",
       "<table border=\"1\" class=\"dataframe\">\n",
       "  <thead>\n",
       "    <tr style=\"text-align: right;\">\n",
       "      <th></th>\n",
       "      <th>id</th>\n",
       "      <th>name</th>\n",
       "      <th>age</th>\n",
       "    </tr>\n",
       "  </thead>\n",
       "  <tbody>\n",
       "    <tr>\n",
       "      <th>0</th>\n",
       "      <td>1</td>\n",
       "      <td>John</td>\n",
       "      <td>45</td>\n",
       "    </tr>\n",
       "    <tr>\n",
       "      <th>1</th>\n",
       "      <td>2</td>\n",
       "      <td>Mary</td>\n",
       "      <td>23</td>\n",
       "    </tr>\n",
       "    <tr>\n",
       "      <th>2</th>\n",
       "      <td>3</td>\n",
       "      <td>Ken</td>\n",
       "      <td>37</td>\n",
       "    </tr>\n",
       "  </tbody>\n",
       "</table>\n",
       "</div>"
      ],
      "text/plain": [
       "   id  name  age\n",
       "0   1  John   45\n",
       "1   2  Mary   23\n",
       "2   3   Ken   37"
      ]
     },
     "execution_count": 56,
     "metadata": {},
     "output_type": "execute_result"
    }
   ],
   "source": [
    "df_merged = test_df1.merge(test_df2, on='id', how='inner')\n",
    "df_merged"
   ]
  },
  {
   "cell_type": "markdown",
   "id": "2457aef9-cc66-4707-b452-b5a7478f90be",
   "metadata": {},
   "source": [
    "### <b><font color='darkgreen'>Best Practice</font></b>\n",
    "Use `how='left'` if you want to keep all records from the first DataFrame."
   ]
  },
  {
   "cell_type": "markdown",
   "id": "02483998-0032-4441-8060-99891e1f5ef9",
   "metadata": {},
   "source": [
    "### <b><font color='darkgreen'>Performance Tip</font></b>\n",
    "For large DataFrames, ensure the join key is indexed to speed up merging:\n",
    "```python\n",
    "df1.set_index('id', inplace=True)\n",
    "df2.set_index('id', inplace=True)\n",
    "df_merged = df1.join(df2, how='inner')\n",
    "```"
   ]
  },
  {
   "cell_type": "markdown",
   "id": "98e36417-5439-49d7-9519-ae20a85ac77f",
   "metadata": {},
   "source": [
    "## <b><font color='darkblue'>7. Use .apply() the Right Way (and Avoid Overusing It)</font></b>"
   ]
  },
  {
   "cell_type": "markdown",
   "id": "ee31472d-690d-4f1c-b0a4-c7b0293adfa8",
   "metadata": {},
   "source": [
    "### <b><font color='darkgreen'>The Problem</font></b>\n",
    "`.apply()` is powerful but often misused."
   ]
  },
  {
   "cell_type": "markdown",
   "id": "d0b868e6-4a9b-44fc-bc42-eb2bd84c2f34",
   "metadata": {},
   "source": [
    "### <b><font color='darkgreen'>The Fix</font></b>\n",
    "Use it for complex row-wise operations:\n",
    "```python\n",
    "df['new_col'] = df['a'].apply(lambda x: x**2 if x > 2 else x)\n",
    "```\n",
    "\n",
    "But if you're just modifying a single column, use `.map()` instead. It's faster."
   ]
  },
  {
   "cell_type": "markdown",
   "id": "04431e53-7292-463d-add8-43a616cd1b49",
   "metadata": {},
   "source": [
    "### <b><font color='darkgreen'>The Mistake to Avoid</font></b>\n",
    "Don’t use `.apply()` when a vectorized operation would do the job. `.apply()` is slower than using Pandas' built-in functions."
   ]
  },
  {
   "cell_type": "markdown",
   "id": "d6d02365-258c-4d1d-8f6b-5fe9ef6ae363",
   "metadata": {},
   "source": [
    "## <b><font color='darkblue'>Final Thoughts</font></b>\n",
    "<b><font size='3ptx'>These tricks make your Pandas workflow smoother, faster, and easier to read.</font></b> No more unnecessary loops, no more sluggish joins, just clean, efficient code. Try them out in your next project. If you want to explore them further, check out the [official Pandas documentation](https://pandas.pydata.org/docs/)."
   ]
  }
 ],
 "metadata": {
  "kernelspec": {
   "display_name": "Python 3 (ipykernel)",
   "language": "python",
   "name": "python3"
  },
  "language_info": {
   "codemirror_mode": {
    "name": "ipython",
    "version": 3
   },
   "file_extension": ".py",
   "mimetype": "text/x-python",
   "name": "python",
   "nbconvert_exporter": "python",
   "pygments_lexer": "ipython3",
   "version": "3.12.3"
  }
 },
 "nbformat": 4,
 "nbformat_minor": 5
}
