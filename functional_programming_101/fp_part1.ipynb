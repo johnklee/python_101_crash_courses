{
 "cells": [
  {
   "cell_type": "markdown",
   "id": "d0179aef",
   "metadata": {},
   "source": [
    "## <font color='darkblue'>Functional Programming 101</font>\n",
    "<b><font color='darkblue' size='3ptx'>Functional programming</font> (FP) is an approach to software development that uses pure functions to create maintainable software</b>. In other words, building programs by applying and composing functions. "
   ]
  },
  {
   "cell_type": "markdown",
   "id": "4027c466",
   "metadata": {},
   "source": [
    "### <font color='darkgreen'>Agenda</font>\n",
    "* <a href='#sect1'><font size='3ptx'><b>FP Terminology (Imperative vs Declarative)</b></font></a>\n",
    "* <a href='#sect2'><font size='3ptx'><b>FP Terminology (Closures/Curring)</b></font></a>\n",
    "* <a href='#sect3'><font size='3ptx'><b>FP Terminology (Partial application)</b></font></a>\n",
    "* <a href='#sect4'><font size='3ptx'><b>FP Terminology (Recursion)</b></font></a>\n",
    "* <a href='#sect5'><font size='3ptx'><b>FP Terminology (High order function)</b></font></a>\n",
    "* <a href='#sect6'><font size='3ptx'><b>FP Terminology (Lazy Evaluation)</b></font></a>\n",
    "* <a href='#sect7'><font size='3ptx'><b>Built-in FP in Python (filter, reduce and map)</b></font></a>\n",
    "* <a href='#sect8'><font size='3ptx'><b> Real world examples</b></font></a>"
   ]
  },
  {
   "cell_type": "markdown",
   "id": "52dbe99d",
   "metadata": {},
   "source": [
    "<a id='sect1'></a>\n",
    "## <font color='darkblue'>FP Terminology (Imperative vs Declarative)</font>\n",
    "* [Comparison of programming paradigms](https://en.wikipedia.org/wiki/Comparison_of_programming_paradigms)"
   ]
  },
  {
   "cell_type": "markdown",
   "id": "25323774",
   "metadata": {},
   "source": [
    "### <font color='darkgreen'>Imperative</font>\n",
    "<b><font color='darkblue' size='3ptx'>Imperative programming</font></b> is like building assembly lines, which take some initial global state as raw material, apply various specific transformations, mutations to it as this material is pushed through the line, and at the end comes off the end product, the final global state, that represents the result of the computation. Each step needs to change, rotate, massage the workpiece precisely one specific way, so that it is prepared for subsequent steps downstream. Every step downstream depend on every previous step, and their order is therefore fixed and rigid. Because of these dependencies, an individual computational step has not much use and meaning in itself, but only in the context of all the others, and to understand it, one must understand how the whole line works.\n"
   ]
  },
  {
   "cell_type": "code",
   "execution_count": 1,
   "id": "224e20ad",
   "metadata": {},
   "outputs": [],
   "source": [
    "salaries = [\n",
    "  # Is male,  salary\n",
    "  (True,       9000),\n",
    "  (False,    1_2000),\n",
    "  (False,      6000),\n",
    "  (True,     1_4000),\n",
    "]\n",
    "\n",
    "def imperative_way(salaries):\n",
    "  \"\"\"Calculates the sum of salaries for male and female.\n",
    "  \n",
    "  Args:\n",
    "    salaries: List of tuple(is male, salary)\n",
    "    \n",
    "  Returns:\n",
    "    tuple(sum of male's salary, sum of female's salary)\n",
    "  \"\"\"\n",
    "  female_sum = male_sum = 0\n",
    "  for is_male, salary in salaries:\n",
    "    if is_male:\n",
    "      male_sum += salary\n",
    "    else:\n",
    "      female_sum += salary\n",
    "      \n",
    "  return (male_sum, female_sum)"
   ]
  },
  {
   "cell_type": "code",
   "execution_count": 2,
   "id": "96c65fa2",
   "metadata": {},
   "outputs": [
    {
     "data": {
      "text/plain": [
       "(23000, 18000)"
      ]
     },
     "execution_count": 2,
     "metadata": {},
     "output_type": "execute_result"
    }
   ],
   "source": [
    "imperative_way(salaries)"
   ]
  },
  {
   "cell_type": "markdown",
   "id": "2dc02a72",
   "metadata": {},
   "source": [
    "### <font color='darkgreen'>Declarative</font>\n",
    "<b><font size='3ptx' color='darkblue'>[declarative programming](https://en.wikipedia.org/wiki/Declarative_programming)</font></b> is a programming paradigm—a style of building the structure and elements of computer programs—that expresses the logic of a computation without describing its control flow."
   ]
  },
  {
   "cell_type": "code",
   "execution_count": 3,
   "id": "e3de7fd6",
   "metadata": {},
   "outputs": [],
   "source": [
    "def declarative_way(salaries):\n",
    "  \"\"\"Calculates the sum of salaries for male and female.\n",
    "  \n",
    "  Args:\n",
    "    salaries: List of tuple(is male, salary)\n",
    "    \n",
    "  Returns:\n",
    "    tuple(sum of male's salary, sum of female's salary)\n",
    "  \"\"\"\n",
    "  male_sum = sum([t[1] for t in salaries if t[0]])\n",
    "  female_sum = sum([t[1] for t in salaries if not t[0]])\n",
    "  return (male_sum, female_sum)"
   ]
  },
  {
   "cell_type": "code",
   "execution_count": 4,
   "id": "af07dd5c",
   "metadata": {},
   "outputs": [
    {
     "data": {
      "text/plain": [
       "(23000, 18000)"
      ]
     },
     "execution_count": 4,
     "metadata": {},
     "output_type": "execute_result"
    }
   ],
   "source": [
    "declarative_way(salaries)"
   ]
  },
  {
   "cell_type": "code",
   "execution_count": 5,
   "id": "a4e7c244",
   "metadata": {},
   "outputs": [],
   "source": [
    "from fpu.flist import fl\n",
    "\n",
    "def declarative_way_v2(salaries):\n",
    "  \"\"\"Calculates the sum of salaries for male and female.\n",
    "  \n",
    "  Args:\n",
    "    salaries: List of tuple(is male, salary)\n",
    "    \n",
    "  Returns:\n",
    "    tuple(sum of male's salary, sum of female's salary)\n",
    "  \"\"\"\n",
    "  def add(a, b): return a + b\n",
    "  def is_male(t): return t[0]\n",
    "  def is_female(t): return not t[0]\n",
    "  im_list = fl(salaries)\n",
    "  male_sum = im_list.filter(is_male) \\\n",
    "                    .map(lambda t: t[1]) \\\n",
    "                    .foldLeft(0, add)\n",
    "  female_sum = im_list.filter(is_female) \\\n",
    "                      .map(lambda t: t[1]) \\\n",
    "                      .foldLeft(0, add)\n",
    "  return (male_sum, female_sum)"
   ]
  },
  {
   "cell_type": "code",
   "execution_count": 6,
   "id": "1e7b8a25",
   "metadata": {},
   "outputs": [
    {
     "data": {
      "text/plain": [
       "(23000, 18000)"
      ]
     },
     "execution_count": 6,
     "metadata": {},
     "output_type": "execute_result"
    }
   ],
   "source": [
    "declarative_way_v2(salaries)"
   ]
  },
  {
   "cell_type": "code",
   "execution_count": 7,
   "id": "19ce1139",
   "metadata": {},
   "outputs": [],
   "source": [
    "def salary_sum(is_male: bool = True):\n",
    "  def sexual_check(t): return t[0] == is_male\n",
    "  def _salary_sum(salaries):\n",
    "    def add(a, b): return a + b\n",
    "    im_list = fl(salaries)\n",
    "    return im_list.filter(sexual_check) \\\n",
    "                  .map(lambda t: t[1]) \\\n",
    "                  .foldLeft(0, add)\n",
    "  \n",
    "  return _salary_sum\n",
    "  \n",
    "  \n",
    "def declarative_way_v3(salaries):\n",
    "  \"\"\"Calculates the sum of salaries for male and female.\n",
    "  \n",
    "  Args:\n",
    "    salaries: List of tuple(is male, salary)\n",
    "    \n",
    "  Returns:\n",
    "    tuple(sum of male's salary, sum of female's salary)\n",
    "  \"\"\"\n",
    "  return (\n",
    "    salary_sum(True)(salaries),\n",
    "    salary_sum(False)(salaries),\n",
    "  )"
   ]
  },
  {
   "cell_type": "code",
   "execution_count": 8,
   "id": "fd96d0c1",
   "metadata": {},
   "outputs": [
    {
     "data": {
      "text/plain": [
       "(23000, 18000)"
      ]
     },
     "execution_count": 8,
     "metadata": {},
     "output_type": "execute_result"
    }
   ],
   "source": [
    "declarative_way_v3(salaries)"
   ]
  },
  {
   "cell_type": "markdown",
   "id": "3ba5bbd9",
   "metadata": {},
   "source": [
    "<a id='sect2'></a>\n",
    "## <font color='darkblue'>FP Terminology (Closures/Curring)</font>\n",
    "A [**Closure**](https://en.wikipedia.org/wiki/Closure_(computer_programming)) is a function which **simply creates a scope that allows the function to access and manipulate the variables in enclosing scopes**. Normally, you will follow below steps to create a Closure in Python:\n",
    "* We have to create a nested function (a function inside another function).\n",
    "* This nested function has to refer to a variable defined inside the enclosing function.\n",
    "* The enclosing function has to return the nested function"
   ]
  },
  {
   "cell_type": "code",
   "execution_count": 9,
   "id": "18138ea9",
   "metadata": {},
   "outputs": [],
   "source": [
    "data = [1, 2, 3, 4, 5]\n",
    "\n",
    "def contain_n(n):\n",
    "  def closures(alist):\n",
    "    return n in alist\n",
    "  \n",
    "  return closures"
   ]
  },
  {
   "cell_type": "code",
   "execution_count": null,
   "id": "b1ef596b",
   "metadata": {},
   "outputs": [],
   "source": [
    "is_5_exist = contain_n(5)\n",
    "is_10_exist = contain_n(10)\n",
    "\n",
    "print(f'{data}: is_5_exist? {is_5_exist(data)}')\n",
    "print(f'{data}: is_10_exist? {is_10_exist(data)}')"
   ]
  },
  {
   "cell_type": "markdown",
   "id": "0a71a0a3",
   "metadata": {},
   "source": [
    "### <font color='darkgreen'>Why Closures</font>\n",
    "Even if closures seem pretty interesting (a function returning another function which knows its creation context!) there is another question: where **can we utilize closures to make the best of them? Here are a few uses for closures**:\n",
    "* Eliminating global variables\n",
    "* Replacing hard-coded constants\n",
    "* Providing consistent function signatures\n",
    "\n",
    "> No, a function inside of a function doesn’t have to reference variables outside of its scope. A closure only exists when a function accesses a variable(s) outside of its immediate scope.\n"
   ]
  },
  {
   "cell_type": "markdown",
   "id": "68d9cbea",
   "metadata": {},
   "source": [
    "### <font color='darkgreen'>Currying</font>\n",
    "<b><font size='3ptx' color='darkblue'>[Currying](https://en.wikipedia.org/wiki/Currying)</font> is like a kind of incremental binding of function arguments</b>. It is the technique of breaking down the evaluation of a function that takes multiple arguments into evaluating a sequence of single-argument functions:\n",
    "* Concept by Haskell Curry\n",
    "* Translating a function that takes multiple arguments into a sequence of functions which all take 1 argument. e.g.: `add(a, b)` AND `add(a)(b)`\n",
    "* Improves reusability and composition\n",
    "* In some languages (Haskell, F#) functions are curried by default\n"
   ]
  },
  {
   "cell_type": "code",
   "execution_count": 10,
   "id": "7b1eceae",
   "metadata": {},
   "outputs": [
    {
     "name": "stdout",
     "output_type": "stream",
     "text": [
      "1 + 2 = 3\n",
      "2 + 3 = 5\n"
     ]
    }
   ],
   "source": [
    "def curry_ex(a):\n",
    "  def inner(b):\n",
    "    return a + b\n",
    "  \n",
    "  return inner\n",
    "\n",
    "  \n",
    "print(f'1 + 2 = {curry_ex(1)(2)}')\n",
    "print(f'2 + 3 = {curry_ex(2)(3)}')"
   ]
  },
  {
   "cell_type": "markdown",
   "id": "6affb27d",
   "metadata": {},
   "source": [
    "However, Python doesn't support [Currying](https://en.wikipedia.org/wiki/Currying) well. So you have to use decorator technique to get around it. One example:"
   ]
  },
  {
   "cell_type": "code",
   "execution_count": 11,
   "id": "4944dc8a",
   "metadata": {},
   "outputs": [],
   "source": [
    "from inspect import signature\n",
    "\n",
    "def curry(x, argc=None):\n",
    "  if argc is None:\n",
    "    argc = len(signature(x).parameters)\n",
    "    \n",
    "  def p(*a):\n",
    "    if len(a) == argc:\n",
    "      return x(*a)\n",
    "    \n",
    "    def q(*b):\n",
    "      return x(*(a + b))\n",
    "    \n",
    "    return curry(q, argc - len(a))\n",
    "  \n",
    "  return p"
   ]
  },
  {
   "cell_type": "code",
   "execution_count": 12,
   "id": "b96e5245",
   "metadata": {},
   "outputs": [],
   "source": [
    "@curry\n",
    "def my_func(a, b, c):\n",
    "  print(f'{a}-{b}-{c}')"
   ]
  },
  {
   "cell_type": "code",
   "execution_count": 13,
   "id": "5a936f6d",
   "metadata": {},
   "outputs": [
    {
     "name": "stdout",
     "output_type": "stream",
     "text": [
      "1-2-3\n",
      "1-2-3\n",
      "1-2-3\n"
     ]
    }
   ],
   "source": [
    "a = 1; b = 2; c = 3\n",
    "my_func(a)(b)(c)\n",
    "my_func(a, b, c)\n",
    "my_func(a, b)(c)"
   ]
  },
  {
   "cell_type": "markdown",
   "id": "d137565d",
   "metadata": {},
   "source": [
    "<a id='sect3'></a>\n",
    "## <font color='darkblue'>FP Terminology (Partial application)</font>\n",
    "<b><font size='3ptx' color='blue'>[Partial application](https://en.wikipedia.org/wiki/Partial_application)</font> allow one to derive a function with x parameters to a function with fewer parameters and fixed values set for the more limited function</b>. Module [**functools**](https://docs.python.org/3/library/functools.html) offers some tools for the functional approach."
   ]
  },
  {
   "cell_type": "code",
   "execution_count": 14,
   "id": "d4897891",
   "metadata": {},
   "outputs": [],
   "source": [
    "import functools\n",
    "\n",
    "def say_greeting_to(name: str, greeting: str):\n",
    "  print(f'{greeting}, {name}!')\n",
    "  \n",
    "say_hello_to = functools.partial(say_greeting_to, greeting='hello')\n",
    "greet_peter = functools.partial(say_greeting_to, name='Peter')"
   ]
  },
  {
   "cell_type": "code",
   "execution_count": 15,
   "id": "6cb9d2c1",
   "metadata": {},
   "outputs": [
    {
     "name": "stdout",
     "output_type": "stream",
     "text": [
      "hello, John!\n",
      "hello, Ken!\n"
     ]
    }
   ],
   "source": [
    "say_hello_to('John')\n",
    "say_hello_to('Ken')"
   ]
  },
  {
   "cell_type": "code",
   "execution_count": 16,
   "id": "41bbdbbc",
   "metadata": {},
   "outputs": [
    {
     "name": "stdout",
     "output_type": "stream",
     "text": [
      "Hi, Peter!\n",
      "Aloha, Peter!\n"
     ]
    }
   ],
   "source": [
    "greet_peter(greeting='Hi')\n",
    "greet_peter(greeting='Aloha')"
   ]
  },
  {
   "cell_type": "markdown",
   "id": "52a28532",
   "metadata": {},
   "source": [
    "<a id='sect4'></a>\n",
    "## <font color='darkblue'>FP Terminology (Recursion)</font>\n",
    "<b>FP favors <font size='3ptx' color='blue'>Recursion</font> over for/while loop</b>. The best example to adopt recursion is to calculate [**factorial**](https://en.wikipedia.org/wiki/Factorial) (e.g.: `5!=5*4*3*2*1`): "
   ]
  },
  {
   "cell_type": "code",
   "execution_count": 17,
   "id": "7dd624d6",
   "metadata": {},
   "outputs": [
    {
     "name": "stdout",
     "output_type": "stream",
     "text": [
      "Recursion limit=3000\n"
     ]
    }
   ],
   "source": [
    "import sys\n",
    "\n",
    "print(f'Recursion limit={sys.getrecursionlimit()}')"
   ]
  },
  {
   "cell_type": "code",
   "execution_count": 18,
   "id": "ad805baf",
   "metadata": {},
   "outputs": [
    {
     "name": "stdout",
     "output_type": "stream",
     "text": [
      "triangular_number_loop(5)=15\n"
     ]
    }
   ],
   "source": [
    "def triangular_number_loop(n: int):\n",
    "  v = 1\n",
    "  for i in range(2, n+1):\n",
    "    v += i\n",
    "    \n",
    "  return v\n",
    "\n",
    "# (1 + 5) * 5 / 2 = 15\n",
    "print(f'triangular_number_loop(5)={triangular_number_loop(5)}')"
   ]
  },
  {
   "cell_type": "code",
   "execution_count": 19,
   "id": "cf975433",
   "metadata": {},
   "outputs": [
    {
     "name": "stdout",
     "output_type": "stream",
     "text": [
      "triangular_number_recv(5)=15\n"
     ]
    }
   ],
   "source": [
    "def triangular_number_recv(n: int):\n",
    "  if n == 1: return 1\n",
    "  return n + triangular_number_recv(n - 1)\n",
    "\n",
    "print(f'triangular_number_recv(5)={triangular_number_recv(5)}')"
   ]
  },
  {
   "cell_type": "code",
   "execution_count": 20,
   "id": "2aba60f2",
   "metadata": {},
   "outputs": [],
   "source": [
    "# RecursionError: maximum recursion depth exceeded in comparison\n",
    "# triangular_number_recv(3001)"
   ]
  },
  {
   "cell_type": "markdown",
   "id": "8b0dd251",
   "metadata": {},
   "source": [
    "<a id='sect5'></a>\n",
    "## <font color='darkblue'>FP Terminology (Higher order function)</font>\n",
    "<b>A function is called <font color='darkblue' size='3ptx'>[Higher Order Function](https://en.wikipedia.org/wiki/Higher-order_function)</font> if it contains other functions as a parameter or returns a function as an output i.e, the functions that operate with another function are known as Higher order Functions</b>. It is worth knowing that this higher order function is applicable for functions and methods as well that takes functions as a parameter or returns a function as a result. ([source](https://www.geeksforgeeks.org/higher-order-functions-in-python/))"
   ]
  },
  {
   "cell_type": "markdown",
   "id": "3102290f",
   "metadata": {},
   "source": [
    "Let's consider you have below function to divide `a` by `b`:"
   ]
  },
  {
   "cell_type": "code",
   "execution_count": 21,
   "id": "dd5dd020",
   "metadata": {},
   "outputs": [],
   "source": [
    "def divide(a: int, b: int):\n",
    "  return a / b"
   ]
  },
  {
   "cell_type": "code",
   "execution_count": 22,
   "id": "323d0454",
   "metadata": {},
   "outputs": [
    {
     "data": {
      "text/plain": [
       "2.0"
      ]
     },
     "execution_count": 22,
     "metadata": {},
     "output_type": "execute_result"
    }
   ],
   "source": [
    "divide(4, 2)"
   ]
  },
  {
   "cell_type": "markdown",
   "id": "f882bb68",
   "metadata": {},
   "source": [
    "It will be unsafe if `b` is zero which will cause [**ZeroDivisionError**](https://docs.python.org/3/library/exceptions.html#ZeroDivisionError):\n",
    "```python\n",
    ">>> 1 / 0\n",
    "Traceback (most recent call last):\n",
    "  File \"<stdin>\", line 1, in <module>\n",
    "ZeroDivisionError: division by zero\n",
    "```\n",
    "\n",
    "In order to handle this situation properly, we want to add a guard condition to prevent it:"
   ]
  },
  {
   "cell_type": "code",
   "execution_count": 23,
   "id": "f4cc7ac0",
   "metadata": {},
   "outputs": [],
   "source": [
    "import logging\n",
    "from typing import Any, Callable, List, Optional\n",
    "\n",
    "def divide_v2(a: int, b: int) -> Optional[int]:\n",
    "  if b == 0:\n",
    "    logging.warning('b can not be zero!')\n",
    "    return None\n",
    "  return a / b"
   ]
  },
  {
   "cell_type": "code",
   "execution_count": 24,
   "id": "ac1cef48",
   "metadata": {},
   "outputs": [
    {
     "name": "stderr",
     "output_type": "stream",
     "text": [
      "WARNING:root:b can not be zero!\n"
     ]
    }
   ],
   "source": [
    "divide_v2(1, 0)"
   ]
  },
  {
   "cell_type": "markdown",
   "id": "d6f4ec7b",
   "metadata": {},
   "source": [
    "Actually, we could use a function to wrap another function to change the wrapped function's behavior. For example:"
   ]
  },
  {
   "cell_type": "code",
   "execution_count": 26,
   "id": "3f4672d3",
   "metadata": {},
   "outputs": [],
   "source": [
    "def check_zero_on_second_argument(func: Callable[list[int, int], Optional[int]]) -> Optional[int]:\n",
    "  def inner(*args):\n",
    "    if args[1] == 0:\n",
    "      logging.warning('b can not be zero!')\n",
    "      return None\n",
    "    \n",
    "    return func(*args)\n",
    "  return inner"
   ]
  },
  {
   "cell_type": "code",
   "execution_count": 28,
   "id": "ff64775e",
   "metadata": {},
   "outputs": [],
   "source": [
    "safe_divide = check_zero_on_second_argument(divide)"
   ]
  },
  {
   "cell_type": "code",
   "execution_count": 29,
   "id": "bdbfde72",
   "metadata": {},
   "outputs": [
    {
     "data": {
      "text/plain": [
       "2.0"
      ]
     },
     "execution_count": 29,
     "metadata": {},
     "output_type": "execute_result"
    }
   ],
   "source": [
    "safe_divide(4, 2)"
   ]
  },
  {
   "cell_type": "code",
   "execution_count": 30,
   "id": "0395e924",
   "metadata": {},
   "outputs": [
    {
     "name": "stderr",
     "output_type": "stream",
     "text": [
      "WARNING:root:b can not be zero!\n"
     ]
    }
   ],
   "source": [
    "safe_divide(4, 0)"
   ]
  },
  {
   "cell_type": "markdown",
   "id": "f42caebc",
   "metadata": {},
   "source": [
    "From above case, `check_zero_on_second_argument` is a higher-order function."
   ]
  },
  {
   "cell_type": "markdown",
   "id": "203bcd13",
   "metadata": {},
   "source": [
    "<a id='sect6'></a>\n",
    "## <font color='darkblue'>FP Terminology (Lazy Evaluation)</font>\n",
    "When applied to method arguments, <b><font size='3ptx' color='blue'>strictness</font></b> means that arguments are evaluated as soon as they’re received by the method. <b><font size='3ptx' color='blue'>Laziness</font> means that arguments are evaluated only when they’re needed</b> (<font color='brown'>Lazy Evaluation</font>). Of course, strictness and laziness apply not only to method arguments, but to everything:\n",
    "* Iterators and generators\n",
    "* Saves memory and possibly CPU time\n",
    "* Working with infinite data structures\n",
    "\n",
    "![joke](images/1.PNG)\n",
    "\n",
    "\n",
    "Let’s take a look at first usage of “Lazy Evaluation”:\n"
   ]
  },
  {
   "cell_type": "code",
   "execution_count": 31,
   "id": "4e227131",
   "metadata": {},
   "outputs": [],
   "source": [
    "from fpu.fp import Supplier\n",
    "\n",
    "class John:\n",
    "  def __init__(self):\n",
    "    self.tired = True\n",
    "    self.bored = False\n",
    "\n",
    "john = John()\n",
    "    \n",
    "def am_tired():\n",
    "  return john.tired\n",
    "\n",
    "\n",
    "def am_bored():\n",
    "  raise Exception('Blow up')\n",
    "\n",
    "\n",
    "def do_or(cond1, cond2):\n",
    "  v1 = cond1()\n",
    "  v2 = cond2()  # Blow up here\n",
    "  return v1 or v2\n",
    "  \n",
    "\n",
    "def lazy_or(cond1, cond2):\n",
    "  return cond1() or cond2()  # Because of short cut, cond2() won't be executed\n",
    "\n",
    "\n",
    "def my_next_move(bored_or_tired):\n",
    "  if bored_or_tired:\n",
    "    return \"Go home\"\n",
    "  else:\n",
    "    return \"Hanging around\""
   ]
  },
  {
   "cell_type": "code",
   "execution_count": 32,
   "id": "a366d596",
   "metadata": {},
   "outputs": [],
   "source": [
    "# Exception: Blow up\n",
    "# my_next_move(do_or(am_tired, am_bored))"
   ]
  },
  {
   "cell_type": "code",
   "execution_count": 33,
   "id": "bd176393",
   "metadata": {},
   "outputs": [
    {
     "data": {
      "text/plain": [
       "'Go home'"
      ]
     },
     "execution_count": 33,
     "metadata": {},
     "output_type": "execute_result"
    }
   ],
   "source": [
    "my_next_move(lazy_or(am_tired, am_bored))"
   ]
  },
  {
   "cell_type": "markdown",
   "id": "e0bd4e59",
   "metadata": {},
   "source": [
    "Let's take a look at [triangular number](https://en.wikipedia.org/wiki/1_%2B_2_%2B_3_%2B_4_%2B_%E2%8B%AF) example again:"
   ]
  },
  {
   "cell_type": "code",
   "execution_count": 34,
   "id": "4f82a214",
   "metadata": {},
   "outputs": [],
   "source": [
    "from fpu.fp import *\n",
    "\n",
    "ret = TailCall.ret; sus = TailCall.sus\n",
    "\n",
    "def triangular_number_lazy(n, x=1):\n",
    "  return ret(x) if n == 1 else sus(Supplier(triangular_number_lazy, n-1, x + n))"
   ]
  },
  {
   "cell_type": "code",
   "execution_count": 35,
   "id": "c89a9e91",
   "metadata": {},
   "outputs": [
    {
     "data": {
      "text/plain": [
       "<fpu.fp.Suspend at 0x7f0f6eee7d00>"
      ]
     },
     "execution_count": 35,
     "metadata": {},
     "output_type": "execute_result"
    }
   ],
   "source": [
    "triangular_number_lazy(5)  # Lazy evaluation. It will execute until we call `eval()`"
   ]
  },
  {
   "cell_type": "code",
   "execution_count": 36,
   "id": "84470097",
   "metadata": {},
   "outputs": [
    {
     "data": {
      "text/plain": [
       "15"
      ]
     },
     "execution_count": 36,
     "metadata": {},
     "output_type": "execute_result"
    }
   ],
   "source": [
    "triangular_number_lazy(5).eval()"
   ]
  },
  {
   "cell_type": "code",
   "execution_count": 37,
   "id": "a7d524e1",
   "metadata": {},
   "outputs": [
    {
     "data": {
      "text/plain": [
       "4504501"
      ]
     },
     "execution_count": 37,
     "metadata": {},
     "output_type": "execute_result"
    }
   ],
   "source": [
    "triangular_number_lazy(3001).eval()"
   ]
  },
  {
   "cell_type": "markdown",
   "id": "dccb284a",
   "metadata": {},
   "source": [
    "Another usage of “Lazy Evaluation” is for infinite data structures ( [**Generator**](https://realpython.com/introduction-to-python-generators/) & [**Iterator**](https://realpython.com/python-iterators-iterables/)):"
   ]
  },
  {
   "cell_type": "code",
   "execution_count": 38,
   "id": "fa0dbf20",
   "metadata": {},
   "outputs": [],
   "source": [
    "rng_1_to_1000 = range(1, 1001)"
   ]
  },
  {
   "cell_type": "code",
   "execution_count": 39,
   "id": "7d3be3ca",
   "metadata": {},
   "outputs": [
    {
     "name": "stdout",
     "output_type": "stream",
     "text": [
      "1\n",
      "2\n"
     ]
    }
   ],
   "source": [
    "it = rng_1_to_1000.__iter__()\n",
    "print(it.__next__())\n",
    "print(it.__next__())"
   ]
  },
  {
   "cell_type": "markdown",
   "id": "fc21edd6",
   "metadata": {},
   "source": [
    "<a id='sect7'></a>\n",
    "## <font color='darkblue'>Built-in FP in Python (filter, reduce and map)</font>\n",
    "Here we will going to introduce some built-in FP functions in Python.\n",
    "![filter, map](images/2.PNG)\n",
    "![reduce](images/3.PNG)"
   ]
  },
  {
   "cell_type": "code",
   "execution_count": 40,
   "id": "3d4e64b2",
   "metadata": {},
   "outputs": [],
   "source": [
    "from functools import reduce\n",
    "\n",
    "food_list = [\n",
    "  {'name': 'beef', 'is_veg': False},\n",
    "  {'name': 'potato', 'is_veg': True},\n",
    "  {'name': 'chicken', 'is_veg': False},\n",
    "  {'name': 'corn', 'is_veg': True},\n",
    "]\n",
    "\n",
    "def get_name(food):\n",
    "  return food['name']\n",
    "\n",
    "\n",
    "def is_veg(food):\n",
    "  return food['is_veg']\n",
    "\n",
    "\n",
    "def cook(food):\n",
    "  if food['name'] == 'beef':\n",
    "    return 'Hambuger'\n",
    "  if food['name'] == 'potato':\n",
    "    return 'French fries'\n",
    "  if food['name'] == 'chicken':\n",
    "    return 'Fried chicken'\n",
    "  if food['name'] == 'corn':\n",
    "    return 'Pop corn'\n",
    "  \n",
    "  raise Exception('Unknown')"
   ]
  },
  {
   "cell_type": "code",
   "execution_count": 41,
   "id": "27d11366",
   "metadata": {},
   "outputs": [
    {
     "data": {
      "text/plain": [
       "['Hambuger', 'French fries', 'Fried chicken', 'Pop corn']"
      ]
     },
     "execution_count": 41,
     "metadata": {},
     "output_type": "execute_result"
    }
   ],
   "source": [
    "list(map(cook, food_list))"
   ]
  },
  {
   "cell_type": "code",
   "execution_count": 42,
   "id": "9926d798",
   "metadata": {},
   "outputs": [
    {
     "data": {
      "text/plain": [
       "['potato', 'corn']"
      ]
     },
     "execution_count": 42,
     "metadata": {},
     "output_type": "execute_result"
    }
   ],
   "source": [
    "list(map(get_name, filter(is_veg, food_list)))"
   ]
  },
  {
   "cell_type": "code",
   "execution_count": 43,
   "id": "4cbf9f14",
   "metadata": {},
   "outputs": [
    {
     "data": {
      "text/plain": [
       "15"
      ]
     },
     "execution_count": 43,
     "metadata": {},
     "output_type": "execute_result"
    }
   ],
   "source": [
    "def add(a, b): return a + b\n",
    "reduce(add, range(1, 6), 0)\n",
    "\n",
    "# add(0, 1) = 1\n",
    "# add(1, 2) = 3\n",
    "# add(3, 3) = 6\n",
    "# add(6, 4) = 10\n",
    "# add(10, 5) = 15"
   ]
  },
  {
   "cell_type": "markdown",
   "id": "099fe856",
   "metadata": {},
   "source": [
    "<a id='sect8'></a>\n",
    "## <font color='darkblue'>Real world examples</font>"
   ]
  },
  {
   "cell_type": "markdown",
   "id": "c785cb90",
   "metadata": {},
   "source": [
    "### <font color='darkgreen'> HackerRank Sample (`gem-stones`) </font>\n",
    "([Problem source](https://www.hackerrank.com/challenges/gem-stones/problem))\n",
    "![gem-stones problem](images/4.PNG)"
   ]
  },
  {
   "cell_type": "code",
   "execution_count": 44,
   "id": "c94dc62a",
   "metadata": {},
   "outputs": [],
   "source": [
    "# gem `a` and `b` exist in all three rocks\n",
    "data = ('abcdde', 'baccd', 'eeabg')"
   ]
  },
  {
   "cell_type": "markdown",
   "id": "3e73f7ef",
   "metadata": {},
   "source": [
    "#### <b>Imperative approach</b>"
   ]
  },
  {
   "cell_type": "code",
   "execution_count": 45,
   "id": "b0214bbb",
   "metadata": {},
   "outputs": [],
   "source": [
    "def gem_stones_imp(data):\n",
    "  set_list = []\n",
    "  # 1) Collect unique element of each rock\n",
    "  for s in data:\n",
    "    set_list.append(set(list(s)))\n",
    "    \n",
    "  # 2) Keep finding common gems in each rock\n",
    "  common_set = None\n",
    "  for a_set in set_list:\n",
    "    if common_set is None:\n",
    "      common_set = a_set\n",
    "      continue\n",
    "      \n",
    "    common_set &= a_set\n",
    "    \n",
    "  return len(common_set)"
   ]
  },
  {
   "cell_type": "code",
   "execution_count": 46,
   "id": "94b20224",
   "metadata": {},
   "outputs": [
    {
     "name": "stdout",
     "output_type": "stream",
     "text": [
      "Output of gem_stones_imp=2\n"
     ]
    }
   ],
   "source": [
    "print(f'Output of gem_stones_imp={gem_stones_imp(data)}')"
   ]
  },
  {
   "cell_type": "markdown",
   "id": "ae28d05b",
   "metadata": {},
   "source": [
    "#### <b>Declarative approach</b>"
   ]
  },
  {
   "cell_type": "code",
   "execution_count": 47,
   "id": "905f2cc8",
   "metadata": {},
   "outputs": [],
   "source": [
    "from fpu.flist import *\n",
    "\n",
    "def gem_stones_dec(data):\n",
    "  rlist = fl(list(data))\n",
    "  return len(\n",
    "    rlist.map(set)                     # Turn list into set. e.g. ['a', 'b', 'b'] -> {'a', 'b'}\n",
    "         .reduce(lambda a, b: a & b)   # Iteratively find intersection of each set\n",
    "  )                                    # Return the length of final set"
   ]
  },
  {
   "cell_type": "code",
   "execution_count": 48,
   "id": "20fe0f25",
   "metadata": {},
   "outputs": [
    {
     "data": {
      "text/plain": [
       "2"
      ]
     },
     "execution_count": 48,
     "metadata": {},
     "output_type": "execute_result"
    }
   ],
   "source": [
    "gem_stones_dec(data)"
   ]
  }
 ],
 "metadata": {
  "kernelspec": {
   "display_name": "Python 3 (ipykernel)",
   "language": "python",
   "name": "python3"
  },
  "language_info": {
   "codemirror_mode": {
    "name": "ipython",
    "version": 3
   },
   "file_extension": ".py",
   "mimetype": "text/x-python",
   "name": "python",
   "nbconvert_exporter": "python",
   "pygments_lexer": "ipython3",
   "version": "3.11.2"
  }
 },
 "nbformat": 4,
 "nbformat_minor": 5
}
