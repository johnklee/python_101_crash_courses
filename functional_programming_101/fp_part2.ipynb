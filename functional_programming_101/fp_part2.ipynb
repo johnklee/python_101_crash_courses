{
 "cells": [
  {
   "cell_type": "markdown",
   "id": "150ca901",
   "metadata": {},
   "source": [
    "## <font color='darkblue'>Preface</font>\n",
    "This part will cover:\n",
    "* The null reference, or “the billion-dollar mistake”\n",
    "* Alternatives to null references\n",
    "* Developing an Option data type for optional data\n",
    "* Applying functions to optional values\n",
    "* Composing optional values\n",
    "* Option use cases\n",
    "\n",
    "<font size='3ptx'><b>Representing optional data in computer programs has always been a problem</b></font>. The concept of optional data is very simple in everyday life. Representing the absence of something when this something is contained in a container is easy—whatever it is, it can be represented by an empty container. An absence of apples can be represented by an empty apple basket. The absence of gasoline in a car can be visualized as an empty gas tank. Representing the absence of data in computer programs is more difficult. Most data is represented as a reference pointing to it, so the most obvious way to represent the absence of data is to use a pointer to nothing. This is what a null pointer is.\n",
    "\n",
    "In Python, a variable is a pointer to a value. Variables may be created [**None**](https://docs.python.org/2/library/constants.html#None) , and they may then be changed to point to values. They can even be changed again to point to null if data is removed. To handle optional data, in this chapter, you’ll develop the class called <font color='blue'><b>Option</b></font>. <b>The goal of this chapter is to learn how this kind of structure works in handling optional data</b>."
   ]
  },
  {
   "cell_type": "markdown",
   "id": "86a0c94b",
   "metadata": {},
   "source": [
    "## <font color='darkblue'>Problems with the null pointer</font>\n",
    "One of the most frequent bugs in imperative programs is the [**AttributeError**](https://docs.python.org/3/library/exceptions.html#AttributeError). <b>This error is raised when an identifier is dereferenced and found to be pointing to nothing. In other words, some data is expected but is found missing</b>. Such an identifier is said to be pointing to null. The null reference was invented in 1965 by Tony Hoare while he was designing the [**ALGOL**](https://en.wikipedia.org/wiki/ALGOL) object-oriented language. Here’s what he said 44 years later:"
   ]
  },
  {
   "cell_type": "markdown",
   "id": "ea152bab",
   "metadata": {},
   "source": [
    "### <font color='darkgreen'>A normal imperative function code snippet</font>\n",
    "Below is a normal Python code snippet which we will use learned FP concepts here to rewrite it:"
   ]
  },
  {
   "cell_type": "code",
   "execution_count": 106,
   "id": "21e90e54",
   "metadata": {},
   "outputs": [],
   "source": [
    "class User:\n",
    "    def __init__(self, first_name, second_name, email):\n",
    "        self.first_name = first_name\n",
    "        self.second_name = second_name\n",
    "        self.email = email\n",
    "        \n",
    "    def __str__(self):\n",
    "        email_as_string = self.email or \"No data\"\n",
    "        return \"{}/{} ({})\".format(self.first_name, self.second_name, email_as_string)\n",
    "\n",
    "    \n",
    "def get_email_from_users(users: list[User|None], default_email: str) -> str:\n",
    "    email_list = []\n",
    "    for user in users:\n",
    "        if user is not None and user.email is not None:\n",
    "            email_list.append(user.email)\n",
    "        else:\n",
    "            email_list.append(default_email)\n",
    "            \n",
    "    return email_list"
   ]
  },
  {
   "cell_type": "code",
   "execution_count": 107,
   "id": "18ff6c7e",
   "metadata": {},
   "outputs": [
    {
     "name": "stdout",
     "output_type": "stream",
     "text": [
      "Mickey/Mouse (mickey@disney.com)\n",
      "None\n",
      "Minnie/Mouse (No data)\n"
     ]
    }
   ],
   "source": [
    "users = [\n",
    "    User(\"Mickey\", \"Mouse\", \"mickey@disney.com\"),\n",
    "    None,\n",
    "    User(\"Minnie\", \"Mouse\", None),\n",
    "]\n",
    "\n",
    "for u in users:\n",
    "    print(u)"
   ]
  },
  {
   "cell_type": "code",
   "execution_count": 108,
   "id": "b8b0c938",
   "metadata": {},
   "outputs": [
    {
     "name": "stdout",
     "output_type": "stream",
     "text": [
      "['mickey@disney.com', 'no email', 'no email']\n"
     ]
    }
   ],
   "source": [
    "print(get_email_from_users(users, 'no email'))"
   ]
  },
  {
   "cell_type": "markdown",
   "id": "fc00bff8",
   "metadata": {},
   "source": [
    "### <font color='darkgreen'>The Option data type</font>\n",
    "The <b><font color='blue'>Option</font></b> data type you’ll create in this chapter will be very similar to the [**List**](https://github.com/johnklee/fpu/blob/master/fpu/flist.py) data type. Using an <b><font color='blue'>Option</font></b> type for optional data allows you to compose functions even when the data is absent (<font color='brown'>see figure 6.1</font>). It will be implemented as an abstract class, <b><font color='blue'>Option</font></b>, <b>containing two private subclasses representing the presence and the absence of data</b>. The subclass representing the absence of data will be called <b><font color='blue'>N</font></b> (<font color='brown'>Stands for None</font>), and the subclass representing the presence of data will be called <b><font color='blue'>Some</font></b>. A <b><font color='blue'>Some</font></b> will contain the corresponding data value.\n",
    "\n",
    "![null](https://3.bp.blogspot.com/-55VlPQ6TLEk/WkuDRgPMWII/AAAAAAAAXII/Yj_WnnSeS4UvBMzDflzhwJoz4E8ecuZoQCLcBGAs/s1600/4104_f6-1.PNG)\n",
    "<b>Figure 6.1. Without the Option type, composing functions wouldn’t produce a function because the resulting program would potentially throw an Exception.</b>"
   ]
  },
  {
   "cell_type": "markdown",
   "id": "7509991a",
   "metadata": {},
   "source": [
    "### <font color='darkgreen'>Getting a value from an Option</font>\n",
    "<b><font size='3ptx'>The first thing you’ll need is a way to retrieve the value in an <font color='blue'>Option</font></font></b>. One frequent use case when data is missing is to use a default value. The <font color='blue'>getOrElse</font> method that will return either the contained value if it exists:"
   ]
  },
  {
   "cell_type": "code",
   "execution_count": 29,
   "id": "cd38602b",
   "metadata": {},
   "outputs": [
    {
     "name": "stdout",
     "output_type": "stream",
     "text": [
      "sys.version_info(major=3, minor=11, micro=2, releaselevel='final', serial=0)\n",
      "Retrieve default: default value\n",
      "Retrieve value: some value\n",
      "api:getDefault is called\n",
      "Retrieve: 123\n",
      "api:getDefault is called\n",
      "Retrieve: 0\n"
     ]
    }
   ],
   "source": [
    "import sys\n",
    "import fpu\n",
    "from fpu.fp import *\n",
    "\n",
    "print(\"{}\".format(sys.version_info))\n",
    "print(\"Retrieve default: {}\".format(Option.none().getOr('default value')))\n",
    "print(\"Retrieve value: {}\".format(Option.some('some value').getOr('default value')))\n",
    "\n",
    "def getDefault():\n",
    "    print('api:getDefault is called')\n",
    "    return 0\n",
    "\n",
    "# What if we only want api:getDefault to be called only when needed?\n",
    "print(\"Retrieve: {}\".format(Option.some(123).getOr(getDefault())))\n",
    "print(\"Retrieve: {}\".format(Option.none().getOr(getDefault())))"
   ]
  },
  {
   "cell_type": "markdown",
   "id": "b775c8b3",
   "metadata": {},
   "source": [
    "Or you can use lazy evaluation for the <font color='blue'>getOrElse</font> method parameter:"
   ]
  },
  {
   "cell_type": "code",
   "execution_count": 7,
   "id": "c3f14c46",
   "metadata": {},
   "outputs": [
    {
     "name": "stdout",
     "output_type": "stream",
     "text": [
      "Retrieve: 123\n",
      "api:getDefault is called\n",
      "Retrieve: 0\n"
     ]
    }
   ],
   "source": [
    "print(\"Retrieve: {}\".format(Option.some(123).getOrElse(getDefault)))\n",
    "print(\"Retrieve: {}\".format(Option.none().getOrElse(getDefault)))"
   ]
  },
  {
   "cell_type": "markdown",
   "id": "7ea0c40b",
   "metadata": {},
   "source": [
    "### <font color='darkgreen'>Applying functions to optional values</font>\n",
    "One very important method in [**List**](https://github.com/johnklee/fpu/blob/master/fpu/flist.py) is the map method, which allows you to apply a function from `A` to `B` to each element of a list of `A`, producing a list of `B`. Considering that an <font color='blue'><b>Option</b></font> is like a list containing at most one element, you can apply the same principle."
   ]
  },
  {
   "cell_type": "code",
   "execution_count": 9,
   "id": "7845ca8f",
   "metadata": {},
   "outputs": [
    {
     "name": "stdout",
     "output_type": "stream",
     "text": [
      "Double Some(1)=Some(2)\n",
      "Double None()=None()\n"
     ]
    }
   ],
   "source": [
    "some = Option.some(1)\n",
    "none = Option.none()\n",
    "\n",
    "double = lambda e: e * 2\n",
    "\n",
    "print(\"Double {}={}\".format(some, some.map(double)))\n",
    "print(\"Double {}={}\".format(none, none.map(double)))"
   ]
  },
  {
   "cell_type": "markdown",
   "id": "41437bee",
   "metadata": {},
   "source": [
    "### <font color='darkgreen'>Dealing with Option composition</font>\n",
    "<b><font size='3ptx'>As you’ll soon realize, functions from `A` to `B` aren’t the most common ones in functional programming</font></b>. At first you may have trouble getting acquainted with functions returning optional values. After all, it seems to involve extra work to wrap values in <b><font color='blue'>Some</font></b> instances and later retrieve these values. But with further practice, you’ll see that these operations occur only rarely. When chaining functions to build a complex computation, you’ll often start with a value that’s returned by some previous computation and pass the result to a new function without seeing the intermediate result. In other words, you’ll more often use functions from `A` to <b><font color='blue'>Option\\<B></font></b> than functions from `A` to `B`.\n",
    "    \n",
    "<font color='blue'>flatMap</font> instance method that takes as an argument a function from `A` to <b><font color='blue'>Option\\<B></font></b> and returns an <b><font color='blue'>Option\\<B></font></b>:"
   ]
  },
  {
   "cell_type": "code",
   "execution_count": 10,
   "id": "bde806e3",
   "metadata": {},
   "outputs": [
    {
     "name": "stdout",
     "output_type": "stream",
     "text": [
      "some.flatMap(addOne).flatMap(double)=Some(4)\n",
      "none.flatMap(addOne).flatMap(double)=None()\n"
     ]
    }
   ],
   "source": [
    "some = Option.some(1)\n",
    "none = Option.none()\n",
    "addOne = lambda e: Option.some(e + 1)\n",
    "double = lambda e: Option.some(e * 2)\n",
    "\n",
    "print(\"some.flatMap(addOne).flatMap(double)={}\".format(some.flatMap(addOne).flatMap(double)))\n",
    "print(\"none.flatMap(addOne).flatMap(double)={}\".format(none.flatMap(addOne).flatMap(double)))"
   ]
  },
  {
   "cell_type": "markdown",
   "id": "8e207e7c",
   "metadata": {},
   "source": [
    "Most of the case, there’s no need to “get” the value. Instead, you need to get the default value wrapped in <b><font color='blue'>Option</font></b> for chaining functions. Then <font color='blue'>orElse</font> will meet your need. For example:"
   ]
  },
  {
   "cell_type": "code",
   "execution_count": 12,
   "id": "8ea91d2d",
   "metadata": {},
   "outputs": [
    {
     "name": "stdout",
     "output_type": "stream",
     "text": [
      "some.OrElse(df)=Some(1)\n",
      "\tapi:df is called\n",
      "none.OrElse(df)=Some(-1)\n"
     ]
    }
   ],
   "source": [
    "some = Option.some(1)\n",
    "none = Option.none()\n",
    "def df():\n",
    "    print('\\tapi:df is called')\n",
    "    return Option.some(-1)\n",
    "\n",
    "print(\"some.OrElse(df)={}\".format(some.orElse(df)))\n",
    "print(\"none.OrElse(df)={}\".format(none.orElse(df)))"
   ]
  },
  {
   "cell_type": "markdown",
   "id": "f45b4e76",
   "metadata": {},
   "source": [
    "More useful, you can use <font color='blue'>filter</font> to pass in the filter function which will return the original <font color='blue'><b>Some</b></font> object if True; otherwise, <font color='blue'><b>N</b></font> is returned:"
   ]
  },
  {
   "cell_type": "code",
   "execution_count": 13,
   "id": "431574b6",
   "metadata": {},
   "outputs": [
    {
     "name": "stdout",
     "output_type": "stream",
     "text": [
      "some1.filter(bt1)=None()\n",
      "some2.filter(bt1)=Some(2)\n",
      "none.filter(bt1)=None()\n"
     ]
    }
   ],
   "source": [
    "some1 = Option.some(1)\n",
    "some2 = Option.some(2)\n",
    "none = Option.none()\n",
    "bt1 = lambda e: e > 1  # Bigger than one\n",
    "\n",
    "print(\"some1.filter(bt1)={}\".format(some1.filter(bt1)))\n",
    "print(\"some2.filter(bt1)={}\".format(some2.filter(bt1)))\n",
    "print(\"none.filter(bt1)={}\".format(none.filter(bt1)))"
   ]
  },
  {
   "cell_type": "markdown",
   "id": "be54b215",
   "metadata": {},
   "source": [
    "### <font color='darkgreen'>Option use cases</font>\n",
    "<b><font size='3ptx'>The best way to use <font color='blue'>Option</font> is through composition</font></b>. To do this, you must create all the necessary methods for all use cases. These use cases correspond to what you’d do with the value after testing that it’s not null. You could do one of the following:\n",
    "* Use the value as the input to another function\n",
    "* Apply an effect to the value\n",
    "* Use the value if it’s not null, or use a default value to apply a function or an effect\n",
    "\n",
    "\n",
    "Below is a classis example in using <font color='blue'><b>Option</b></font>:"
   ]
  },
  {
   "cell_type": "code",
   "execution_count": 109,
   "id": "99d6930e",
   "metadata": {},
   "outputs": [],
   "source": [
    "DEFAULT_EAMIL = 'no email'\n",
    "        \n",
    "class User:\n",
    "    def __init__(self, fn, sn, email=Option.none()):\n",
    "        self.fn = fn\n",
    "        self.sn = sn\n",
    "        self.email = email\n",
    "        \n",
    "    def __str__(self):\n",
    "        return \"{}/{} ({})\".format(self.fn, self.sn, self.email.getOr(\"No data\"))"
   ]
  },
  {
   "cell_type": "code",
   "execution_count": 110,
   "id": "a4ec0454",
   "metadata": {},
   "outputs": [],
   "source": [
    "from fpu import flist\n",
    "\n",
    "users = [\n",
    "    Option.some(User(\"Mickey\", \"Mouse\", Option.some(\"mickey@disney.com\"))),\n",
    "    Option.none(),\n",
    "    Option.some(User(\"Minnie\", \"Mouse\")),\n",
    "]"
   ]
  },
  {
   "cell_type": "code",
   "execution_count": 111,
   "id": "ff6bb8f5",
   "metadata": {},
   "outputs": [
    {
     "name": "stdout",
     "output_type": "stream",
     "text": [
      "Mickey/Mouse (mickey@disney.com)\n",
      "None\n",
      "Minnie/Mouse (No data)\n"
     ]
    }
   ],
   "source": [
    "for u in users:\n",
    "    print(u.getOr('None'))"
   ]
  },
  {
   "cell_type": "code",
   "execution_count": 112,
   "id": "d9474d63",
   "metadata": {},
   "outputs": [],
   "source": [
    "def get_email(u):\n",
    "    return u.email"
   ]
  },
  {
   "cell_type": "code",
   "execution_count": 113,
   "id": "cb8fa968",
   "metadata": {},
   "outputs": [
    {
     "data": {
      "text/plain": [
       "['mickey@disney.com', 'no email', 'no email']"
      ]
     },
     "execution_count": 113,
     "metadata": {},
     "output_type": "execute_result"
    }
   ],
   "source": [
    "[u.flatMap(\n",
    "    get_email,\n",
    ").getOrElse(\n",
    "    lambda: DEFAULT_EAMIL,\n",
    ") for u in users]"
   ]
  },
  {
   "cell_type": "markdown",
   "id": "34e783a6",
   "metadata": {},
   "source": [
    "## <font color='darkblue'>Miscellaneous utilities for Option</font>\n",
    "<font size='3ptx'><b>In order to make <font color='blue'>Option</font> as useful as possible, you need to add some utility methods</b></font>. Some of these methods are a must, and others are questionable because their use is not in the spirit of functional programming. You nevertheless must consider adding them. You may need a method to test whether an <font color='blue'><b>Option</b></font> is a <font color='blue'><b>N</b></font> or a <font color='blue'><b>Some</b></font>. You may also need an equals method for comparing options, in which case you mustn’t forget to define a <font color='blue'>compatible</font>, <font color='blue'>hashCode</font> method."
   ]
  },
  {
   "cell_type": "markdown",
   "id": "9ccb3de6",
   "metadata": {},
   "source": [
    "### <font color='darkgreen'>Testing for Some or None</font>\n",
    "Until now, you haven’t needed to test an <font color='blue'><b>Option</b></font> to know whether it was a <font color='blue'><b>Some</b></font> or a <font color='blue'><b>N</b></font>. Ideally, you should never have to do this. In practice, though, there are times when it’s simpler to use this trick than to resort to real functional techniques. For example, you defined the <font color='blue'>map2</font> method as:"
   ]
  },
  {
   "cell_type": "code",
   "execution_count": 114,
   "id": "cbd3ea28",
   "metadata": {},
   "outputs": [
    {
     "data": {
      "text/plain": [
       "3"
      ]
     },
     "execution_count": 114,
     "metadata": {},
     "output_type": "execute_result"
    }
   ],
   "source": [
    "def map2(opa, opb, f):\n",
    "    return opa.flatMap(lambda ax: opb.map(lambda bx: f(ax, bx)))\n",
    "\n",
    "opa = Option.some(1)\n",
    "opb = Option.some(2)\n",
    "map2(opa, opb, lambda a, b: a + b).getOrElse(lambda e: 0)"
   ]
  },
  {
   "cell_type": "markdown",
   "id": "b00ce86d",
   "metadata": {},
   "source": [
    "This is very smart, and because you want to look smart, you might prefer this solution. But some may find the following version simpler to understand:"
   ]
  },
  {
   "cell_type": "code",
   "execution_count": 115,
   "id": "0607ff83",
   "metadata": {},
   "outputs": [
    {
     "data": {
      "text/plain": [
       "3"
      ]
     },
     "execution_count": 115,
     "metadata": {},
     "output_type": "execute_result"
    }
   ],
   "source": [
    "def map2_v2(opa, opb, f):\n",
    "    return Option.some(f(opa.getOrThrow(), opb.getOrThrow())) if opa.isSome and opb.isSome else opOption.none()\n",
    "\n",
    "map2_v2(Option.some(1), Option.some(2), lambda a, b: a + b).getOrThrow()"
   ]
  },
  {
   "cell_type": "markdown",
   "id": "910b5a5b",
   "metadata": {},
   "source": [
    "If you want to test this code, you’ll have to define the <font color='blue'>isSome</font> method first, <b>but this is not to encourage you to use this non-functional technique. You should always prefer the first form</b>, but you should also understand fully the relation between the two forms. Besides, you’ll probably find yourself needing the <font color='blue'>isSome</font> method someday."
   ]
  },
  {
   "cell_type": "markdown",
   "id": "0f264cfb",
   "metadata": {},
   "source": [
    "### <font color='darkgreen'>equals and hashcode</font>"
   ]
  }
 ],
 "metadata": {
  "kernelspec": {
   "display_name": "Python 3 (ipykernel)",
   "language": "python",
   "name": "python3"
  },
  "language_info": {
   "codemirror_mode": {
    "name": "ipython",
    "version": 3
   },
   "file_extension": ".py",
   "mimetype": "text/x-python",
   "name": "python",
   "nbconvert_exporter": "python",
   "pygments_lexer": "ipython3",
   "version": "3.11.2"
  }
 },
 "nbformat": 4,
 "nbformat_minor": 5
}
